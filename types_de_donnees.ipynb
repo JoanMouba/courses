{
  "cells": [
    {
      "cell_type": "markdown",
      "id": "e51d75a7-01b5-4d14-b30e-8e73d627f9fc",
      "metadata": {
        "tags": [],
        "id": "e51d75a7-01b5-4d14-b30e-8e73d627f9fc"
      },
      "source": [
        "# Approfondissement Type de données\n",
        "\n",
        "##### Instructeur: Joan Mouba, Dr.-Ing. en Informatique\n",
        "L'utilisation de ce fichier est sous la license GPL.\n",
        "Vous pouvez utiliser, modifier et redistribuer librement.\n",
        "\n",
        "Nous serons reconnaissant si vous mentionnez l'auteur et/ou la référence source du Notebook:\n",
        "[https://bit.ly/4awg59c](https://colab.research.google.com/drive/1ZQsBvGhsTt-3ztAGuFhBNQHTxrVZxSEW?usp=sharing)\n",
        "\n",
        "LinkedIn: [![LinkedIn](https://img.shields.io/badge/LinkedIn-0077B5?style=for-the-badge&style=social&logo=linkedin&logoColor=white)](https://www.linkedin.com/in/joanmouba/) - https://www.linkedin.com/in/joanmouba/\n",
        "\n",
        "Web: [https://epignosiscenter.com](https://epignosiscenter.com)\n",
        "\n",
        "Courriel: joan.mouba@epignosiscenter.com\n",
        "\n",
        "Canal Youtube: [![YouTube](https://img.shields.io/youtube/channel/subscribers/UCjqWeYtZ82DBan-vhFzkTog)](https://www.youtube.com/channel/UCjqWeYtZ82DBan-vhFzkTog)\n",
        "\n",
        "Répertoire GitHub:[![GitHub](https://img.shields.io/badge/GitHub-100000?style=for-the-badge&style=social&logo=github&logoColor=white)](https://github.com/JoanMouba)  \n",
        "\n",
        "Merci de me laisser un avis sur Google: [Je laisse mon avis sur la formation](https://g.page/r/CRFbaxcVvqo9EAI/review)\n",
        "\n",
        "Dernière mise à jour: 05.12.2023 par [Joan Mouba]"
      ]
    },
    {
      "cell_type": "markdown",
      "id": "25c1c4ea-4074-415a-ad55-d197bdc71a8e",
      "metadata": {
        "jp-MarkdownHeadingCollapsed": true,
        "tags": [],
        "id": "25c1c4ea-4074-415a-ad55-d197bdc71a8e"
      },
      "source": [
        "### Agenda\n",
        " 1. Listes\n",
        " 2. Tuples\n",
        " 3. Set\n",
        " 4. Dictionnaire\n",
        " 5. Chaines de caractères\n",
        " 6. Plus d'exercices\n"
      ]
    },
    {
      "cell_type": "markdown",
      "id": "1d471437-7e9c-4eb7-842b-89936552b627",
      "metadata": {
        "jp-MarkdownHeadingCollapsed": true,
        "tags": [],
        "id": "1d471437-7e9c-4eb7-842b-89936552b627"
      },
      "source": [
        "## 1. Listes"
      ]
    },
    {
      "cell_type": "markdown",
      "id": "cabbf852-8533-4885-918e-be166ad156e7",
      "metadata": {
        "id": "cabbf852-8533-4885-918e-be166ad156e7"
      },
      "source": [
        "### Définir la liste"
      ]
    },
    {
      "cell_type": "code",
      "execution_count": null,
      "id": "750cebf4-60c6-4c30-b81f-68a08f9e201f",
      "metadata": {
        "tags": [],
        "colab": {
          "base_uri": "https://localhost:8080/"
        },
        "id": "750cebf4-60c6-4c30-b81f-68a08f9e201f",
        "outputId": "b03718f4-a4fd-461d-a908-ea6ccb692a7d"
      },
      "outputs": [
        {
          "output_type": "stream",
          "name": "stdout",
          "text": [
            "['Python', 'Swift', 'Java', 'C', 'C++', 'Ruby', 'HTML', 'SQL', 'Rust']\n"
          ]
        }
      ],
      "source": [
        "langages = [\n",
        "    'Python',\n",
        "    'Swift',\n",
        "    'Java',\n",
        "    'C',\n",
        "    'C++',\n",
        "    'Ruby',\n",
        "    'HTML',\n",
        "    'SQL',\n",
        "    'Rust'\n",
        "]\n",
        "\n",
        "print(langages)"
      ]
    },
    {
      "cell_type": "markdown",
      "id": "ab80f299-7ab0-41ea-9aa2-90b264962367",
      "metadata": {
        "jp-MarkdownHeadingCollapsed": true,
        "tags": [],
        "id": "ab80f299-7ab0-41ea-9aa2-90b264962367"
      },
      "source": [
        "### Fonctionnalités des listes"
      ]
    },
    {
      "cell_type": "code",
      "execution_count": null,
      "id": "65018e28-67f1-489a-ba76-8676e74164b1",
      "metadata": {
        "tags": [],
        "colab": {
          "base_uri": "https://localhost:8080/"
        },
        "id": "65018e28-67f1-489a-ba76-8676e74164b1",
        "outputId": "cb4c6691-8cee-4a1a-9be2-e805e94b8b93"
      },
      "outputs": [
        {
          "output_type": "execute_result",
          "data": {
            "text/plain": [
              "['__add__',\n",
              " '__class__',\n",
              " '__class_getitem__',\n",
              " '__contains__',\n",
              " '__delattr__',\n",
              " '__delitem__',\n",
              " '__dir__',\n",
              " '__doc__',\n",
              " '__eq__',\n",
              " '__format__',\n",
              " '__ge__',\n",
              " '__getattribute__',\n",
              " '__getitem__',\n",
              " '__gt__',\n",
              " '__hash__',\n",
              " '__iadd__',\n",
              " '__imul__',\n",
              " '__init__',\n",
              " '__init_subclass__',\n",
              " '__iter__',\n",
              " '__le__',\n",
              " '__len__',\n",
              " '__lt__',\n",
              " '__mul__',\n",
              " '__ne__',\n",
              " '__new__',\n",
              " '__reduce__',\n",
              " '__reduce_ex__',\n",
              " '__repr__',\n",
              " '__reversed__',\n",
              " '__rmul__',\n",
              " '__setattr__',\n",
              " '__setitem__',\n",
              " '__sizeof__',\n",
              " '__str__',\n",
              " '__subclasshook__',\n",
              " 'append',\n",
              " 'clear',\n",
              " 'copy',\n",
              " 'count',\n",
              " 'extend',\n",
              " 'index',\n",
              " 'insert',\n",
              " 'pop',\n",
              " 'remove',\n",
              " 'reverse',\n",
              " 'sort']"
            ]
          },
          "metadata": {},
          "execution_count": 4
        }
      ],
      "source": [
        "dir(list)"
      ]
    },
    {
      "cell_type": "markdown",
      "id": "38cb3dc3-5a31-45b0-ae96-644cdf5da24e",
      "metadata": {
        "tags": [],
        "id": "38cb3dc3-5a31-45b0-ae96-644cdf5da24e"
      },
      "source": [
        "### Exercer les fonctionnalités des listes"
      ]
    },
    {
      "cell_type": "code",
      "execution_count": null,
      "id": "3dc1eec2-3bc1-4466-b2e1-fe0f4ad52d2f",
      "metadata": {
        "tags": [],
        "id": "3dc1eec2-3bc1-4466-b2e1-fe0f4ad52d2f",
        "outputId": "08f67cca-b20e-4916-ce04-e86d8a8f1743"
      },
      "outputs": [
        {
          "name": "stdout",
          "output_type": "stream",
          "text": [
            "Help on method_descriptor:\n",
            "\n",
            "sort(self, /, *, key=None, reverse=False)\n",
            "    Sort the list in ascending order and return None.\n",
            "    \n",
            "    The sort is in-place (i.e. the list itself is modified) and stable (i.e. the\n",
            "    order of two equal elements is maintained).\n",
            "    \n",
            "    If a key function is given, apply it once to each list item and sort them,\n",
            "    ascending or descending, according to their function values.\n",
            "    \n",
            "    The reverse flag can be set to sort in descending order.\n",
            "\n"
          ]
        }
      ],
      "source": [
        "help(list.sort)"
      ]
    },
    {
      "cell_type": "code",
      "source": [
        "print(langages.sort())\n",
        "print(langages)"
      ],
      "metadata": {
        "colab": {
          "base_uri": "https://localhost:8080/"
        },
        "id": "N3rDIdgU30Ln",
        "outputId": "3b88ac22-087b-47f9-ee73-3ec30d6526a6"
      },
      "id": "N3rDIdgU30Ln",
      "execution_count": null,
      "outputs": [
        {
          "output_type": "stream",
          "name": "stdout",
          "text": [
            "None\n",
            "['C', 'C++', 'HTML', 'Java', 'Python', 'Ruby', 'Rust', 'SQL', 'Swift']\n"
          ]
        }
      ]
    },
    {
      "cell_type": "code",
      "source": [
        "help(list.append)"
      ],
      "metadata": {
        "colab": {
          "base_uri": "https://localhost:8080/"
        },
        "id": "gxZmi_y55Eph",
        "outputId": "fa199086-aa76-49b1-8ff2-a8ee72f9457b"
      },
      "id": "gxZmi_y55Eph",
      "execution_count": null,
      "outputs": [
        {
          "output_type": "stream",
          "name": "stdout",
          "text": [
            "Help on method_descriptor:\n",
            "\n",
            "append(self, object, /)\n",
            "    Append object to the end of the list.\n",
            "\n"
          ]
        }
      ]
    },
    {
      "cell_type": "code",
      "source": [
        "langages.append('PHP')\n",
        "langages"
      ],
      "metadata": {
        "colab": {
          "base_uri": "https://localhost:8080/"
        },
        "id": "6wcUHh1c5JSY",
        "outputId": "1ba49396-8f15-482a-def5-47c5c364e1e4"
      },
      "id": "6wcUHh1c5JSY",
      "execution_count": null,
      "outputs": [
        {
          "output_type": "execute_result",
          "data": {
            "text/plain": [
              "['C',\n",
              " 'C++',\n",
              " 'HTML',\n",
              " 'Java',\n",
              " 'Python',\n",
              " 'Ruby',\n",
              " 'Rust',\n",
              " 'SQL',\n",
              " 'Swift',\n",
              " 'PHP',\n",
              " 'PHP',\n",
              " 'PHP']"
            ]
          },
          "metadata": {},
          "execution_count": 13
        }
      ]
    },
    {
      "cell_type": "code",
      "source": [
        "help(list.clear)"
      ],
      "metadata": {
        "colab": {
          "base_uri": "https://localhost:8080/"
        },
        "id": "yCs1WNkF5h4H",
        "outputId": "5f945abf-ca90-4a76-cd9d-fd4ac503d7be"
      },
      "id": "yCs1WNkF5h4H",
      "execution_count": null,
      "outputs": [
        {
          "output_type": "stream",
          "name": "stdout",
          "text": [
            "Help on method_descriptor:\n",
            "\n",
            "clear(self, /)\n",
            "    Remove all items from list.\n",
            "\n"
          ]
        }
      ]
    },
    {
      "cell_type": "code",
      "source": [
        "langages.clear()\n",
        "langages"
      ],
      "metadata": {
        "colab": {
          "base_uri": "https://localhost:8080/"
        },
        "id": "6EzgrSSE5lxq",
        "outputId": "6bab5e09-35f7-4049-f18c-eae2a810aee1"
      },
      "id": "6EzgrSSE5lxq",
      "execution_count": null,
      "outputs": [
        {
          "output_type": "execute_result",
          "data": {
            "text/plain": [
              "[]"
            ]
          },
          "metadata": {},
          "execution_count": 15
        }
      ]
    },
    {
      "cell_type": "code",
      "source": [
        "help(list.extend)"
      ],
      "metadata": {
        "colab": {
          "base_uri": "https://localhost:8080/"
        },
        "id": "TkO8TcWb54_7",
        "outputId": "d0188b7c-3a77-41bf-b669-41b074c66060"
      },
      "id": "TkO8TcWb54_7",
      "execution_count": null,
      "outputs": [
        {
          "output_type": "stream",
          "name": "stdout",
          "text": [
            "Help on method_descriptor:\n",
            "\n",
            "extend(self, iterable, /)\n",
            "    Extend list by appending elements from the iterable.\n",
            "\n"
          ]
        }
      ]
    },
    {
      "cell_type": "code",
      "source": [
        "lang_prog = ['C',\n",
        " 'C++',\n",
        " 'HTML',\n",
        " 'Java',\n",
        " 'Python',\n",
        " 'Ruby',\n",
        " 'Rust',\n",
        " 'SQL',\n",
        " 'Swift',\n",
        " 'PHP',\n",
        " 'PHP',\n",
        " 'PHP']\n",
        "\n",
        "langages.append(lang_prog)\n",
        "langages"
      ],
      "metadata": {
        "colab": {
          "base_uri": "https://localhost:8080/"
        },
        "id": "zBB1WpZt6DwP",
        "outputId": "2368c3e7-6d86-47e7-dff6-a9b4ecfc9dd4"
      },
      "id": "zBB1WpZt6DwP",
      "execution_count": null,
      "outputs": [
        {
          "output_type": "execute_result",
          "data": {
            "text/plain": [
              "['C',\n",
              " 'C++',\n",
              " 'HTML',\n",
              " 'Java',\n",
              " 'Python',\n",
              " 'Ruby',\n",
              " 'Rust',\n",
              " 'SQL',\n",
              " 'Swift',\n",
              " 'PHP',\n",
              " 'PHP',\n",
              " 'PHP',\n",
              " ['C',\n",
              "  'C++',\n",
              "  'HTML',\n",
              "  'Java',\n",
              "  'Python',\n",
              "  'Ruby',\n",
              "  'Rust',\n",
              "  'SQL',\n",
              "  'Swift',\n",
              "  'PHP',\n",
              "  'PHP',\n",
              "  'PHP']]"
            ]
          },
          "metadata": {},
          "execution_count": 19
        }
      ]
    },
    {
      "cell_type": "code",
      "source": [
        "langages[11]"
      ],
      "metadata": {
        "colab": {
          "base_uri": "https://localhost:8080/",
          "height": 36
        },
        "id": "NqGLaRtO6t2B",
        "outputId": "9b87cd59-c342-4bed-99f5-40800d249bef"
      },
      "id": "NqGLaRtO6t2B",
      "execution_count": null,
      "outputs": [
        {
          "output_type": "execute_result",
          "data": {
            "text/plain": [
              "'PHP'"
            ],
            "application/vnd.google.colaboratory.intrinsic+json": {
              "type": "string"
            }
          },
          "metadata": {},
          "execution_count": 22
        }
      ]
    },
    {
      "cell_type": "code",
      "source": [
        "help(list.pop)"
      ],
      "metadata": {
        "colab": {
          "base_uri": "https://localhost:8080/"
        },
        "id": "XP3y_f5R7Re_",
        "outputId": "5adc06b4-bffa-46db-ecb5-5b9ff22844c7"
      },
      "id": "XP3y_f5R7Re_",
      "execution_count": null,
      "outputs": [
        {
          "output_type": "stream",
          "name": "stdout",
          "text": [
            "Help on method_descriptor:\n",
            "\n",
            "pop(self, index=-1, /)\n",
            "    Remove and return item at index (default last).\n",
            "    \n",
            "    Raises IndexError if list is empty or index is out of range.\n",
            "\n"
          ]
        }
      ]
    },
    {
      "cell_type": "code",
      "source": [
        "langages.pop()\n",
        "langages"
      ],
      "metadata": {
        "colab": {
          "base_uri": "https://localhost:8080/"
        },
        "id": "sTY8twCH7S6w",
        "outputId": "b9bc56b2-cac8-4801-cb04-979a11843423"
      },
      "id": "sTY8twCH7S6w",
      "execution_count": null,
      "outputs": [
        {
          "output_type": "execute_result",
          "data": {
            "text/plain": [
              "['C',\n",
              " 'C++',\n",
              " 'HTML',\n",
              " 'Java',\n",
              " 'Python',\n",
              " 'Ruby',\n",
              " 'Rust',\n",
              " 'SQL',\n",
              " 'Swift',\n",
              " 'PHP',\n",
              " 'PHP',\n",
              " 'PHP']"
            ]
          },
          "metadata": {},
          "execution_count": 25
        }
      ]
    },
    {
      "cell_type": "code",
      "source": [
        "langages.pop(5)\n",
        "langages"
      ],
      "metadata": {
        "colab": {
          "base_uri": "https://localhost:8080/"
        },
        "id": "lBVafXgJ7ccp",
        "outputId": "27dfe27a-c760-4fcb-c241-655025dc52e7"
      },
      "id": "lBVafXgJ7ccp",
      "execution_count": null,
      "outputs": [
        {
          "output_type": "execute_result",
          "data": {
            "text/plain": [
              "['C',\n",
              " 'C++',\n",
              " 'HTML',\n",
              " 'Java',\n",
              " 'Python',\n",
              " 'Rust',\n",
              " 'SQL',\n",
              " 'Swift',\n",
              " 'PHP',\n",
              " 'PHP',\n",
              " 'PHP']"
            ]
          },
          "metadata": {},
          "execution_count": 26
        }
      ]
    },
    {
      "cell_type": "code",
      "source": [
        "element = langages.pop(5)\n",
        "print(element)\n",
        "langages"
      ],
      "metadata": {
        "id": "noHpGTEf79i5"
      },
      "id": "noHpGTEf79i5",
      "execution_count": null,
      "outputs": []
    },
    {
      "cell_type": "code",
      "source": [
        "del langages[5]\n",
        "langages"
      ],
      "metadata": {
        "id": "wL5LlhxM8Ltt"
      },
      "id": "wL5LlhxM8Ltt",
      "execution_count": null,
      "outputs": []
    },
    {
      "cell_type": "code",
      "source": [
        "langages.remove('PHP')\n",
        "langages"
      ],
      "metadata": {
        "id": "0A8aBbNG8XvY"
      },
      "id": "0A8aBbNG8XvY",
      "execution_count": null,
      "outputs": []
    },
    {
      "cell_type": "code",
      "source": [
        "help(list.reverse)"
      ],
      "metadata": {
        "colab": {
          "base_uri": "https://localhost:8080/"
        },
        "id": "XJEU_y6a9Sf7",
        "outputId": "0151ad16-b68a-4b27-ef0a-93ac3f81916f"
      },
      "id": "XJEU_y6a9Sf7",
      "execution_count": null,
      "outputs": [
        {
          "output_type": "stream",
          "name": "stdout",
          "text": [
            "Help on method_descriptor:\n",
            "\n",
            "reverse(self, /)\n",
            "    Reverse *IN PLACE*.\n",
            "\n"
          ]
        }
      ]
    },
    {
      "cell_type": "code",
      "source": [
        "print(langages)\n",
        "copie_langages = langages.copy()\n",
        "copie_langages.reverse()\n",
        "\n",
        "print(langages, id(langages))\n",
        "print(copie_langages, id(copie_langages))"
      ],
      "metadata": {
        "colab": {
          "base_uri": "https://localhost:8080/"
        },
        "id": "GVwxJXmF9L6W",
        "outputId": "16291ad2-f428-4cf4-960d-40f2a854c573"
      },
      "id": "GVwxJXmF9L6W",
      "execution_count": null,
      "outputs": [
        {
          "output_type": "stream",
          "name": "stdout",
          "text": [
            "['C++', 'HTML', 'Java', 'Python', 'SQL', 'Swift']\n",
            "['C++', 'HTML', 'Java', 'Python', 'SQL', 'Swift'] 138247320206848\n",
            "['Swift', 'SQL', 'Python', 'Java', 'HTML', 'C++'] 138246896666432\n"
          ]
        }
      ]
    },
    {
      "cell_type": "code",
      "source": [
        "copie_langages.append(\"PHP\")\n",
        "copie_langages.append(\"C++\")\n",
        "copie_langages.extend([\"PHP\", \"Python\", \"Rust\"])\n",
        "copie_langages\n"
      ],
      "metadata": {
        "colab": {
          "base_uri": "https://localhost:8080/"
        },
        "id": "2t1P5941-f5t",
        "outputId": "550e9366-b66f-4cce-b720-6a094255d3eb"
      },
      "id": "2t1P5941-f5t",
      "execution_count": null,
      "outputs": [
        {
          "output_type": "execute_result",
          "data": {
            "text/plain": [
              "['Swift',\n",
              " 'SQL',\n",
              " 'Python',\n",
              " 'Java',\n",
              " 'HTML',\n",
              " 'C++',\n",
              " 'PHP',\n",
              " 'C++',\n",
              " 'PHP',\n",
              " 'Python',\n",
              " 'Rust']"
            ]
          },
          "metadata": {},
          "execution_count": 47
        }
      ]
    },
    {
      "cell_type": "code",
      "source": [
        "copie_langages.count('Rust')"
      ],
      "metadata": {
        "colab": {
          "base_uri": "https://localhost:8080/"
        },
        "id": "KTXiOjf7-3Bt",
        "outputId": "2bd68757-2a6b-426d-d02c-87c0848beb5e"
      },
      "id": "KTXiOjf7-3Bt",
      "execution_count": null,
      "outputs": [
        {
          "output_type": "execute_result",
          "data": {
            "text/plain": [
              "1"
            ]
          },
          "metadata": {},
          "execution_count": 49
        }
      ]
    },
    {
      "cell_type": "code",
      "source": [
        "copie_langages.index('Rust')"
      ],
      "metadata": {
        "colab": {
          "base_uri": "https://localhost:8080/"
        },
        "id": "JmAw9oMG_NbP",
        "outputId": "4470bd99-70a9-46f8-c68f-e6cd365a6109"
      },
      "id": "JmAw9oMG_NbP",
      "execution_count": null,
      "outputs": [
        {
          "output_type": "execute_result",
          "data": {
            "text/plain": [
              "10"
            ]
          },
          "metadata": {},
          "execution_count": 50
        }
      ]
    },
    {
      "cell_type": "code",
      "source": [
        "help(list.insert)"
      ],
      "metadata": {
        "colab": {
          "base_uri": "https://localhost:8080/"
        },
        "id": "VPD49stE_sF6",
        "outputId": "bb3f4673-4ffd-4c15-b411-ff641bedf334"
      },
      "id": "VPD49stE_sF6",
      "execution_count": null,
      "outputs": [
        {
          "output_type": "stream",
          "name": "stdout",
          "text": [
            "Help on method_descriptor:\n",
            "\n",
            "insert(self, index, object, /)\n",
            "    Insert object before index.\n",
            "\n"
          ]
        }
      ]
    },
    {
      "cell_type": "code",
      "source": [
        "copie_langages\n",
        "\n",
        "copie_langages.insert(2, \"C#\")\n",
        "\n",
        "copie_langages"
      ],
      "metadata": {
        "colab": {
          "base_uri": "https://localhost:8080/"
        },
        "id": "nII6t1av_xxG",
        "outputId": "4cc3254b-5f9b-4566-ea78-0f120adea32e"
      },
      "id": "nII6t1av_xxG",
      "execution_count": null,
      "outputs": [
        {
          "output_type": "execute_result",
          "data": {
            "text/plain": [
              "['Swift',\n",
              " 'SQL',\n",
              " 'C#',\n",
              " 'Python',\n",
              " 'Java',\n",
              " 'HTML',\n",
              " 'C++',\n",
              " 'PHP',\n",
              " 'C++',\n",
              " 'PHP',\n",
              " 'Python',\n",
              " 'Rust']"
            ]
          },
          "metadata": {},
          "execution_count": 53
        }
      ]
    },
    {
      "cell_type": "markdown",
      "id": "039ea0ab-689f-47cb-bba3-b620a4c4cc2a",
      "metadata": {
        "jp-MarkdownHeadingCollapsed": true,
        "tags": [],
        "id": "039ea0ab-689f-47cb-bba3-b620a4c4cc2a"
      },
      "source": [
        "## 2. Tuples"
      ]
    },
    {
      "cell_type": "code",
      "source": [],
      "metadata": {
        "colab": {
          "base_uri": "https://localhost:8080/"
        },
        "id": "JLBpaRcM7D4q",
        "outputId": "36ea6c5f-7e46-4280-adf2-5e31504c39f5"
      },
      "id": "JLBpaRcM7D4q",
      "execution_count": null,
      "outputs": [
        {
          "output_type": "stream",
          "name": "stdout",
          "text": [
            "Help on method_descriptor:\n",
            "\n",
            "pop(self, index=-1, /)\n",
            "    Remove and return item at index (default last).\n",
            "    \n",
            "    Raises IndexError if list is empty or index is out of range.\n",
            "\n"
          ]
        }
      ]
    },
    {
      "cell_type": "markdown",
      "id": "1e3f2402-ae0b-400f-8c05-32a12675218e",
      "metadata": {
        "id": "1e3f2402-ae0b-400f-8c05-32a12675218e"
      },
      "source": [
        "### Définir le tuple\n",
        "https://data.oecd.org/fr/inde.htm"
      ]
    },
    {
      "cell_type": "code",
      "execution_count": null,
      "id": "3d683f79-3f57-4276-a829-d5766c14f7db",
      "metadata": {
        "tags": [],
        "colab": {
          "base_uri": "https://localhost:8080/"
        },
        "id": "3d683f79-3f57-4276-a829-d5766c14f7db",
        "outputId": "eb77184c-5531-4fae-e6ef-d252ce855cd2"
      },
      "outputs": [
        {
          "output_type": "execute_result",
          "data": {
            "text/plain": [
              "('Inde', 'New Dehli', 1406.6, 1.5, 7)"
            ]
          },
          "metadata": {},
          "execution_count": 56
        }
      ],
      "source": [
        "pays = ('Inde', 'New Dehli', 1_406.6, 1.5, 7 )\n",
        "\n",
        "pays"
      ]
    },
    {
      "cell_type": "markdown",
      "id": "054532ad-cf08-449c-a6ae-f6ead2bb899d",
      "metadata": {
        "jp-MarkdownHeadingCollapsed": true,
        "tags": [],
        "id": "054532ad-cf08-449c-a6ae-f6ead2bb899d"
      },
      "source": [
        "### Les fonctionnalités des tuples"
      ]
    },
    {
      "cell_type": "code",
      "execution_count": null,
      "id": "e8deaf26-6ca4-4f37-b281-ecdfb3fb4594",
      "metadata": {
        "tags": [],
        "colab": {
          "base_uri": "https://localhost:8080/"
        },
        "id": "e8deaf26-6ca4-4f37-b281-ecdfb3fb4594",
        "outputId": "fbf43d29-10bf-4f95-cb6f-f46b68d78bff"
      },
      "outputs": [
        {
          "output_type": "execute_result",
          "data": {
            "text/plain": [
              "['__add__',\n",
              " '__class__',\n",
              " '__class_getitem__',\n",
              " '__contains__',\n",
              " '__delattr__',\n",
              " '__dir__',\n",
              " '__doc__',\n",
              " '__eq__',\n",
              " '__format__',\n",
              " '__ge__',\n",
              " '__getattribute__',\n",
              " '__getitem__',\n",
              " '__getnewargs__',\n",
              " '__gt__',\n",
              " '__hash__',\n",
              " '__init__',\n",
              " '__init_subclass__',\n",
              " '__iter__',\n",
              " '__le__',\n",
              " '__len__',\n",
              " '__lt__',\n",
              " '__mul__',\n",
              " '__ne__',\n",
              " '__new__',\n",
              " '__reduce__',\n",
              " '__reduce_ex__',\n",
              " '__repr__',\n",
              " '__rmul__',\n",
              " '__setattr__',\n",
              " '__sizeof__',\n",
              " '__str__',\n",
              " '__subclasshook__',\n",
              " 'count',\n",
              " 'index']"
            ]
          },
          "metadata": {},
          "execution_count": 57
        }
      ],
      "source": [
        "dir(tuple)"
      ]
    },
    {
      "cell_type": "markdown",
      "id": "0afba5d3-65bd-4282-aee5-b07cb2f8ee6c",
      "metadata": {
        "id": "0afba5d3-65bd-4282-aee5-b07cb2f8ee6c"
      },
      "source": [
        "### Exercer les fonctionnalités des tuples"
      ]
    },
    {
      "cell_type": "code",
      "execution_count": null,
      "id": "11f2c744-b794-497b-8927-ec4e67d5d367",
      "metadata": {
        "tags": [],
        "colab": {
          "base_uri": "https://localhost:8080/"
        },
        "id": "11f2c744-b794-497b-8927-ec4e67d5d367",
        "outputId": "c32cdcc6-2834-4d2e-b03c-db5e7c4d22fd"
      },
      "outputs": [
        {
          "output_type": "stream",
          "name": "stdout",
          "text": [
            "Help on method_descriptor:\n",
            "\n",
            "index(self, value, start=0, stop=9223372036854775807, /)\n",
            "    Return first index of value.\n",
            "    \n",
            "    Raises ValueError if the value is not present.\n",
            "\n"
          ]
        }
      ],
      "source": [
        "help(tuple.index)"
      ]
    },
    {
      "cell_type": "code",
      "execution_count": null,
      "id": "91ae497f-64e9-4c98-b55f-3c9fdaaa978e",
      "metadata": {
        "tags": [],
        "colab": {
          "base_uri": "https://localhost:8080/"
        },
        "id": "91ae497f-64e9-4c98-b55f-3c9fdaaa978e",
        "outputId": "fe468eab-c0c3-4d10-e5ff-386e2000db80"
      },
      "outputs": [
        {
          "output_type": "execute_result",
          "data": {
            "text/plain": [
              "('Inde', 'New Dehli', 1406.6, 1.5, 7)"
            ]
          },
          "metadata": {},
          "execution_count": 59
        }
      ],
      "source": [
        "pays"
      ]
    },
    {
      "cell_type": "code",
      "execution_count": null,
      "id": "abf0970d-6b6c-409a-b832-babd6881fda2",
      "metadata": {
        "tags": [],
        "colab": {
          "base_uri": "https://localhost:8080/"
        },
        "id": "abf0970d-6b6c-409a-b832-babd6881fda2",
        "outputId": "5863c6a2-2329-469a-f2bb-7bf0b96769a2"
      },
      "outputs": [
        {
          "output_type": "execute_result",
          "data": {
            "text/plain": [
              "1"
            ]
          },
          "metadata": {},
          "execution_count": 60
        }
      ],
      "source": [
        "pays.count('Inde')"
      ]
    },
    {
      "cell_type": "code",
      "source": [
        "pays[1]"
      ],
      "metadata": {
        "colab": {
          "base_uri": "https://localhost:8080/",
          "height": 36
        },
        "id": "-XJsIzd9FPVD",
        "outputId": "ae656e85-05ad-41b9-b13c-43c19d9af3b5"
      },
      "id": "-XJsIzd9FPVD",
      "execution_count": null,
      "outputs": [
        {
          "output_type": "execute_result",
          "data": {
            "text/plain": [
              "'New Dehli'"
            ],
            "application/vnd.google.colaboratory.intrinsic+json": {
              "type": "string"
            }
          },
          "metadata": {},
          "execution_count": 61
        }
      ]
    },
    {
      "cell_type": "markdown",
      "id": "a75e95d2-0a81-4d3a-bebf-f4bcc5c88748",
      "metadata": {
        "tags": [],
        "id": "a75e95d2-0a81-4d3a-bebf-f4bcc5c88748"
      },
      "source": [
        "## 3. Set (ensembles)"
      ]
    },
    {
      "cell_type": "markdown",
      "id": "f0952a97-5a9a-4264-8629-e89242cb7d46",
      "metadata": {
        "id": "f0952a97-5a9a-4264-8629-e89242cb7d46"
      },
      "source": [
        "### Définier les Set\n",
        "Liste de constructeurs automobiles: https://gist.github.com/pcgeek86/78f4cad29dd16961ceeeee654127a0db"
      ]
    },
    {
      "cell_type": "code",
      "execution_count": null,
      "id": "8a55a8c4-17fb-474a-95c7-f810316721d4",
      "metadata": {
        "tags": [],
        "id": "8a55a8c4-17fb-474a-95c7-f810316721d4"
      },
      "outputs": [],
      "source": [
        "garage_paulin = {'BMW', 'Tesla', 'Ford', 'Hyundai', 'Toyota', \"Nissan\", 'Chevrolet', \"Opel\", \"Peugeot\", \"Porsche\", \"Renault\"}\n",
        "garage_samira = {'Volvo', 'BMW', 'Toyota', 'Chevrolet', 'Skoda', 'Jeep', 'Bugatti', 'Ford', \"Porsche\", 'Toyota'}"
      ]
    },
    {
      "cell_type": "code",
      "source": [
        "print(garage_samira)\n",
        "print(garage_paulin)"
      ],
      "metadata": {
        "colab": {
          "base_uri": "https://localhost:8080/"
        },
        "id": "PuvU6sXbF0C2",
        "outputId": "f1bd5b37-aad7-4b3a-c8e5-b466937791fd"
      },
      "id": "PuvU6sXbF0C2",
      "execution_count": null,
      "outputs": [
        {
          "output_type": "stream",
          "name": "stdout",
          "text": [
            "{'Volvo', 'Skoda', 'Porsche', 'BMW', 'Bugatti', 'Jeep', 'Toyota', 'Chevrolet', 'Ford'}\n",
            "{'Hyundai', 'Tesla', 'Peugeot', 'Porsche', 'Nissan', 'BMW', 'Opel', 'Renault', 'Toyota', 'Chevrolet', 'Ford'}\n"
          ]
        }
      ]
    },
    {
      "cell_type": "markdown",
      "id": "576d8e53-46fe-433a-9ea0-5c86bb9b9849",
      "metadata": {
        "jp-MarkdownHeadingCollapsed": true,
        "tags": [],
        "id": "576d8e53-46fe-433a-9ea0-5c86bb9b9849"
      },
      "source": [
        "### Fonctionnalités Set"
      ]
    },
    {
      "cell_type": "code",
      "execution_count": null,
      "id": "f616a520-c388-4864-8273-c2065825c654",
      "metadata": {
        "tags": [],
        "id": "f616a520-c388-4864-8273-c2065825c654",
        "outputId": "9a33f68c-1439-4c9a-9f59-27e76f66fc3d"
      },
      "outputs": [
        {
          "data": {
            "text/plain": [
              "['__and__',\n",
              " '__class__',\n",
              " '__class_getitem__',\n",
              " '__contains__',\n",
              " '__delattr__',\n",
              " '__dir__',\n",
              " '__doc__',\n",
              " '__eq__',\n",
              " '__format__',\n",
              " '__ge__',\n",
              " '__getattribute__',\n",
              " '__gt__',\n",
              " '__hash__',\n",
              " '__iand__',\n",
              " '__init__',\n",
              " '__init_subclass__',\n",
              " '__ior__',\n",
              " '__isub__',\n",
              " '__iter__',\n",
              " '__ixor__',\n",
              " '__le__',\n",
              " '__len__',\n",
              " '__lt__',\n",
              " '__ne__',\n",
              " '__new__',\n",
              " '__or__',\n",
              " '__rand__',\n",
              " '__reduce__',\n",
              " '__reduce_ex__',\n",
              " '__repr__',\n",
              " '__ror__',\n",
              " '__rsub__',\n",
              " '__rxor__',\n",
              " '__setattr__',\n",
              " '__sizeof__',\n",
              " '__str__',\n",
              " '__sub__',\n",
              " '__subclasshook__',\n",
              " '__xor__',\n",
              " 'add',\n",
              " 'clear',\n",
              " 'copy',\n",
              " 'difference',\n",
              " 'difference_update',\n",
              " 'discard',\n",
              " 'intersection',\n",
              " 'intersection_update',\n",
              " 'isdisjoint',\n",
              " 'issubset',\n",
              " 'issuperset',\n",
              " 'pop',\n",
              " 'remove',\n",
              " 'symmetric_difference',\n",
              " 'symmetric_difference_update',\n",
              " 'union',\n",
              " 'update']"
            ]
          },
          "execution_count": 18,
          "metadata": {},
          "output_type": "execute_result"
        }
      ],
      "source": [
        "dir(set)"
      ]
    },
    {
      "cell_type": "markdown",
      "id": "f705f19c-e93c-4dcc-a0e0-888ad9b2712f",
      "metadata": {
        "jp-MarkdownHeadingCollapsed": true,
        "tags": [],
        "id": "f705f19c-e93c-4dcc-a0e0-888ad9b2712f"
      },
      "source": [
        "### Exercer les fonctionnalités des Set"
      ]
    },
    {
      "cell_type": "code",
      "execution_count": null,
      "id": "5068bca3-86ff-4be1-89f4-b8838563aa06",
      "metadata": {
        "tags": [],
        "id": "5068bca3-86ff-4be1-89f4-b8838563aa06",
        "outputId": "42fbc55d-57f4-411e-b0a3-f057edcc20bb"
      },
      "outputs": [
        {
          "name": "stdout",
          "output_type": "stream",
          "text": [
            "Help on method_descriptor:\n",
            "\n",
            "remove(...)\n",
            "    Remove an element from a set; it must be a member.\n",
            "    \n",
            "    If the element is not a member, raise a KeyError.\n",
            "\n"
          ]
        }
      ],
      "source": [
        "# Utiliser help() et appliquer la fonctionnalité\n",
        "help(set.remove)"
      ]
    },
    {
      "cell_type": "code",
      "execution_count": null,
      "id": "9d40d685-b34b-4434-8aa6-54bfc0e9f37a",
      "metadata": {
        "tags": [],
        "colab": {
          "base_uri": "https://localhost:8080/"
        },
        "id": "9d40d685-b34b-4434-8aa6-54bfc0e9f37a",
        "outputId": "bdd64dd5-6cc5-4e10-ef6e-2183e2f4f947"
      },
      "outputs": [
        {
          "output_type": "stream",
          "name": "stdout",
          "text": [
            "{'Skoda', 'Porsche', 'Nissan', 'Opel', 'Renault', 'Toyota', 'Chevrolet', 'Ford', 'Hyundai', 'Tesla', 'Volvo', 'Peugeot', 'BMW', 'Bugatti', 'Jeep'} 138246463293696\n",
            "{'Skoda', 'Porsche', 'Nissan', 'Audi', 'Opel', 'Renault', 'Toyota', 'Chevrolet', 'Ford', 'Hyundai', 'Tesla', 'Volvo', 'Peugeot', 'BMW', 'Mazda', 'Bugatti', 'Jeep'} 138246463293696\n"
          ]
        }
      ],
      "source": [
        "print(garage_samira, id(garage_samira))\n",
        "garage_samira.update({\"Audi\", \"Mazda\"})\n",
        "print(garage_samira, id(garage_samira))"
      ]
    },
    {
      "cell_type": "code",
      "execution_count": null,
      "id": "d06754bd-ca3e-4cc2-86a5-6cf2bd11f229",
      "metadata": {
        "tags": [],
        "colab": {
          "base_uri": "https://localhost:8080/"
        },
        "id": "d06754bd-ca3e-4cc2-86a5-6cf2bd11f229",
        "outputId": "3d1a9f26-1ee6-4366-8c2e-dc81fe728f02"
      },
      "outputs": [
        {
          "output_type": "execute_result",
          "data": {
            "text/plain": [
              "{'Audi',\n",
              " 'BMW',\n",
              " 'Bugatti',\n",
              " 'Chevrolet',\n",
              " 'Ford',\n",
              " 'Hyundai',\n",
              " 'Jeep',\n",
              " 'Mazda',\n",
              " 'Nissan',\n",
              " 'Opel',\n",
              " 'Peugeot',\n",
              " 'Porsche',\n",
              " 'Renault',\n",
              " 'Skoda',\n",
              " 'Tesla',\n",
              " 'Toyota',\n",
              " 'Volvo'}"
            ]
          },
          "metadata": {},
          "execution_count": 68
        }
      ],
      "source": [
        "garage_samira | garage_paulin\n",
        "#garage_samira.union(garage_paulin)"
      ]
    },
    {
      "cell_type": "code",
      "source": [
        "garage_samira & garage_paulin\n",
        "#garage_samira.intersection(garage_paulin)"
      ],
      "metadata": {
        "colab": {
          "base_uri": "https://localhost:8080/"
        },
        "id": "yciBnGYPHVw2",
        "outputId": "846d35ed-24dc-49ef-aec3-d465201cf481"
      },
      "id": "yciBnGYPHVw2",
      "execution_count": null,
      "outputs": [
        {
          "output_type": "execute_result",
          "data": {
            "text/plain": [
              "{'BMW',\n",
              " 'Chevrolet',\n",
              " 'Ford',\n",
              " 'Hyundai',\n",
              " 'Nissan',\n",
              " 'Opel',\n",
              " 'Peugeot',\n",
              " 'Porsche',\n",
              " 'Renault',\n",
              " 'Tesla',\n",
              " 'Toyota'}"
            ]
          },
          "metadata": {},
          "execution_count": 70
        }
      ]
    },
    {
      "cell_type": "code",
      "source": [
        "sorted(copie_languages)\n",
        "help(sorted)\n"
      ],
      "metadata": {
        "colab": {
          "base_uri": "https://localhost:8080/"
        },
        "id": "Cyona82yHjXU",
        "outputId": "a46eafe3-d131-40c8-bacf-b1332684812a"
      },
      "id": "Cyona82yHjXU",
      "execution_count": null,
      "outputs": [
        {
          "output_type": "stream",
          "name": "stdout",
          "text": [
            "Help on built-in function sorted in module builtins:\n",
            "\n",
            "sorted(iterable, /, *, key=None, reverse=False)\n",
            "    Return a new list containing all items from the iterable in ascending order.\n",
            "    \n",
            "    A custom key function can be supplied to customize the sort order, and the\n",
            "    reverse flag can be set to request the result in descending order.\n",
            "\n"
          ]
        }
      ]
    },
    {
      "cell_type": "code",
      "source": [
        "help(set.discard)"
      ],
      "metadata": {
        "colab": {
          "base_uri": "https://localhost:8080/"
        },
        "id": "ZnNEO4odI3kt",
        "outputId": "5a5091da-eef3-4d43-8ff8-3a54b1dfbe24"
      },
      "id": "ZnNEO4odI3kt",
      "execution_count": null,
      "outputs": [
        {
          "output_type": "stream",
          "name": "stdout",
          "text": [
            "Help on method_descriptor:\n",
            "\n",
            "discard(...)\n",
            "    Remove an element from a set if it is a member.\n",
            "    \n",
            "    If the element is not a member, do nothing.\n",
            "\n"
          ]
        }
      ]
    },
    {
      "cell_type": "markdown",
      "id": "b3801ec9-2549-48ef-b8cb-1c4a43e46685",
      "metadata": {
        "tags": [],
        "id": "b3801ec9-2549-48ef-b8cb-1c4a43e46685"
      },
      "source": [
        "## 4. Dictionnaire"
      ]
    },
    {
      "cell_type": "markdown",
      "id": "722f527e-a73b-47cf-b735-892689d4c988",
      "metadata": {
        "tags": [],
        "id": "722f527e-a73b-47cf-b735-892689d4c988"
      },
      "source": [
        "### Definir dictionnaire\n",
        "Importer un fichier JSON (JavaScript Object Notation).\n",
        "Sauvegarde des données en paires de nom-valeur.\n",
        "datasets:\n",
        "* https://json.org/example.html\n",
        "* https://support.oneskyapp.com/hc/en-us/articles/208047697-JSON-sample-files"
      ]
    },
    {
      "cell_type": "code",
      "execution_count": null,
      "id": "35492600-24cb-407e-bdf5-70fab1933bfe",
      "metadata": {
        "tags": [],
        "id": "35492600-24cb-407e-bdf5-70fab1933bfe",
        "outputId": "0c08f19a-2d28-4a81-ade0-fc8bac8311a6"
      },
      "outputs": [
        {
          "name": "stdout",
          "output_type": "stream",
          "text": [
            "<class 'dict'> \n",
            "\n",
            "{'quiz': {'maths': {'q1': {'answer': '12',\n",
            "                           'options': ['10', '11', '12', '13'],\n",
            "                           'question': '5 + 7 = ?'},\n",
            "                    'q2': {'answer': '4',\n",
            "                           'options': ['1', '2', '3', '4'],\n",
            "                           'question': '12 - 8 = ?'}},\n",
            "          'sport': {'q1': {'answer': 'Huston Rocket',\n",
            "                           'options': ['New York Bulls',\n",
            "                                       'Los Angeles Kings',\n",
            "                                       'Golden State Warriros',\n",
            "                                       'Huston Rocket'],\n",
            "                           'question': 'Which one is correct team name in '\n",
            "                                       'NBA?'}}}}\n"
          ]
        }
      ],
      "source": [
        "import json\n",
        "import pprint\n",
        "\n",
        "with open('quiz.json') as json_file:\n",
        "    data = json.load(json_file)\n",
        "\n",
        "print(type(data), '\\n')\n",
        "pprint.pprint(data)\n"
      ]
    },
    {
      "cell_type": "code",
      "source": [
        "pays_capitales = {\n",
        "    \"Suisse\": \"Berne\",\n",
        "    \"Australie\": \"Canberra\",\n",
        "    \"Perou\": \"Lima\",\n",
        "    \"France\": \"Paris\"\n",
        "}\n"
      ],
      "metadata": {
        "id": "xQ2iAnYghdgr"
      },
      "id": "xQ2iAnYghdgr",
      "execution_count": null,
      "outputs": []
    },
    {
      "cell_type": "code",
      "source": [
        "# pays_capitales.clear()\n",
        "copie_pays_capitales = pays_capitales.copy()\n",
        "copie_pays_capitales\n",
        "\n",
        "copie_pays_capitales is pays_capitales"
      ],
      "metadata": {
        "colab": {
          "base_uri": "https://localhost:8080/"
        },
        "id": "XXHsLHZ3iHuP",
        "outputId": "b1d1c96f-c0eb-42fd-a4e2-c5ca24993fac"
      },
      "id": "XXHsLHZ3iHuP",
      "execution_count": null,
      "outputs": [
        {
          "output_type": "execute_result",
          "data": {
            "text/plain": [
              "False"
            ]
          },
          "metadata": {},
          "execution_count": 116
        }
      ]
    },
    {
      "cell_type": "code",
      "source": [
        "copie_pays_capitales[\"France\"]"
      ],
      "metadata": {
        "colab": {
          "base_uri": "https://localhost:8080/",
          "height": 36
        },
        "id": "JKSkbrT5iuWd",
        "outputId": "1d979cf5-5240-4944-9293-d24ce29b2663"
      },
      "id": "JKSkbrT5iuWd",
      "execution_count": null,
      "outputs": [
        {
          "output_type": "execute_result",
          "data": {
            "text/plain": [
              "'Paris'"
            ],
            "application/vnd.google.colaboratory.intrinsic+json": {
              "type": "string"
            }
          },
          "metadata": {},
          "execution_count": 126
        }
      ]
    },
    {
      "cell_type": "code",
      "source": [
        "copie_pays_capitales.get(\"Perou\")"
      ],
      "metadata": {
        "colab": {
          "base_uri": "https://localhost:8080/",
          "height": 36
        },
        "id": "orbpfasoi1EI",
        "outputId": "8746dfe5-d45d-4e2e-805a-5424b3a6a424"
      },
      "id": "orbpfasoi1EI",
      "execution_count": null,
      "outputs": [
        {
          "output_type": "execute_result",
          "data": {
            "text/plain": [
              "'Lima'"
            ],
            "application/vnd.google.colaboratory.intrinsic+json": {
              "type": "string"
            }
          },
          "metadata": {},
          "execution_count": 128
        }
      ]
    },
    {
      "cell_type": "code",
      "source": [
        "help(dict.setdefault)"
      ],
      "metadata": {
        "colab": {
          "base_uri": "https://localhost:8080/"
        },
        "id": "GX7N4XcGi-Z2",
        "outputId": "ff4b10b9-0555-448f-94d5-89f992faa0b0"
      },
      "id": "GX7N4XcGi-Z2",
      "execution_count": null,
      "outputs": [
        {
          "output_type": "stream",
          "name": "stdout",
          "text": [
            "Help on method_descriptor:\n",
            "\n",
            "setdefault(self, key, default=None, /)\n",
            "    Insert key with a value of default if key is not in the dictionary.\n",
            "    \n",
            "    Return the value for key if key is in the dictionary, else default.\n",
            "\n"
          ]
        }
      ]
    },
    {
      "cell_type": "code",
      "source": [
        "copie_pays_capitales[\"USA\"] = \"Washington\"\n",
        "copie_pays_capitales"
      ],
      "metadata": {
        "colab": {
          "base_uri": "https://localhost:8080/"
        },
        "id": "kSMS64zrkCxL",
        "outputId": "1ab0f299-372c-4940-f2b6-6ffe923658fd"
      },
      "id": "kSMS64zrkCxL",
      "execution_count": null,
      "outputs": [
        {
          "output_type": "execute_result",
          "data": {
            "text/plain": [
              "{'Suisse': 'Berne',\n",
              " 'Australie': 'Canberra',\n",
              " 'Perou': 'Lima',\n",
              " 'France': 'Paris',\n",
              " 'USA': 'Washington'}"
            ]
          },
          "metadata": {},
          "execution_count": 131
        }
      ]
    },
    {
      "cell_type": "code",
      "source": [
        "copie_pays_capitales.setdefault(\"Uruguay\", \"Blabla\")\n",
        "copie_pays_capitales"
      ],
      "metadata": {
        "colab": {
          "base_uri": "https://localhost:8080/"
        },
        "id": "pqMZ2_5ekNbU",
        "outputId": "5678d0cb-df40-4e7a-e4ff-ae949699e4e6"
      },
      "id": "pqMZ2_5ekNbU",
      "execution_count": null,
      "outputs": [
        {
          "output_type": "execute_result",
          "data": {
            "text/plain": [
              "{'Suisse': 'Berne',\n",
              " 'Australie': 'Canberra',\n",
              " 'Perou': 'Lima',\n",
              " 'France': 'Paris',\n",
              " 'USA': 'Washington',\n",
              " 'Uruguay': 'Blabla'}"
            ]
          },
          "metadata": {},
          "execution_count": 134
        }
      ]
    },
    {
      "cell_type": "code",
      "source": [
        "del copie_pays_capitales[\"Uruguay\"]\n",
        "copie_pays_capitales"
      ],
      "metadata": {
        "colab": {
          "base_uri": "https://localhost:8080/"
        },
        "id": "-K4g0xPQkzKH",
        "outputId": "4af054e0-b87c-448e-c6af-b79753fec701"
      },
      "id": "-K4g0xPQkzKH",
      "execution_count": null,
      "outputs": [
        {
          "output_type": "execute_result",
          "data": {
            "text/plain": [
              "{'Suisse': 'Berne',\n",
              " 'Australie': 'Canberra',\n",
              " 'Perou': 'Lima',\n",
              " 'France': 'Paris',\n",
              " 'USA': 'Washington'}"
            ]
          },
          "metadata": {},
          "execution_count": 135
        }
      ]
    },
    {
      "cell_type": "code",
      "source": [
        "print(copie_pays_capitales.pop(\"Suisse\"))\n",
        "copie_pays_capitales"
      ],
      "metadata": {
        "colab": {
          "base_uri": "https://localhost:8080/"
        },
        "id": "lpTE8Gq6lnhi",
        "outputId": "35cf3508-fa8b-45a8-a94b-bebcfdf779a3"
      },
      "id": "lpTE8Gq6lnhi",
      "execution_count": null,
      "outputs": [
        {
          "output_type": "stream",
          "name": "stdout",
          "text": [
            "Berne\n"
          ]
        },
        {
          "output_type": "execute_result",
          "data": {
            "text/plain": [
              "{'Australie': 'Canberra',\n",
              " 'Perou': 'Lima',\n",
              " 'France': 'Paris',\n",
              " 'USA': 'Washington'}"
            ]
          },
          "metadata": {},
          "execution_count": 138
        }
      ]
    },
    {
      "cell_type": "code",
      "source": [
        "print(copie_pays_capitales.pop(\"Suisse\", \"Blabla\"))\n",
        "copie_pays_capitales"
      ],
      "metadata": {
        "colab": {
          "base_uri": "https://localhost:8080/"
        },
        "id": "sjSfiWD8l2TG",
        "outputId": "67752028-afc3-47d0-c6fc-59b713e93b24"
      },
      "id": "sjSfiWD8l2TG",
      "execution_count": null,
      "outputs": [
        {
          "output_type": "stream",
          "name": "stdout",
          "text": [
            "Blabla\n"
          ]
        },
        {
          "output_type": "execute_result",
          "data": {
            "text/plain": [
              "{'Australie': 'Canberra',\n",
              " 'Perou': 'Lima',\n",
              " 'France': 'Paris',\n",
              " 'USA': 'Washington'}"
            ]
          },
          "metadata": {},
          "execution_count": 141
        }
      ]
    },
    {
      "cell_type": "code",
      "source": [
        "help(dict.pop)"
      ],
      "metadata": {
        "colab": {
          "base_uri": "https://localhost:8080/"
        },
        "id": "PCyrEWfAlZQ0",
        "outputId": "eaeedd27-9bae-446a-f69a-0fd82096e215"
      },
      "id": "PCyrEWfAlZQ0",
      "execution_count": null,
      "outputs": [
        {
          "output_type": "stream",
          "name": "stdout",
          "text": [
            "Help on method_descriptor:\n",
            "\n",
            "pop(...)\n",
            "    D.pop(k[,d]) -> v, remove specified key and return the corresponding value.\n",
            "    \n",
            "    If the key is not found, return the default if given; otherwise,\n",
            "    raise a KeyError.\n",
            "\n"
          ]
        }
      ]
    },
    {
      "cell_type": "code",
      "source": [
        "help(dict.update)"
      ],
      "metadata": {
        "colab": {
          "base_uri": "https://localhost:8080/"
        },
        "id": "0vM33KxVmwOR",
        "outputId": "e7ea0a5a-89ba-43c4-b918-e086f04e9ffa"
      },
      "id": "0vM33KxVmwOR",
      "execution_count": null,
      "outputs": [
        {
          "output_type": "stream",
          "name": "stdout",
          "text": [
            "Help on method_descriptor:\n",
            "\n",
            "update(...)\n",
            "    D.update([E, ]**F) -> None.  Update D from dict/iterable E and F.\n",
            "    If E is present and has a .keys() method, then does:  for k in E: D[k] = E[k]\n",
            "    If E is present and lacks a .keys() method, then does:  for k, v in E: D[k] = v\n",
            "    In either case, this is followed by: for k in F:  D[k] = F[k]\n",
            "\n"
          ]
        }
      ]
    },
    {
      "cell_type": "code",
      "source": [
        "pays_capitales.update(\n",
        "    {\n",
        "        \"Mali\":\"Bamako\",\n",
        "        \"Chine\":\"Pékin\"\n",
        "    }\n",
        ")\n",
        "\n",
        "pays_capitales"
      ],
      "metadata": {
        "colab": {
          "base_uri": "https://localhost:8080/"
        },
        "id": "Y3BsY08wm15M",
        "outputId": "9f8b0642-f84d-472a-e26a-907a030838be"
      },
      "id": "Y3BsY08wm15M",
      "execution_count": null,
      "outputs": [
        {
          "output_type": "execute_result",
          "data": {
            "text/plain": [
              "{'Suisse': 'Berne',\n",
              " 'Australie': 'Canberra',\n",
              " 'Perou': 'Lima',\n",
              " 'France': 'Paris',\n",
              " 'Mali': 'Bamako',\n",
              " 'Chine': 'Pékin'}"
            ]
          },
          "metadata": {},
          "execution_count": 144
        }
      ]
    },
    {
      "cell_type": "code",
      "source": [
        "list( pays_capitales.items() )"
      ],
      "metadata": {
        "colab": {
          "base_uri": "https://localhost:8080/"
        },
        "id": "iVxKvr9QntB7",
        "outputId": "e763f747-eea2-4907-bb1b-77e267461909"
      },
      "id": "iVxKvr9QntB7",
      "execution_count": null,
      "outputs": [
        {
          "output_type": "execute_result",
          "data": {
            "text/plain": [
              "[('Suisse', 'Berne'),\n",
              " ('Australie', 'Canberra'),\n",
              " ('Perou', 'Lima'),\n",
              " ('France', 'Paris'),\n",
              " ('Mali', 'Bamako'),\n",
              " ('Chine', 'Pékin')]"
            ]
          },
          "metadata": {},
          "execution_count": 146
        }
      ]
    },
    {
      "cell_type": "code",
      "source": [
        "for k, v in pays_capitales.items():\n",
        "    print(\"Clé: \", k, \"- val: \", v)\n"
      ],
      "metadata": {
        "colab": {
          "base_uri": "https://localhost:8080/"
        },
        "id": "f_5TYwJhoFjM",
        "outputId": "e01031eb-7562-4cec-e122-49064e1312ef"
      },
      "id": "f_5TYwJhoFjM",
      "execution_count": null,
      "outputs": [
        {
          "output_type": "stream",
          "name": "stdout",
          "text": [
            "Clé:  Suisse - val:  Berne\n",
            "Clé:  Australie - val:  Canberra\n",
            "Clé:  Perou - val:  Lima\n",
            "Clé:  France - val:  Paris\n",
            "Clé:  Mali - val:  Bamako\n",
            "Clé:  Chine - val:  Pékin\n"
          ]
        }
      ]
    },
    {
      "cell_type": "code",
      "source": [
        "for v in pays_capitales.values():\n",
        "    print(\"val: \", v)\n"
      ],
      "metadata": {
        "colab": {
          "base_uri": "https://localhost:8080/"
        },
        "id": "ShB4Q2o2o29P",
        "outputId": "be151a9f-3c84-4626-d01f-5d61452efa3c"
      },
      "id": "ShB4Q2o2o29P",
      "execution_count": null,
      "outputs": [
        {
          "output_type": "stream",
          "name": "stdout",
          "text": [
            "val:  Berne\n",
            "val:  Canberra\n",
            "val:  Lima\n",
            "val:  Paris\n",
            "val:  Bamako\n",
            "val:  Pékin\n"
          ]
        }
      ]
    },
    {
      "cell_type": "code",
      "source": [
        "for zakaria in pays_capitales.keys():\n",
        "    print(\"Clé: \", zakaria)"
      ],
      "metadata": {
        "colab": {
          "base_uri": "https://localhost:8080/"
        },
        "id": "b8FYHSgno_Ni",
        "outputId": "a7f7b95e-4bd3-4c0e-b32b-4ef3448db0df"
      },
      "id": "b8FYHSgno_Ni",
      "execution_count": null,
      "outputs": [
        {
          "output_type": "stream",
          "name": "stdout",
          "text": [
            "Clé:  Suisse\n",
            "Clé:  Australie\n",
            "Clé:  Perou\n",
            "Clé:  France\n",
            "Clé:  Mali\n",
            "Clé:  Chine\n"
          ]
        }
      ]
    },
    {
      "cell_type": "code",
      "source": [
        "for i in pays_capitales:\n",
        "    print(\"Clé: \", i)"
      ],
      "metadata": {
        "colab": {
          "base_uri": "https://localhost:8080/"
        },
        "id": "W3aOemfFpIL1",
        "outputId": "897a81f3-693e-44b5-8a54-621cfa1cbc91"
      },
      "id": "W3aOemfFpIL1",
      "execution_count": null,
      "outputs": [
        {
          "output_type": "stream",
          "name": "stdout",
          "text": [
            "Clé:  Suisse\n",
            "Clé:  Australie\n",
            "Clé:  Perou\n",
            "Clé:  France\n",
            "Clé:  Mali\n",
            "Clé:  Chine\n"
          ]
        }
      ]
    },
    {
      "cell_type": "code",
      "source": [
        "if \"Paris\" in pays_capitales.values():\n",
        "    print(\"YES\")\n",
        "else:\n",
        "    print(\"NO\")"
      ],
      "metadata": {
        "colab": {
          "base_uri": "https://localhost:8080/"
        },
        "id": "9TXqmGZapiHm",
        "outputId": "c240bf50-492a-4de2-e88d-bcb1aaaf7857"
      },
      "id": "9TXqmGZapiHm",
      "execution_count": null,
      "outputs": [
        {
          "output_type": "stream",
          "name": "stdout",
          "text": [
            "YES\n"
          ]
        }
      ]
    },
    {
      "cell_type": "code",
      "source": [
        "help(dict.fromkeys)"
      ],
      "metadata": {
        "colab": {
          "base_uri": "https://localhost:8080/"
        },
        "id": "MwKUr2P0qi8m",
        "outputId": "64044471-1e86-4275-c1e7-1b1333385296"
      },
      "id": "MwKUr2P0qi8m",
      "execution_count": null,
      "outputs": [
        {
          "output_type": "stream",
          "name": "stdout",
          "text": [
            "Help on built-in function fromkeys:\n",
            "\n",
            "fromkeys(iterable, value=None, /) method of builtins.type instance\n",
            "    Create a new dictionary with keys from iterable and values set to value.\n",
            "\n"
          ]
        }
      ]
    },
    {
      "cell_type": "code",
      "source": [
        "coco = [\n",
        "    \"Orange\",\n",
        "    \"Babane\",\n",
        "    \"Fraise\"\n",
        " ]\n",
        "\n",
        "dict.fromkeys(coco, 23)"
      ],
      "metadata": {
        "colab": {
          "base_uri": "https://localhost:8080/"
        },
        "id": "_J3n8_-Hqpz3",
        "outputId": "6b917f5c-ac8e-4f46-a3b2-ffbed8a80256"
      },
      "id": "_J3n8_-Hqpz3",
      "execution_count": null,
      "outputs": [
        {
          "output_type": "execute_result",
          "data": {
            "text/plain": [
              "{'Orange': 23, 'Babane': 23, 'Fraise': 23}"
            ]
          },
          "metadata": {},
          "execution_count": 164
        }
      ]
    },
    {
      "cell_type": "markdown",
      "id": "79f763d2-752d-429e-8bfa-bd1f187e0de3",
      "metadata": {
        "tags": [],
        "id": "79f763d2-752d-429e-8bfa-bd1f187e0de3"
      },
      "source": [
        "### Fonctionnalités des Dict"
      ]
    },
    {
      "cell_type": "code",
      "execution_count": null,
      "id": "17e82cb4-e6cc-46ed-8f7b-77087cd8aa80",
      "metadata": {
        "tags": [],
        "id": "17e82cb4-e6cc-46ed-8f7b-77087cd8aa80",
        "outputId": "d1074460-c6bd-44ab-9f42-562f264f0594"
      },
      "outputs": [
        {
          "data": {
            "text/plain": [
              "['__class__',\n",
              " '__class_getitem__',\n",
              " '__contains__',\n",
              " '__delattr__',\n",
              " '__delitem__',\n",
              " '__dir__',\n",
              " '__doc__',\n",
              " '__eq__',\n",
              " '__format__',\n",
              " '__ge__',\n",
              " '__getattribute__',\n",
              " '__getitem__',\n",
              " '__gt__',\n",
              " '__hash__',\n",
              " '__init__',\n",
              " '__init_subclass__',\n",
              " '__ior__',\n",
              " '__iter__',\n",
              " '__le__',\n",
              " '__len__',\n",
              " '__lt__',\n",
              " '__ne__',\n",
              " '__new__',\n",
              " '__or__',\n",
              " '__reduce__',\n",
              " '__reduce_ex__',\n",
              " '__repr__',\n",
              " '__reversed__',\n",
              " '__ror__',\n",
              " '__setattr__',\n",
              " '__setitem__',\n",
              " '__sizeof__',\n",
              " '__str__',\n",
              " '__subclasshook__',\n",
              " 'clear',\n",
              " 'copy',\n",
              " 'fromkeys',\n",
              " 'get',\n",
              " 'items',\n",
              " 'keys',\n",
              " 'pop',\n",
              " 'popitem',\n",
              " 'setdefault',\n",
              " 'update',\n",
              " 'values']"
            ]
          },
          "execution_count": 106,
          "metadata": {},
          "output_type": "execute_result"
        }
      ],
      "source": [
        "dir(dict)"
      ]
    },
    {
      "cell_type": "markdown",
      "id": "1158266e-1c57-4151-802c-1b469c04b177",
      "metadata": {
        "tags": [],
        "id": "1158266e-1c57-4151-802c-1b469c04b177"
      },
      "source": [
        "## 5. String (chaînes de caractères)"
      ]
    },
    {
      "cell_type": "markdown",
      "id": "c3452e67-0e38-493a-8200-de7c5f4e0416",
      "metadata": {
        "id": "c3452e67-0e38-493a-8200-de7c5f4e0416"
      },
      "source": [
        "### Définier les String"
      ]
    },
    {
      "cell_type": "code",
      "execution_count": null,
      "id": "c17aa361-e4ad-4f99-a872-82a2c9ea5b21",
      "metadata": {
        "tags": [],
        "id": "c17aa361-e4ad-4f99-a872-82a2c9ea5b21"
      },
      "outputs": [],
      "source": [
        "introduction = \"Bonjour Mesdames et Monsieurs, je suis Mr X, né le 24 juin 1978 à Michigan, code 485%&\"\n",
        "conclusion = \"Merci Mesdames et Monsieurs, je vous revois à la prochaine édition\"\n",
        "nom_fichier = \"clarinet.tar.gz\"\n",
        "nombre1 = \"1\"\n",
        "nombre2 = \"21\"\n",
        "nombre3 = \"321\"\n",
        "prenoms = [\"Albin\", 34, \"Sonya\", \"Chen\", \"Xima\", \"  \", \"Paulina\", \"Markus\", \"%&hj\", \"Diallo\", \"Mehdi\", \"Malik\"]\n"
      ]
    },
    {
      "cell_type": "markdown",
      "id": "755e74fe-c2be-444a-a8b9-461f1e98f5de",
      "metadata": {
        "jp-MarkdownHeadingCollapsed": true,
        "tags": [],
        "id": "755e74fe-c2be-444a-a8b9-461f1e98f5de"
      },
      "source": [
        "### Fonctionnalités des String"
      ]
    },
    {
      "cell_type": "code",
      "execution_count": null,
      "id": "c61b43f9-078b-4dea-9916-da9f65026af0",
      "metadata": {
        "tags": [],
        "id": "c61b43f9-078b-4dea-9916-da9f65026af0",
        "outputId": "61d10f76-2014-4e93-b4aa-e25980babd93"
      },
      "outputs": [
        {
          "data": {
            "text/plain": [
              "['__add__',\n",
              " '__class__',\n",
              " '__contains__',\n",
              " '__delattr__',\n",
              " '__dir__',\n",
              " '__doc__',\n",
              " '__eq__',\n",
              " '__format__',\n",
              " '__ge__',\n",
              " '__getattribute__',\n",
              " '__getitem__',\n",
              " '__getnewargs__',\n",
              " '__gt__',\n",
              " '__hash__',\n",
              " '__init__',\n",
              " '__init_subclass__',\n",
              " '__iter__',\n",
              " '__le__',\n",
              " '__len__',\n",
              " '__lt__',\n",
              " '__mod__',\n",
              " '__mul__',\n",
              " '__ne__',\n",
              " '__new__',\n",
              " '__reduce__',\n",
              " '__reduce_ex__',\n",
              " '__repr__',\n",
              " '__rmod__',\n",
              " '__rmul__',\n",
              " '__setattr__',\n",
              " '__sizeof__',\n",
              " '__str__',\n",
              " '__subclasshook__',\n",
              " 'capitalize',\n",
              " 'casefold',\n",
              " 'center',\n",
              " 'count',\n",
              " 'encode',\n",
              " 'endswith',\n",
              " 'expandtabs',\n",
              " 'find',\n",
              " 'format',\n",
              " 'format_map',\n",
              " 'index',\n",
              " 'isalnum',\n",
              " 'isalpha',\n",
              " 'isascii',\n",
              " 'isdecimal',\n",
              " 'isdigit',\n",
              " 'isidentifier',\n",
              " 'islower',\n",
              " 'isnumeric',\n",
              " 'isprintable',\n",
              " 'isspace',\n",
              " 'istitle',\n",
              " 'isupper',\n",
              " 'join',\n",
              " 'ljust',\n",
              " 'lower',\n",
              " 'lstrip',\n",
              " 'maketrans',\n",
              " 'partition',\n",
              " 'removeprefix',\n",
              " 'removesuffix',\n",
              " 'replace',\n",
              " 'rfind',\n",
              " 'rindex',\n",
              " 'rjust',\n",
              " 'rpartition',\n",
              " 'rsplit',\n",
              " 'rstrip',\n",
              " 'split',\n",
              " 'splitlines',\n",
              " 'startswith',\n",
              " 'strip',\n",
              " 'swapcase',\n",
              " 'title',\n",
              " 'translate',\n",
              " 'upper',\n",
              " 'zfill']"
            ]
          },
          "execution_count": 107,
          "metadata": {},
          "output_type": "execute_result"
        }
      ],
      "source": [
        "dir(str)"
      ]
    },
    {
      "cell_type": "markdown",
      "id": "2cee84f8-dcaa-4f47-b1eb-4a04cff6c6b5",
      "metadata": {
        "id": "2cee84f8-dcaa-4f47-b1eb-4a04cff6c6b5"
      },
      "source": [
        "### Exercer les fonctionnalités des String"
      ]
    },
    {
      "cell_type": "code",
      "execution_count": null,
      "id": "7bbd7f2f-dd2f-4d6e-b376-9f10994bdc34",
      "metadata": {
        "id": "7bbd7f2f-dd2f-4d6e-b376-9f10994bdc34"
      },
      "outputs": [],
      "source": [
        "# Utiliser help() et appliquer la fonctionnalité\n"
      ]
    },
    {
      "cell_type": "code",
      "source": [
        "conclusion"
      ],
      "metadata": {
        "colab": {
          "base_uri": "https://localhost:8080/",
          "height": 36
        },
        "id": "eMe94Bf5KSvY",
        "outputId": "c3e11f3a-7bfd-4066-f6c0-2f423e05f61a"
      },
      "id": "eMe94Bf5KSvY",
      "execution_count": null,
      "outputs": [
        {
          "output_type": "execute_result",
          "data": {
            "text/plain": [
              "'Merci Mesdames et Monsieurs, je vous revois à la prochaine édition'"
            ],
            "application/vnd.google.colaboratory.intrinsic+json": {
              "type": "string"
            }
          },
          "metadata": {},
          "execution_count": 84
        }
      ]
    },
    {
      "cell_type": "code",
      "source": [
        "conclusion.split()"
      ],
      "metadata": {
        "colab": {
          "base_uri": "https://localhost:8080/"
        },
        "id": "mcwR2HR0KVr0",
        "outputId": "5b8e2424-c2c6-4cd9-9016-22f30b1d2e40"
      },
      "id": "mcwR2HR0KVr0",
      "execution_count": null,
      "outputs": [
        {
          "output_type": "execute_result",
          "data": {
            "text/plain": [
              "['Merci',\n",
              " 'Mesdames',\n",
              " 'et',\n",
              " 'Monsieurs,',\n",
              " 'je',\n",
              " 'vous',\n",
              " 'revois',\n",
              " 'à',\n",
              " 'la',\n",
              " 'prochaine',\n",
              " 'édition']"
            ]
          },
          "metadata": {},
          "execution_count": 88
        }
      ]
    },
    {
      "cell_type": "code",
      "source": [
        "help(str.isalnum)"
      ],
      "metadata": {
        "colab": {
          "base_uri": "https://localhost:8080/"
        },
        "id": "PqkG34iT0BOv",
        "outputId": "e9553942-b9a0-463d-bcf9-08450676fbc5"
      },
      "id": "PqkG34iT0BOv",
      "execution_count": null,
      "outputs": [
        {
          "output_type": "stream",
          "name": "stdout",
          "text": [
            "Help on method_descriptor:\n",
            "\n",
            "isalnum(self, /)\n",
            "    Return True if the string is an alpha-numeric string, False otherwise.\n",
            "    \n",
            "    A string is alpha-numeric if all characters in the string are alpha-numeric and\n",
            "    there is at least one character in the string.\n",
            "\n"
          ]
        }
      ]
    },
    {
      "cell_type": "code",
      "source": [
        "s = \"hello world!\"\n",
        "s.title()\n",
        "s1 = \"Coucc565c\"\n",
        "s1.isalnum()"
      ],
      "metadata": {
        "colab": {
          "base_uri": "https://localhost:8080/"
        },
        "id": "xB_oIFbl0I_e",
        "outputId": "e807ba27-d93c-4dc2-a5f5-c7480f4e90dd"
      },
      "id": "xB_oIFbl0I_e",
      "execution_count": null,
      "outputs": [
        {
          "output_type": "execute_result",
          "data": {
            "text/plain": [
              "True"
            ]
          },
          "metadata": {},
          "execution_count": 185
        }
      ]
    },
    {
      "cell_type": "code",
      "source": [
        "def solve(s):\n",
        "    if (0 < len(s) < 1000):\n",
        "        print(\"Here 1\")\n",
        "        for s1 in s.split():\n",
        "            if s1.isalnum() or s1.isspace():\n",
        "                return s.title()\n",
        "\n",
        "s = \"Hello world!\"\n",
        "r = solve(s)\n",
        "print(r)\n"
      ],
      "metadata": {
        "colab": {
          "base_uri": "https://localhost:8080/"
        },
        "id": "E4L9ue7g1OA7",
        "outputId": "55590d06-16bb-4ffb-e8f0-c8385ab9f909"
      },
      "id": "E4L9ue7g1OA7",
      "execution_count": null,
      "outputs": [
        {
          "output_type": "stream",
          "name": "stdout",
          "text": [
            "Here 1\n",
            "Hello World!\n"
          ]
        }
      ]
    },
    {
      "cell_type": "code",
      "source": [
        "nom_fichier"
      ],
      "metadata": {
        "colab": {
          "base_uri": "https://localhost:8080/",
          "height": 36
        },
        "id": "ICTSyF9pK-EW",
        "outputId": "709a49b7-ab73-41ed-95f5-7ecd1b04ba3a"
      },
      "id": "ICTSyF9pK-EW",
      "execution_count": null,
      "outputs": [
        {
          "output_type": "execute_result",
          "data": {
            "text/plain": [
              "'clarinet.tar.gz'"
            ],
            "application/vnd.google.colaboratory.intrinsic+json": {
              "type": "string"
            }
          },
          "metadata": {},
          "execution_count": 89
        }
      ]
    },
    {
      "cell_type": "code",
      "source": [
        "help(print)"
      ],
      "metadata": {
        "colab": {
          "base_uri": "https://localhost:8080/"
        },
        "id": "p7guMQCY8FUv",
        "outputId": "78911622-6fd5-4bd1-85a4-f84edf75d416"
      },
      "id": "p7guMQCY8FUv",
      "execution_count": null,
      "outputs": [
        {
          "output_type": "stream",
          "name": "stdout",
          "text": [
            "Help on built-in function print in module builtins:\n",
            "\n",
            "print(...)\n",
            "    print(value, ..., sep=' ', end='\\n', file=sys.stdout, flush=False)\n",
            "    \n",
            "    Prints the values to a stream, or to sys.stdout by default.\n",
            "    Optional keyword arguments:\n",
            "    file:  a file-like object (stream); defaults to the current sys.stdout.\n",
            "    sep:   string inserted between values, default a space.\n",
            "    end:   string appended after the last value, default a newline.\n",
            "    flush: whether to forcibly flush the stream.\n",
            "\n"
          ]
        }
      ]
    },
    {
      "cell_type": "code",
      "source": [
        "help(str.removesuffix)"
      ],
      "metadata": {
        "colab": {
          "base_uri": "https://localhost:8080/"
        },
        "id": "fA8EQ8eXLMMR",
        "outputId": "297fd2c2-f2da-4f21-fa1e-81c4900fd2a5"
      },
      "id": "fA8EQ8eXLMMR",
      "execution_count": null,
      "outputs": [
        {
          "output_type": "stream",
          "name": "stdout",
          "text": [
            "Help on method_descriptor:\n",
            "\n",
            "removesuffix(self, suffix, /)\n",
            "    Return a str with the given suffix string removed if present.\n",
            "    \n",
            "    If the string ends with the suffix string and that suffix is not empty,\n",
            "    return string[:-len(suffix)]. Otherwise, return a copy of the original\n",
            "    string.\n",
            "\n"
          ]
        }
      ]
    },
    {
      "cell_type": "code",
      "source": [
        "print(nom_fichier.removesuffix(\".gz\").removesuffix(\".tar\").upper())\n",
        "len(nom_fichier)"
      ],
      "metadata": {
        "colab": {
          "base_uri": "https://localhost:8080/"
        },
        "id": "orirbB1fLAYT",
        "outputId": "c2ece774-99fe-41b0-ae77-009a84db869d"
      },
      "id": "orirbB1fLAYT",
      "execution_count": null,
      "outputs": [
        {
          "output_type": "stream",
          "name": "stdout",
          "text": [
            "CLARINET\n"
          ]
        },
        {
          "output_type": "execute_result",
          "data": {
            "text/plain": [
              "15"
            ]
          },
          "metadata": {},
          "execution_count": 97
        }
      ]
    },
    {
      "cell_type": "code",
      "source": [
        "#prenoms.remove(34)\n",
        "print(prenoms)\n",
        "les_prenoms = \"####\".join(prenoms)\n",
        "les_prenoms"
      ],
      "metadata": {
        "colab": {
          "base_uri": "https://localhost:8080/",
          "height": 54
        },
        "id": "-a4jkJknL3WS",
        "outputId": "3c678bb9-6abe-4593-eee2-1052aae5eec1"
      },
      "id": "-a4jkJknL3WS",
      "execution_count": null,
      "outputs": [
        {
          "output_type": "stream",
          "name": "stdout",
          "text": [
            "['Albin', 'Sonya', 'Chen', 'Xima', '  ', 'Paulina', 'Markus', '%&hj', 'Diallo', 'Mehdi', 'Malik']\n"
          ]
        },
        {
          "output_type": "execute_result",
          "data": {
            "text/plain": [
              "'Albin####Sonya####Chen####Xima####  ####Paulina####Markus####%&hj####Diallo####Mehdi####Malik'"
            ],
            "application/vnd.google.colaboratory.intrinsic+json": {
              "type": "string"
            }
          },
          "metadata": {},
          "execution_count": 108
        }
      ]
    },
    {
      "cell_type": "code",
      "source": [
        "prenoms"
      ],
      "metadata": {
        "id": "JPAkLHY4MdQK"
      },
      "id": "JPAkLHY4MdQK",
      "execution_count": null,
      "outputs": []
    },
    {
      "cell_type": "markdown",
      "id": "42ac6ec8-f6e5-40ec-a16a-e93854d74167",
      "metadata": {
        "tags": [],
        "id": "42ac6ec8-f6e5-40ec-a16a-e93854d74167"
      },
      "source": [
        "### Exercices sur les String"
      ]
    },
    {
      "cell_type": "markdown",
      "id": "7b3f812d-6be6-4661-826b-7bf7cb32ca33",
      "metadata": {
        "id": "7b3f812d-6be6-4661-826b-7bf7cb32ca33"
      },
      "source": [
        "#### Exos\n",
        "* Exercice 1:\n",
        "Déterminer la longeur du string ```introduction```\n",
        "\n",
        "* Exercice 2:\n",
        "Transformer les string nombres en nombre à 5 positions avec des zéros devant.\n",
        "Example: 1 --> 00001\n",
        "\n",
        "* Exercice 3:\n",
        "Supprimer les strings qui ne représentent pas des prénoms\n"
      ]
    },
    {
      "cell_type": "markdown",
      "id": "c9cebbb7-0ddd-4672-9568-3ab6bf738710",
      "metadata": {
        "id": "c9cebbb7-0ddd-4672-9568-3ab6bf738710"
      },
      "source": [
        "#### Vos solutions ici"
      ]
    },
    {
      "cell_type": "code",
      "execution_count": null,
      "id": "bffdd7d8-ef23-4ab0-8dc6-ad4a61866d11",
      "metadata": {
        "id": "bffdd7d8-ef23-4ab0-8dc6-ad4a61866d11"
      },
      "outputs": [],
      "source": []
    },
    {
      "cell_type": "markdown",
      "source": [
        "#### String validateurs\n",
        "Python dispose de méthodes de validation de chaînes intégrées pour les données de base. Il peut vérifier si une chaîne est composée de caractères alphabétiques, alphanumériques, de chiffres, etc."
      ],
      "metadata": {
        "id": "BF7OJp4VUCjy"
      },
      "id": "BF7OJp4VUCjy"
    },
    {
      "cell_type": "markdown",
      "source": [
        "`str.isalnum()`\n",
        "This method checks if all the characters of a string are alphanumeric (a-z, A-Z and 0-9)."
      ],
      "metadata": {
        "id": "Itep6ns2USiV"
      },
      "id": "Itep6ns2USiV"
    },
    {
      "cell_type": "code",
      "source": [
        "print(\"Fruits\".isalnum())\n",
        "print(\"2345677\".isalnum())\n",
        "print(\"333  \".isalnum())\n",
        "print(\"Comite34\".isalnum())\n",
        "print(\"je suis à la rue 24\".isalnum())\n",
        "print(\"joan.mouba@epignosiscenter.com\".isalnum())\n",
        "print(\"SENS INTERDIT\".isalnum())"
      ],
      "metadata": {
        "colab": {
          "base_uri": "https://localhost:8080/"
        },
        "id": "eu0vW87vUcMV",
        "outputId": "30419bae-5f52-4106-99ff-71fc65d1881c"
      },
      "id": "eu0vW87vUcMV",
      "execution_count": null,
      "outputs": [
        {
          "output_type": "stream",
          "name": "stdout",
          "text": [
            "True\n",
            "True\n",
            "False\n",
            "True\n",
            "False\n",
            "False\n"
          ]
        }
      ]
    },
    {
      "cell_type": "markdown",
      "source": [
        "`str.isalpha()`\n",
        "Cette méthode vérifie si tous les caractères d'une chaîne sont alphabétiques (a-z et A-Z)."
      ],
      "metadata": {
        "id": "SYJ5MU4gUvaR"
      },
      "id": "SYJ5MU4gUvaR"
    },
    {
      "cell_type": "code",
      "source": [
        "print(\"Fruits\".isalpha())\n",
        "print(\"2345677\".isalpha())\n",
        "print(\"333  \".isalpha())\n",
        "print(\"Comite34\".isalpha())\n",
        "print(\"je suis à la rue 24\".isalpha())\n",
        "print(\"joan.mouba@epignosiscenter.com\".isalpha())\n",
        "print(\"SENS INTERDIT\".isalpha())"
      ],
      "metadata": {
        "colab": {
          "base_uri": "https://localhost:8080/"
        },
        "id": "0bu8pBSnUihm",
        "outputId": "3032fae1-e8e4-499d-848a-96cfaf5f5843"
      },
      "id": "0bu8pBSnUihm",
      "execution_count": null,
      "outputs": [
        {
          "output_type": "stream",
          "name": "stdout",
          "text": [
            "True\n",
            "False\n",
            "False\n",
            "False\n",
            "False\n",
            "False\n",
            "False\n"
          ]
        }
      ]
    },
    {
      "cell_type": "markdown",
      "source": [
        "str.isdigit()\n",
        "Cette méthode vérifie si tous les caractères d'une chaîne sont des chiffres (0-9)."
      ],
      "metadata": {
        "id": "hmYRhlFJVYQk"
      },
      "id": "hmYRhlFJVYQk"
    },
    {
      "cell_type": "code",
      "source": [
        "print(\"Fruits\".isdigit())\n",
        "print(\"2345677\".isdigit())\n",
        "print(\"333  \".isdigit())\n",
        "print(\"Comite34\".isdigit())\n",
        "print(\"je suis à la rue 24\".isdigit())\n",
        "print(\"joan.mouba@epignosiscenter.com\".isdigit())\n",
        "print(\"SENS INTERDIT\".isdigit())"
      ],
      "metadata": {
        "colab": {
          "base_uri": "https://localhost:8080/"
        },
        "id": "sR6TkCyFVfmo",
        "outputId": "5f7b7121-887a-49fc-ea29-77880110bbc2"
      },
      "id": "sR6TkCyFVfmo",
      "execution_count": null,
      "outputs": [
        {
          "output_type": "stream",
          "name": "stdout",
          "text": [
            "False\n",
            "True\n",
            "False\n",
            "False\n",
            "False\n",
            "False\n",
            "False\n"
          ]
        }
      ]
    },
    {
      "cell_type": "markdown",
      "source": [
        "str.islower()\n",
        "Cette méthode vérifie si tous les caractères d'une chaîne sont des minuscules (a-z)."
      ],
      "metadata": {
        "id": "VzBkX8vXV9mQ"
      },
      "id": "VzBkX8vXV9mQ"
    },
    {
      "cell_type": "code",
      "source": [
        "print(\"Fruits\".islower())\n",
        "print(\"2345677\".islower())\n",
        "print(\"333  \".islower())\n",
        "print(\"Comite34\".islower())\n",
        "print(\"je suis à la rue 24\".islower())\n",
        "print(\"joan.mouba@epignosiscenter.com\".islower())\n",
        "print(\"SENS INTERDIT\".islower())"
      ],
      "metadata": {
        "colab": {
          "base_uri": "https://localhost:8080/"
        },
        "id": "nvoEnhvUWDjr",
        "outputId": "92cb4ddc-f437-4c7d-fc51-9a86a33ec654"
      },
      "id": "nvoEnhvUWDjr",
      "execution_count": null,
      "outputs": [
        {
          "output_type": "stream",
          "name": "stdout",
          "text": [
            "False\n",
            "False\n",
            "False\n",
            "False\n",
            "True\n",
            "True\n",
            "False\n"
          ]
        }
      ]
    },
    {
      "cell_type": "markdown",
      "source": [
        "str.isupper()\n",
        "Cette méthode vérifie si tous les caractères d'une chaîne sont des majuscules (A-Z)."
      ],
      "metadata": {
        "id": "DsLJ4j-5WKgh"
      },
      "id": "DsLJ4j-5WKgh"
    },
    {
      "cell_type": "code",
      "source": [
        "print(\"Fruits\".isupper())\n",
        "print(\"2345677\".isupper())\n",
        "print(\"333  \".isupper())\n",
        "print(\"Comite34\".isupper())\n",
        "print(\"je suis à la rue 24\".isupper())\n",
        "print(\"joan.mouba@epignosiscenter.com\".isupper())\n",
        "print(\"SENS INTERDIT\".isupper())\n"
      ],
      "metadata": {
        "colab": {
          "base_uri": "https://localhost:8080/"
        },
        "id": "7Zs71qXsWPRT",
        "outputId": "01799ce0-dd63-43b5-d778-c4b63381f1eb"
      },
      "id": "7Zs71qXsWPRT",
      "execution_count": null,
      "outputs": [
        {
          "output_type": "stream",
          "name": "stdout",
          "text": [
            "False\n",
            "False\n",
            "False\n",
            "False\n",
            "False\n",
            "False\n",
            "True\n"
          ]
        }
      ]
    },
    {
      "cell_type": "markdown",
      "source": [
        "#### Exercice\n",
        "Ecrivez un programme Python qui:\n",
        "*   prend en entrée une chaîne de caractères par la fonction `input()\n",
        "`\n",
        "*   affiche `True` si la chaîne contient un caractère alpha-numérique, sinon affiche `False`\n",
        "*   affiche `True` si la chaîne contient un chiffre, sinon affiche `False`\n",
        "*   affiche `True` si la chaîne contient un caractère majuscule, sinon affiche `False`"
      ],
      "metadata": {
        "id": "ATSTWO4rZpee"
      },
      "id": "ATSTWO4rZpee"
    },
    {
      "cell_type": "code",
      "source": [
        "# votre code solution ici\n"
      ],
      "metadata": {
        "id": "MnYn2iosaUmL"
      },
      "id": "MnYn2iosaUmL",
      "execution_count": null,
      "outputs": []
    },
    {
      "cell_type": "markdown",
      "id": "b45da76d-cefe-42c3-bc18-9ad3db238a43",
      "metadata": {
        "id": "b45da76d-cefe-42c3-bc18-9ad3db238a43"
      },
      "source": [
        "## 6. Plus d'exercices\n",
        "data: https://koor.fr/Python/Tutorial/python_type_set.wp"
      ]
    },
    {
      "cell_type": "code",
      "execution_count": null,
      "id": "8af5e52d-c3e7-49f5-bc8b-27e214ca97e1",
      "metadata": {
        "tags": [],
        "id": "8af5e52d-c3e7-49f5-bc8b-27e214ca97e1"
      },
      "outputs": [],
      "source": [
        "names = [\n",
        "    (\"Anakin\", \"Wang\"),\n",
        "    (\"Luke\", \"Wang\"),\n",
        "    (\"Leia\", \"Wang\"),\n",
        "    (\"Max\", \"Devi\"),\n",
        "    (\"Chris\", \"Smith\"),\n",
        "    (\"Pablo\", \"Rodriguez\"),\n",
        "    (\"Ali\", \"MohamedRodriguez\"),\n",
        "    (\"Napoli\", \"Nzoda\"),\n",
        "    (\"Blessing\", \"Nzoda\")\n",
        "]"
      ]
    },
    {
      "cell_type": "markdown",
      "id": "bd795991-4992-4c42-a846-1227e27adc0f",
      "metadata": {
        "id": "bd795991-4992-4c42-a846-1227e27adc0f"
      },
      "source": [
        "* Tâches:\n",
        "1. Extraire les noms de familles\n",
        "2. Supprimer les doublons\n",
        "3. Classer par ordre croissant\n",
        "4. Afficher le résultat"
      ]
    },
    {
      "cell_type": "markdown",
      "source": [
        "## 7. Exercice sur Dict\n"
      ],
      "metadata": {
        "id": "KRaXHybgrU26"
      },
      "id": "KRaXHybgrU26"
    },
    {
      "cell_type": "code",
      "execution_count": null,
      "id": "fe2773ed-fb5e-4c21-b9dc-78b69f9cb676",
      "metadata": {
        "id": "fe2773ed-fb5e-4c21-b9dc-78b69f9cb676"
      },
      "outputs": [],
      "source": [
        "import string\n",
        "\n",
        "def solve(s):\n",
        "    # s_final = [sr.title() for sr in s.split() if bool(sr)]\n",
        "\n",
        "    s_final = []\n",
        "    words = []\n",
        "    for c in s:\n",
        "        print(c)\n",
        "        if (c not in string.punctuation) and (c not in string.whitespace):\n",
        "            words.append(c)\n",
        "        elif c in string.whitespace or c in ['\\n']:\n",
        "            if words:\n",
        "                s2 = ''.join(words)\n",
        "                if s2[0] in string.ascii_letters:\n",
        "                    s2 = s2.title()\n",
        "                print(s2)\n",
        "                s_final.append(s2)\n",
        "                print('##', words, '##')\n",
        "                words = []\n",
        "            s_final.append(c)\n",
        "        else:\n",
        "            if words:\n",
        "                s2 = ''.join(words)\n",
        "                print(s2.title())\n",
        "                s_final.append(s2.title())\n",
        "\n",
        "    if words:\n",
        "                s2 = ''.join(words)\n",
        "                if s2[0] in string.ascii_letters:\n",
        "                    s2 = s2.title()\n",
        "                print(s2)\n",
        "                s_final.append(s2)\n",
        "\n",
        "    return ''.join(s_final)\n"
      ]
    },
    {
      "cell_type": "code",
      "source": [
        "s = 'hello   world  lol'\n",
        "s2 = '1 w 2 r 3g'\n",
        "\n",
        "solve(s2)"
      ],
      "metadata": {
        "colab": {
          "base_uri": "https://localhost:8080/",
          "height": 365
        },
        "id": "hQGEMUIaKwvm",
        "outputId": "5325cc1b-4527-47dd-b8d3-e2e511ed256f"
      },
      "id": "hQGEMUIaKwvm",
      "execution_count": null,
      "outputs": [
        {
          "output_type": "stream",
          "name": "stdout",
          "text": [
            "1\n",
            " \n",
            "1\n",
            "## ['1'] ##\n",
            "w\n",
            " \n",
            "W\n",
            "## ['w'] ##\n",
            "2\n",
            " \n",
            "2\n",
            "## ['2'] ##\n",
            "r\n",
            " \n",
            "R\n",
            "## ['r'] ##\n",
            "3\n",
            "g\n",
            "3g\n"
          ]
        },
        {
          "output_type": "execute_result",
          "data": {
            "text/plain": [
              "'1 W 2 R 3g'"
            ],
            "application/vnd.google.colaboratory.intrinsic+json": {
              "type": "string"
            }
          },
          "metadata": {},
          "execution_count": 39
        }
      ]
    },
    {
      "cell_type": "code",
      "source": [
        "int(False)"
      ],
      "metadata": {
        "id": "6IrdfzYcabQ2",
        "outputId": "e6881ef5-3c31-493e-f868-8819736f7d77",
        "colab": {
          "base_uri": "https://localhost:8080/"
        }
      },
      "id": "6IrdfzYcabQ2",
      "execution_count": null,
      "outputs": [
        {
          "output_type": "execute_result",
          "data": {
            "text/plain": [
              "0"
            ]
          },
          "metadata": {},
          "execution_count": 41
        }
      ]
    },
    {
      "cell_type": "code",
      "source": [],
      "metadata": {
        "id": "juUOlzOBK22X"
      },
      "id": "juUOlzOBK22X",
      "execution_count": null,
      "outputs": []
    }
  ],
  "metadata": {
    "kernelspec": {
      "display_name": "Python 3 (ipykernel)",
      "language": "python",
      "name": "python3"
    },
    "language_info": {
      "codemirror_mode": {
        "name": "ipython",
        "version": 3
      },
      "file_extension": ".py",
      "mimetype": "text/x-python",
      "name": "python",
      "nbconvert_exporter": "python",
      "pygments_lexer": "ipython3",
      "version": "3.9.17"
    },
    "colab": {
      "provenance": [],
      "collapsed_sections": [
        "1d471437-7e9c-4eb7-842b-89936552b627",
        "ab80f299-7ab0-41ea-9aa2-90b264962367",
        "38cb3dc3-5a31-45b0-ae96-644cdf5da24e",
        "039ea0ab-689f-47cb-bba3-b620a4c4cc2a",
        "1e3f2402-ae0b-400f-8c05-32a12675218e",
        "054532ad-cf08-449c-a6ae-f6ead2bb899d",
        "a75e95d2-0a81-4d3a-bebf-f4bcc5c88748",
        "b3801ec9-2549-48ef-b8cb-1c4a43e46685"
      ]
    }
  },
  "nbformat": 4,
  "nbformat_minor": 5
}