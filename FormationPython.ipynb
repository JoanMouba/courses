{
  "nbformat": 4,
  "nbformat_minor": 0,
  "metadata": {
    "colab": {
      "provenance": [],
      "collapsed_sections": [
        "D5hR4ARMpR_P",
        "lw5JIUa2D6xv",
        "N-ejoElP21MJ",
        "A7bOdwK29exh",
        "MliMVGWKCUYW",
        "36ckcwwBCkH2",
        "qLrSQP78-4np",
        "jiLgnMDXIeiX",
        "Q4PpDu6hyFcD",
        "QJBzChMvgcwc",
        "IieUAwaBKthP",
        "bmEd5vNThm6g",
        "pHjfOqnt_yE2",
        "cHpeXme3EgTG",
        "b-tf1G5pPFrJ",
        "awOS31w5PJXl",
        "Ferzx82s_Aiv",
        "Mi5utoRqPY-M",
        "8GVzUjNoGhn4"
      ],
      "authorship_tag": "ABX9TyMbi5+aUcr9Bigcepici4U2",
      "include_colab_link": true
    },
    "kernelspec": {
      "name": "python3",
      "display_name": "Python 3"
    },
    "language_info": {
      "name": "python"
    }
  },
  "cells": [
    {
      "cell_type": "markdown",
      "metadata": {
        "id": "view-in-github",
        "colab_type": "text"
      },
      "source": [
        "<a href=\"https://colab.research.google.com/github/JoanMouba/courses/blob/main/FormationPython.ipynb\" target=\"_parent\"><img src=\"https://colab.research.google.com/assets/colab-badge.svg\" alt=\"Open In Colab\"/></a>"
      ]
    },
    {
      "cell_type": "markdown",
      "source": [
        "# **Apprendre Python en Créant une Application en Finances Personnelles**\n",
        "\n",
        "Ce notebook est le notebook principal de la formation.\n",
        "Il permet de dérouler le projet fil rouge de la formation qui consiste à créer une application en finances personnelles.\n",
        "\n",
        "##### Instructeur: Joan Mouba, Dr.-Ing. en Informatique\n",
        "L'utilisation de ce fichier est sous la license GPL.\n",
        "Vous pouvez utiliser, modifier et redistribuer librement.\n",
        "\n",
        "Nous serons reconnaissant si vous mentionnez l'auteur et/ou la référence source du Notebook:\n",
        "[https://bit.ly/3skCdlO](https://colab.research.google.com/drive/1ajrZfkap-L-ZnXBkfKyQmSdi5tgBHZ-Z?usp=sharing)\n",
        "\n",
        "LinkedIn: [![LinkedIn](https://img.shields.io/badge/LinkedIn-0077B5?style=for-the-badge&style=social&logo=linkedin&logoColor=white)](https://www.linkedin.com/in/joanmouba/) - https://www.linkedin.com/in/joanmouba/\n",
        "\n",
        "Web: [https://epignosiscenter.com](https://epignosiscenter.com)\n",
        "\n",
        "Courriel: joan.mouba@epignosiscenter.com\n",
        "\n",
        "Canal Youtube: [![YouTube](https://img.shields.io/youtube/channel/subscribers/UCjqWeYtZ82DBan-vhFzkTog)](https://www.youtube.com/channel/UCjqWeYtZ82DBan-vhFzkTog)\n",
        "\n",
        "Répertoire GitHub:[![GitHub](https://img.shields.io/badge/GitHub-100000?style=for-the-badge&style=social&logo=github&logoColor=white)](https://github.com/JoanMouba)  \n",
        "\n",
        "Merci de me laisser un avis sur Google: [Je laisse mon avis sur la formation](https://g.page/r/CRFbaxcVvqo9EAI/review)\n",
        "\n",
        "Dernière mise à jour: 05.12.2023 par [Joan Mouba](https://g.page/r/CRFbaxcVvqo9EAI/review)"
      ],
      "metadata": {
        "id": "KpcOq9u_fJIA"
      }
    },
    {
      "cell_type": "markdown",
      "source": [
        "## Agenda\n",
        "\n"
      ],
      "metadata": {
        "id": "BSqhp_f1Ddps"
      }
    },
    {
      "cell_type": "markdown",
      "source": [
        "### Programme\n",
        "\n",
        "\n",
        "1.   L'environnement Google Colab (Notebooks)\n",
        "2.   Présentation de la mission, projet fil rouge\n",
        "3.   Afficher des informations (print)\n",
        "4.   Accéder à l'aide Python\n",
        "5.   Prendre des notes dans le code (commentaires)\n",
        "6.   Gérer l'information (CRUD)\n",
        "7.   Sauvegarder l'information (variables)\n",
        "8.   Modifier l'information (expressions, opérateurs)\n",
        "9.   Types de données de base (types natifs)\n",
        "10.  Conversion des données de base\n",
        "11.   Saisir l'information (input)\n",
        "12.   Formater information (text)\n",
        "13.   Mini-projet: Application Récapitulative\n",
        "14.   Prendre des décisions (if .. else)\n",
        "15.   Répéter des tâches (for, while)\n",
        "16.   Types de données (texte, liste, tuples, ensembles, dictionnaires)\n",
        "17.   Organiser et réutiliser votre code (fonctions)\n",
        "18.   Réutiliser des fonctionnalités (Module)\n",
        "19.   Module Pandas (Data analysis)\n",
        "20.   Visualiser les informations (Graphiques)\n",
        "21.   Bonus: Prochaines étapes\n"
      ],
      "metadata": {
        "id": "oij44Nk-DsKo"
      }
    },
    {
      "cell_type": "markdown",
      "source": [
        "## 1. Environnement Google Colaboratory\n",
        "\n",
        "\n",
        "*   Notebook\n",
        "*   Utilisation et exécution des cellules textes\n",
        "*   Utilisation et exécution des cellules de code\n",
        "*   Déplacement et suppression des cellules\n",
        "*   Importation de fichiers\n",
        "\n"
      ],
      "metadata": {
        "id": "D5hR4ARMpR_P"
      }
    },
    {
      "cell_type": "markdown",
      "source": [
        "#### Exercice\n",
        "*   Créer et exécuter une cellule de code:\n",
        "`print(\"Je suis content et motivé pour aller jusqu'au bout, et acquérir des nouvelles compétences en programmation\")`\n",
        "\n",
        "*   Créer et exécuter une cellule de texte:\n",
        "\"Bienvenue à la formation Python pour Débutants\"\n",
        "\n",
        "* Déplacer la cellule de texte au dessus de la cellule de code\n",
        "\n",
        "* Passer la cellule de code comme sous-groupe de la cellule de code\n",
        "\n",
        "* Exécuter toutes les cellules en une fois"
      ],
      "metadata": {
        "id": "lw5JIUa2D6xv"
      }
    },
    {
      "cell_type": "markdown",
      "source": [
        "##### Solution"
      ],
      "metadata": {
        "id": "3wQMxyUTE6rG"
      }
    },
    {
      "cell_type": "markdown",
      "source": [
        "###### Bienvenue à la formation Python"
      ],
      "metadata": {
        "id": "gCT3e6pIFCNo"
      }
    },
    {
      "cell_type": "code",
      "source": [
        "# Votre solution ici\n"
      ],
      "metadata": {
        "id": "DS8uglM4FGjd"
      },
      "execution_count": null,
      "outputs": []
    },
    {
      "cell_type": "markdown",
      "source": [
        "## 2. Présentation de la Mission et du contexte\n",
        "**Le monde est en proie à une crise financière majeure**. Des experts financiers se réunissent à Londres.\n",
        "Leur solution : **les particuliers doivent maîtriser leurs finances personnelles.**\n",
        "Le comité décide de **déployer \"Une application Python \"**. Vous venez d'être embauché en tant que développeur Python. On vous a confié le poste et une prime de 10 000 euros. **C'est à vous de sauver le monde grâce à vos compétences en Python**."
      ],
      "metadata": {
        "id": "hEH1YGkwr0F9"
      }
    },
    {
      "cell_type": "markdown",
      "source": [
        "### Exigences de l'application\n",
        "\n",
        "* Les utilisateurs doivent être en mesure de saisir leurs informations par clavier.\n",
        "* Les utilisateurs doivent pouvoir saisir leurs informations par fichier csv.\n",
        "* L'application doit calculer le total des revenus par mois.\n",
        "* L'application doit calculer les dépenses totales par mois.\n",
        "* L'application doit calculer le cash-flow mensuel.\n",
        "* L'application doit afficher l'information si l'utilisateur vit au-dessus de ses moyens ou non.\n",
        "* *L'application doit afficher le ratio de chaque catégorie de dépenses*.\n",
        "* L'application doit calculer de nombreux critères : taux d'endettement, taux d'épargne, catégorie de dettes...\n",
        "**L'application doit donner des conseils en fonction de la situation de l'utilisateur**.\n",
        "* L'application doit afficher des graphiques appropriés pour aider le processus de prise de décision (parts, classement, évolution, distribution, corrélation). Exemples de graphiques : histogrammes, lignes, camemberts, ....\n",
        "* L'application doit enregistrer les résultats de l'analyse financière dans un fichier texte.\n",
        "* Enfin, l'application doit donner une conclusion: Les finances personnelles de l'utilisateur sont-elles sous contrôle ?"
      ],
      "metadata": {
        "id": "PB6vqmNfIEYc"
      }
    },
    {
      "cell_type": "markdown",
      "source": [
        "### Catégories de revenus et de dépenses des ménages\n",
        "\n",
        "References:\n",
        "\n",
        "[Revenus des ménages - data.oecd.org](https://data.oecd.org/hha/household-disposable-income.htm)\n",
        "\n",
        "[Dépenses des ménages - data.oecd.org](https://data.oecd.org/hha/household-spending.htm)\n",
        "\n"
      ],
      "metadata": {
        "id": "8_SvVmFXv38-"
      }
    },
    {
      "cell_type": "markdown",
      "source": [
        "#### Catégories de revenus des ménages\n",
        "\n",
        "* salaires et traitements\n",
        "* travail indépendant\n",
        "* pensions et autres prestations sociales\n",
        "* revenus des placements financiers\n",
        "* services divers."
      ],
      "metadata": {
        "id": "0TW7NWhsRyfK"
      }
    },
    {
      "cell_type": "markdown",
      "source": [
        "#### Catégories de dépenses des ménages\n",
        "\n",
        "* alimentation\n",
        "* vêtements\n",
        "* logement (loyer)\n",
        "* énergie\n",
        "* transport\n",
        "* biens durables (notamment les voitures)\n",
        "* frais de santé\n",
        "* les loisirs\n",
        "* services divers (coiffure, etc.)"
      ],
      "metadata": {
        "id": "Ej8dojRrSDXF"
      }
    },
    {
      "cell_type": "markdown",
      "source": [
        "## 3. Afficher de l'information\n",
        "\n",
        "1.   La commande `print()` pour afficher des informations\n",
        "2.   Les erreurs communes dans l'usage de `print()`"
      ],
      "metadata": {
        "id": "tnB0-sn4dOt5"
      }
    },
    {
      "cell_type": "markdown",
      "source": [
        "### Utilisation de la commande `print()`\n",
        "\n",
        "```\n",
        "print(\"Bonjour Monsieur Smith\")\n",
        "print(234)\n",
        "print(645.86663)\n",
        "print(23 + 5 * 4)\n",
        "print(1_000_000)\n",
        "```\n",
        "\n",
        "\n"
      ],
      "metadata": {
        "id": "fOlFwifG-pvE"
      }
    },
    {
      "cell_type": "code",
      "source": [
        "# Veuillez typer le code ci-dessus ici\n"
      ],
      "metadata": {
        "id": "rtjcLxw-dWLQ"
      },
      "execution_count": null,
      "outputs": []
    },
    {
      "cell_type": "markdown",
      "source": [
        "Combiner l'affichage de plusieurs informations\n",
        "\n",
        "\n",
        "```\n",
        "print(2, 'kilos of tomatoes for', 3.54, '€')\n",
        "```\n",
        "\n"
      ],
      "metadata": {
        "id": "DPQaYaFNYJf9"
      }
    },
    {
      "cell_type": "code",
      "source": [
        "# Veuillez typer le code ci-dessus ici\n"
      ],
      "metadata": {
        "id": "ZkwtCsbwWBtP"
      },
      "execution_count": null,
      "outputs": []
    },
    {
      "cell_type": "markdown",
      "source": [
        "#### Exercise\n",
        "Utilisez le texte et des nombres (float, integer) pour afficher les phrases suivantes avec la commande `print()`:\n",
        "\n",
        "\n",
        "*   Jacques a 23 ans (texte, entiers)\n",
        "*   Il y a 775 200 mètres entre Paris et Marseille. (texte, entiers, réels)\n",
        "*   Maria a dépensé 175.50 € en 3 jours pour 2 \"sorties au restaurant\" (text, entiers, réels)\n",
        "*   Barack Obama a dit: \"Yes, we can!\" (text)\n",
        "\n"
      ],
      "metadata": {
        "id": "bh4I6d4Hlnwk"
      }
    },
    {
      "cell_type": "markdown",
      "source": [
        "##### Solution"
      ],
      "metadata": {
        "id": "0XJ_OVnZpBNf"
      }
    },
    {
      "cell_type": "code",
      "source": [
        "# Veuillez typer et exécuter votre code solution ici\n",
        "#"
      ],
      "metadata": {
        "id": "BlKuZjednaUa"
      },
      "execution_count": null,
      "outputs": []
    },
    {
      "cell_type": "markdown",
      "source": [
        "#### Exercice: Re-éditer le code suivant. Ensuite identifier et corriger les erreurs pendant l'exécution\n",
        "\n",
        "```\n",
        "print(Sophie a épargné, 4, euros)\n",
        "print(\"L'héritage des enfants Karl est de, 2345878 $ (dollars))\n",
        "print(\"L'été dernier, Marc a dit a Claire: \"Je veux t'épouser\" \")\n",
        "printt(\"Vos investissements immobiliers ont rapporté\", 20000, \"euros\")\n",
        "\n",
        "```"
      ],
      "metadata": {
        "id": "y4MfQxCH-0pi"
      }
    },
    {
      "cell_type": "code",
      "source": [
        "# Recommendation, exécuter chaque instruction dans une celle séparée\n"
      ],
      "metadata": {
        "id": "yIM38XD3fl0E"
      },
      "execution_count": null,
      "outputs": []
    },
    {
      "cell_type": "markdown",
      "source": [
        "## 4. Accéder à l'aide Python\n",
        "\n",
        "\n",
        "*   Aide en ligne avec la commande `help()`\n",
        "*   Tutoriel Python: https://docs.python.org/fr/3/tutorial/\n",
        "*   https://docs.python.org/fr/3/\n",
        "*   Canal Youtube Epignosis Center: https://www.youtube.com/@epignosiscenter/videos\n",
        "\n",
        "\n",
        "\n"
      ],
      "metadata": {
        "id": "0byOT7-OlH97"
      }
    },
    {
      "cell_type": "markdown",
      "source": [
        "### help(print)"
      ],
      "metadata": {
        "id": "9boQ-EuGHbw9"
      }
    },
    {
      "cell_type": "code",
      "source": [
        "help(print)"
      ],
      "metadata": {
        "colab": {
          "base_uri": "https://localhost:8080/"
        },
        "id": "5xgrFF4blDNw",
        "outputId": "5ac41565-f2e3-4738-b80d-a07442c34877"
      },
      "execution_count": null,
      "outputs": [
        {
          "output_type": "stream",
          "name": "stdout",
          "text": [
            "Help on built-in function print in module builtins:\n",
            "\n",
            "print(...)\n",
            "    print(value, ..., sep=' ', end='\\n', file=sys.stdout, flush=False)\n",
            "    \n",
            "    Prints the values to a stream, or to sys.stdout by default.\n",
            "    Optional keyword arguments:\n",
            "    file:  a file-like object (stream); defaults to the current sys.stdout.\n",
            "    sep:   string inserted between values, default a space.\n",
            "    end:   string appended after the last value, default a newline.\n",
            "    flush: whether to forcibly flush the stream.\n",
            "\n"
          ]
        }
      ]
    },
    {
      "cell_type": "code",
      "source": [
        "# print('Jean Blaise',        'Yilmaz', 'Miriam', 'Lee')\n",
        "# print(\"Hello\")"
      ],
      "metadata": {
        "id": "z-fcuL21uHNq"
      },
      "execution_count": null,
      "outputs": []
    },
    {
      "cell_type": "code",
      "source": [
        "# print('Jean Blaise', 'Yilmaz', 'Miriam', 'Lee', sep='#')\n",
        "# print('Hello')\n"
      ],
      "metadata": {
        "id": "VXWknrGiue4h"
      },
      "execution_count": null,
      "outputs": []
    },
    {
      "cell_type": "code",
      "source": [
        "# print('Jean Blaise', 'Yilmaz', 'Miriam', 'Lee', sep=' ##^', end='*\\n')\n",
        "# print('Hello', 'bonjour')\n"
      ],
      "metadata": {
        "id": "BqFGTKzcu1jQ"
      },
      "execution_count": null,
      "outputs": []
    },
    {
      "cell_type": "code",
      "source": [
        "help(help)"
      ],
      "metadata": {
        "colab": {
          "base_uri": "https://localhost:8080/"
        },
        "id": "WXNx5tftbxyS",
        "outputId": "055f0b65-0073-477e-f7dc-4506d3904a72"
      },
      "execution_count": null,
      "outputs": [
        {
          "output_type": "stream",
          "name": "stdout",
          "text": [
            "Help on _Helper in module _sitebuiltins object:\n",
            "\n",
            "class _Helper(builtins.object)\n",
            " |  Define the builtin 'help'.\n",
            " |  \n",
            " |  This is a wrapper around pydoc.help that provides a helpful message\n",
            " |  when 'help' is typed at the Python interactive prompt.\n",
            " |  \n",
            " |  Calling help() at the Python prompt starts an interactive help session.\n",
            " |  Calling help(thing) prints help for the python object 'thing'.\n",
            " |  \n",
            " |  Methods defined here:\n",
            " |  \n",
            " |  __call__(self, *args, **kwds)\n",
            " |      Call self as a function.\n",
            " |  \n",
            " |  __repr__(self)\n",
            " |      Return repr(self).\n",
            " |  \n",
            " |  ----------------------------------------------------------------------\n",
            " |  Data descriptors defined here:\n",
            " |  \n",
            " |  __dict__\n",
            " |      dictionary for instance variables (if defined)\n",
            " |  \n",
            " |  __weakref__\n",
            " |      list of weak references to the object (if defined)\n",
            "\n"
          ]
        }
      ]
    },
    {
      "cell_type": "markdown",
      "source": [
        "#### Exercice\n",
        "*   Affichez l'aide Python sur la fonction `print`\n",
        "*   Utilisez la  fonction `print()` avec ses options `sep` et `end` pour transformer la phrase à gauche de '-->' en celle de droite:\n",
        "\n",
        "   Yenzi a dépensé 150 --> Yenzi--a--dépensé--150--$-\n"
      ],
      "metadata": {
        "id": "ST4KMLGpQCMn"
      }
    },
    {
      "cell_type": "markdown",
      "source": [
        "##### Solution\n",
        "Votre solution"
      ],
      "metadata": {
        "id": "sjAGoinJRpbJ"
      }
    },
    {
      "cell_type": "code",
      "source": [
        "# Veuillez entrer votre code solution ici\n"
      ],
      "metadata": {
        "id": "2ybFyd0pRrWj"
      },
      "execution_count": null,
      "outputs": []
    },
    {
      "cell_type": "markdown",
      "source": [
        "## 5. Prendre des notes dans le code\n",
        "Pourquoi commenter le code ?\n",
        "\n",
        "*   Pourquoi commenter le code?\n",
        "*   Les 2 types de commentaires\n",
        "\n"
      ],
      "metadata": {
        "id": "N-ejoElP21MJ"
      }
    },
    {
      "cell_type": "markdown",
      "source": [
        "### L'utilité des notes dans le code\n",
        "\n",
        "\n",
        "*   Indiquer des informations périphériques: but du code, auteur, droits d'auteur, etc.\n",
        "*   Donner des références\n",
        "\n"
      ],
      "metadata": {
        "id": "ivKrMSIYL7Be"
      }
    },
    {
      "cell_type": "markdown",
      "source": [
        "\n",
        "*   Préciser la compréhension d'une partie du code\n",
        "*   Corriger son code"
      ],
      "metadata": {
        "id": "ON949iIfMNqX"
      }
    },
    {
      "cell_type": "markdown",
      "source": [
        "### Commentaire sur une ligne et multi-lignes"
      ],
      "metadata": {
        "id": "dDu4e_-FAqNq"
      }
    },
    {
      "cell_type": "code",
      "source": [
        "\"\"\" Je suis un commentaire\n",
        "qui s'étend sur \"plusieurs\n",
        "lignes de texte.\" J'ai pas de\n",
        "problème avec les guillemets et les\n",
        "apostrophes, vous l'avez remarqué?  \"\"\"\n",
        "\n",
        "# Identité du client\n",
        "print(\"Client:\", \"Mr.\", \"Idrissa Smith\" )\n",
        "print(\"Epargne:\", 6400, \"euros\")  # je suis aussi un commentaire sur une ligne\n",
        "print(\"Dette:\", 2300, 'euros')\n",
        "print(\"Patrimoine:\", 328_000, 'euros')  # simuler les milliers avec des \"_\"\n"
      ],
      "metadata": {
        "id": "koTqxT5_lFQP",
        "colab": {
          "base_uri": "https://localhost:8080/"
        },
        "outputId": "2f54395e-ea89-4d57-a4b7-3c933991215a"
      },
      "execution_count": null,
      "outputs": [
        {
          "output_type": "stream",
          "name": "stdout",
          "text": [
            "Client: Mr. Idrissa Smith\n",
            "Epargne: 6400 euros\n",
            "Dette: 2300 euros\n",
            "Patrimoine: 328000 euros\n"
          ]
        }
      ]
    },
    {
      "cell_type": "markdown",
      "source": [
        "#### Exercice\n",
        "À l'aide des fonctionnalités de commentaire.\n",
        "Veuillez aider Mr Idrissa Smith à seulement afficher son identité, son patrimoine et ses dettes.\n",
        "\n",
        "\n",
        "```\n",
        "\"\"\" Je suis un commentaire\n",
        "qui s'étend sur \"plusieurs\n",
        "lignes de texte.\" J'ai pas de\n",
        "problème avec les guillemets et les\n",
        "apostrophes, vous l'avez remarqué?  \"\"\"\n",
        "\n",
        "# Identité du client\n",
        "print(\"Client:\", \"Mr.\", \"Idrissa Smith\" )\n",
        "print(\"Epargne:\", 6400, \"euros\")  # je suis aussi un commentaire sur une ligne\n",
        "# print(\"Dette:\", 2300, 'euros')\n",
        "# print(\"Patrimoine:\", 328_000, 'euros')  # simuler les milliers avec des \"_\"\n",
        "```\n",
        "\n"
      ],
      "metadata": {
        "id": "H2Og2o757fE1"
      }
    },
    {
      "cell_type": "markdown",
      "source": [
        "##### Solution\n"
      ],
      "metadata": {
        "id": "VplPiiE47rqc"
      }
    },
    {
      "cell_type": "code",
      "source": [
        "# Veuiller entrer votre code solution ici\n",
        "\n"
      ],
      "metadata": {
        "id": "ks_H5rLF7yS_",
        "colab": {
          "base_uri": "https://localhost:8080/"
        },
        "outputId": "155c33e3-f140-421b-f597-ae4f0ec3c291"
      },
      "execution_count": null,
      "outputs": [
        {
          "output_type": "stream",
          "name": "stdout",
          "text": [
            "Client: Mr. Idrissa Smith\n",
            "Dette: 2600 euros\n",
            "Patrimoine: 328000 euros\n"
          ]
        }
      ]
    },
    {
      "cell_type": "markdown",
      "source": [
        "## 6. Gérer l'information\n",
        "\n",
        "\n",
        "*  CRUD: Create, Read, Update, Delete\n",
        "*  Transformer l'information avec des opérateurs numériques\n",
        "\n",
        "\n"
      ],
      "metadata": {
        "id": "A7bOdwK29exh"
      }
    },
    {
      "cell_type": "code",
      "source": [
        "import keyword\n",
        "print(keyword.kwlist)\n"
      ],
      "metadata": {
        "colab": {
          "base_uri": "https://localhost:8080/"
        },
        "id": "pwRkC7Dzk83e",
        "outputId": "d151136e-034a-44b5-cbbf-977f6db098de"
      },
      "execution_count": null,
      "outputs": [
        {
          "output_type": "stream",
          "name": "stdout",
          "text": [
            "['False', 'None', 'True', 'and', 'as', 'assert', 'async', 'await', 'break', 'class', 'continue', 'def', 'del', 'elif', 'else', 'except', 'finally', 'for', 'from', 'global', 'if', 'import', 'in', 'is', 'lambda', 'nonlocal', 'not', 'or', 'pass', 'raise', 'return', 'try', 'while', 'with', 'yield']\n"
          ]
        }
      ]
    },
    {
      "cell_type": "code",
      "source": [
        "help(pow)"
      ],
      "metadata": {
        "colab": {
          "base_uri": "https://localhost:8080/"
        },
        "id": "6AaWlC14mEnx",
        "outputId": "8f87b1c5-1aa3-4751-985c-3ab3660ff1a7"
      },
      "execution_count": null,
      "outputs": [
        {
          "output_type": "stream",
          "name": "stdout",
          "text": [
            "Help on built-in function pow in module builtins:\n",
            "\n",
            "pow(base, exp, mod=None)\n",
            "    Equivalent to base**exp with 2 arguments or base**exp % mod with 3 arguments\n",
            "    \n",
            "    Some types, such as ints, are able to use a more efficient algorithm when\n",
            "    invoked using the three argument form.\n",
            "\n"
          ]
        }
      ]
    },
    {
      "cell_type": "code",
      "source": [
        "# pow(2, 3)\n"
      ],
      "metadata": {
        "id": "qzuhpfV9mMaL"
      },
      "execution_count": null,
      "outputs": []
    },
    {
      "cell_type": "markdown",
      "source": [
        "#### Créer des nouvelles informations utiles par calcul"
      ],
      "metadata": {
        "id": "MliMVGWKCUYW"
      }
    },
    {
      "cell_type": "markdown",
      "source": [
        "#### Editer le code suivant\n",
        "\n",
        "\n",
        "```\n",
        "print(\"Addition: 30 + 20 =\", 30 + 20)\n",
        "print(\"Soustraction: 30 - 20 =\", 30 - 20)\n",
        "print(\"Multiplication: 30 * 20 =\", 30 * 20)\n",
        "print(\"Division: 30 / 20 =\", 30 / 20)\n",
        "print(\"Division entière: 30 // 20 =\", 30 // 20)\n",
        "print(\"Modulo: 30 % 20 =\", 30 % 20)\n",
        "print(\"Puissance: 30 ** 3 =\", 30**3)\n",
        "\n",
        "```\n",
        "\n"
      ],
      "metadata": {
        "id": "34uLrqRipA7L"
      }
    },
    {
      "cell_type": "code",
      "source": [
        "# Votre code édité ici\n"
      ],
      "metadata": {
        "id": "JryZZSTy-o01"
      },
      "execution_count": null,
      "outputs": []
    },
    {
      "cell_type": "markdown",
      "source": [
        "#### Précédence des opérations\n",
        "Acronyme: PEMMDAS\n",
        "1. Parenthèses\n",
        "2. Exposant (puissance)\n",
        "3. Multiplication-Modulo-Division (normale et entière)\n",
        "4. Addition-Soustraction"
      ],
      "metadata": {
        "id": "svQtGS0VA-7Z"
      }
    },
    {
      "cell_type": "code",
      "source": [
        "# Quel serait le résultat de l'expression suivante?\n",
        "# 2 + (4 + 7) + 2**3 - 5\n",
        "# Calculez manuellement, et ensuite par une ligne de code Python\n",
        "# Avez-vous le même résultat? commentez\n"
      ],
      "metadata": {
        "id": "0jXCewvW129K"
      },
      "execution_count": null,
      "outputs": []
    },
    {
      "cell_type": "markdown",
      "source": [
        "#### Exercice\n",
        "Madeleine a fait les courses suivantes cette semaine:\n",
        "*   3 baguettes: 3.60 euros\n",
        "*   Barquette de poisson: 6.20 euros\n",
        "*   1 boîte de mais bio: 1.70 euros\n",
        "*   1 sachet de fromage Emmental: 2.30 euros\n",
        "*   1 paquet de pâtes nature: 2.00 euros\n",
        "*   1 bouteille d'huile d'olive: 6.00 euros\n",
        "*   500 g de tomates: 1.57 euros\n",
        "*   1 paire de chaussettes: 3.5 euros\n",
        "\n",
        "\n",
        "Affichez le calcul et la somme de ses dépenses dans une seule commande avec `print()`"
      ],
      "metadata": {
        "id": "lIJ0Rk6-BRS-"
      }
    },
    {
      "cell_type": "markdown",
      "source": [
        "##### Solution"
      ],
      "metadata": {
        "id": "t1N8CtYlNcPm"
      }
    },
    {
      "cell_type": "code",
      "source": [
        "# Votre solution ici\n"
      ],
      "metadata": {
        "id": "pGTib65cNfB3"
      },
      "execution_count": null,
      "outputs": []
    },
    {
      "cell_type": "markdown",
      "source": [
        "## 7. Sauvegarder l'information (Variables)\n",
        "\n",
        "\n",
        "*   Qu'est-ce qu'une variable ?\n",
        "*   Comment nommer une variable ?\n"
      ],
      "metadata": {
        "id": "36ckcwwBCkH2"
      }
    },
    {
      "cell_type": "code",
      "source": [
        "# Une variable est un emplacement mémoire ayant un nom symbolique.\n",
        "# Une variable est semblable à une boîte contenant une valeur à l'intérieur\n",
        "# La valeur d'une variable peut être manipuler à partir de son nom symbolique\n",
        "# Le nom symbolique devient un alias, le représentant de sa valeur\n",
        "# On peut effecture les opérations CRUD sur une variable\n",
        "# Rappel: CRUD - Create, Read, Update, Delete"
      ],
      "metadata": {
        "id": "SqSvV5HoOdR3"
      },
      "execution_count": null,
      "outputs": []
    },
    {
      "cell_type": "markdown",
      "source": [
        "\n",
        "\n",
        "```\n",
        "# Créer des variables\n",
        "salaire_mensuel_en_euro = 2000\n",
        "prix_telephone_en_euro = 125.49\n",
        "nom_client = \"Selma Ben Massoud\"\n",
        "adresse_client = \"16 Rue l'Abbé Pierre, Cotonou, Bénin\"\n",
        "\n",
        "```\n",
        "\n"
      ],
      "metadata": {
        "id": "76OWkCKOYKlJ"
      }
    },
    {
      "cell_type": "code",
      "source": [
        "# Créer et afficher les variables ci-dessus\n"
      ],
      "metadata": {
        "id": "3Dh79zOmAa8f"
      },
      "execution_count": null,
      "outputs": []
    },
    {
      "cell_type": "markdown",
      "source": [
        "### Règles pour nommer une variable\n",
        "\n",
        "\n",
        "*   Un nom simple, compact, significatif et descriptif\n",
        "*   Ne contient que des lettres, des chiffres et des sous-tirets\n",
        "*   Ne pas commencer par un chiffre\n",
        "*   Ne contient pas de caractères spéciaux\n",
        "*   Recommandé: en minuscule, séparer les mots avec sous-tirets\n",
        "\n"
      ],
      "metadata": {
        "id": "dms1WBUHQPhS"
      }
    },
    {
      "cell_type": "markdown",
      "source": [
        "#### Exercice\n",
        "Ben est un informaticien passionné par les finances personnelles. À côté de son emploi, il développe des projets personnels. Il donne des cours d'informatique, investit en bourse et dans l'immobilier. Il developpe un programme Python pour l'aider à gérer ses finances. Aidez Ben à trouver des variables pour les revenus suivants:\n",
        "\n",
        "*   Les revenus du travail (6640 euros)\n",
        "*   Les bénéfices de ses projets d'entreprises (12 450 euros)\n",
        "*   Les revenus du capital (1328 euros)\n",
        "*   Les revenus des placements financiers (547.75 euros)\n",
        "*   Les revenus des loyers (32000 euros)\n"
      ],
      "metadata": {
        "id": "grSMejuHQ_Ym"
      }
    },
    {
      "cell_type": "markdown",
      "source": [
        "##### Solution\n",
        "Proposition"
      ],
      "metadata": {
        "id": "v51y7IcTSQap"
      }
    },
    {
      "cell_type": "code",
      "source": [
        "# Veuiller entrer votre code solution ici\n",
        "# Ces montants sont en Euro\n",
        "\n"
      ],
      "metadata": {
        "id": "Ni87k32bTAML"
      },
      "execution_count": null,
      "outputs": []
    },
    {
      "cell_type": "markdown",
      "source": [
        "## 8. Modifier de l'information\n",
        "Rappel: Que peut-on faire avec des données?\n",
        "Acronyme CRUD:\n",
        "*   Create (créer)\n",
        "*   Read (lire)\n",
        "*   Update (mettre à jour)\n",
        "*   Delete (supprimer)\n"
      ],
      "metadata": {
        "id": "qLrSQP78-4np"
      }
    },
    {
      "cell_type": "code",
      "source": [
        "# Mamadou dépense 70 euros lundi pour acheter un ventilateur,\n",
        "# 1. Créez une variable \"depenses_semaine_en_euro\"\n",
        "# 2. Afficher la valeur de cette variable\n",
        "\n",
        " # votre code ici\n",
        "\n",
        "# Mardi, il dépense 43.50 euros pour des courses alimentaires\n",
        "# Mettez à jour et affichez la variable \"depenses_semaine_en_euro\"\n",
        "\n",
        "# votre code ici\n",
        "\n",
        "# Que constatez-vous ?\n"
      ],
      "metadata": {
        "id": "EMLRTa6v92qQ"
      },
      "execution_count": null,
      "outputs": []
    },
    {
      "cell_type": "markdown",
      "source": [
        "#### Exercice\n",
        "Ben a aussi des dépenses. Aidez bien à réaliser les exercices suivants avec son programme Python:\n",
        "*   Faire la somme de ses revenus définis dans l'exercice précédent\n",
        "*   Sauvegarder la somme de ses revenus dans une variable appropriée\n",
        "*   Trouver ses noms de variables pour ses dépenses\n",
        "*   Sauvegarder la somme de ses dépenses dans une variable appropriée\n",
        "*   Faire la différences entre la somme des revenus et la somme des dépenses\n",
        "*   Sauvegarder cette différence dans la variable `cash_flow`\n",
        "*   Imprimer la somme des revenus, la somme des dépenses et le cash-flow\n",
        "\n",
        "\n",
        "Voici les dépenses de Ben:\n",
        "*   Loyer (1200 euros)\n",
        "*   Investissement en bourse (400 euros)\n",
        "*   Investissement immobilier (2600 euros)\n",
        "*   Transport et voitures (900 euros)\n",
        "*   Scolarite des enfants (500 euros)\n",
        "*   Nourriture (600 euros)\n"
      ],
      "metadata": {
        "id": "ritgbEkdYSvm"
      }
    },
    {
      "cell_type": "markdown",
      "source": [
        "##### Proposition de solution"
      ],
      "metadata": {
        "id": "BZrgJ_K2ayUH"
      }
    },
    {
      "cell_type": "code",
      "source": [
        "# votre code solution ici\n",
        "# Revenus de Ben\n",
        "# Dépenses de Ben\n",
        "# Somme de ses dépenses\n",
        "# Calcul du cash flow\n",
        "# imprimer les résultats nécessaires\n"
      ],
      "metadata": {
        "id": "-cUQqJWMa2Ay"
      },
      "execution_count": null,
      "outputs": []
    },
    {
      "cell_type": "markdown",
      "source": [
        "### Les Opérateurs\n",
        "Notebook opérateurs:\n",
        "https://colab.research.google.com/drive/1ajrZfkap-L-ZnXBkfKyQmSdi5tgBHZ-Z#scrollTo=bh4I6d4Hlnwk\n"
      ],
      "metadata": {
        "id": "4zZXF8ZerSfq"
      }
    },
    {
      "cell_type": "markdown",
      "source": [
        "## 9. Types de données\n",
        "\n",
        "fonction type()\n"
      ],
      "metadata": {
        "id": "jiLgnMDXIeiX"
      }
    },
    {
      "cell_type": "markdown",
      "source": [
        "#### Types de données de base\n",
        "*   texte: string (str)\n",
        "*   entiers: integer (int)\n",
        "*   réels: flottants (float)\n",
        "*   booléens: True ou False (bool)\n"
      ],
      "metadata": {
        "id": "7b5NIQfd93eV"
      }
    },
    {
      "cell_type": "code",
      "source": [
        "# Veuillez exécuter le code\n",
        "# Que constatez-vous ?\n",
        "\n",
        "# print( type('Albert Kone') )\n",
        "# print( type(347) )\n",
        "# print( type(9454.78))\n",
        "# print( type(True))\n",
        "# print( type(False))\n"
      ],
      "metadata": {
        "id": "1GhQ9ql7A28d"
      },
      "execution_count": null,
      "outputs": []
    },
    {
      "cell_type": "markdown",
      "source": [
        "#### Exercice\n",
        "Définissez les variables suivantes et déterminez leur type avec la fonction `type()`:\n",
        "\n",
        "\n",
        "*   revenu_brut_exploitation = 34_567.67\n",
        "*   metier = 'peintre professionnel'\n",
        "*   estEndette = True\n",
        "*   possedeEpargne = False\n",
        "*   nombre_enfants = 2\n",
        "\n",
        "\n"
      ],
      "metadata": {
        "id": "xqmJM1gzeqIu"
      }
    },
    {
      "cell_type": "markdown",
      "source": [
        "##### Solution"
      ],
      "metadata": {
        "id": "L8vm82Yjfkj4"
      }
    },
    {
      "cell_type": "code",
      "source": [
        "# votre code solution ici\n",
        "# imprimez les types\n"
      ],
      "metadata": {
        "id": "Kq69UKQCfj9J"
      },
      "execution_count": null,
      "outputs": []
    },
    {
      "cell_type": "markdown",
      "source": [
        "#### Types de données composés\n",
        "*   liste: list()\n",
        "*   tuple: tuple()\n",
        "*   ensemble: set()\n",
        "*   dictionnaire: dict()\n",
        "*   fichier: file\n",
        "\n"
      ],
      "metadata": {
        "id": "BOYo5LES5mbC"
      }
    },
    {
      "cell_type": "markdown",
      "source": [
        "##### Liste\n"
      ],
      "metadata": {
        "id": "zqBZjMSD56S3"
      }
    },
    {
      "cell_type": "code",
      "source": [
        "# Definition d'une liste\n",
        "# corbeille_de_choses = ['mangue', 343, 456.89, 'casque', 89, 9000.01]\n",
        "# afficher la variable\n",
        "# afficher son type\n"
      ],
      "metadata": {
        "id": "fOw3jXsC5_dr"
      },
      "execution_count": null,
      "outputs": []
    },
    {
      "cell_type": "code",
      "source": [
        "# Accéder aux éléments aux indices 0, 2:4, -1, -2:,  et affichez-les\n"
      ],
      "metadata": {
        "id": "T4e6cEnc6VpO"
      },
      "execution_count": null,
      "outputs": []
    },
    {
      "cell_type": "markdown",
      "source": [
        "##### Tuple\n"
      ],
      "metadata": {
        "id": "IlRlB47d693U"
      }
    },
    {
      "cell_type": "code",
      "source": [
        "# Definition d'un tuple\n",
        "# corbeille_diversifiee = ('mangue', 343, 456.89, 'casque', 89, 9000.01)\n",
        "# afficher la variable\n",
        "# afficher son type\n"
      ],
      "metadata": {
        "id": "4JdiLy3C7D6G"
      },
      "execution_count": null,
      "outputs": []
    },
    {
      "cell_type": "code",
      "source": [
        "# Accéder aux éléments aux indices 0, 2:4, -1, -2:,  et affichez-les\n"
      ],
      "metadata": {
        "id": "61cWmz2Y7QO5"
      },
      "execution_count": null,
      "outputs": []
    },
    {
      "cell_type": "markdown",
      "source": [
        "##### Set\n"
      ],
      "metadata": {
        "id": "2cUaUjoj7fQ-"
      }
    },
    {
      "cell_type": "code",
      "source": [
        "# Definition d'un ensemble (set)\n",
        "# niveaux = {1, 2, 3, 4, 5}\n",
        "# afficher la variable\n",
        "# afficher son type\n"
      ],
      "metadata": {
        "id": "ZuWysQd_7kDF"
      },
      "execution_count": null,
      "outputs": []
    },
    {
      "cell_type": "code",
      "source": [
        "# Accéder aux éléments de l'ensemble aux indices 0, 2:4, -1, -2:,  et affichez-les\n"
      ],
      "metadata": {
        "id": "L8j9qgTz7wYK"
      },
      "execution_count": null,
      "outputs": []
    },
    {
      "cell_type": "markdown",
      "source": [
        "##### Dict\n"
      ],
      "metadata": {
        "id": "L3ILqdre71yu"
      }
    },
    {
      "cell_type": "code",
      "source": [
        "# Definition d'un dictionnaire (dict)\n",
        "# client = { 'nom': 'Louis Blanc', 'age':43, 'salaire':4432.50, 'epargne': 21563.43 }\n",
        "# afficher la variable\n",
        "# afficher son type\n"
      ],
      "metadata": {
        "id": "MOEWJOB274QT"
      },
      "execution_count": null,
      "outputs": []
    },
    {
      "cell_type": "code",
      "source": [
        "# client['nom']\n",
        "# client['epargne']\n"
      ],
      "metadata": {
        "id": "5ulKsvLA8UNc"
      },
      "execution_count": null,
      "outputs": []
    },
    {
      "cell_type": "markdown",
      "source": [
        "##### Fichier\n"
      ],
      "metadata": {
        "id": "4MvrO0JU8nDH"
      }
    },
    {
      "cell_type": "code",
      "source": [
        "#with open('cas_de_test.txt', 'w') as f:\n",
        "#    f.write('Etapes\\n')\n",
        "#    f.write('1. Ouvrir un fichier avec un éditeur de texte\\n')\n",
        "#    f.write('2. Ecrire 2 lignes de texte\\n')\n",
        "#    f.write('3. Sauvegarder le fichier sous un autre nom\\n')\n",
        "#    f.write('4. Vérifier le fichier sauvegardé\\n')\n"
      ],
      "metadata": {
        "id": "XFm3HIri8pnQ"
      },
      "execution_count": null,
      "outputs": []
    },
    {
      "cell_type": "markdown",
      "source": [
        "##### Chaînes de caractère:String\n"
      ],
      "metadata": {
        "id": "sp6vAR3A9Z9y"
      }
    },
    {
      "cell_type": "code",
      "source": [
        "salutation = \"Bonjour\"\n"
      ],
      "metadata": {
        "id": "g2eR8v4O9exd"
      },
      "execution_count": null,
      "outputs": []
    },
    {
      "cell_type": "code",
      "source": [
        "# Accéder aux éléments aux indices 0, 2:4, -1, -2:,  et affichez-les\n"
      ],
      "metadata": {
        "id": "0GtMkbAiqHdY"
      },
      "execution_count": null,
      "outputs": []
    },
    {
      "cell_type": "markdown",
      "source": [
        "#### Autres type de données\n",
        "*   bytes, bytearray, memoryview\n",
        "*   frozentset\n",
        "*   function, module, class\n",
        "*   etc.\n",
        "Voir documentation Python"
      ],
      "metadata": {
        "id": "V41qaZXq-imk"
      }
    },
    {
      "cell_type": "markdown",
      "source": [
        "### 10. Conversion des données de base\n",
        "Pourquoi? Il est parfois nécessaire dans un programme de convertir des données d'un type en un autre\n",
        "\n",
        "\n",
        "*   int(x)    -- convertit x en nombre entier\n",
        "*   float(x)  -- convertit x en nombre décimal\n",
        "*   str()     -- convertit x en chaîne de caractères\n",
        "*   eval(str) -- evalue la chaîne de caractères et renvoie un objet\n",
        "*   complex(reel [,imag])   -- crée un nombre complex\n",
        "\n"
      ],
      "metadata": {
        "id": "O35z1ujsy_xo"
      }
    },
    {
      "cell_type": "code",
      "source": [
        "# Executer le code ci-dessus\n",
        "\n",
        "# age = '23.56'\n",
        "# print( type(age))\n"
      ],
      "metadata": {
        "colab": {
          "base_uri": "https://localhost:8080/"
        },
        "id": "ympYljpLode1",
        "outputId": "c1fbde65-aaae-42a1-c903-7fcb6c46eb19"
      },
      "execution_count": null,
      "outputs": [
        {
          "output_type": "stream",
          "name": "stdout",
          "text": [
            "<class 'str'>\n"
          ]
        }
      ]
    },
    {
      "cell_type": "code",
      "source": [
        "# 12 + float(age)\n"
      ],
      "metadata": {
        "id": "7ezCU6XgDxmK"
      },
      "execution_count": null,
      "outputs": []
    },
    {
      "cell_type": "code",
      "source": [
        "# x = 12.34\n",
        "# y = int(x)\n",
        "\n",
        "# print(y)\n"
      ],
      "metadata": {
        "id": "se_wyJzBLqaS"
      },
      "execution_count": null,
      "outputs": []
    },
    {
      "cell_type": "code",
      "source": [
        "# u = 34\n",
        "# v = float(u)\n",
        "\n",
        "# print(v)\n"
      ],
      "metadata": {
        "id": "LhK7A8rKMNsY"
      },
      "execution_count": null,
      "outputs": []
    },
    {
      "cell_type": "markdown",
      "source": [
        "## 11. Saisir l'information\n",
        "Pourquoi saisir l'information?\n",
        "La fonction `input()`"
      ],
      "metadata": {
        "id": "Q4PpDu6hyFcD"
      }
    },
    {
      "cell_type": "code",
      "source": [
        "# salaire_mensuel = float(input('Quel est votre salaire?'))\n",
        "\n",
        "# salaire_mensuel = float(salaire_mensuel)\n",
        "\n",
        "# salaire_annuel = salaire_mensuel * 12\n",
        "\n",
        "# print(salaire_mensuel, salaire_annuel)\n"
      ],
      "metadata": {
        "id": "F6VONxRIvSWN"
      },
      "execution_count": null,
      "outputs": []
    },
    {
      "cell_type": "markdown",
      "source": [
        "## 12. Formatage des affichages\n",
        "Le formatage est utilisé pour rendre l'affichage attractif.\n",
        "\n",
        "\n",
        "*   Classique\n",
        "*   Formatage\n",
        "*   F-Strings\n",
        "\n"
      ],
      "metadata": {
        "id": "QJBzChMvgcwc"
      }
    },
    {
      "cell_type": "code",
      "source": [
        "produit = \"ordinateur_Asus\"\n",
        "prix = 1100\n"
      ],
      "metadata": {
        "id": "G7SpLveggjvB"
      },
      "execution_count": null,
      "outputs": []
    },
    {
      "cell_type": "code",
      "source": [
        "# print(\"L'\", produit, \"coûte\", prix, \"Euros\")\n"
      ],
      "metadata": {
        "id": "hMbCGYKBIk2x"
      },
      "execution_count": null,
      "outputs": []
    },
    {
      "cell_type": "code",
      "source": [
        "# print(f\" L'{produit} coûte {prix} Euros\")\n"
      ],
      "metadata": {
        "colab": {
          "base_uri": "https://localhost:8080/"
        },
        "id": "LbFtIFtA0WjX",
        "outputId": "626b8986-5d87-4511-a80b-fa7f6bf47cb0"
      },
      "execution_count": null,
      "outputs": [
        {
          "output_type": "stream",
          "name": "stdout",
          "text": [
            " L'ordinateur_Asus coûte 1100 Euros\n"
          ]
        }
      ]
    },
    {
      "cell_type": "code",
      "source": [
        "# print(\"L'{0} coûte {1} Euros\".format(produit, prix))\n"
      ],
      "metadata": {
        "colab": {
          "base_uri": "https://localhost:8080/"
        },
        "id": "YxY-m7zC1faa",
        "outputId": "6eb0d101-372a-4a63-bb15-72979291dee2"
      },
      "execution_count": null,
      "outputs": [
        {
          "output_type": "stream",
          "name": "stdout",
          "text": [
            "L'ordinateur_Asus coûte 1100 Euros\n"
          ]
        }
      ]
    },
    {
      "cell_type": "code",
      "source": [
        "# proprix = (\"ACER Ordi\", 3453)\n",
        "# print(\"L'{0} coûte {1} Euros\".format( *proprix ))\n"
      ],
      "metadata": {
        "id": "DOgoOaCGRN54"
      },
      "execution_count": null,
      "outputs": []
    },
    {
      "cell_type": "code",
      "source": [
        "# print(\"L'%s coûte %d Euros\"%(produit, prix))\n"
      ],
      "metadata": {
        "id": "h6609arqPu9q"
      },
      "execution_count": null,
      "outputs": []
    },
    {
      "cell_type": "code",
      "source": [
        "# print(\"L'{} coûte {} euros\".format(produit, prix))\n",
        "# print(f\"L'{produit} coûte {prix} euros\")\n",
        "# print(\"L'%s coûte %s euros\" % (produit, prix))"
      ],
      "metadata": {
        "id": "Fzr43fMkhBC3"
      },
      "execution_count": null,
      "outputs": []
    },
    {
      "cell_type": "markdown",
      "source": [
        "### Les symboles interprété par Python"
      ],
      "metadata": {
        "id": "8WWh5piXlEjy"
      }
    },
    {
      "cell_type": "markdown",
      "source": [
        "#### Symboles de formatage\n",
        "\n",
        "\n",
        "*   %c  -- caractère\n",
        "*   %s  -- chaîne de caractères\n",
        "*   %d  -- décimal\n"
      ],
      "metadata": {
        "id": "bY0dkuzulNnq"
      }
    },
    {
      "cell_type": "markdown",
      "source": [
        "#### Les symbole d'espaces\n",
        "\n",
        "*   \\n  -- retour à la ligne\n",
        "*   \\t  -- tabulation\n",
        "\n"
      ],
      "metadata": {
        "id": "JZH9hTdYmJEc"
      }
    },
    {
      "cell_type": "markdown",
      "source": [
        "#### Caractères à échapper avec un anti-slash \\\n",
        "\n",
        "*   \\\\\"   --> \"\n",
        "*   \\\\'   --> '\n"
      ],
      "metadata": {
        "id": "rtDH0W_kvf6F"
      }
    },
    {
      "cell_type": "markdown",
      "source": [
        "## 13. Mini-projet: Application récapitulative 1\n",
        "Traitons des informations relatives à la situation financière de la famille de M. Alex Cargot.\n",
        "Marié et père de 2 enfants: Claude (12 ans), Emma (8 ans).\n",
        "Il habite le quartier de Puteaux, à 20 Minutes à pieds de son lieu de travail à la Défense.\n",
        "Il travaille à HorizonsTech comme Data Analyste. Son épouse Elisa est agent administratif à la mairie de Puteaux.\n",
        "Pour analyser leur situation financière, nous avons besoin de sauvegarder leurs différents revenus et leurs différentes dépenses dans des variables de notre programme. Car par la suite, nous ferons des opérations avec ces valeurs, que nous assignerons à d'autres variables.\n"
      ],
      "metadata": {
        "id": "IieUAwaBKthP"
      }
    },
    {
      "cell_type": "markdown",
      "source": [
        "#### Revenus et Dépenses\n",
        "![Revenus_et_depenses.png](data:image/png;base64,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)"
      ],
      "metadata": {
        "id": "eCKqndZNNKfh"
      }
    },
    {
      "cell_type": "markdown",
      "source": [
        "#### Mission\n",
        "\n",
        "\n",
        "*   Veuillez créer une variable pour chaque revenu\n",
        "*   Veuillez créer une variable pour chaque dépense\n",
        "*   Veuiller créer une variable `total_revenus` à laquelle vous assignerez la somme des revenus\n",
        "*   Veuillz créer une variable `total_depenses` à laquelle vous assigneret la somme des dépenses\n",
        "*   Veuillez créer une variable `cash_flow` à laquelle vous assignerez la différence entre le total des revenus et le total des dépenses\n",
        "*   Affichez les variables `total_revenus`, `total_depenses`, `cash_flow`\n"
      ],
      "metadata": {
        "id": "EuqxN0l1Nx0U"
      }
    },
    {
      "cell_type": "markdown",
      "source": [
        "##### Solution"
      ],
      "metadata": {
        "id": "isxY6YNQNtKy"
      }
    },
    {
      "cell_type": "code",
      "source": [
        "# Coder votre code solution ici\n"
      ],
      "metadata": {
        "id": "MswDaFPiKMu0"
      },
      "execution_count": null,
      "outputs": []
    },
    {
      "cell_type": "markdown",
      "source": [
        "## 14. Prendre des décisions\n",
        "```\n",
        "if condition1:\n",
        "   instructions1\n",
        "elif condition2:\n",
        "    instructions2\n",
        "else:\n",
        "   instructions3\n",
        "```\n",
        "\n"
      ],
      "metadata": {
        "id": "bmEd5vNThm6g"
      }
    },
    {
      "cell_type": "markdown",
      "source": [
        "#### Instruction de décision"
      ],
      "metadata": {
        "id": "3KO_0M3qitAi"
      }
    },
    {
      "cell_type": "code",
      "source": [
        "#cash_flow = 500.08798798\n",
        "\n",
        "#if cash_flow <= 0:\n",
        "#    print(\"Vous vivez sur le fil, réduisez votre train de vie\")\n",
        "\n",
        "#elif cash_flow > 500:\n",
        "#    print(f\"vous pouvez épargner 30% de votre cash flow, soit {cash_flow * 0.3:.2f}\")\n",
        "\n",
        "#elif cash_flow > 200:\n",
        "#    print(f\"vous pouvez épargner 20% de votre cash flow, soit {cash_flow * 0.2:.2f}\")\n",
        "#else:\n",
        "#    print(\"Vous vivez avec vos moyens. C'est bien, pensez à épargner chaque mois\")\n"
      ],
      "metadata": {
        "id": "zriaRLEtiyQ5"
      },
      "execution_count": null,
      "outputs": []
    },
    {
      "cell_type": "markdown",
      "source": [
        "#### L'indentation\n",
        "Permet de groupe des blocs d'instructions"
      ],
      "metadata": {
        "id": "Vqve1MTbiTJp"
      }
    },
    {
      "cell_type": "markdown",
      "source": [
        "Les erreurs communes à l'indentation"
      ],
      "metadata": {
        "id": "Ke3MnKLLj6_P"
      }
    },
    {
      "cell_type": "markdown",
      "source": [
        "#### Erreurs communes avec l'instruction if..elif..else.."
      ],
      "metadata": {
        "id": "5JTlSRoViNfq"
      }
    },
    {
      "cell_type": "markdown",
      "source": [
        "#### Exercice\n",
        "Veuillez vérifier si le loyer ne dépasse pas les 30% des salaires.\n",
        "Renvoyer une réponse compréhensible selon le résultat:\n",
        "\n",
        "\n",
        "*   Si le montant du loyer est inférieur ou égal à 30% des salaires, loyer dans les normes\n",
        "*   Si le montant du loyer est supérieur à 30% des salaires trop élevé\n",
        "*   Si le montant du loyer est inférieur à 20% des salaires. Bon loyer\n",
        "\n"
      ],
      "metadata": {
        "id": "k0uDtHtckPuq"
      }
    },
    {
      "cell_type": "markdown",
      "source": [
        "##### Solution"
      ],
      "metadata": {
        "id": "Nf23mHbpmDAX"
      }
    },
    {
      "cell_type": "code",
      "source": [
        "# Votre code solution ici\n"
      ],
      "metadata": {
        "id": "eLYGMK6jkIqw"
      },
      "execution_count": null,
      "outputs": []
    },
    {
      "cell_type": "markdown",
      "source": [
        "## 15. Répéter des tâches avec des boucles\n"
      ],
      "metadata": {
        "id": "pHjfOqnt_yE2"
      }
    },
    {
      "cell_type": "markdown",
      "source": [
        "### Boucle for"
      ],
      "metadata": {
        "id": "GjXnoqzzAlbj"
      }
    },
    {
      "cell_type": "code",
      "source": [
        "#VILLES = ['Paris', 'Munich', 'New york', 'Casablanca', 'New Dehli']\n",
        "#for ville in VILLES:\n",
        "#    print(ville)\n"
      ],
      "metadata": {
        "id": "n9f7E0wLAn5M"
      },
      "execution_count": null,
      "outputs": []
    },
    {
      "cell_type": "markdown",
      "source": [
        "### fonction range()"
      ],
      "metadata": {
        "id": "CC7wrr2AA79H"
      }
    },
    {
      "cell_type": "code",
      "source": [
        "# help(range)"
      ],
      "metadata": {
        "id": "x2SYOOtzA_vh"
      },
      "execution_count": null,
      "outputs": []
    },
    {
      "cell_type": "code",
      "source": [
        "#for compteur in range(10):\n",
        "#    print(compteur)\n",
        "#"
      ],
      "metadata": {
        "id": "rWM1wj6kBFt-"
      },
      "execution_count": null,
      "outputs": []
    },
    {
      "cell_type": "code",
      "source": [
        "#for compteur in range(2,10):\n",
        "#    print(compteur)\n",
        "#"
      ],
      "metadata": {
        "id": "CyUq2mxMDJtJ"
      },
      "execution_count": null,
      "outputs": []
    },
    {
      "cell_type": "code",
      "source": [
        "#for compteur in range(2,10,3):\n",
        "#    print(compteur)\n",
        "#"
      ],
      "metadata": {
        "id": "ocfiyJtPDMHT"
      },
      "execution_count": null,
      "outputs": []
    },
    {
      "cell_type": "markdown",
      "source": [
        "#### Exercice\n",
        "1.   Créez un intervalle (range) de 100 à 160 avec des pas de 10.\n",
        "2.   Imprimez-la ensuite sous forme de liste."
      ],
      "metadata": {
        "id": "USp-WAU2BRJq"
      }
    },
    {
      "cell_type": "code",
      "source": [
        "# Editer votre solution ici\n"
      ],
      "metadata": {
        "id": "iSkZMLTnByWN"
      },
      "execution_count": null,
      "outputs": []
    },
    {
      "cell_type": "markdown",
      "source": [
        "### Boucle while\n"
      ],
      "metadata": {
        "id": "W0Faq5QPB7bV"
      }
    },
    {
      "cell_type": "code",
      "source": [
        "#nb_tests = 20\n",
        "#while nb_tests > 0:\n",
        "#    print('il reste', nb_tests)\n",
        "#    nb_tests -=1\n",
        "\n",
        "#print(\"Tous les tests exécutés\")\n"
      ],
      "metadata": {
        "id": "GMfvbUMkC_QO"
      },
      "execution_count": null,
      "outputs": []
    },
    {
      "cell_type": "markdown",
      "source": [
        "### Contrôle des boucles\n",
        " break, continue, pass\n"
      ],
      "metadata": {
        "id": "bEPW9pFeCCSY"
      }
    },
    {
      "cell_type": "markdown",
      "source": [
        "#### Exercice\n",
        "\n",
        "\n",
        "1.   Faites des recherches sur l'utilisation de `break`, et produisez un exemple\n",
        "2.   Faites des recherches sur l'utilisation de `continue`, et produisez un exemple\n",
        "3.   Faites des recherches sur l'utilisation de `pass`, et produisez un exemple\n",
        "\n"
      ],
      "metadata": {
        "id": "5mtmpeORCOaq"
      }
    },
    {
      "cell_type": "code",
      "source": [
        "# Editez votre solution ici\n"
      ],
      "metadata": {
        "id": "5uHxQxz7Cdo6"
      },
      "execution_count": null,
      "outputs": []
    },
    {
      "cell_type": "markdown",
      "source": [
        "### Boucles infinies"
      ],
      "metadata": {
        "id": "H2R6wcD0Dc-t"
      }
    },
    {
      "cell_type": "code",
      "source": [
        "#nb_tests = 20\n",
        "#while nb_tests > 0:\n",
        "#    print('il reste toujours des tests')\n",
        "#print(\"on n'arrivera jamais ici\")\n"
      ],
      "metadata": {
        "id": "EoAIo74vDg1W"
      },
      "execution_count": null,
      "outputs": []
    },
    {
      "cell_type": "markdown",
      "source": [
        "## 16. Types de données approfondies  \n",
        "\n",
        "\n",
        "\n",
        "\n"
      ],
      "metadata": {
        "id": "cHpeXme3EgTG"
      }
    },
    {
      "cell_type": "markdown",
      "source": [
        "#### Etudier les fonctionnalités des listes"
      ],
      "metadata": {
        "id": "N_azm_5oFOXy"
      }
    },
    {
      "cell_type": "markdown",
      "source": [
        "#### Etudier les fonctionnalités des tuples"
      ],
      "metadata": {
        "id": "L_bcO1mtFSsj"
      }
    },
    {
      "cell_type": "markdown",
      "source": [
        "#### Etudier les fonctionnalités des set"
      ],
      "metadata": {
        "id": "gqGWB25dFUld"
      }
    },
    {
      "cell_type": "markdown",
      "source": [
        "#### Etudier les fonctionnalités des dict"
      ],
      "metadata": {
        "id": "uCz57cI1FWXj"
      }
    },
    {
      "cell_type": "markdown",
      "source": [
        "#### Etudier les fonctionnalités des dictionnaires"
      ],
      "metadata": {
        "id": "Lfyg6a1_FYnl"
      }
    },
    {
      "cell_type": "markdown",
      "source": [
        "#### Etudier les fonctionnalités des fichiers"
      ],
      "metadata": {
        "id": "6FisrGreFazF"
      }
    },
    {
      "cell_type": "markdown",
      "source": [
        "## 17. Fonctions (Organiser son code)\n",
        "Les fonctions permettent de réutiliser des fonctionnalités du code\n",
        "\n",
        "\n",
        "```\n",
        "def nom_fonction(argument1, argument2=valeur):\n",
        "   instructions\n",
        "   return resultat  # optionnel\n",
        "```\n",
        "\n"
      ],
      "metadata": {
        "id": "b-tf1G5pPFrJ"
      }
    },
    {
      "cell_type": "code",
      "source": [
        "# Calculer le salaire annuel\n",
        "#def calcul_salaire_annuel(salaire_mensuel, bonus=0):\n",
        "#    salaire_annuel = salaire_mensuel * 12 + bonus\n",
        "#    return salaire_annuel\n"
      ],
      "metadata": {
        "id": "V_jh6KKAPHFQ"
      },
      "execution_count": null,
      "outputs": []
    },
    {
      "cell_type": "code",
      "source": [
        "#salaire_mensuel_James = 2762.45\n",
        "#salaire_annuel_James = calcul_salaire_annuel(salaire_mensuel_James, 100)\n",
        "#print(f\"Salaire annuel de James: {salaire_annuel_James:.2f} euros\")\n"
      ],
      "metadata": {
        "id": "zxMpuJ7wnNvD"
      },
      "execution_count": null,
      "outputs": []
    },
    {
      "cell_type": "code",
      "source": [
        "#print( calcul_salaire_annuel(6555, 1500) )\n"
      ],
      "metadata": {
        "id": "ggyGjWGEBQly"
      },
      "execution_count": null,
      "outputs": []
    },
    {
      "cell_type": "markdown",
      "source": [
        "#### Exercice\n",
        "1. Ecrivez une fonction qui calcule le cash_flow de la famille Cargot à partir du total des revenus et du total des dépenses. La fonction contient un renvoi (return) de la valeur du cash_flow calculé\n",
        "2. Vérifiez que vous obtenez le même résultat que dans le mini-projet"
      ],
      "metadata": {
        "id": "3GVhP4_iBkSc"
      }
    },
    {
      "cell_type": "markdown",
      "source": [
        "#### Exercice 2: Calcul du ratio d'endettement\n",
        "1. Ecrivez une fonction qui calcule le ratio d'endettement de la famille Cargot à partir de leurs revenus mensuels et leurs remboursements de crédits mensuel. Formule du ratio:\n",
        "**Ratio_endettement = Remboursements_dette x 100 / Revenus**\n",
        "2. Comme résultat envoyer:\n",
        "Vérifiez que vous obtenez le même résultat que dans\n",
        "\n",
        "*   0< taux_endettement <= 30%, endettement normal\n",
        "*   30 < taux_endettement <= 40%, très endetté\n",
        "*   taux_endettement > 40%, en faillite\n"
      ],
      "metadata": {
        "id": "fNEidXfrJ5AU"
      }
    },
    {
      "cell_type": "code",
      "source": [
        "# Votre code solution ici\n"
      ],
      "metadata": {
        "id": "ztZgIMD54d7P"
      },
      "execution_count": null,
      "outputs": []
    },
    {
      "cell_type": "markdown",
      "source": [
        "## 18. Modules\n",
        "\n",
        "*   Module math\n",
        "*   Module random\n",
        "*   Module pandas\n"
      ],
      "metadata": {
        "id": "awOS31w5PJXl"
      }
    },
    {
      "cell_type": "markdown",
      "source": [
        "### Module `math`"
      ],
      "metadata": {
        "id": "yQ25n1XVB1c7"
      }
    },
    {
      "cell_type": "code",
      "source": [
        "# Importer le module pour l'utiliser\n",
        "import math\n"
      ],
      "metadata": {
        "id": "aIEUG38ePKtJ"
      },
      "execution_count": null,
      "outputs": []
    },
    {
      "cell_type": "code",
      "source": [
        "# Voir les fonctionnalités d'un module\n",
        "print( dir(math))"
      ],
      "metadata": {
        "id": "CZMuMuNiutCL",
        "colab": {
          "base_uri": "https://localhost:8080/"
        },
        "outputId": "014a62de-9be6-4b61-a05c-7ce6922ee67c"
      },
      "execution_count": null,
      "outputs": [
        {
          "output_type": "stream",
          "name": "stdout",
          "text": [
            "['__doc__', '__loader__', '__name__', '__package__', '__spec__', 'acos', 'acosh', 'asin', 'asinh', 'atan', 'atan2', 'atanh', 'ceil', 'comb', 'copysign', 'cos', 'cosh', 'degrees', 'dist', 'e', 'erf', 'erfc', 'exp', 'expm1', 'fabs', 'factorial', 'floor', 'fmod', 'frexp', 'fsum', 'gamma', 'gcd', 'hypot', 'inf', 'isclose', 'isfinite', 'isinf', 'isnan', 'isqrt', 'lcm', 'ldexp', 'lgamma', 'log', 'log10', 'log1p', 'log2', 'modf', 'nan', 'nextafter', 'perm', 'pi', 'pow', 'prod', 'radians', 'remainder', 'sin', 'sinh', 'sqrt', 'tan', 'tanh', 'tau', 'trunc', 'ulp']\n"
          ]
        }
      ]
    },
    {
      "cell_type": "code",
      "source": [
        "# Type et aide sur une fonction\n",
        "# type(math.sqrt)\n",
        "# type(math.pi)\n"
      ],
      "metadata": {
        "id": "iOEtcyl8wTgQ"
      },
      "execution_count": null,
      "outputs": []
    },
    {
      "cell_type": "code",
      "source": [
        "# help(math.sqrt)"
      ],
      "metadata": {
        "id": "wXh0PCXnB-y-"
      },
      "execution_count": null,
      "outputs": []
    },
    {
      "cell_type": "code",
      "source": [
        "# Utiliser des fonctions ou propriétés d'un module\n",
        "#nombre = 225\n",
        "#racine_carree_nombre = math.sqrt(nombre)\n",
        "#print(racine_carree_nombre)\n"
      ],
      "metadata": {
        "id": "Qw_Pk-NdwzI8"
      },
      "execution_count": null,
      "outputs": []
    },
    {
      "cell_type": "markdown",
      "source": [
        "#### Exercice\n",
        "Ecrire une fonction pour calculer la surface d'un cercle de rayon R = 35 cm\n",
        "Formule: `2*pi*R*R`\n",
        "*   Définissez une variable `rayon_cm`\n",
        "*   Sauvegarder la surface dans la variable `aire_cercle_cm2`\n",
        "*   Afficher le périmètre par une phrase agréable à l'utilisateur, du genre, \"La surface du cercle est 455 cm2\""
      ],
      "metadata": {
        "id": "5eZxFFamxbcC"
      }
    },
    {
      "cell_type": "markdown",
      "source": [
        "##### Solution"
      ],
      "metadata": {
        "id": "MSsW8xaLywVQ"
      }
    },
    {
      "cell_type": "code",
      "source": [
        "# votre code solution ici\n"
      ],
      "metadata": {
        "id": "o1a8HsKfy4Ja"
      },
      "execution_count": null,
      "outputs": []
    },
    {
      "cell_type": "markdown",
      "source": [
        "### Module `random`\n"
      ],
      "metadata": {
        "id": "XXuIdzl-CPX9"
      }
    },
    {
      "cell_type": "markdown",
      "source": [
        "#### Notebook pour étude du module random\n",
        "\n",
        "Veuillez accéder à ce notebook:\n",
        "https://colab.research.google.com/drive/1dsPzzGZGy3ghquXINoCOda8tnf1CsEWP?usp=sharing"
      ],
      "metadata": {
        "id": "v2NZ8jKWChNA"
      }
    },
    {
      "cell_type": "markdown",
      "source": [
        "#### Générer des données aléatoires avec le module random\n"
      ],
      "metadata": {
        "id": "bzNmRCq3xYeu"
      }
    },
    {
      "cell_type": "code",
      "source": [
        "import random as rd\n",
        "dir(rd);"
      ],
      "metadata": {
        "id": "NVTcFdka0pGy"
      },
      "execution_count": null,
      "outputs": []
    },
    {
      "cell_type": "markdown",
      "source": [
        "Générer des valeurs entières pour les revenus (en EURO)"
      ],
      "metadata": {
        "id": "9H0oYYLkgFdf"
      }
    },
    {
      "cell_type": "code",
      "source": [
        "#salaires = rd.randint(900, 7000)\n",
        "#revenus_immo =  rd.randint(0, 600)\n",
        "#revenus_bourse =  rd.randint(0, 300)\n",
        "#revenus_dividendes =  rd.randint(0, 300)\n",
        "#revenus_epargne =  rd.randint(0, 1000)\n"
      ],
      "metadata": {
        "id": "sGewL1broacV"
      },
      "execution_count": null,
      "outputs": []
    },
    {
      "cell_type": "markdown",
      "source": [
        "Générer des valeurs entières pour les dépenses (en EURO)"
      ],
      "metadata": {
        "id": "mNJg-9jJgKRU"
      }
    },
    {
      "cell_type": "code",
      "source": [
        "#logement =  rd.randint(500, 2000)\n",
        "#nourriture =  rd.randint(200, 700)\n",
        "#transport =  rd.randint(40, 200)\n",
        "#voitures =  rd.randint(0, 700)\n",
        "#sante =  rd.randint(1200, 7000)\n",
        "#energie =  rd.randint(200, 600)\n",
        "#assurance =  rd.randint(100, 700)\n",
        "#remboursement_credits =  rd.randint(0, 2500)\n",
        "#loisirs =  rd.randint(10, 700)\n"
      ],
      "metadata": {
        "id": "uxM_zS-wgNTf"
      },
      "execution_count": null,
      "outputs": []
    },
    {
      "cell_type": "markdown",
      "source": [
        "### Autres représentations des données\n",
        "Listes et Dictionnaires\n"
      ],
      "metadata": {
        "id": "Qa8fdr0h-2vA"
      }
    },
    {
      "cell_type": "markdown",
      "source": [
        "#### Représenter des données en Listes\n",
        "Ensemble ordonné d'éléments de tout type.\n",
        "Des données entre des crochets séparés par une virgule"
      ],
      "metadata": {
        "id": "Ferzx82s_Aiv"
      }
    },
    {
      "cell_type": "code",
      "source": [
        "# Définir une liste contenant les revenus\n",
        "#revenus_lst = [salaires, revenus_immo, revenus_bourse, revenus_dividendes]\n",
        "\n",
        "#print(revenus_lst)\n"
      ],
      "metadata": {
        "id": "vXX1OsUO_DvX"
      },
      "execution_count": null,
      "outputs": []
    },
    {
      "cell_type": "code",
      "source": [
        "# Accéder à un élément de la liste par l'indice\n",
        "#print(revenus_lst[2])\n"
      ],
      "metadata": {
        "id": "Tfq0qrsF_cXK"
      },
      "execution_count": null,
      "outputs": []
    },
    {
      "cell_type": "code",
      "source": [
        "# Rajouter un élément à la fin\n",
        "#revenus_lst.append(revenus_epargne)\n",
        "#print(revenus_lst)\n"
      ],
      "metadata": {
        "id": "9wuBYnbA_po8"
      },
      "execution_count": null,
      "outputs": []
    },
    {
      "cell_type": "code",
      "source": [
        "# Somme des revenus\n",
        "#revenus_total_lst = sum(revenus_lst)\n",
        "#print(revenus_total_lst)\n"
      ],
      "metadata": {
        "id": "b8Yfy2Y1DJ9I"
      },
      "execution_count": null,
      "outputs": []
    },
    {
      "cell_type": "markdown",
      "source": [
        "#### Représenter les données en Dictionnaires\n",
        "Ensemble non ordonnée de couple (clé, valeur)"
      ],
      "metadata": {
        "id": "f_fcD8s5_yvw"
      }
    },
    {
      "cell_type": "markdown",
      "source": [
        "Générer des valeurs entières pour les revenus (en EURO), et sauvegardez-les dans un dictionnaire"
      ],
      "metadata": {
        "id": "mMevNWTN0kCG"
      }
    },
    {
      "cell_type": "code",
      "source": [
        "# Code ici\n"
      ],
      "metadata": {
        "id": "1Leir0ng_3rU"
      },
      "execution_count": null,
      "outputs": []
    },
    {
      "cell_type": "markdown",
      "source": [
        "Générer des valeurs entières pour les dépenses (en EURO), et sauvegardez-les dans un dictionnaire"
      ],
      "metadata": {
        "id": "5eLPowjX0vtE"
      }
    },
    {
      "cell_type": "code",
      "source": [
        "# Code ici\n"
      ],
      "metadata": {
        "id": "avXPQ-XRZMoS"
      },
      "execution_count": null,
      "outputs": []
    },
    {
      "cell_type": "markdown",
      "source": [
        "#### Calculer le cash_flow à partir des dictionnaires de revenus et de dépenses"
      ],
      "metadata": {
        "id": "-RnvXl0T02cr"
      }
    },
    {
      "cell_type": "code",
      "source": [
        "#total_revenus =  # somme des revenus\n",
        "#total_depenses = # somme des dépenses\n",
        "#cash_flow = total_revenus - total_depenses\n"
      ],
      "metadata": {
        "id": "3zr3pO9YBn1c"
      },
      "execution_count": null,
      "outputs": []
    },
    {
      "cell_type": "markdown",
      "source": [
        "#### Rajouter des revenus et des dépenses, et recalculer le cas_flow"
      ],
      "metadata": {
        "id": "7mgWC5Fr1S9R"
      }
    },
    {
      "cell_type": "code",
      "source": [
        "# Code ici\n"
      ],
      "metadata": {
        "id": "EKTq1pAcBLiq"
      },
      "execution_count": null,
      "outputs": []
    },
    {
      "cell_type": "markdown",
      "source": [
        "## 19. Module Pandas\n",
        "Documentation : https://pandas.pydata.org/docs/\n"
      ],
      "metadata": {
        "id": "Mi5utoRqPY-M"
      }
    },
    {
      "cell_type": "code",
      "source": [
        "import pandas as pd"
      ],
      "metadata": {
        "id": "hGN-AgoiD0Gf"
      },
      "execution_count": null,
      "outputs": []
    },
    {
      "cell_type": "code",
      "source": [
        "# Données à visualiser\n",
        "revenus_total_lst = [1234, 334, 5566]\n",
        "depenses_total_lst = [345, 445, 33]\n",
        "\n",
        "data_janv_2023 = {\n",
        "    'revenus': revenus_total_lst,\n",
        "    'depenses': depenses_total_lst\n",
        "}\n",
        "\n",
        "data_janv_2023\n"
      ],
      "metadata": {
        "id": "ilnrHKdqD4Ug",
        "colab": {
          "base_uri": "https://localhost:8080/"
        },
        "outputId": "37044dc0-0a28-4f38-d102-28440ea53875"
      },
      "execution_count": null,
      "outputs": [
        {
          "output_type": "execute_result",
          "data": {
            "text/plain": [
              "{'revenus': [1234, 334, 5566], 'depenses': [345, 445, 33]}"
            ]
          },
          "metadata": {},
          "execution_count": 27
        }
      ]
    },
    {
      "cell_type": "code",
      "source": [
        "# Créer le dataframe à partir du dictionnaire\n",
        "pd.DataFrame.from_dict(data_janv_2023)\n"
      ],
      "metadata": {
        "id": "bhv5uinWE6jb",
        "colab": {
          "base_uri": "https://localhost:8080/",
          "height": 143
        },
        "outputId": "0b838dd4-888d-42c1-9bf6-cfbe8b92db1c"
      },
      "execution_count": null,
      "outputs": [
        {
          "output_type": "execute_result",
          "data": {
            "text/plain": [
              "   revenus  depenses\n",
              "0     1234       345\n",
              "1      334       445\n",
              "2     5566        33"
            ],
            "text/html": [
              "\n",
              "  <div id=\"df-5d89b683-722f-486e-b967-b3711f514a6e\">\n",
              "    <div class=\"colab-df-container\">\n",
              "      <div>\n",
              "<style scoped>\n",
              "    .dataframe tbody tr th:only-of-type {\n",
              "        vertical-align: middle;\n",
              "    }\n",
              "\n",
              "    .dataframe tbody tr th {\n",
              "        vertical-align: top;\n",
              "    }\n",
              "\n",
              "    .dataframe thead th {\n",
              "        text-align: right;\n",
              "    }\n",
              "</style>\n",
              "<table border=\"1\" class=\"dataframe\">\n",
              "  <thead>\n",
              "    <tr style=\"text-align: right;\">\n",
              "      <th></th>\n",
              "      <th>revenus</th>\n",
              "      <th>depenses</th>\n",
              "    </tr>\n",
              "  </thead>\n",
              "  <tbody>\n",
              "    <tr>\n",
              "      <th>0</th>\n",
              "      <td>1234</td>\n",
              "      <td>345</td>\n",
              "    </tr>\n",
              "    <tr>\n",
              "      <th>1</th>\n",
              "      <td>334</td>\n",
              "      <td>445</td>\n",
              "    </tr>\n",
              "    <tr>\n",
              "      <th>2</th>\n",
              "      <td>5566</td>\n",
              "      <td>33</td>\n",
              "    </tr>\n",
              "  </tbody>\n",
              "</table>\n",
              "</div>\n",
              "      <button class=\"colab-df-convert\" onclick=\"convertToInteractive('df-5d89b683-722f-486e-b967-b3711f514a6e')\"\n",
              "              title=\"Convert this dataframe to an interactive table.\"\n",
              "              style=\"display:none;\">\n",
              "        \n",
              "  <svg xmlns=\"http://www.w3.org/2000/svg\" height=\"24px\"viewBox=\"0 0 24 24\"\n",
              "       width=\"24px\">\n",
              "    <path d=\"M0 0h24v24H0V0z\" fill=\"none\"/>\n",
              "    <path d=\"M18.56 5.44l.94 2.06.94-2.06 2.06-.94-2.06-.94-.94-2.06-.94 2.06-2.06.94zm-11 1L8.5 8.5l.94-2.06 2.06-.94-2.06-.94L8.5 2.5l-.94 2.06-2.06.94zm10 10l.94 2.06.94-2.06 2.06-.94-2.06-.94-.94-2.06-.94 2.06-2.06.94z\"/><path d=\"M17.41 7.96l-1.37-1.37c-.4-.4-.92-.59-1.43-.59-.52 0-1.04.2-1.43.59L10.3 9.45l-7.72 7.72c-.78.78-.78 2.05 0 2.83L4 21.41c.39.39.9.59 1.41.59.51 0 1.02-.2 1.41-.59l7.78-7.78 2.81-2.81c.8-.78.8-2.07 0-2.86zM5.41 20L4 18.59l7.72-7.72 1.47 1.35L5.41 20z\"/>\n",
              "  </svg>\n",
              "      </button>\n",
              "      \n",
              "  <style>\n",
              "    .colab-df-container {\n",
              "      display:flex;\n",
              "      flex-wrap:wrap;\n",
              "      gap: 12px;\n",
              "    }\n",
              "\n",
              "    .colab-df-convert {\n",
              "      background-color: #E8F0FE;\n",
              "      border: none;\n",
              "      border-radius: 50%;\n",
              "      cursor: pointer;\n",
              "      display: none;\n",
              "      fill: #1967D2;\n",
              "      height: 32px;\n",
              "      padding: 0 0 0 0;\n",
              "      width: 32px;\n",
              "    }\n",
              "\n",
              "    .colab-df-convert:hover {\n",
              "      background-color: #E2EBFA;\n",
              "      box-shadow: 0px 1px 2px rgba(60, 64, 67, 0.3), 0px 1px 3px 1px rgba(60, 64, 67, 0.15);\n",
              "      fill: #174EA6;\n",
              "    }\n",
              "\n",
              "    [theme=dark] .colab-df-convert {\n",
              "      background-color: #3B4455;\n",
              "      fill: #D2E3FC;\n",
              "    }\n",
              "\n",
              "    [theme=dark] .colab-df-convert:hover {\n",
              "      background-color: #434B5C;\n",
              "      box-shadow: 0px 1px 3px 1px rgba(0, 0, 0, 0.15);\n",
              "      filter: drop-shadow(0px 1px 2px rgba(0, 0, 0, 0.3));\n",
              "      fill: #FFFFFF;\n",
              "    }\n",
              "  </style>\n",
              "\n",
              "      <script>\n",
              "        const buttonEl =\n",
              "          document.querySelector('#df-5d89b683-722f-486e-b967-b3711f514a6e button.colab-df-convert');\n",
              "        buttonEl.style.display =\n",
              "          google.colab.kernel.accessAllowed ? 'block' : 'none';\n",
              "\n",
              "        async function convertToInteractive(key) {\n",
              "          const element = document.querySelector('#df-5d89b683-722f-486e-b967-b3711f514a6e');\n",
              "          const dataTable =\n",
              "            await google.colab.kernel.invokeFunction('convertToInteractive',\n",
              "                                                     [key], {});\n",
              "          if (!dataTable) return;\n",
              "\n",
              "          const docLinkHtml = 'Like what you see? Visit the ' +\n",
              "            '<a target=\"_blank\" href=https://colab.research.google.com/notebooks/data_table.ipynb>data table notebook</a>'\n",
              "            + ' to learn more about interactive tables.';\n",
              "          element.innerHTML = '';\n",
              "          dataTable['output_type'] = 'display_data';\n",
              "          await google.colab.output.renderOutput(dataTable, element);\n",
              "          const docLink = document.createElement('div');\n",
              "          docLink.innerHTML = docLinkHtml;\n",
              "          element.appendChild(docLink);\n",
              "        }\n",
              "      </script>\n",
              "    </div>\n",
              "  </div>\n",
              "  "
            ]
          },
          "metadata": {},
          "execution_count": 28
        }
      ]
    },
    {
      "cell_type": "markdown",
      "source": [
        "## 20. Visualiser"
      ],
      "metadata": {
        "id": "8GVzUjNoGhn4"
      }
    },
    {
      "cell_type": "code",
      "source": [
        "#data_2022 = {'Janv': [2345, 2500],\n",
        "#             'Fev': [1723, 2420],\n",
        "#             'Mars': [4890, 2835],\n",
        "#             'Avril': [784, 1977],\n",
        "#             'Mai': [5436, 3121],\n",
        "#             'Juin': [5400, 2978]\n",
        "#             }\n",
        "\n",
        "#df_2022 = pd.DataFrame.from_dict(data_2022, orient='index', columns=['Revenus', 'Depenses'])\n",
        "#df_2022\n"
      ],
      "metadata": {
        "id": "Ga8XRGLcF7rz"
      },
      "execution_count": null,
      "outputs": []
    },
    {
      "cell_type": "code",
      "source": [
        "# Rajouter la colonne Cash Flow\n",
        "#df_2022['Cash_flow'] = df_2022['Revenus'] - df_2022['Depenses']\n",
        "#df_2022\n"
      ],
      "metadata": {
        "id": "myBROjzVJ_kV"
      },
      "execution_count": null,
      "outputs": []
    },
    {
      "cell_type": "code",
      "source": [
        "# df_2022.plot(kind='bar', y=['Revenus', 'Depenses', 'Cash_flow'], rot=30, stacked=True, figsize=(10, 6), fontsize='large')\n"
      ],
      "metadata": {
        "id": "Wp4JcT0BJEsp"
      },
      "execution_count": null,
      "outputs": []
    },
    {
      "cell_type": "code",
      "source": [
        "# Evolution des revenus\n",
        "# df_2022[['Revenus', 'Depenses']].plot(kind='line', figsize=(10, 6))\n"
      ],
      "metadata": {
        "id": "AKtR1ptNODeg"
      },
      "execution_count": null,
      "outputs": []
    },
    {
      "cell_type": "markdown",
      "source": [
        "#### Fichiers CSV"
      ],
      "metadata": {
        "id": "RqGYThcDPWPT"
      }
    },
    {
      "cell_type": "code",
      "source": [
        "# Lire le fichier de donnees csv avec pandas\n",
        "# df_franck_2022 = pd.read_csv('donnees_2022_franck.csv')\n",
        "\n",
        "# df_franck_2022\n"
      ],
      "metadata": {
        "id": "YuZPBNLEPXme"
      },
      "execution_count": null,
      "outputs": []
    },
    {
      "cell_type": "markdown",
      "source": [
        "#### Exercice\n",
        "Faire un diagramme en bâtons montrant l'évolution des revenus, dépenses et cash_flow de Franck par mois"
      ],
      "metadata": {
        "id": "xgYrjX6NUKIY"
      }
    },
    {
      "cell_type": "markdown",
      "source": [
        "#### Solution"
      ],
      "metadata": {
        "id": "5JUtFYd8UaWR"
      }
    },
    {
      "cell_type": "code",
      "source": [
        "# Votre code solution ici\n"
      ],
      "metadata": {
        "id": "8cg5KHp0Pcwu"
      },
      "execution_count": null,
      "outputs": []
    },
    {
      "cell_type": "markdown",
      "source": [
        "## 21. Prochaines Étapes\n",
        "\n",
        "\n",
        "\n",
        "*   Programmation orientée objet avec Python\n",
        "*   Concepts avancés avec Python\n",
        "\n"
      ],
      "metadata": {
        "id": "GiOqBftQvTNO"
      }
    },
    {
      "cell_type": "code",
      "source": [],
      "metadata": {
        "id": "8yYeTjQQvdpQ"
      },
      "execution_count": null,
      "outputs": []
    }
  ]
}