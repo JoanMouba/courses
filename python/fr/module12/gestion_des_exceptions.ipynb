{
  "nbformat": 4,
  "nbformat_minor": 0,
  "metadata": {
    "colab": {
      "provenance": [],
      "toc_visible": true,
      "authorship_tag": "ABX9TyPwM/KBItO9Gvs7zu5EesdK"
    },
    "kernelspec": {
      "name": "python3",
      "display_name": "Python 3"
    },
    "language_info": {
      "name": "python"
    }
  },
  "cells": [
    {
      "cell_type": "markdown",
      "source": [
        "# La Gestion des Exceptions\n",
        "Permet de gérer les erreurs pendant l'exécution du code  [Erreurs et Exceptions](https://docs.python.org/fr/3/tutorial/errors.html)\n",
        "\n",
        "Même si une instruction ou une expression est syntaxiquement correcte, elle peut générer une erreur lors de son exécution. Les erreurs détectées durant l'exécution sont appelées des exceptions et ne sont pas toujours fatales : nous allons apprendre bientôt comment les traiter dans nos programmes. La plupart des exceptions toutefois ne sont pas prises en charge par les programmes, ce qui génère des messages d'erreurs.\n",
        "\n",
        "##### Instructeur: Joan Mouba, Dr.-Ing. en Informatique\n",
        "L'utilisation de ce fichier est sous la license GPL.\n",
        "Vous pouvez utiliser, modifier et redistribuer librement.\n",
        "\n",
        "Nous serons reconnaissant si vous mentionnez l'auteur et/ou la référence source du Notebook:\n",
        "[https://bit.ly/3NIdS0G](https://colab.research.google.com/drive/1Kx8C6di0JHwEKBV96SHrGr0Pz6L2fPLx?usp=sharing)\n",
        "\n",
        "LinkedIn: [![LinkedIn](https://img.shields.io/badge/LinkedIn-0077B5?style=for-the-badge&style=social&logo=linkedin&logoColor=white)](https://www.linkedin.com/in/joanmouba/) - https://www.linkedin.com/in/joanmouba/\n",
        "\n",
        "Web: [https://epignosiscenter.com](https://epignosiscenter.com)\n",
        "\n",
        "Courriel: joan.mouba@epignosiscenter.com\n",
        "\n",
        "Canal Youtube: [![YouTube](https://img.shields.io/youtube/channel/subscribers/UCjqWeYtZ82DBan-vhFzkTog)](https://www.youtube.com/channel/UCjqWeYtZ82DBan-vhFzkTog)\n",
        "\n",
        "Répertoire GitHub:[![GitHub](https://img.shields.io/badge/GitHub-100000?style=for-the-badge&style=social&logo=github&logoColor=white)](https://github.com/JoanMouba)  \n",
        "\n",
        "Merci de me laisser un avis sur Google: [Je laisse mon avis sur la formation](https://g.page/r/CRFbaxcVvqo9EAI/review)\n",
        "\n",
        "Dernière mise à jour: 12.11.2023 par [Joan Mouba](https://g.page/r/CRFbaxcVvqo9EAI/review)"
      ],
      "metadata": {
        "id": "EyGf5O7Nfrdg"
      }
    },
    {
      "cell_type": "markdown",
      "source": [
        "### Programme\n",
        "\n",
        "\n",
        "1.   Les Exceptions Python\n",
        "2.   Les Exceptions natives\n",
        "3.   Gérer une exception\n",
        "4.   Try .. except .. finally\n",
        "5.   Exceptions définies par l'utilisateur\n"
      ],
      "metadata": {
        "id": "HAZQNkXzFdwi"
      }
    },
    {
      "cell_type": "markdown",
      "source": [
        "## Les Exceptions Python"
      ],
      "metadata": {
        "id": "n54JQXL9GRxy"
      }
    },
    {
      "cell_type": "markdown",
      "source": [
        "###\n",
        "*   Vaste collection d'utilitaires natifs, allant des utilitaires mathématiques au débogage en passant par la création d'interfaces utilisateur\n",
        "*   Organisés en fonctionnnalités et modules natifs écrits en C, et intégrés à la console Python\n",
        "*   Modules populaires: os, sys, json, re, math, datetime, unittest, tkinter\n",
        "*   Modules d‘extension à installer avec la commande `pip`\n",
        "* Pour utiliser un module il faut l'importer avec la commande `import`\n"
      ],
      "metadata": {
        "id": "l3eFMDMgGWkB"
      }
    },
    {
      "cell_type": "markdown",
      "source": [
        "## 1. Les Exceptions Python"
      ],
      "metadata": {
        "id": "avisMvEMf1Nn"
      }
    },
    {
      "cell_type": "code",
      "source": [
        "'5' + 24\n"
      ],
      "metadata": {
        "colab": {
          "base_uri": "https://localhost:8080/",
          "height": 175
        },
        "id": "r1mymPsrkQlO",
        "outputId": "182a2238-6a16-4afd-c93c-d670b68cb53b"
      },
      "execution_count": null,
      "outputs": [
        {
          "output_type": "error",
          "ename": "TypeError",
          "evalue": "ignored",
          "traceback": [
            "\u001b[0;31m---------------------------------------------------------------------------\u001b[0m",
            "\u001b[0;31mTypeError\u001b[0m                                 Traceback (most recent call last)",
            "\u001b[0;32m<ipython-input-3-360ed546c02f>\u001b[0m in \u001b[0;36m<cell line: 1>\u001b[0;34m()\u001b[0m\n\u001b[0;32m----> 1\u001b[0;31m \u001b[0;34m'5'\u001b[0m \u001b[0;34m+\u001b[0m \u001b[0;36m24\u001b[0m\u001b[0;34m\u001b[0m\u001b[0;34m\u001b[0m\u001b[0m\n\u001b[0m",
            "\u001b[0;31mTypeError\u001b[0m: can only concatenate str (not \"int\") to str"
          ]
        }
      ]
    },
    {
      "cell_type": "code",
      "source": [
        "if True print('Yes')"
      ],
      "metadata": {
        "colab": {
          "base_uri": "https://localhost:8080/",
          "height": 140
        },
        "id": "uxDiitRng4l5",
        "outputId": "1b39f445-4ae8-43b2-9153-4d538d5c1aaa"
      },
      "execution_count": null,
      "outputs": [
        {
          "output_type": "error",
          "ename": "SyntaxError",
          "evalue": "ignored",
          "traceback": [
            "\u001b[0;36m  File \u001b[0;32m\"<ipython-input-1-5d2f784829c3>\"\u001b[0;36m, line \u001b[0;32m1\u001b[0m\n\u001b[0;31m    if True print('Yes')\u001b[0m\n\u001b[0m            ^\u001b[0m\n\u001b[0;31mSyntaxError\u001b[0m\u001b[0;31m:\u001b[0m invalid syntax\n"
          ]
        }
      ]
    },
    {
      "cell_type": "markdown",
      "source": [
        "## 2. Les Exceptions natives"
      ],
      "metadata": {
        "id": "P53zAG24hBSO"
      }
    },
    {
      "cell_type": "markdown",
      "source": [
        "### ZeroDivisionError\n",
        "Lorsque le dénominateur d'une division ou du modulo est nulle"
      ],
      "metadata": {
        "id": "_IiSbgBahIK4"
      }
    },
    {
      "cell_type": "code",
      "source": [
        "revenus = 4000 / 0\n"
      ],
      "metadata": {
        "colab": {
          "base_uri": "https://localhost:8080/",
          "height": 175
        },
        "id": "kiRVObcDg7uj",
        "outputId": "37e067f5-dfd9-41f9-c199-4c3551519a33"
      },
      "execution_count": null,
      "outputs": [
        {
          "output_type": "error",
          "ename": "ZeroDivisionError",
          "evalue": "ignored",
          "traceback": [
            "\u001b[0;31m---------------------------------------------------------------------------\u001b[0m",
            "\u001b[0;31mZeroDivisionError\u001b[0m                         Traceback (most recent call last)",
            "\u001b[0;32m<ipython-input-2-7baca259965c>\u001b[0m in \u001b[0;36m<cell line: 1>\u001b[0;34m()\u001b[0m\n\u001b[0;32m----> 1\u001b[0;31m \u001b[0mrevenus\u001b[0m \u001b[0;34m=\u001b[0m \u001b[0;36m4000\u001b[0m \u001b[0;34m/\u001b[0m \u001b[0;36m0\u001b[0m\u001b[0;34m\u001b[0m\u001b[0;34m\u001b[0m\u001b[0m\n\u001b[0m",
            "\u001b[0;31mZeroDivisionError\u001b[0m: division by zero"
          ]
        }
      ]
    },
    {
      "cell_type": "markdown",
      "source": [
        "### ValueError\n",
        "Lorsqu'une fonction reçoit un argument de type correct mais de valeur impropre."
      ],
      "metadata": {
        "id": "FtY_nZ2jhXgv"
      }
    },
    {
      "cell_type": "code",
      "source": [
        "int('56j')"
      ],
      "metadata": {
        "colab": {
          "base_uri": "https://localhost:8080/",
          "height": 175
        },
        "id": "php1ukrRidFo",
        "outputId": "4720fbfd-bcd0-4196-8d19-83f34a2501f1"
      },
      "execution_count": null,
      "outputs": [
        {
          "output_type": "error",
          "ename": "ValueError",
          "evalue": "ignored",
          "traceback": [
            "\u001b[0;31m---------------------------------------------------------------------------\u001b[0m",
            "\u001b[0;31mValueError\u001b[0m                                Traceback (most recent call last)",
            "\u001b[0;32m<ipython-input-2-c479469f5808>\u001b[0m in \u001b[0;36m<cell line: 1>\u001b[0;34m()\u001b[0m\n\u001b[0;32m----> 1\u001b[0;31m \u001b[0mint\u001b[0m\u001b[0;34m(\u001b[0m\u001b[0;34m'56j'\u001b[0m\u001b[0;34m)\u001b[0m\u001b[0;34m\u001b[0m\u001b[0;34m\u001b[0m\u001b[0m\n\u001b[0m",
            "\u001b[0;31mValueError\u001b[0m: invalid literal for int() with base 10: '56j'"
          ]
        }
      ]
    },
    {
      "cell_type": "markdown",
      "source": [
        "### NameError\n",
        "lorsqu'une variable n'est pas trouvée dans les champs d'application local et global"
      ],
      "metadata": {
        "id": "Bb1SGm4wh95k"
      }
    },
    {
      "cell_type": "code",
      "source": [
        "print(oko)"
      ],
      "metadata": {
        "colab": {
          "base_uri": "https://localhost:8080/",
          "height": 175
        },
        "id": "WOfJh_arhslP",
        "outputId": "5573bdaf-6276-418d-c95f-638e8d4a78f1"
      },
      "execution_count": null,
      "outputs": [
        {
          "output_type": "error",
          "ename": "NameError",
          "evalue": "ignored",
          "traceback": [
            "\u001b[0;31m---------------------------------------------------------------------------\u001b[0m",
            "\u001b[0;31mNameError\u001b[0m                                 Traceback (most recent call last)",
            "\u001b[0;32m<ipython-input-1-cf711b7a0a39>\u001b[0m in \u001b[0;36m<cell line: 1>\u001b[0;34m()\u001b[0m\n\u001b[0;32m----> 1\u001b[0;31m \u001b[0mprint\u001b[0m\u001b[0;34m(\u001b[0m\u001b[0moko\u001b[0m\u001b[0;34m)\u001b[0m\u001b[0;34m\u001b[0m\u001b[0;34m\u001b[0m\u001b[0m\n\u001b[0m",
            "\u001b[0;31mNameError\u001b[0m: name 'oko' is not defined"
          ]
        }
      ]
    },
    {
      "cell_type": "markdown",
      "source": [
        "### AssertionError\n",
        "lorsque la déclaration d'assertion échoue"
      ],
      "metadata": {
        "id": "N8VlKgNzipRm"
      }
    },
    {
      "cell_type": "code",
      "source": [
        "num = 10\n",
        "den = 2\n",
        "assert den != 0, \"Opération Invalide\" # Le dénominateur ne doit pas être nul\n",
        "print(num / den)\n"
      ],
      "metadata": {
        "colab": {
          "base_uri": "https://localhost:8080/"
        },
        "id": "QEuIKa4CixtG",
        "outputId": "f7fa0692-560f-4427-8044-ffbb7e94b7a9"
      },
      "execution_count": null,
      "outputs": [
        {
          "output_type": "stream",
          "name": "stdout",
          "text": [
            "5.0\n"
          ]
        }
      ]
    },
    {
      "cell_type": "code",
      "source": [
        "num = 5\n",
        "den = 0\n",
        "assert den != 0, \"Opération Invalide\" # Le dénominateur ne doit pas être nul\n",
        "print(num / den)\n"
      ],
      "metadata": {
        "colab": {
          "base_uri": "https://localhost:8080/",
          "height": 227
        },
        "id": "bVgdmb1VjcLO",
        "outputId": "13fece44-1929-4b9b-9b3c-697df6af695f"
      },
      "execution_count": null,
      "outputs": [
        {
          "output_type": "error",
          "ename": "AssertionError",
          "evalue": "ignored",
          "traceback": [
            "\u001b[0;31m---------------------------------------------------------------------------\u001b[0m",
            "\u001b[0;31mAssertionError\u001b[0m                            Traceback (most recent call last)",
            "\u001b[0;32m<ipython-input-7-95c38fa0e445>\u001b[0m in \u001b[0;36m<cell line: 3>\u001b[0;34m()\u001b[0m\n\u001b[1;32m      1\u001b[0m \u001b[0mnum\u001b[0m \u001b[0;34m=\u001b[0m \u001b[0;36m5\u001b[0m\u001b[0;34m\u001b[0m\u001b[0;34m\u001b[0m\u001b[0m\n\u001b[1;32m      2\u001b[0m \u001b[0mden\u001b[0m \u001b[0;34m=\u001b[0m \u001b[0;36m0\u001b[0m\u001b[0;34m\u001b[0m\u001b[0;34m\u001b[0m\u001b[0m\n\u001b[0;32m----> 3\u001b[0;31m \u001b[0;32massert\u001b[0m \u001b[0mden\u001b[0m \u001b[0;34m!=\u001b[0m \u001b[0;36m0\u001b[0m\u001b[0;34m,\u001b[0m \u001b[0;34m\"Opération Invalide\"\u001b[0m \u001b[0;31m# Le dénominateur ne doit pas être nul\u001b[0m\u001b[0;34m\u001b[0m\u001b[0;34m\u001b[0m\u001b[0m\n\u001b[0m\u001b[1;32m      4\u001b[0m \u001b[0mprint\u001b[0m\u001b[0;34m(\u001b[0m\u001b[0mnum\u001b[0m \u001b[0;34m/\u001b[0m \u001b[0mden\u001b[0m\u001b[0;34m)\u001b[0m\u001b[0;34m\u001b[0m\u001b[0;34m\u001b[0m\u001b[0m\n",
            "\u001b[0;31mAssertionError\u001b[0m: Opération Invalide"
          ]
        }
      ]
    },
    {
      "cell_type": "markdown",
      "source": [
        "## ImportError\n",
        "lorsque le module importé n'est pas trouvé"
      ],
      "metadata": {
        "id": "-FzbLX15jopn"
      }
    },
    {
      "cell_type": "code",
      "source": [
        "import fake_module\n"
      ],
      "metadata": {
        "colab": {
          "base_uri": "https://localhost:8080/",
          "height": 314
        },
        "id": "Rv_TC7-Yjr06",
        "outputId": "efa3e7da-7834-4e7d-c2dc-94dfeef53fbf"
      },
      "execution_count": null,
      "outputs": [
        {
          "output_type": "error",
          "ename": "ModuleNotFoundError",
          "evalue": "ignored",
          "traceback": [
            "\u001b[0;31m---------------------------------------------------------------------------\u001b[0m",
            "\u001b[0;31mModuleNotFoundError\u001b[0m                       Traceback (most recent call last)",
            "\u001b[0;32m<ipython-input-8-2a6d3b71b0d8>\u001b[0m in \u001b[0;36m<cell line: 1>\u001b[0;34m()\u001b[0m\n\u001b[0;32m----> 1\u001b[0;31m \u001b[0;32mimport\u001b[0m \u001b[0mfake_module\u001b[0m\u001b[0;34m\u001b[0m\u001b[0;34m\u001b[0m\u001b[0m\n\u001b[0m",
            "\u001b[0;31mModuleNotFoundError\u001b[0m: No module named 'fake_module'",
            "",
            "\u001b[0;31m---------------------------------------------------------------------------\u001b[0;32m\nNOTE: If your import is failing due to a missing package, you can\nmanually install dependencies using either !pip or !apt.\n\nTo view examples of installing some common dependencies, click the\n\"Open Examples\" button below.\n\u001b[0;31m---------------------------------------------------------------------------\u001b[0m\n"
          ],
          "errorDetails": {
            "actions": [
              {
                "action": "open_url",
                "actionText": "Open Examples",
                "url": "/notebooks/snippets/importing_libraries.ipynb"
              }
            ]
          }
        }
      ]
    },
    {
      "cell_type": "markdown",
      "source": [
        "## IndentationError\n",
        "lorsque l'indentation est mauvaise"
      ],
      "metadata": {
        "id": "w3Hgvgulkw1F"
      }
    },
    {
      "cell_type": "markdown",
      "source": [
        "## 3. Gérer une Exception"
      ],
      "metadata": {
        "id": "mWJ2dV0pg6uh"
      }
    },
    {
      "cell_type": "code",
      "source": [
        "try:\n",
        "    print(\"Essai\")\n",
        "except ValueError:\n",
        "    print(\"ValueError exception\")\n",
        "\n",
        "except (TypeError, ZeroDivisionError):\n",
        "    print(\"TypeError, ZeroDivisionError\")\n",
        "\n",
        "except:\n",
        "    print(\"Gère toutes les autres exceptions\")\n"
      ],
      "metadata": {
        "colab": {
          "base_uri": "https://localhost:8080/"
        },
        "id": "4nW3S4BKhXoX",
        "outputId": "3497ee6e-675b-4778-85bb-2676ce52cdc0"
      },
      "execution_count": null,
      "outputs": [
        {
          "output_type": "stream",
          "name": "stdout",
          "text": [
            "Essai\n"
          ]
        }
      ]
    },
    {
      "cell_type": "markdown",
      "source": [
        "## 4. Try .. except .. finally"
      ],
      "metadata": {
        "id": "wS4TY588gKb8"
      }
    },
    {
      "cell_type": "code",
      "source": [
        "try:\n",
        "    fp = open('test.txt', encoding='utf-8')\n",
        "    # autres opérations sur le fichier\n",
        "finally:\n",
        "    fp.close()\n"
      ],
      "metadata": {
        "id": "0_wW_ulAs79x"
      },
      "execution_count": null,
      "outputs": []
    },
    {
      "cell_type": "code",
      "source": [
        "try:\n",
        "    raise NameError('HiThere')\n",
        "except NameError:\n",
        "    print('An exception flew by!')\n",
        "    raise\n"
      ],
      "metadata": {
        "id": "ndq5sghGwZ-8"
      },
      "execution_count": null,
      "outputs": []
    },
    {
      "cell_type": "markdown",
      "source": [
        "## 5. Exceptions définies par l'utilisateur"
      ],
      "metadata": {
        "id": "9epXlr4yf9yO"
      }
    },
    {
      "cell_type": "code",
      "source": [
        "class NewException(Exception):\n",
        "    pass\n"
      ],
      "metadata": {
        "id": "swXITWh1zCyS"
      },
      "execution_count": null,
      "outputs": []
    },
    {
      "cell_type": "code",
      "source": [
        "raise NewException('Une erreur est survenue')\n"
      ],
      "metadata": {
        "colab": {
          "base_uri": "https://localhost:8080/",
          "height": 175
        },
        "id": "s3Ar4vB-zKDl",
        "outputId": "300daebe-ce03-4432-811b-72693b5d3915"
      },
      "execution_count": null,
      "outputs": [
        {
          "output_type": "error",
          "ename": "NewException",
          "evalue": "ignored",
          "traceback": [
            "\u001b[0;31m---------------------------------------------------------------------------\u001b[0m",
            "\u001b[0;31mNewException\u001b[0m                              Traceback (most recent call last)",
            "\u001b[0;32m<ipython-input-7-c0b4913d27fb>\u001b[0m in \u001b[0;36m<cell line: 1>\u001b[0;34m()\u001b[0m\n\u001b[0;32m----> 1\u001b[0;31m \u001b[0;32mraise\u001b[0m \u001b[0mNewException\u001b[0m\u001b[0;34m(\u001b[0m\u001b[0;34m'Une erreur est survenue'\u001b[0m\u001b[0;34m)\u001b[0m\u001b[0;34m\u001b[0m\u001b[0;34m\u001b[0m\u001b[0m\n\u001b[0m",
            "\u001b[0;31mNewException\u001b[0m: Une erreur est survenue"
          ]
        }
      ]
    },
    {
      "cell_type": "code",
      "source": [],
      "metadata": {
        "id": "HN05qSIazR4v"
      },
      "execution_count": null,
      "outputs": []
    }
  ]
}
