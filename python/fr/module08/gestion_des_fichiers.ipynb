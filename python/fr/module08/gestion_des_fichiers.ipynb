{
  "cells": [
    {
      "cell_type": "markdown",
      "metadata": {
        "id": "EyGf5O7Nfrdg"
      },
      "source": [
        "# La Gestion des Fichiers\n",
        "Conserver et Manipuler des données dans la mémoire à long-terme  [Accés aux fichiers et aux dossiers](https://docs.python.org/3/library/filesys.html)\n",
        "\n",
        "##### Instructeur: Joan Mouba, Dr.-Ing. en Informatique\n",
        "L'utilisation de ce fichier est sous la license GPL.\n",
        "Vous pouvez utiliser, modifier et redistribuer librement.\n",
        "\n",
        "Nous serons reconnaissant si vous mentionnez l'auteur et/ou la référence source du Notebook:\n",
        "[https://bit.ly/48vAPfj](https://colab.research.google.com/drive/1e6yguskICr-GZqkHcLgTOj8VH0p48VVT?usp=sharing)\n",
        "\n",
        "LinkedIn: [![LinkedIn](https://img.shields.io/badge/LinkedIn-0077B5?style=for-the-badge&style=social&logo=linkedin&logoColor=white)](https://www.linkedin.com/in/joanmouba/) - https://www.linkedin.com/in/joanmouba/\n",
        "\n",
        "Web: [https://epignosiscenter.com](https://epignosiscenter.com)\n",
        "\n",
        "Courriel: joan.mouba@epignosiscenter.com\n",
        "\n",
        "Canal Youtube: [![YouTube](https://img.shields.io/youtube/channel/subscribers/UCjqWeYtZ82DBan-vhFzkTog)](https://www.youtube.com/channel/UCjqWeYtZ82DBan-vhFzkTog)\n",
        "\n",
        "Répertoire GitHub:[![GitHub](https://img.shields.io/badge/GitHub-100000?style=for-the-badge&style=social&logo=github&logoColor=white)](https://github.com/JoanMouba)  \n",
        "\n",
        "Merci de me laisser un avis sur Google: [Je laisse mon avis sur la formation](https://g.page/r/CRFbaxcVvqo9EAI/review)\n",
        "\n",
        "Dernière mise à jour: 25.12.2023 par [Joan Mouba](https://g.page/r/CRFbaxcVvqo9EAI/review)"
      ]
    },
    {
      "cell_type": "markdown",
      "metadata": {
        "id": "HAZQNkXzFdwi"
      },
      "source": [
        "### Programme\n",
        "\n",
        "\n",
        "1.   Utilité des fichiers\n",
        "2.   Opérations sur les fichiers\n",
        "3.   Modes et encodage des fichiers\n",
        "4.   Opérations sur les dossiers (répertoires de fichiers)\n",
        "5.   Tour des librairies utiles pour la gestion de fichiers"
      ]
    },
    {
      "cell_type": "markdown",
      "metadata": {
        "id": "n54JQXL9GRxy"
      },
      "source": [
        "## 1. Utilité de fichiers"
      ]
    },
    {
      "cell_type": "markdown",
      "metadata": {
        "id": "l3eFMDMgGWkB"
      },
      "source": [
        "\n",
        "*   Les fichiers permettent de conserver des données à long-terme pour d'autres opérations\n"
      ]
    },
    {
      "cell_type": "markdown",
      "metadata": {
        "id": "avisMvEMf1Nn"
      },
      "source": [
        "## 2. Opérations sur les fichiers"
      ]
    },
    {
      "cell_type": "markdown",
      "metadata": {
        "id": "ufHLdItQptaq"
      },
      "source": [
        "### Ecrire dans un fichier, dans le répertoire courant"
      ]
    },
    {
      "cell_type": "code",
      "execution_count": null,
      "metadata": {
        "colab": {
          "base_uri": "https://localhost:8080/"
        },
        "id": "r1mymPsrkQlO",
        "outputId": "20c56c5c-077c-4c95-9e00-2af473b7ddd8"
      },
      "outputs": [
        {
          "name": "stdout",
          "output_type": "stream",
          "text": [
            "data\n",
            "UTF-8\n"
          ]
        }
      ],
      "source": [
        "# Cellule 1\n",
        "fichier = open('data', mode='w')\n",
        "fichier.write('Je suis déterminé à apprendre Python.\\n')\n",
        "fichier.write('Surtout ne me dérangez pas\\n')\n",
        "fichier.close()\n",
        "\n",
        "print(fichier.name)\n",
        "print(fichier.encoding)\n"
      ]
    },
    {
      "cell_type": "code",
      "execution_count": null,
      "metadata": {
        "colab": {
          "base_uri": "https://localhost:8080/"
        },
        "id": "VNMgUwSuBaY9",
        "outputId": "ccf5d1fe-7e85-4676-f689-4e685cfd196c"
      },
      "outputs": [
        {
          "name": "stdout",
          "output_type": "stream",
          "text": [
            "data.txt\n",
            "utf-8\n"
          ]
        }
      ],
      "source": [
        "# Cellule 2\n",
        "fichier = open('data.txt', mode='a', encoding='utf-8')\n",
        "fichier.write('Hello World!\\n')\n",
        "fichier.write('Welcome to my world.')\n",
        "fichier.close()\n",
        "\n",
        "print(fichier.name)\n",
        "print(fichier.encoding)\n"
      ]
    },
    {
      "cell_type": "code",
      "execution_count": null,
      "metadata": {
        "colab": {
          "base_uri": "https://localhost:8080/"
        },
        "id": "QST9ZbyIC487",
        "outputId": "4f846ea5-d0c2-4645-de3d-aba68c5b88e0"
      },
      "outputs": [
        {
          "name": "stdout",
          "output_type": "stream",
          "text": [
            "data_cree.txt\n",
            "utf-8\n"
          ]
        }
      ],
      "source": [
        "# Cellule 3\n",
        "fichier = open('data_cree.txt', mode='x', encoding='utf-8')\n",
        "fichier.write('Quelles sont les news du jour?\\n')\n",
        "fichier.close()\n",
        "\n",
        "print(fichier.name)\n",
        "print(fichier.encoding)\n"
      ]
    },
    {
      "cell_type": "code",
      "execution_count": null,
      "metadata": {
        "colab": {
          "base_uri": "https://localhost:8080/"
        },
        "id": "BN49_Hz1EucE",
        "outputId": "67dfe110-1f26-4e89-9104-9fa63edb8cd1"
      },
      "outputs": [
        {
          "name": "stdout",
          "output_type": "stream",
          "text": [
            "discours_mlkj.txt\n",
            "utf-8\n"
          ]
        }
      ],
      "source": [
        "# Cellule 4\n",
        "discours = [\n",
        "    \"DISCOURS DE MARTIN LUTHER KING Jr.\\n\",\n",
        "    \"----------------------------------\\n\\n\",\n",
        "    \"I have a dream that one day!\\n\",\n",
        "    \"Every valley\\n\",\n",
        "    \"will be ...\\n\"\n",
        "]\n",
        "\n",
        "mon_texte = \"DISCOURS DE MARTIN LUTHER KING Jr.\\n,  ----------------------------------\\n\\n \\\n",
        "    I have a dream that one day!\\n Every valley\\n \\\n",
        "    will be ...\\n\"\n",
        "\n",
        "discours_fd = open('discours_mlkj.txt', mode='w', encoding='utf-8')\n",
        "discours_fd.writelines(discours, )\n",
        "discours_fd.close()\n",
        "\n",
        "print(discours_fd.name)\n",
        "print(discours_fd.encoding)\n"
      ]
    },
    {
      "cell_type": "code",
      "execution_count": null,
      "metadata": {
        "colab": {
          "background_save": true
        },
        "id": "7Q5pK9BMHrS_",
        "outputId": "de4ceb6f-8b89-487b-d137-baa0b46786d4"
      },
      "outputs": [
        {
          "name": "stdout",
          "output_type": "stream",
          "text": [
            "Collecting Faker\n",
            "  Downloading Faker-20.1.0-py3-none-any.whl (1.7 MB)\n",
            "\u001b[2K     \u001b[90m━━━━━━━━━━━━━━━━━━━━━━━━━━━━━━━━━━━━━━━━\u001b[0m \u001b[32m1.7/1.7 MB\u001b[0m \u001b[31m19.1 MB/s\u001b[0m eta \u001b[36m0:00:00\u001b[0m\n",
            "\u001b[?25hRequirement already satisfied: python-dateutil>=2.4 in /usr/local/lib/python3.10/dist-packages (from Faker) (2.8.2)\n",
            "Requirement already satisfied: six>=1.5 in /usr/local/lib/python3.10/dist-packages (from python-dateutil>=2.4->Faker) (1.16.0)\n",
            "Installing collected packages: Faker\n",
            "Successfully installed Faker-20.1.0\n"
          ]
        }
      ],
      "source": [
        "!pip install"
      ]
    },
    {
      "cell_type": "markdown",
      "metadata": {
        "id": "E4KQC8vyq6H0"
      },
      "source": [
        "#### Exercice\n",
        "Créez un fichier prenoms.txt avec 5 prénoms de votre choix, chacun sur une ligne, dans un sous-dossier nommé 'Gagnants_du_concours'"
      ]
    },
    {
      "cell_type": "code",
      "execution_count": null,
      "metadata": {
        "id": "33xj2nRPrSAo"
      },
      "outputs": [],
      "source": [
        "##### Votre solution ici ####\n"
      ]
    },
    {
      "cell_type": "markdown",
      "metadata": {
        "id": "IJIasvoxu7pX"
      },
      "source": [
        "### Lire un fichier avec le gestionnaire de contexte `with ... as:`"
      ]
    },
    {
      "cell_type": "markdown",
      "metadata": {
        "id": "nvxStZGIrfZW"
      },
      "source": [
        "Lire le fichier data.txt, localisé dans le répertoire courant, en utilisant la structure:\n",
        "\n",
        "\n",
        "```\n",
        "with open('nom_fichier', 'r') as fp:\n",
        "    ...\n",
        "```\n",
        "\n",
        "\n"
      ]
    },
    {
      "cell_type": "code",
      "execution_count": null,
      "metadata": {
        "colab": {
          "base_uri": "https://localhost:8080/"
        },
        "id": "4m0alHAzr0X1",
        "outputId": "fcc9187b-3067-4abe-9cd8-c2a57f23bc1e"
      },
      "outputs": [
        {
          "name": "stdout",
          "output_type": "stream",
          "text": [
            "Je suis déterminé à apprendre Python.\n",
            "Surtout ne me dérangez pas\n",
            "\n",
            "\n",
            " is the file closed?  True\n"
          ]
        }
      ],
      "source": [
        "with open('data.txt', mode='r', encoding='utf-8') as fp:\n",
        "    my_data = fp.read() # read: lit tout le contenu dans une chaîne de caractères\n",
        "\n",
        "print(my_data)\n",
        "\n",
        "print('\\n\\n is the file closed? ', fp.closed)\n"
      ]
    },
    {
      "cell_type": "markdown",
      "metadata": {
        "id": "3XaqHF5-tvDX"
      },
      "source": [
        "#### Exercice\n",
        "Ouvrir et afficher le contenu du fichier prenoms.txt, localisé dans un sous-dossier nommé 'Gagnants_du_concours'. Utilisez pour cela le gestionnaire de contexte `with ... as: `"
      ]
    },
    {
      "cell_type": "code",
      "execution_count": null,
      "metadata": {
        "id": "-4c8XG0Ht8Ah"
      },
      "outputs": [],
      "source": [
        "##### Votre solution ici ####\n"
      ]
    },
    {
      "cell_type": "markdown",
      "metadata": {
        "id": "ZlSS6z7w3-xn"
      },
      "source": [
        "### Lire un certain nombre de caractères dans un fichier avec la méthode `read(n)`"
      ]
    },
    {
      "cell_type": "code",
      "execution_count": null,
      "metadata": {
        "colab": {
          "base_uri": "https://localhost:8080/"
        },
        "id": "tAoGBwRq4LXT",
        "outputId": "7a945e36-b5e0-4cf6-bd41-a0854c1499e3"
      },
      "outputs": [
        {
          "name": "stdout",
          "output_type": "stream",
          "text": [
            "Je su\n",
            "is \n",
            "déterminé à apprendre Python.\n",
            "Surtout ne me dérangez pas\n"
          ]
        }
      ],
      "source": [
        "try:\n",
        "    fp = open('data.txt', 'r', encoding='utf-8')\n",
        "    print(fp.read(5))\n",
        "    print(fp.read(3))\n",
        "    print(fp.read())\n",
        "except:\n",
        "    print('Problems by opening or reading the file')\n",
        "finally:\n",
        "    fp.close()\n"
      ]
    },
    {
      "cell_type": "markdown",
      "metadata": {
        "id": "QGjeBDEzvcmO"
      },
      "source": [
        "### Lire un fichier ligne par ligne avec la méthode `readline()`"
      ]
    },
    {
      "cell_type": "code",
      "execution_count": null,
      "metadata": {
        "colab": {
          "base_uri": "https://localhost:8080/"
        },
        "id": "kB9d4EoCvjWq",
        "outputId": "4a676b33-7713-4a7b-e546-d8843e663dff"
      },
      "outputs": [
        {
          "name": "stdout",
          "output_type": "stream",
          "text": [
            "Je suis déterminé à apprendre Python.\n",
            "\n",
            "Surtout ne me dérangez pas\n"
          ]
        }
      ],
      "source": [
        "with open('data.txt', 'r', encoding='utf-8') as fp:\n",
        "    print(fp.readline())\n",
        "    print(fp.readline())\n"
      ]
    },
    {
      "cell_type": "markdown",
      "metadata": {
        "id": "9snHKgJAwDa9"
      },
      "source": [
        "#### Excercice\n",
        "Que se passe-t-il si vous utilisez fp.readline() qu'il n'y a de lignes dans votre fichier ?\n"
      ]
    },
    {
      "cell_type": "code",
      "execution_count": null,
      "metadata": {
        "id": "ehmF2nQqwTQR"
      },
      "outputs": [],
      "source": [
        "# votre réponse ici: code + commentaires explicatifs\n"
      ]
    },
    {
      "cell_type": "markdown",
      "metadata": {
        "id": "IUNEDo-vwc-H"
      },
      "source": [
        "### Lire toutes les lignes d'un fichier avec la méthode readlines()"
      ]
    },
    {
      "cell_type": "code",
      "execution_count": null,
      "metadata": {
        "colab": {
          "base_uri": "https://localhost:8080/"
        },
        "id": "QyT3RqbUwk6r",
        "outputId": "c9e9b5e5-2d49-440f-8552-76554a353074"
      },
      "outputs": [
        {
          "name": "stdout",
          "output_type": "stream",
          "text": [
            "['Je suis déterminé à apprendre Python.\\n', 'Surtout ne me dérangez pas']\n"
          ]
        }
      ],
      "source": [
        "with open('data.txt', 'r', encoding='utf-8') as fp:\n",
        "    print(fp.readlines())\n"
      ]
    },
    {
      "cell_type": "markdown",
      "metadata": {
        "id": "ZPBzwReXwyI3"
      },
      "source": [
        "#### Exercice\n",
        "Quel est le type de données renvoyées par `readlines()`?"
      ]
    },
    {
      "cell_type": "markdown",
      "metadata": {
        "id": "7oh_q5q1xAsQ"
      },
      "source": [
        "### Lire un fichier ligne par ligne avec une `boucle for`"
      ]
    },
    {
      "cell_type": "code",
      "execution_count": null,
      "metadata": {
        "colab": {
          "base_uri": "https://localhost:8080/"
        },
        "id": "hHxAIdUD0zIf",
        "outputId": "a6ae0daa-8ac1-4f4e-8e1b-d8cdee8970a1"
      },
      "outputs": [
        {
          "name": "stdout",
          "output_type": "stream",
          "text": [
            "Je suis déterminé à apprendre Python.\n",
            "\n",
            "Surtout ne me dérangez pas\n"
          ]
        }
      ],
      "source": [
        "with open('data.txt', 'r', encoding='utf-8') as fp:\n",
        "    for ligne in fp:\n",
        "        print(ligne)\n"
      ]
    },
    {
      "cell_type": "markdown",
      "metadata": {
        "id": "4yoafhg756TT"
      },
      "source": [
        "#### Exercice\n",
        "Créer la copie 'copie_data.txt'  du fichier 'data.txt' en utilisant deux gestionnaires de contexte imbriqués: un pour lire du fichier 'data.txt' et l'autre pour écrire les données copiées dans le fichier 'copie_data.txt'  "
      ]
    },
    {
      "cell_type": "code",
      "execution_count": null,
      "metadata": {
        "id": "_vwA9QyN6W2_"
      },
      "outputs": [],
      "source": [
        "# Votre code solution ici\n"
      ]
    },
    {
      "cell_type": "markdown",
      "metadata": {
        "id": "p_eHD3Lq6TUS"
      },
      "source": [
        "### Identifier la position du pointeur dans un fichier avec la méthode `tell()`"
      ]
    },
    {
      "cell_type": "code",
      "execution_count": null,
      "metadata": {
        "colab": {
          "base_uri": "https://localhost:8080/"
        },
        "id": "ZfrnQRWA6dBs",
        "outputId": "a9439e48-2a5f-46f6-ce28-2d0d67700b11"
      },
      "outputs": [
        {
          "name": "stdout",
          "output_type": "stream",
          "text": [
            "Je su\n",
            "pointeur à: 5\n",
            "is \n",
            "pointeur à: 8\n",
            "déterminé à apprendre Python.\n",
            "Surtout ne me dérangez pas\n",
            "pointeur à: 68\n"
          ]
        }
      ],
      "source": [
        "try:\n",
        "    fp = open('data.txt', 'r', encoding='utf-8')\n",
        "    print(fp.read(5))\n",
        "    print('pointeur à:', fp.tell())\n",
        "    print(fp.read(3))\n",
        "    print('pointeur à:', fp.tell())\n",
        "    print(fp.read())\n",
        "    print('pointeur à:', fp.tell())\n",
        "except:\n",
        "    print('Problems by opening or reading the file')\n",
        "finally:\n",
        "    fp.close()"
      ]
    },
    {
      "cell_type": "markdown",
      "metadata": {
        "id": "8PHFRG1J674U"
      },
      "source": [
        "### Positionner le pointeur dans un fichier avec la méthode `seek()`\n",
        "seek(offset[,)"
      ]
    },
    {
      "cell_type": "code",
      "execution_count": null,
      "metadata": {
        "colab": {
          "base_uri": "https://localhost:8080/"
        },
        "id": "dn6S7fh37CfW",
        "outputId": "6cecc5c8-6e3e-4cb5-cd90-664307c31bb2"
      },
      "outputs": [
        {
          "name": "stdout",
          "output_type": "stream",
          "text": [
            "Je su\n",
            "pointeur à: 5\n",
            "positionner pointeur à: 0\n",
            "pointeur à: 0\n",
            "Je \n",
            "positionner pointeur à: 3\n",
            "suis d\n",
            "pointeur à: 9\n"
          ]
        }
      ],
      "source": [
        "with open('data.txt', 'r', encoding='utf-8') as fp:\n",
        "    print(fp.read(5))\n",
        "    print('pointeur à:', fp.tell())\n",
        "    print('positionner pointeur à:', fp.seek(0))\n",
        "    print('pointeur à:', fp.tell())\n",
        "    print(fp.read(3))\n",
        "    print('positionner pointeur à:', fp.seek(0, 1))\n",
        "    print(fp.read(6))\n",
        "    print('pointeur à:', fp.tell())\n"
      ]
    },
    {
      "cell_type": "markdown",
      "metadata": {
        "id": "7nPYthd_8VW-"
      },
      "source": [
        "#### Exercice\n",
        "1. Créez un fichier .mp3 de https://ttsmp3.com/\n",
        "2. À partir des fonctionnalités de fichiers, extraire les informations suivantes:\n",
        "\n",
        "\n",
        "*   Version\n",
        "*   Couche (Layer)\n",
        "*   Fréquence d'échantillonnage (Sample rate)\n",
        "*   Fréquence\n",
        "*   Mode\n",
        "\n",
        "\n"
      ]
    },
    {
      "cell_type": "markdown",
      "metadata": {
        "id": "FZGfoTH3-nkC"
      },
      "source": [
        "Ressources:\n",
        "*   https://en.wikipedia.org/wiki/MP3\n",
        "\n",
        "![image.png](data:image/png;base64,iVBORw0KGgoAAAANSUhEUgAABeQAAAJYCAYAAAADl+boAAAgAElEQVR4AezdCXxU1d3/8RNIIgFhIGo2EhbDpoAIoggIIgENgogiRXCB4lKq0fLwWFvksVXRFC2xQjWIinXDKJU+hKAU+ldBxI2K8FCLggrIIkuAhBCCIPz+r9+Yk54Mk5gAGcjcT3id17lzl3PvfWfmDvOdk3ON4QcBBBBAAAEEEEAAAQQQQAABBBBAAAEEEEAAAQQQQAABBBBAAAEEEEAAAQQQQAABBBBAAAEEEEAAAQQQQAABBBBAAAEEEEAAAQQQQAABBBBAAAEEEEAAAQQQQAABBBBAAAEEEEAAAQQQQAABBBBAAAEEEEAAAQQQQAABBBBAAAEEEEAAAQQQQAABBBBAAAEEEEAAAQQQQAABBBBAAAEEEEAAAQQQQAABBBBAAAEEEEAAAQQQQAABBBBAAAEEEEAAAQQQQAABBBBAAAEEEEAAAQQQQAABBBBAAAEEEEAAAQQQQAABBBBAAAEEEEAAAQQQQAABBBBAAAEEEEAAAQQQQAABBBBAAAEEEEAAAQQQQAABBBBAAAEEEEAAAQQQQAABBBBAAAEEEEAAAQQQQAABBBBAAAEEEEAAAQQQQAABBBBAAAEEEEAAAQQQQAABBBBAAAEEEEAAAQQQQAABBBBAAAEEEEAAAQQQQAABBBBAAAEEEEAAAQQQQAABBBBAAAEEEEAAAQQQQAABBBBAAAEEEEAAAQQQQAABBBBAAAEEEEAAAQQQQAABBBBAAAEEEEAAAQQQQAABBBBAAAEEEEAAAQQQQAABBBBAAAEEEEAAAQQQQAABBBBAAIEQCvTp0ycyPT399vT09PfT09N3pKenF3itDBgwYE96evq/rrzyyj9cfvnlcSHkZ1cIIIAAAggggAACCCCAAAIIIIAAAggggAACXhBIS0uL79+//4r09HQZOnSo3HnnnXLXXXd5rvziF7+QK6+8UtThiiuu0C8k0rzw++ccEUAAAQQQQAABBBBAAAEEEEAAAQQQQAABBEIgcMEFF0T169fvs6uvvloWLFgghw4dEi//7N69Wx599FEN5OXyyy/ff/nll3cIwa+BXSCAAAIIIIAAAggggAACCCCAAAIIIIAAAgiEu0CvXr3GXX755fLJJ59UmsMfOXJEKiuHDx+WisoPP/wglRX9EqCicvDgQamsfP/991JROXDggFS1lJSU+NvRc9SfP/zhDxrIS58+fT4K9+cA54cAAggggAACCCCAAAIIIIAAAggggAACCCBQ8wIRffr0+eTee+89Kox3w/fAoD0wXHfD9MDwPDAsDwzINQi3Zf/+/eKW4uJiccu+ffvELUVFRWLL3r17xS2FhYXiloKCArFlz5494hbtFW+LbqPnvnPnTn8g379//8NNmzbtVPO/CvaAAAIIIIAAAggggAACCCCAAAIIIIAAAgggEM4C9fv27Zv/0ksvlQvkvRrGayi/a9cuf095Bbn55pulX79+0rp167uNMRHh/ETg3BBAAAEEEEAAAQQQQAABBBBAAAEEEEAAAQRqVqBR3759i19//fWyQN7rYbwG8tpjX39uv/12SUtLkzZt2vzOGNOgZn8VtI4AAggggAACCCCAAAIIIIAAAggggAACCCAQzgK+yy67rCyQJ4zf5e8h7wbyffv21UD+98aYxuH8RODcEEAAAQQQQAABBBBAAAEEEEAAAQQQQAABBGpWwHfppZceFch7acx4O0yN9oy3xQbyt912m1x22WXSqlUrDeSb1OyvgtYRQAABBBBAAAEEEEAAAQQQQAABBBBAAAEEwlngqEDe62F8fn5+2ZA1BPLh/NTn3BBAAAEEEEAAAQQQQAABBBBAAAEEEEAAgdAK+Hr37l382muv+cdMr+kwfvaiRXLOddfJVb/6lezIz5f9+/f7S3Fxsbhl37594paioiKxZe/eveKWwsJCcUtBQYHYsmfPHnGL9oZ3i+0Rb2sN491A/tZbb5U+ffrQQz60z0n2hgACCCCAAAIIIIAAAggggAACCCCAAAIIhKVAhYH8Dz/8IG45dOiQ2HLw4EFxy/fffy9uOXDggLhFh4DR8P2s/mliLuwipmsX6TXqZtmxY0e5IF5DeTeI12kbxGvtBvE67QbxOm2DeK3dIF6n3SA+2DA1NozXWo9Vf2655Ra59NJLCeTD8qnPSSGAAAIIIIAAAggggAACCCCAAAIIIIAAAqEV8PXq1as4JyenXA95N4jXaRvEa+0G8TrtBvE67QbxOq1hvC1n9e8r5rpzxYxsJ+bCzpLx4O/9IbrtHX8qhPE7d+4sC+THjBkjvXv3JpAP7XOSvSGAAAIIIIAAAggggAACCCCAAAIIIIAAAmEp4LvkkkvKBfI1FcZrr/PrfvPfYrqdL+afDcX0OU8iu18gf5r53FG94k9Wz3gN4wMD+V69esnZZ5/NTV3D8unPSSGAAAIIIIAAAggggAACCCCAAAIIIIAAAqET8PXs2bP41VdfLesh7wbyJ6pnvB0r/uk5s8V06yTmzVgxC5uI6d5JGvTuJrPz5pUL5U/GMDU2jHcD+Z///OdyySWXEMiH7vnInhBAAAEEEEAAAQQQQAABBBBAAAEEEEAAgbAV8PXo0SNoIH+iw3gN5b/6duOPgfxDzeTeH34jdV6P9z9ueOnFMnfR3/2h/MkO491AfvTo0dKzZ08C+bB9+nNiCCCAAAIIIIAAAggggAACCCCAAAIIIIBA6AR83bt3L541a1a5HvI1EcZrIK9jxbcaOlDM4HPkmR+elU+PrJA6M5qKufg8Ob3PRfJq3tyym7iG6gaubs94ndYbzeqx6s+oUaOkR48e0qJFC4asCd1zkj0hgAACCCCAAAIIIIAAAggggAACCCCAAAJhKeC7+OKLywXyNRnGayB/+x8eENO9o3Te2EN2yS55//AyMa/GienZUaJ7dZZHn3taTmYY7wbyN998s3Tv3p1APiyf+pwUAggggAACCCCAAAIIIIAAAggggAACCCAQWgFft27dil955RV/j3AdP94G8gcPHhS3fP/99+KWAwcOiFtKSkrEFjtmvK01iLfl9X8sENOjg5hZcbJJNskW2SIfH/5YGrzZTEyf9v5lV2TcItt27PAH84WFheKWgoICsWXPnj3ilt27d4tbdu3aJW7Jz88XW4L1jNcw3g3kb7rpJrn44osJ5EP7nGRvCCCAAAIIIIAAAggggAACCCCAAAIIIIBAWAoEDeTdIF6n3SBep90gXqdtEK+1DeFtbYN4W2/buUMie58n5p4W8vYP78pXpf/+feTf0vpfXcQMaSumZ3s5+9r+8sGKf4Y8jNdAXo9Vfwjkw/I5z0khgAACCCCAAAIIIIAAAggggAACCCCAAAInRcB30UUXleshX5Nh/L59+/w3br3wlmFi+reT3+yfKP9y/n0un8tVu68TM7GZmEvOlZi+neXBGdPKesTXdM94DeO3b99eLpDv1q0bPeRPylOTnSKAAAIIIIAAAggggAACCCCAAAIIIIAAAuEl4LvwwgvLAnkdrsYN5E9kz3gbxmv92+wsf+Ae989W8ql8Kv90/unj5w++KJFvxou5op1/vY43XCXLV6/yB/PuEDU67Q5Ro9PuEDU6bYeo0bqyYWpsGO8G8jfeeKNcdNFF0qxZM27qGl7Pe84GAQQQQAABBBBAAAEEEEAAAQQQQAABBBAIuYCva9euxS+//LJ/iBY3kK+pMF4D+UUfvS+m1zlinkqU94+8L0uD/Ft8ZIm0//oiMbef7V+3Xt9O8uCMqf4A3obyNRHGu4H8DTfcIBdeeCGBfMifluwQAQQQQAABBBBAAAEEEEAAAQQQQAABBBAIPwHfBRdccFQgX5NhfFFRkewpKJDTr+gi5hct5C8HX5R/VPDvHXlHJpdMkTqvJoi5vI2Y3u3kgtFDZNUXn9dIz3gN491AfuTIkdK1a1cC+fB73nNGCCCAAAIIIIAAAggggAACCCCAAAIIIIBAyAV8Xbp0KX7ppZfKesjXdBivgbyW/v81WkzfNnL9rlEy7yf+5R2eL+2/6ibmzhZiLm0r9ft3koeenVYWyp+IYWpsGL9t27ayMeRHjBghF1xwgSQnJzNkTcifmuwQAQQQQAABBBBAAAEEEEAAAQQQQAABBBAILwFf586dywJ5HT/eDeQPHDggbikpKRFb9u/fL24pLi72B9m2dseM12kbxGu9d+9eeezVZ8T0aSP1FjSVOTJH0nYMkl8W/EpyJVdmB/n3v/K/8tvi+8W8GC+mf2v/tpfecb18s3FDuXHjj2XMeDeMDwzku3TpQiAfXs95zgYBBBBAAAEEEEAAAQQQQAABBBBAAAEEEDgpAr7zzz+/+MUXX/T3kHcDeTeI12kbxGvtBvE6bUN4W/9UGK+B/CefrxRzWWsxk5tKzuHX5Kbdt4q5saXUn99M7tv3e5l95K/yUpB/r/7wmpz9WWcxI872b590TXd556P3/aH8iQjjNZDX49ef66+/Xjp37kwgf1KemuwUAQQQQAABBBBAAAEEEEAAAQQQQAABBBAILwFfp06djgrkazqM10BeS8K13cXc0FIe3P+ITP3+STEZzX8M6TVsfy5BLt86RGYcelZmykyZ4fx7QV6QG/JvEfPbFP/6p6efJ7PfyhUbyO/cuVPcsmPHDnGL7RFvaw3hbfnuu+/KAvnhw4fL+eefTyAfXs95zgYBBBBAAAEEEEAAAQQQQAABBBBAAAEEEDgpAkcF8qEK4wsLC+X6B38lpm8r6bn+Cpl55HkxTyf6H+s8f0lvJeZ/kiX+vXNkYvED8tyR52Rq6b9pMk0e2P+wmKd+3KZ+egd5NW9OuSBeQ3k3iNdpG8Lb2gbxWmsYTyB/Up6H7BQBBBBAAAEEEEAAAQQQQAABBBBAAAEEEAh7Ad95551X/MILL/iHaNHx491A/kQPU2N7xmsYr+WZeTli0lLFvBovf5Y/S8on5/kfpw7vLSN+PVaaXnvxj8t1nZtaiHkxQYbuuFGyD0+XR0v/TT4wRcyzCf71fAM7yT+WvFMWyh9LGO8G8j/72c+kU6dOkpSUxE1dw/6lwAkigAACCCCAAAIIIIAAAggggAACCCCAAAI1K+Dr2LFj0EC+psN4DeTXbfxGIvqnipmYLFMOPS63Fd4lZkgLib6ireS8/pqsXLlSHn/uKel1+zX+eabf2f7l5ukEuXbnjfL4kcflAXlAHirJFDM5SXR5u5GXyef//vyYesYH9pAfNmyYnHfeeQTyNfscpHUEEEAAAQQQQAABBBBAAAEEEEAAAQQQQMATAv5A/i9/+Uu5HvKhCOM1kC8oKJB2P08Tc10Lub3gLsk8+KiY3yaL6d9SJjz2oHz11Veye/du2bp1q7z1j4Xys3tvk4aD2vuXm5HN5LS/Jct9+38nE2Wi3LT7NjG/TPEvG/0/d8umTZvKQnk7PI2tgw1TY8N43Ze9qasG8h07diSQ98RLgZNEAAEEEEAAAQQQQAABBBBAAAEEEEAAAQRqVsDXoUOHYjeQD2UYr4H8L5+YKObyFtLin53l/iP3i3khwf/4yrtvkBUrVvgD+V27dokWvWnrh598JCPuGyunXdnGv565r6kM/m6E/P7I76X1ygvFDGguvsEdJO/N+f5A3obwtv6pMN4N5K+77jrp0KGDJCQkMGRNzT4PaR0BBBBAAAEEEEAAAQQQQAABBBBAAAEEEAh7AV/79u2DBvL79+8XtxQXF4tbtBe5W4qKisQWO1a8re2Y8bbWIN6Wv747/8dg/elEue/IROm0pvePAf3w7vL3v//dH8TbQN6G8hrMv/XuIuk4ut+P245OkU5f9JJ79v9WzKSm/nnX/+Z2WbduXbmbuFYljHcD+aFDh0r79u0J5MP+ZcAJIoAAAggggAACCCCAAAIIIIAAAggggAACNS/gO/fcc4uff/75siFrtIe8G8TrtBvE67QbxOu0DeK1tiG8rW0Ib2sbxGu9Z88e2bJtq0QPbCVmXLLcU/Jbua0wQ8wNzaROekt57sXnZcuWLWWhvAbxtuzcudM/lM2ND2SIuaK5f5vOX/aRMz9uKya9uTQd1lUWLlxYFshXNYzXQF7PQ3+uvfZaOffccwnka/55yB4QQAABBBBAAAEEEEAAAQQQQAABBBBAAIGwF/Cdc8455QL5UIbxGshrufjuq8Vc3Uyu2jZCxh+8R8xDTcWkN5OMSffKl19+WTZcjRvGayBvy51TJvjXN79MFrP6LDFjk/2P//T0n2XDhg1SnTBevwCwgfw111wj55xzDoF82L8MOEEEEEAAAQQQQAABBBBAAAEEEEAAAQQQQKDmBXzt2rUrnjlzpr9H+IEDB8r1jq/JnvE2jNd64vOPihmQIo3+3kpulBslcnay/3HvX14tH330UVmveA3kbQhv6x07dvjHir/2d7f4tzF/ThLzeKJ/evi9t8jKlSvLAnl741Zba294t2gY7wbyQ4YMkXbt2klcXBxjyNf8c5E9IIAAAggggAACCCCAAAIIIIAAAghUQSDZGCNOSajCNoGr2O2/CViwzmlXF9n1tD5gjFlhjOlbuk0PY8ynxpj9xpg1xpghAW0Fbm/bcucHTgdpglkIhJWAr23btkED+VCF8bt375Z/LF8i5spkMVMS5ZYfbpMe3wwQMzBZzhrWUXJzc/0hfGVhvIby327ZJAkjzhdzTbKYnER/ez1+MVD+8Y9/+AN5G8Lb2g3iddqG8YGBfNu2bQnkw+opz8kggAACCCCAAAIIIIAAAggggAACtVvgptKgfHtpff0xnI6G4yXGmF3GmPNKtz/XGLO7NHjX5frjhugXlD7eXLpsuTHmoDGmd+n8/NL5buVu7853p6uyjrs+0wjUZoGggXwow3gN5Hfm75RG17UV88skubnoVrmp6BYxY5PEDGwqT8z4s2zcuLHCnvG2h/z27dvlqf993r+NeTDRX7e5uYf87W9/8/eCt0G81pWF8Zs3by4bskZ7yBPI1+anN8eOAAIIIIAAAggggAACCCCAAAIIhJ/A86UB+AOl9YzSU4wqfbzNGHNnadi+1RhzbRACDcEPG2PmGGN+V7p8QuljNyB3pzuVtr8xoL2zS+evDJivD93t3cXufHe6iTHmBWPMztIvB/5mjDmWvwBw98U0AqeSgK9169bFzz33XNmQNaEO4zWQ1zLgf24QM6ipXPRVf7n+hxFiHvsxkL954i9l9erV5QJ5G8LbWsN4LVu2bpEzhncQc2OSmKubSux150pOTo4/0LeB/E+F8W4gf/XVV0ubNm3oIX8qPWM5FgQQQAABBBBAAAEEEEAAAQQQQMDjAjrMzA/GmLNKe6ivdTw03NZlNxpj+pcG4huc5XbShuC3lw47o/M/MsbcFhCi2/W01gD/386QNW5b2lvf9rS387V2t7fT7vzA6ZzSbS42xnQrnf6r2yDTCNRyAV+rVq3KAvmSkhJxA/l9+/aJW/Rmp7bs3btX3FJYWChuKSgoEFvc8eJ12obwtt61a5f8cXa2mEFJEvlqivSSXtLwzVb+xxfc1k/efffdskDehvC2tmG8rcdk/Zd/O3NVkjS8trW8/PLLsnbtWqlKz3gN491AfvDgwdK6dWs588wzGUO+lj/ROXwEEEAAAQQQQAABBBBAAAEEEEAgHASalYbUOna7/nxc+ljHldcfG3rXM8bULX18pHSZW9n1dDtdfmFp4J7ktOG2524bON21dJv3AxcEtOUutvvXee50sfPYztdhdPhBIFwEfKmpqcXPPvusv4e8G8i7QbxO2yBeazeI12k3iNdpG8RrXZUwXgP55f/+TMxViWIeTJIhB4dK702DxAxNlNOHpsobc97wjwNvQ3hb2xDe1tu2bZPP1vyftBh9oUQPaSYjfnOLzJo1S7788sufHKbGhvFa6znpz1VXXSWtWrUikA+XZzvngQACCCCAAAIIIIAAAggggAACCNRygVFBAmsNrrVHvP7YELv04VGPg83XoWbeNsbomPD647bhTpcuPqqKLN1Gb+4a+FPR9u58d3pHaVv6hQI/CISjgO/ss88+KpAPdRivgbyW5NGdxYxOkAH518rgfUPFjE8UMzhBHnwiU9atWyc2iNfahvC21jDeFh1zft68ef7e8e+9956/17s7VI17A1c3iNfpTZs2lQXygwYNktTUVAL5cHzmc04IIIAAAggggAACCCCAAAIIIIBALRTQ8dU1wP556bHbgH5m6WM33NZZgY/tKbvzHyldz44l7y5zp+22ttZe+geMMZeWbv9Pu8CpK9rene9Ov1jalp6Xtqsh/zynPSYRqO0CvpYtWxY/88wzZT3kT1YYn5+fLzf88Zdiro6X1OUXyYWHLxIzNdH/+Jp7b5RPP/20LJC3IbytbRCvtR0rXmsN3t0gXqd/KowPDOTPPvtsAvna/izn+BFAAAEEEEAAAQQQQAABBBBAAIEwEdDx4DXAbl16PvaGqutLH7vhts4KfGwZ3Pk9StfrEqQNdz27ra01MF9tjCkxxnxmjLnALnDqirZ357vTelNXvWmtjkm/1xjzljGmhdMekwjUdgFfixYtygL5/fv3h2zMeNsrXmsN47U8+9bLYobEiXm6qbQ90k4SFp/nf9zulotl0aJF/kDehvC2riiMr86Y8bZnvIbxbiA/cOBAadmypcTGxjKGfG1/pnP8CCCAAAIIIIAAAggggAACCCCAAAIIIIDASRbwNW/ePGggX9NjxttA3obxWn+5fp3UuSZBzG8TpPf+vnLJ1nQxN8RL1LVJ8tKsl/1Dz9ggXuuaCOPdQP7KK6+UFi1aEMif5Ccpu0cAAQQQQAABBBBAAAEEEEAAAQQQQAABBMJBwNesWbPiGTNm+IessT3kT0YYv3PnTtFy7p09xYw8S7pvvlwuKe4jZkKimGvOkv9+dIKsWbOmbOz4mgrjv/3227Ix5AcMGCDNmzcnkA+HZzrngAACCCCAAAIIIIAAAggggAACCCCAAAIInGSBowL5kxnGayB/5/R7xVx7psQuaC9JPzQVMz3J/7j/fw2Rjz/+2B/I12QYTyB/kp+R7B4BBBBAAAEEEEAAAQQQQAABBBBAAAEEEAhTAV9KSkpZD/ni4mKxgfzevXv9PcVtXVhYKG4pKCgQW/bs2SNu2b17t7jFDk9ja3eYGtsz3tZ/XTJXzNAzxGQlSbuD58rZn1zsf5wyuoPMmzevxoap0SDeFj1n/UlPT5dmzZpJ48aNGUM+TF8AnBYCCCCAAAIIIIAAAggggAACCCCAAAIIIBAqAV9ycnLx008/7Q+gbSBvQ3hbu0G8TtsgXms3iNdpN4jXaRvC78zfKctWfyR/zntGfvPiA3LLk3fJzU/8Uu54+h75n1celhlv/UXeW7lMNm7+Vk67PkHMf8XJpXuukEu/u1LMrWdKxHVnSPbM6bJ+/Xp/KK83bXXL1q1bxS1btmwRW/SmrW6xN2+1tQ3ibe0G8ikpKQTyoXo2sh8EEEAAAQQQQAABBBBAAAEEEEAAAQQQQCCMBXxNmzYtF8jbEN7WxxvGr1q3Wn713G8l7pbWYoY1+cniu7m5nDYiXsz1TaTLvy+Xi4p7inkw0b/d7ZMyZPXq1eWCeA3l3SBep20Qr7UbxOu0DeFtbUN4W2/cuLFsDPkrrrhCkpOTCeTD+AXAqSGAAAIIIIAAAggggAACCCCAAAIIIIAAAqES8Afy06dPL+shb4N4rY8njP960zcy5skMibo+7scQ/uZYMfcniJmaLKfNSpWkRV0lZdFFEv9mZ6kzs7mYx5uKmZAg5udnlIX29V5pJWfuT5Sov7T0z+txdz9ZvHhxuUD+RIfxbiB/+eWXS9OmTQnkQ/VsZD8IIIAAAggggAACCCCAAAIIIIAAAggggEAYC/iSkpKKgwXyxxPGz/voLYm/rbWYnzUWc9sZUnd6C+n+xUC5de8dctf+cTKx5H6ZuP9+Gb3vFrmkqI80KGoizfe1lh670+SSbwaJ7432YibEi3kkUboUdpfzPuvn7zEfe3MLeeONN/w94GuiZ7yG8Vr03PWnf//+kpSUJI0aNWIM+TB+EXBqCCCAAAIIIIAAAggggAACCCCAAAIIIIBAKAR8iYmJxdnZ2eV6yB9PGP/M3/8iUSPPFDOysURkJUu/r34mE4rvl7klufLegfdkUckiyd2fK7P2zZLpRdNlcuFkuWPPndJ4T7yYgnr+clqBT3pvv1JS3usu3Xb3kT5brhJz95lihvvkselTZN26dSd8mBobxm/YsKEskO/Xr58kJiYSyIfimcg+EEAAAQQQQAABBBBAAAEEEEAAAQQQQACBMBfwJSQklAvkjyeMf/HtV6XOiMZift5EGv61gwzbc6M8U/ysvFr8qryy7xV5Yd8LMqNohjyx9wl5pPAR+e2e38odu+6QkfkjpdPOLmLy6wctHfO7iclMEnN9I7n+/ptlxYoV5QL54x0z3g3j3UA+LS1NEhISCOTD/EXA6SGAAAIIIIAAAggggAACCCCAAAIIIIAAAqEQ8MXHxxc/9dRT/h7y+/btKzdufEFBgdiyZ88eccvu3bvFLR9+/rHEjDpLzGifJOZdKD13psnvC34vDxc+7C8PFTwkvyv4nfxmz2/kV7t/Jbftuk1G7BwhA3cMlEu2XSJNv2suZtvpQUvktsbSMKe9mBENpVPGxbJw4cKyQP5Eh/GBgXx8fLycfvrpDFkTimcj+0AAAQQQQAABBBBAAAEEEEAAAQQQQAABBMJYwBcXFxc0kLdBvNZuEK/TbhCv0/n5+XLBfZeIueF0qfd8Gzl3aze5cudVMjp/tIzZNcZfdPrG/BvlZzt/JoN3DJZ+2/tJ923dpcPWDpK8OVnqbGooZlOjCstFnw0SM6qhxNx0prwy6xX59ttv/WPJ20B+8+bN4pZNmzaJW3R9t9he8VprCO8WO4Z83759JS4ujkA+jF8AnBoCCCCAAAIIIIAAAggggAACCCCAAAIIIBAqgaCBfHXC+F27dslf3n5ZzLMng4IAACAASURBVMjTxdwfL72+GSzmmyZy0XfdpPe23tJnex9/0eke23pI1++6SsetHSV1S6okbE6QBt82FLP+dP82ul1Fpfc3V4v59Vn+/dybNUH+/e9/lwXybhCv024Qr9NuEK/TlYXx69evLxtDnkA+VE9D9oMAAggggAACCCCAAAIIIIAAAggggAACCIS/gO+ss84q10O+umG8BvKXPNBPzE2nS+tFl0mdL88S8+UZ0uCbsyRlc4o029JMmm1u5u8FrwF87KZYafBtA6mzoa6Yb04TszbWv75uU1mJ/+ociZjSTMwNDaT/rwfKBx984A/kT3QY7wbyl112mZx11ln0kA//1wFniAACCCCAAAIIIIAAAggggAACCCCAAAII1LiA78wzzyx+8skn/WPIFxUVVXnMeA3itWzYslHq3txQzD1nSu81Q8WsjvtPWdNEzFcxYr6OFrM+8sd6XYyYLxuJWX3Wf9Zzt6lk+qycrmJurC8X/KqH5Obmlhui5kT0jNcw3g3k+/TpI2eeeSaBfI0/DdkBAggggAACCCCAAAIIIIAAAggggAACCCAQ/gK+M84446hA/qfGjLdhvNbzP3lLzE0xYh5OktT/6y7mn4k1VuJzuvn31flX3eS1117zD0Vje8gf7zA1NozXWv9KQH8uvfRSOeOMM6R+/frc1DX8XwucIQIIIIAAAggggAACCCCAAAIIIIAAAgggUKMCvtjY2OI///nPZT3kqxPGayD/8uJZYm6uJ2ZKM2nySQcxH6TUSIn75HyJ+GNz/776/SZdZs+e7R8L/kT2jNcw/ptvvikXyMfGxhLI1+hTkMYRQAABBBBAAAEEEEAAAQQQQAABBBBAAAFvCPiaNGlSFsjv3btX3EB+9+7d4ha3Z7xO5+fny9yP5v0YyD+cLGd/eKmYd1vUSOnz0Q1ixp/h39edD98leXl5/iFrTmTPeA3j3UC+d+/e0qRJEwJ5b7wWOEsEEEAAAQQQQAABBBBAAAEEEEAAAQQQQKBGBXyNGzcunjZtmr+HvBvIu0G8TgcL4zWQX/ftOqkzOkbMr8+QPstuEvP3Vie8pL7XV0576hwxo06TuNuT5ansp/w3da2JMN4N5Hv16iWNGzcmkK/RpyCNI4AAAggggAACCCCAAAIIIIAAAggggAAC3hDw+Xy+owL5qobxGsjv3LlT+jzcT8zPT5MmM7tK4oJeYv633Qkrzf7eVxJn9RJze4yY0dEy9uE7/OPHr1mzRtxA/ttvv/WPKW/rjRs3+oe00XrDhg3lijtevB2mxvaOdwP5Sy65RHw+n9SrV48x5L3xeuAsEUAAAQQQQAABBBBAAAEEEEAAAQQQQACBGhPwNWrUqHjq1KllPeSrG8ZrIP/2ynck8pYYMXc2kI6518hpr3cRk9PhuMt5C66VxJd6i7mjvpifR0n6hIHyzDPPyNKlS2ssjP/666/LxpDv2bOnNGrUiEC+xp5+NIwAAggggAACCCCAAAIIIIAAAggggAACCHhHoFwgX1hY+JNjxmuveNszXsN4Wya+er+YMZFi/ruxnPe36yT21UvF/OX8YyoNXukhly64RepMSRVz22n+dnvf20emT58uCxcuFO3VbnvH2x7xtj6envEaxhPIe+fJz5kigAACCCCAAAIIIIAAAggggAACCCCAAAKhFPCdfvrpZT3k3UC+ojHjg4XxO3bskO3bt8vgPw4Rc0tdMXc3kPjne0uv3Fuk7oyuYp7uUqVy+sye0mferRL7XHcx9zT2txV1Wz257nfDJDs7WxYsWOC/6WpNhvEayOuNbfVHe8g3bNiQHvKhfEayLwQQQAABBBBAAAEEEEAAAQQQQAABBBBAIEwFfA0aNCh+4okn/AG0DeSrG8ZrIK9l27ZtMnraGIm4NVKMlvviJen5y+TS3Fuk8+s/k/iZfcQ8eV5ZafRMdznn1SHS639/Lt3+dqM0mNZZzK9jfwz1b6krKRnNZcJj98kLL7wg7777bkjC+K+++qoskO/Ro4ecfvrpEh0dzRjyYfoC4LQQQAABBBBAAAEEEEAAAQQQQAABBBBAAIFQCfjq169fLpA/1jDe9pLXnvLT5z4tze5uIebWOj+WX50u5v4EMY+0kAZPdJLGT3aVRn++QMwfUsU80FTMvbFixkaVrd/0rhS5ZdKt/l7xb7zxhnz22WdlQ9Ro73g7PI2tT8QwNdozXsN4N5Dv3r27NGjQgEA+VM9G9oMAAggggAACCCCAAAIIIIAAAggggAACCISxgC8mJqbCQN6OF1/RMDW2Z7wbxmsgr2XdV+vkN9N/I+ff01mibo8Wc1tEpcX3y8bS/d4eMvaRsf4gfvbs2fLxxx+XGy8+FGG8G8hffPHFUr9+fQL5MH4BcGoIIIAAAggggAACCCCAAAIIIIAAAggggECoBPyB/J/+9KeyIWtsD/njCeN16BpbvvjiC8l9M1fu//P9ctOkm+SKiVdI/4n9/eXa318rYzPHyu8f/70888wz8sorr/hv2rpixQrZsGFDuV7xoQrj3UC+W7duEhMTQyAfqmcj+0EAAQQQQAABBBBAAAEEEEAAAQQQQAABBMJYwFevXr3iwED+RIXx3333ndiydetW0WFhVq1aJR9++KF88MEHsmzZMvnkk09k9erVosG9Dj2zefNmf7E3brW1HZ7G1id6mBo7XM26devKxpC/6KKL9IauEhkZyRjyYfwi4NQQQAABBBBAAAEEEEAAAQQQQAABBBBAAIFQCPhOO+204scff7ysh3xNhPEaymsg75YtW7aILTaEt7UN4W1tQ3hb12QYHxjIn3baaQTyoXgmsg8EEEAAAQQQQAABBBBAAAEEEEAAAQQQQCDMBXzR0dFlgXxBQYHYQH7nzp3iFne8+GBjxtsharS2veJt7QbxOm2DeK1tCG9rG8Lb2obwtq7pMN4N5C+88EIdroZAPsxfBJweAggggAACCCCAAAIIIIAAAggggAACCCAQCgFfVFTUvilTpvh7yNtA3g3iddpLYbwbyHfp0kWioqKkTp06vzPGNAnFL4R9IIAAAggggAACCCCAAAIIIIAAAggggAACCISnQMPIyMit99xzjz+QLyoqKtcr3oth/Nq1a2X//v1y5MgRSUpKsoH8OAL58HwBcFYIIIAAAggggAACCCCAAAIIIIAAAggggECoBKIjIyP/0apVKzl48KAcPnzYf0NT20Peaz3jtXe8nrv+vPPOOzpUjZYSY8xVxhhfqH4p7AcBBBBAAAEEEEAAAQQQQAABBBBAAAEEEEAgDAXq1q17U926dY/cfffd/l7hGkZrMP/DDz/USDl06JCEquiXDNUp2itef3Qc/Hbt2kndunW1/N0Y09sYUy8Mf/2cEgIIIIAAAggggAACCCCAAAIIIIAAAggggEAIBRpFRETk1alTR9LS0iQ3N1e++OIL+frrrz1XVq5cKU888YQ0bdpUx43XssUYc6Mxpn0Ifx/sCgEEEEAAAQQQQAABBBBAAAEEEEAAAQQQQCCMBVKMMfMiIiK+j4iIEIrf4P+MMb8wxnQ3xjQO4989p4YAAggggAACCCCAAAIIIIAAAggggAACCCAQYoEEY8x/GWPmGmM+MMYs92D52BijQ9RMNsZcVxrGqws/CCCAAAIIIIAAAggggAACCCCAAAIIIIAAAgicUIFIY0wbY0x/Y8xAD5YrjTH9jDE9jDFtjTENT6gujSGAAAIIIIAAAggggAACCCCAAAIIIIAAAgggECAQYYyJNsbU92CJMcbUDfDgIQIIIIAAAggggAACCCCAAAIIIIAAAggggAACCCCAAAIIIIAAAggggAACCCCAAAIIIIAAAggggAACCCCAAAIIIIAAAggggAACCCCAAAIIIIAAAggggAACCCCAAAIIIIAAAggggAACCCCAAAIIIIAAAggg4EWBRGPMFC+eOOeMAAIIIIAAAggggAACCCCAAAIIIIAAAggggEAoBc42xvw9lDtkXwgggAACCCCAAAIIIIAAAggggAACCCCAAAIIeFGAQN6Lv3XOGQEEEEAAAQQQQAABBBBAAAEEEEAAAQQQQCDkAgTyISdnhwgggAACCCCAAAIIIIAAAggggAACCCCAAAJeFCCQ9+JvnXNGAAEEEEAAAQQQQAABBBBAAAEEEEAAAQQQCLkAgXzIydkhAggggAACCCCAAAIIIIAAAggggAACCCCAgBcFCOS9+FvnnBFAAAEEEEAAAQQQQAABBBBAAAEEEEAAAQRCLkAgH3JydogAAggggAACCCCAAAIIIIAAAggggAACCCDgRQECeS/+1jlnBBBAAAEEEEAAAQQQQAABBBBAAAEEEEAAgZALEMiHnJwdIoAAAggggAACCCCAAAIIIIAAAggggAACCHhRgEDei791zhkBBBBAAAEEEEAAAQQQQAABBBBAAAEEEEAg5AIE8iEnZ4cIIIAAAggggAACCCCAAAIIIIAAAggggAACXhQgkPfib51zRgABBBBAAAEEEEAAAQQQQAABBBBAAAEEEAi5AIF8yMnZIQIIIIAAAggggAACCCCAAAIIIIAAAggggIAXBQjkvfhb55wRQAABBBBAAAEEEEAAAQQQQAABBBBAAAEEQi5AIB9ycnaIAAIIIIAAAggggAACCCCAAAIIIIAAAggg4EUBAnkv/tY5ZwQQQAABBBBAAAEEEEAAAQQQQAABBBBAAIGQCxDIh5ycHSKAAAIIIIAAAggggAACCCCAAAIIIIAAAgh4UYBA3ou/dc4ZAQQQQAABBBBAAAEEEEAAAQQQQAABBBBAIOQCBPIhJ2eHCCCAAAIIIIAAAggggAACCCCAAAIIIIAAAl4UIJD34m+dc0YAAQQQQAABBBBAAAEEEEAAAQQQQAABBBAIuQCBfMjJ2SECCCCAAAIIIIAAAggggAACCCCAAAIIIICAFwUI5L34W+ecEUAAAQQQQAABBBBAAAEEEEAAAQQQQAABBEIuQCAfcnJ2iAACCCCAAAIIIIAAAggggAACCCCAAAIIIOBFAQJ5L/7WOWcEEEAAAQQQQAABBBBAAAEEEEAAAQQQQACBkAsQyIecnB0igAACCCCAAAIIIIAAAggggAACCCCAAAIIeFGAQN6Lv3XOGQEEEEAAAQQQQAABBBBAAAEEEEAAAQQQQCDkAgTyISdnhwgggAACCCCAAAIIIIAAAggggAACCCCAAAJeFCCQ9+JvnXNGAAEEEEAAAQQQQAABBBBAAAEEEEAAAQQQCLkAgXzIydkhAggggAACCCCAAAIIIIAAAggggAACCCCAgFcEOhpjLiw9WTeQP80Yc5Mxpq5XIDhPBBBAAAEEEEAAAQQQQAABBBBAAAEEEEAAAQRqUqCBMWavMWalMeY1Y8x6Y8xfjTE7jTEv1eSOaRsBBBBAAAEEEEAAAQQQQAABBBBAAAEEEEAAAa8JvGCMkSCln9cgOF8EEEAAAQQQQAABBBBAAAEEEEAAAQQQQAABBGpSoG+QMH4zw9XUJDltI4AAAggggAACCCCAAAIIIIAAAggggAACCHhRoI4xZmNAKJ/pRQjOGQEEEEAgqMA/jTEUDLz4HLg16CuCmQgggAACCCCAAAIIIIAAAggcp8AjAYF8h+Nsj80RQAABBMJHINiwZswLPtwbLuHlcn/4vIw5EwQQQAABBBBAAAEEEEAAgVNJoI0TyH9yKh0Yx4IAAgggcNIF/CFz48aNC9q2bfs1BYNwfg60atVqg/N/IgL5k3754QAQQAABBBBAAAEEEEAAgfAVWFn6AfSu8D1FzgwBBBBA4BgE/IF8enr6hyLyAAWDcH4OfPXVV48SyB/DVYJNEEAAAQQQQAABBBBAAAEEqi3wgDHmiDHmrGpvyQYIIIAAAuEsQCDPFxGe+SKGQD6cL2WcGwIIIIAAAggggAACCCBwagmkGGMWn1qHxNEggAACCJwCAmEVyGvvZ9vD2+kJLfXr19/fuXPnNbm5udPtcq3z8vKyW7ZsuSkqKupgcnLydzk5Oc+4ywOnFyxY8FTLli2/1fUTExO3zZo169nAdSp6rMfzzjvvTHOXr1ixIisiIuKIO6+iaR1upaJllc13TSpb71jbr6zNU20ZgfwpcMXhEBBAAAEEEEAAAQQQQAABDwkkeOhcOVUEEEAAgaoJhHUgr4HwoUOHHly2bNkTw4YNW1yvXr2S+fPnZ9ugOCUlZWtGRkbe7t27H9Y6MTFxu10WrE5JSdkyduzYN3X9u+++e15SUtK2YOsFmxcZGXnojjvueNNdNm7cuHmRkZE/uPMqmm7UqNHeipZVNr+qgfyxtl/Zvk+1ZQTyVbsosBYCCCCAAAIIIIAAAggggAACCCCAAAII1IxA2Afybig8fPjwd7t06fK5nTdnzpynDx8+7B+yZceOHY9ERUUdWrlyZZaG5/n5+Y/oegUFBQ9rj/hVq1ZNmT179gwN+HX+1q1bM6Ojow9u27YtU2+Ka3vLa92kSZMCnW/3o3WdOnWODBo0aJk779prr13iBua6j3bt2n2t+2vduvX6jRs3Ttb127Zt+42up0W/UMjOzn4xISFhux5nXFxc/tSpU1+27S5atOhJ/WJB/yogMzPzNbf9irarTvt2P7WxJpCvmYsIrSKAAAIIIIAAAggggMCpK5BujJlNwcCjz4EGp+5LkyNDAAEPC3gqkNfAu379+sWBYfL333//oPZ879Chw1pdpj3ns7KyXtFpDbu1Z3zgNg8//PBrbdu2/VrnP/roo682b958s7bTrFmzzY899tirgetrMK495F9//XX/sDg6/M3YsWPfcgPzrl27/ktDew3zBw8e/H5aWtonth13vYSEhB1ZWVmzCgsLJ40fP35ubGzsHrtep06dvhg2bNi7+oXBddddp8PVlQ3jU9l2VV3P7qc21gTyHr7SceoIIIAAAggggAACCHhU4C79sEfBwKPPgSYefd1z2gggcGoLeCqQ197udevWPRwYJuv7ks/n27t48WL/GO/akz49Pf1DXW/gwIEfDB8+/B13G+2FHhsbu/vNN998ys7XnvcdO3b88sILL/yXnefWuo8lS5ZMHTBggL/dIUOGLNUx5XW+XU97ta9du/YxfbxmzZo/NmnSpCxod9ez62tdVFQ0yV3WoEGD4i+++MLfhvb2d5dVtl1V13PbqG3TBPKn9sWIo0MAAQQQQAABBBBAAIETL1AWyDdu3LhQP8hSMAjn50BMTEyJBhylhUD+xF9TaBEBBI5fwFOBvPZK1+A9MEguKSl5SHuvp6ambtRlf/vb356Oj4/fodM6/MvcuXPLbgarN4LV964ZM2a84Lajj/V6HzjfrmMDb92H9qRv06bNel1m5+u0fllQ+p7h/72448u76+k+tNd+dHT09zoUjrtM29Dz0fYCw/rKtnPbqGw9ez61sSaQP/4LBi0ggAACCCCAAAIIIIBA7RIoC+S1h1ht/CDHMYt/nF0cquagQwY4wQqBfO26XnG0CHhFwFOBvPZ279mz52f2fUyHpdFwXB/bMeTtMh0X/o033pih48HbedrjPFgYr8t1zPf+/ft/3KpVqw12fbe2gbcOQzNmzJiFaWlpy3W5na/TPp+vUIeacbez0+56DRs2LJowYcIcXVeHt3GX6ZA8tof88uXLH3eXVbZdVdezx1MbawJ5r1zWOE8EEEAAAQQQQAABBBCwAgTyUrUgtzZ+yOWYj/7dEsjblz41AgicwgKeCORXrFiRNWLEiLdjYmL222Fp9H1Lx4rXseN37979cEZGxnx9bN/PNDjv1KnTmn79+pWN496tW7f/u/322xfYdWx93333zTn33HO/0sepqakb9LFdZmsbeE+ePDlHg/fMzMwcXWbn63Tv3r0/1XHf9Yay48aNy23Tps03dnsdzmb16tVT9LGG/zoWvQbMemNYXbZ06VJ/Z4f27duvGzly5Nsa1OuyiIiIsiFxKtuuqu3b46mNNYH8KXwl4tAQQAABBBBAAAEEEECgRgQ8G8jrh20dJ9b98KrhQERExBE7T9exJTo6+qB+CNcxau1y/RP5li1bboqKijqYnJz8XU5Ojv+mcHa5rd0P9nae1hXNd9ep7nRNtFndYziV1yeQr5HrCI0igMCJFQjrQN59X9WgWt9L3fcNHYpGh36Jioo6lJSUtM19b33iiSde1jBbb+pqt9HHtk1bz5kz52kdis+OJ//qq68+26hRo72BPd3te6bO1/dyu9zO131oz3Ydh16HotEhc2bOnPm83ffEiRPfqFev3gF9PHv27Bk6LJqOMT9t2rSXhg4dukTb1GW5ubnT4+Pjd+qXD5MmTXpdz80OYVPZdlVt3x5PbawJ5E/sxYPWEEAAAQQQQAABBBBA4NQX8GwgHxkZeUjHpnU/vI4bN25eRWPD6p/Njxo1alHz5s032220115GRkZeaS++PB3T1i5za/eDfVXmu+tUd7qifVW3nXBdn0D+1L8ocYQIIPDjl8H2Bqbhej3mvI7+Ky4vmhDIc8VDAAEEEEAAAQQQQAABrwl4NpDXG64NGjRomfvhV/+M3A203WldT0N57Slvt9EeeIcPH/aP4R44zq1dR+vAduwyd/6qVaumtGvX7mvtTad/vr5x48bJdr3s7OwXExIStuuXCHFxcfluz0Dtsa9fBOiftWdmZr5WlTaLi4sf0l5611xzzXvaS8/uxws1gbzXLnGcLwK1UiCsesh74b2Fczz2LxcI5GvlNYqDRgABBBBAAAEEEEAAgeMQ8Gwgr8G19pDX8V71g/SCBQueGjt27FtuoO1Oay/40aNHL9RxaAM/eOvN53S82w4dOqwNXKaP3Xbc5e78rl27/ku/INDxZQcPHvy+jpNr101ISNiRlZU1q7CwcNL48ePnxsbG7rHLOnXq9IWGzPpn9jrGbVXbrFOnzmH9AkLPy7blhZpA/jiuFmyKAAKhEvAH8gkJCfu7deu2k4JBOD8HLrjggnz9v0tpeTlULzL2gwACCCCAAAIIIIAAAgicLAFPB/JLliyZOmDAgA81iB4yZMhSHVPeDbSdD4iiPcl1DHndJjC41vV8Pt9e96Z07jpuO4HTdj3t4b527drH9PGaNWv+qGPQ2mVuXVRUNEnbsPMaNGhQrOPb6uOVK1dmucsqa1PXszeis215oSaQP1mXGvaLAALVELDhJPV/glosvGHxdjVeJ6yKAAIIIIAAAggggAACCNRKAU8H8hpAp6ambtQe7m3atFmvj91A252uLKzWG7Npb3ttK9h6FbXjzq9bt+5hfWyLO5b9jBkzXtAb3OkN5XSoncDt7I3hAsP6ytrUNuxwO8GOOVznEcjXyusUB42A1wTK3gvsewL1f94fsQhrCwJ5r13tOF8EEEAAAQQQQAABBDwo4PlAXoeGGTNmzMK0tLTlGkLrB30bRrvTdp5bZ2VlvaJhvs473jHkfT5foQ4747Zvpxs2bFg0YcKEObpch7Rxj6t+/fplPeSXL1/+uLussjbd9ex+vFATyHvwKscpI1D7BPyBPDd1PfZxyb3wfhYu58gY8rXvAsURI4AAAggggAACCCCAwPEJeD6Qnzx5co4G15mZmTn64dYNqt3pYB98U1JSturY8ToOe0ZGxnx9HGy9itpx5/fu3ftTHQM+Pz//kXHjxuXq8Di2Lb3Jq451rx9addx3HYpm6dKl/qFz2rdvv27kyJFva1CvyyIiIsq+UKisTXffdj9eqAnkj++CwdYIIBASAQJ5IYz3wnuyniOBfEiuKewEAQQQQAABBBBAAAEETiEBzwfy2us8KirqoO2d7gbV7nSwD8Zz586drkPJ6PjySUlJ23Jycvw3iA1ct6J23Pk6DnzHjh2/1GFp4uPjd8ycOfN5287s2bNnxMTElOi48tOmTXtp6NChS/SYdXlubu70+Pj4nTExMfsnTZr0uh6LHcKmsjbdfdv9eKEmkD+Frj4cCgIIVCTgyUBe35f0Xi7ue9GKFSuyIiIijth5uo4t0dHRB/XL60WLFj1pl+fl5WW3bNlyk75HJicnf3c878u2zeOtvfp+W1U3AvmKLgPMRwABBBBAAAEEEEAAgXAV8GwgX9UPiqwXXr0UCeTD9VLGeSEQVgKeDOQjIyMP6f1Y3PfdcePGzXPvqeKG2zpU3KhRoxY1b958s91G/1ItIyMjr/Qv1/ISExO322Vu7bZTlfnuOtWdrmhf1W0nXNcnkA+raxcngwACCCCAAAIIIIAAAlUQIJDnz+IfCNcP+cHOi0C+ClcFVkEAgZMt4MlAXm9aPmjQoGXutVuHYnMDbXda19NQXnvK223mzJnztL1h+fHe22XVqlVT2rVr97X2tteh4zZu3DjZ7ic7O/vFhISE7folQlxcXP7UqVNftsu0x75+EaDDy2VmZr7mHnNFbRYXFz+kf+l2zTXXvKd/6Wbb8kJNIH+yLzfsHwEEEEAAAQQQQAABBEIt8Jh+UNSSmpq64dxzz11HwSCcnwNnnnnmLvucN8YkhPoFx/4QQACBKgh4MpDXa7P2kNd7pmgQvWDBgqfGjh37ls63wbQ7rb3gR48evVD//2KX21pvuK73eOnQocNaO8+t3XYqmt+1a9d/6RcEeo+WwYMHv683gbfrJiQk7MjKyppVWFg4afz48XNjY2P32GWdOnX6Qr/81aHw9N4w7r4qa7NOnTqH9QsIPS/blhdqAvkqXBFYBQEEEEAAAQQQQAABBMJK4K/6QZGCgUefAy3D6tXMySCAQLgIeDaQX7JkydQBAwZ8qEH0kCFDluqY8m6g7b5XaU9yHUNetwkMrnU9n8+3d/HixeXGpLfrue0ETtt1tIf72rVrH9PHa9as+aPex8Uuc+uioqJJ2oad16BBg2K9h4s+XrlyZZa7rLI2db3Vq1dPse14pSaQD5fLFueBAAIIIIAAAggggAACVRUgkOcLCS9/IUMgX9UrBeshgEAoBTwbyGsInZqaulF7uLdp02a9PnYDbXe6ssBavCxy5wAAIABJREFUb26uve21rWDrVdSOO79u3bqH9bEt7lj2M2bMeEFv6q43YtehdgK3szdXDwzrK2tT27DD7QQ75nCdRyAfyksL+0IAAQQQQAABBBBAAIFTQeDX9oPm448/Pic3N/cFCgbh/Bzo37//Z/Y5b4w541R4EXIMCCCAQICApwN5HRpmzJgxC9PS0pZrCO2G3e50sIA6KyvrFQ3zddnxjiHv8/kKddiZYPtp2LBh0YQJE+boch3Sxj2u+vXrl/WQX758+ePussradNcLts9wnUcgH/Dq5yECCCCAAAIIIIAAAgiEvQA3deWmrtzUNexf5pwgAgjUMgFPB/KTJ0/O0eA6MzMzR0NoN6h2p4MF1CkpKVt17Hgdhz0jI2O+Pg62XkXtuPN79+79qY4Bn5+f/8i4ceNydXgc25be5FXHutcwWcd916Foli5d6h86p3379utGjhz5tgb1uiwiIqJsOJvK2nT3bffjhZpAvpZdnThcBBBAAAEEEEAAAQQQOG4BAvkKAnn9YKxj17ofhlesWJEVERFxxM7TdWyJjo4+qB/WFy1a9KRdnpeXl92yZctNUVFRB5OTk7/Lycnx36jOLre1bUNr/VDfuXPnNbm5udPt8p+qW7VqddQN7X5qG68u1xvtOd5NjvsVRAMIIIDAiRfwdCCvvc71fdP2Ttdrtn3PcqftPLeeO3fudB1KRseXT0pK2lbZ+667nZ1229dx4Dt27PilDksTHx+/Y+bMmc/b9WbPnj0jJiamRMeVnzZt2ktDhw5dosesy/X9Oz4+fmdMTMz+SZMmva7HYoewqaxNd992P16oCeRP/AWEFhFAAAEEEEAAAQQQQODUFiCQryCQj4yMPKTjz7ofhseNGzfPHUPW/fCsfxo/atSoRc2bN99st9GeeRkZGXmlPfXyEhMTt9tlbm3bOXTo0IPLli17YtiwYYvr1atXMn/+/Gx3vYqmGzVqtLeiZcyXcn8BQCB/al+QODoEEPALeDKQ5/2q/PuVVzwI5LnqIYAAAggggAACCCCAgNcECOQrCOT1Jm2DBg1a5n4g1j89t+G5znen9bGG8tpT3m4zZ86cp+0N2qo7lu3w4cPf7dKly+e2rezs7BcTEhK26xcFcXFx+VOnTn1Zl7Vt2/YbPQ4tGuBXtJ5tx+s1gbzXLnGcLwK1UoBAvoL3Zq+/h4Xj+RPI18prFAeNAAIIIIAAAggggAACxyFAIF/Bh34NuLWHvI4Rqx+AFyxY8NTYsWPfckN4d1p7wY8ePXphamrqUcPH6A3mdEzbDh06rA32Ydptxy5ftWrVFL0xnH2ckJCwIysra1ZhYeGk8ePHz42Njd1jl7nbV7aeXd/LNYH8cVwt2BQBBEIl4A/kk5OTtw4YMOADCgbh/BzQm/fq/2NKy7RQvcjYDwIIIIAAAggggAACCCBwsgQI5CsJ5JcsWTJ1wIABH2qAPWTIkKU6prwbfjsfIEXHiNUx5HWbwMBb1/P5fHsXL15cbkx6u57bpp1XUFDwcN26dQ/bx25dVFQ0yd3Gna5sPXeZV6cJ5E/WpYb9IoBANQRsOEn9n6AWC29YvF2N1wmrIoAAAggggAACCCCAAAK1UoBAvpJAXkPr1NTUjdrDvU2bNuv1sRt+u9OVBdx6Mzftba9tBVsvWDvaI19DfLv+jBkzXtAb1enN5XQ4HXcbd7qy9WxbXq4J5GvldYqDRsBrAoTP3gif+T0f/XsmkPfa1Y7zRQABBBBAAAEEEEDAgwIE8j8RyKelpX0yZsyYhfon1Rpku+G3Ox0s5M7KynpFw3xdVt0x5AcOHPhBz549P7PtNmzYsGjChAlztm7dmrlt27ZMd9/udGXr2ba8XBPIe/AqxykjUPsE/EFt165d12VnZ8+hYBDOz4E//OEPefr/mNLyWO17uXLECCCAAAIIIIAAAggggED1BAjkfyKQnzx5co7P5yvMzMzM0SDbDb/d6WAhd0pKylYdO17Hl8/IyJivj4Ot57azYsWKrBEjRrwdExOz3x3ipnXr1ut1PHu9+ZneXLZ+/fr7ly5d6h8eR6dXr149RduubL1g+/baPAL56l0gWBsBBE6KgD+cTE9P9w+Z5rXrNOcrD3jJgJu6npRrDDtFAAEEEEAAAQQQQACBkyhAIP8Tgbz2SI+KijqotX5AdsNzdzrYh+e5c+dO12FmdHz5pKSkbTk5Of4bxAauq+3YEh0dfbB9+/br8vLyst31Zs+ePSMmJqakSZMme6ZNm/bS0KFDl+hx6ToTJ058o169egd0urL13Pa8Ok0gfxKvNuwaAQSqKkAgH+S9Wd8n9V4u7vuXfokdERFxxM6z76Va6/up3ttl0aJFT9rl+t7asmXLTfr+mZyc/F1V3pf1S+/OnTuvyc3NnW7b+am6VatWR93g/ae28epyAvmqXhZYDwEEEEAAAQQQQAABBMJFgEA+yId+r34o9sJ5E8iHy6WL80AgrAUI5IO8N0dGRh7S+7G471Xjxo2bFxkZ+YOdp0G8ndah4kaNGrWoefPmm+08/Uu1jIyMvNK/XMtLTEzcbpe5tW3n0KFDDy5btuyJYcOGLa5Xr17J/Pnzy31Z7m7jTjdq1KjsHjDufKaP7v1PIB/W1zJODgEEEEAAAQQQQAABBIIIEMgH+dDPB+ajPzCHiwmBfJCrALMQQOBUEyCQD/LerDc0HzRo0DL3/UiHcLPhuc53p/WxhvLaU95uM2fOnKcPHz7sHxKmuvd2GT58+LtdunT53LaVnZ39YkJCwnb9oiAuLi5/6tSpL+uytm3bfqPHoUUD/IrWs+14vSaQP9UuPxwPAggggAACCCCAAAII1LTAffZD4+jRoxfqTUMpGITzc6BLly7/ts95Y8yZNf0Co30EEEDgGAQI5IME8nrt1h7yej8VDbEXLFjw1NixY9/S+TbUdqe1F7z+3yY1NfWo4WP0hut6j5cOHTqstdu6tduOnb9q1aop9evXL7aPExISdmRlZc0qLCycNH78+LmxsbF77DJ3+8rWs+t7uSaQP4YrBJsggAACCCCAAAIIIIBArRb4q35opGDg0edAy1r96uXgEUAgXAUI5CsI5JcsWTJ1wIAB/pvdDhkyZKmOKe+G3+57md6/RceQ120CA29dz+fz7XVvnu6u47Zp5xcUFDxct27dw/axWxcVFU1yt3GnK1vPXebVaQL5cL2McV4IIIAAAggggAACCCBQkQCBPF9IePkLGQL5iq4MzEcAgZMpQCBfQSCvoXVqaupG7eHepk2b9frYDb/d6coC7pKSkoe0t722FWy9YO1oj3wN8e36M2bMeEFv3B4dHf29DqfjbuNOV7aebcvLNYH8ybzUsG8EEEAAAQQQQAABBBA4GQIP6YdGLTfeeOOKu+666wMKBuH8HOjcufO39jlvjIk/GS869okAAgj8hACBfCWBfFpa2idjxoxZmJaWtlyDbDf8dqeDhdxZWVmvaJivy6o7hvzAgQM/6Nmz52e23YYNGxbpEG9bt27N3LZtW6a7b3e6svVsW16uCeR/4mrAYgQQQAABBBBAAAEEEAg7AW7qGuRDv5c/GIf7uXNT17C7hnFCCISjAIF8kPdmG3JPnjw5x+fzFWZmZuboe5adHzgd7P0sJSVlq44dr+PLZ2RkzNfHwdZz21yxYkXWiBEj3o6JidnvDnHTunXr9TqevQbKenPZ+vXr71+6dKl/eBydXr169RRtu7L1gu3ba/MI5MPxEsY5IYAAAggggAACCCCAQGUCng3k9cO2jj3rfvDVD90RERFH7Dxdx5bo6OiDOhbtokWLnrTL8/Lyslu2bLkpKirqYHJy8nc5OTn+G83Z5bZ2P9jbeVpXNN9dp7rTNdFmdY/hVF6fQL6yywHLEEDgFBEgkK8kkNce6fq+q7W+37jve+50sPeiuXPnTtdhZnR8+aSkpG2VvW9rW1r0/b99+/br9D3fbXP27NkzYmJiSpo0abJn2rRpLw0dOnSJHpeuM3HixDfq1at3QKcrW89tz6vTBPKnyFWHw0AAAQQQQAABBBBAAIGQCXg2kI+MjDyk48e6H4DHjRs3LzIy8gc7z/1gr3/aPmrUqEXNmzffbJdrz7qMjIy80p52eYmJidvtMrd226nKfHed6k5XtK/qthOu6xPIh+zawo4QQODYBQjkgwTy4fq+5PXzIpA/9gsFWyKAAAIIIIAAAggggEDtFPBsIK83YBs0aNAy94Ow/sm5G2i707qehvLaU85uM2fOnKcPHz78gF2mPe7sMrcObMcuc+evWrVqSrt27b7W3nX65+0bN26cbNfLzs5+MSEhYbt+iRAXF5c/derUl+0y7bGvXwTon8dnZma+VpU2i4uLH9I/vb/mmmveq+iYbfvhVhPI184LFUeNgMcECOQJ5P3/twi39+Bg50Mg77GrG6eLAAIIIIAAAggggAACxrOBvAbX2kNex3/VD4gLFix4auzYsW+5gbY7rb3gR48evTA1NXVD4AdKvUGcjknboUOHtYHL9LHbjrvcnd+1a9d/6RcEemO4wYMHv683rbPrJiQk7MjKyppVWFg4afz48XNjY2P32GWdOnX6QkNm/dP96667bnFV26xTp85h/QJCz8u25YWaQJ6rHgII1AIBfyDfpUuXz2fMmPECBYNwfg7oPQH0/y6lRW+Oyw8CCCCAAAIIIIAAAgggENYCng7klyxZMnXAgAEfahA9ZMiQpTqmvBtoOx8QRXuS6xjyuk1gcK3r+Xy+ve7N3tx13HYCp+162sN97dq1j+njNWvW/FHHpLXL3LqoqGiStmHnNWjQoPiLL77wb7dy5cosd1llbep69oZzti0v1ATyYX094+QQCBcBG05S/yeoxcIbFm+Hy4uY80AAAQQQQAABBBBAAAEEKhLwdCCvAXRqaupG7eHepk2b9frYDbTd6crC6pKSkoe0t722FWy9itpx59etW/ewPrbFHctee8bpTeiio6O/16F2ArfT/et+A8P6ytrUNuxwO8GOOVznEchXdClgPgIInEICZe8F9j2B+j/vj1iEtQWB/Cl0IeJQEEAAAQQQQAABBBBAoGYEPB/I69AwY8aMWZiWlrZcQ2j9oG/DaHfaznPrrKysVzTM13k6vnxF47FX1I473+fzFeqwM277drphw4ZFEyZMmKPLdUgbd7v69euX9ZBfvnz54+6yytp017P78UJNIF8zFxJaRQCBEyrgD+RbtGix5+qrr15HwSCcnwMDBgz4Wv9PUlqePaGvJBpDAAEEEEAAAQQQQAABBE5BAc8H8jp2qQbXmZmZORpIu0G1Ox0srE5JSdmqY8frOOwZGRnz9XGw9Spqx53fu3fvT3UM+Pz8/EfGjRuXq8Pj2Lb0Jq861r3e+EzHfdehaJYuXeofOqd9+/brRo4c+bYG9bosIiKi7AuFytp0923344WaQP4UvApxSAggECjgDyfT09P9Q6p54drMOYpnbuIa+Lvmpq6BL38eI4AAAggggAACCCCAQLgLeD6Q117nUVFRB23vdDeodqcDP0Dq47lz507XoWS0Z3xSUtK2nJwc/w1iA9etqB13vo4D37Fjxy91WJr4+PgdM2fOfN62M3v27BkxMTElOq78tGnTXho6dOgSPWZdnpubOz0+Pn5nTEzM/kmTJr2ux2KHsKmsTXffdj9eqAnkw/2SxvkhEBYCBPLi3YDaC+/F7jkSyIfFNYuTQAABBBBAAAEEEEAAgWoIeDaQdz8MMu2d4INAvhpXB1ZFAIGTJeDJQF6/KNabq7vvyStWrMiKiIg4YufpOrZER0cf1L8mW7Ro0ZN2eV5eXnbLli036ZfWycnJ3x3PF+W2zeOtvfoFeFXdCORP1mWG/SKAAAIIIIAAAggggMDJEiCQpxeep/5MnkD+ZF1q2C8CCFRDwJOBfGRk5CG9Qbob5I4bN26ee5NzN9zWe7eMGjVqUfPmzTfbbXTouIyMjLzSoeTyEhMTt9tlbu22U5X57jrVna5oX9VtJ1zXJ5CvxpWBVRFAAAEEEEAAAQQQQCAsBAjkCeQJ5MPipcxJIIBAGAl4MpCvU6fOkUGDBi1zg2e9N4obaLvTup6G8tpT3m4zZ86cpw8fPux/Xzvem62vWrVqSrt27b7W3vZ6L5eNGzdOtvvJzs5+MSEhYbt+iRAXF5c/derUl+0y7bGvXwTo/V4yMzNfc4+5ojaLi4sf0qHnrrnmmvcqukG8bT/cagL5MLpycSoIIIAAAggggAACCCBQJYG/6gdFCgYefQ60rNKrhJUQQACB0Ap4MpDX9yHtIa83MdfQecGCBU+NHTv2LZ1vQ2h3WnvBjx49emFqauoGu9zW33///YN60/UOHTqstfPc2m2novldu3b9l35BoDdNHzx48PtpaWmf2HUTEhJ2ZGVlzSosLJw0fvz4ubGxsXvssk6dOn2hf42l96bRm7W7+6qszTp16hzWLyD0vGxbXqgJ5EN7cWFvCCCAAAIIIIAAAgggcPIFCOT5QsLLX8gQyJ/8axBHgAACRwt4NpBfsmTJ1AEDBnyoQfSQIUOW6pjybqCt07ZoT3IdQ163CQyudR2fz7d38eLF5cakt+vZNoLVdh3t4b527drH9PGaNWv+qDdWt8vcuqioaJK2Y+c1aNCgWG+qro9XrlyZ5S6rrE1db/Xq1VNsO16pCeSPvgAwBwEEEEAAAQQQQAABBMJbwP9BVz8EnnHGGbvi4uJ2UjAI5+dA/fr1i/X5XlqSwvvlzdkhgEAtFfBsIK8hdGpq6kbt4d6mTZv1+liv1zacdqftvGB1SUnJQ9rbXtsKtryidtz5devWPayPbXHHsp8xY8YLKSkpW6Kjo7/XoXYCt9P9634Dw/rK2tQ27HA7wY45XOcRyNfSqxSHjQACCCCAAAIIIIAAAscswBjyjCHPGPLH/PJhQwQQQKBGBDwdyOvQMGPGjFmYlpa2XENoN+x2p4MF1FlZWa9omK/LjncMeZ/PV6jDzgTbT8OGDYsmTJgwR5frkDbucekXv7aH/PLlyx93l1XWprtesH2G6zwC+Rq5htAoAggggAACCCCAAAIInMICBPIE8gTyp/AL9BQ6tBJjzDlBjkeDw6r86DjK1f1xt6nqfgL34bbhLnPnH2vbbnvaRmt3hjGmqTFGe9jaH13Hln3GmLeNMe3sQmNMR2PMB8YY/SuOFcaYC51ldjLCGPMnY8z+0hnusbvTdv3jqV2j42nHbnui27PthmPtf56kp6f7h24J1yA28LxsID158uQcDa4zMzNzdB07P3A6cHt9nJKSslXHjtdx2DMyMubr42DruW26y935vXv3/lTHgM/Pz39k3LhxuTo8jl1Xb/KqY91rmKzjvutQNEuXLvUPndO+fft1I0eOfFuDel0WERFR1sO/sjbdfdv9eKEmkA/HSxjnhAACCCCAAAIIIIAAApUJEMhXEMjrB2Mdu9b9MLxixYqsiIiII3aermNLdHT0Qf2wvmjRoift8ry8vOyWLVtuioqKOpicnPxdTk6O/0Z1drmtbRta64f6zp07r8nNzZ1ul/9U3apVq6NuaPdT23h1ud5oz/FuUtmLg2XlBA4YY140xtQtN/fH10DArKAPtwSdW/lMd5tjDZvdNty9ufOPtW23Pf3C4g53hjHmVmOMutkfdz8NjDG/NsZ8ZBcaY/5pjPmFMSamtP4/Z5mdjC19/gZ77rrt2/WPp3aNjqcdu+2Jbs+2G461/i7Fq4G89jrX903bO10t7HuWO23nufXcuXOn61AyOr58UlLStsred93t7LTbvvZy79ix45c6LE18fPyOmTNnPm/Xmz179oyYmJgSHVd+2rRpLw0dOnSJHrMu1/fv+Pj4nTExMfsnTZr0uh6LHcKmsjbdfdv9eKEmkA/HSxjnhAACCCCAAAIIIIAAApUJEMhXEMhHRkYe0vFn3Q/D48aNm+eOIet+eNY/jR81atSi5s2bb7bbaM+8jIyMvNKeenmJiYnb7TK3tu0cOnTowWXLlj0xbNiwxfXq1SuZP39+trteRdONGjXaW9Ey5ku5vwAgkK/sclDpsh+MMd2MMfcGrOWGwNojXL/wKDLGvGeMaV667v/T53hp6WCMSTTGLCrtCa7rNw5oUx8GbqP7v9kYs9MY850xZoSzTV9jzGpjjIbiXxhjLq9gv3aT6rRdlWPVdvX4HrM7KK39N3p05rlWOltDee0pb386G2O0B7z+6DLbC750lr/a7FjqDLdNd7qqx32dMWZd6RcH/zLGXFq6M9dIj2uXMeZh55jcfQUex7nGmC+NMduMMYOCtKfPgYq2jwqyr6qeS+muwqJSH88F8rxflX+/8ooHgXxYXLM4CQQQQAABBBBAAAEEEKiGAIF8BYG83qRt0KBBy9wPxPqn5xqS2HnutM7TUF57ytvlc+bMedreoK26Y9kOHz783S5dunxu28rOzn4xISFhu35REBcXlz916tSXdVnbtm2/KQ23RAP8itaz7Xi9JpCvxtWh/Ko2QH3IGKOBqv2x8/XxK8aYycaYhsYYDaNz7Eqlz1H78PXS8Pr00vWfsgsCarftQ8aYPxpjGhljNETe4KyrQfKVxpjTjDE/N8boa8L+uG3YeVq78ytruzrHqj3ku5buREPpjID9uPvUXvD/bYzRa0rgj/4Vwp3GmPmBC0ofu+1UNF3V49YvOHRoHA3C9UuOT519um2rkf5O9bj1x10W+Div9PfQxxiz5sfVj9qmsu0D91XVc3F2Vesn1YdAvoL3Z6+/j4Xb+RPI1/rrFSeAAAIIIIAAAggggAAC1RQgkK/gA7+GIdpDXseI1Q+/CxYseGrs2LFv6Xz7Ydid1l7wo0ePXpiamnrU8DF6gzkd07ZDhw5r7bZu7bZj569atWqK3hjOPk5ISNiRlZU1q7CwcNL48ePnxsbG7rHL3O0rW8+u7+WaQL6aV4j/rG4DVA29XzLGRJYusvP14VZjTHzp/DhjjDtEibtevjHmTGe99aXTgZW7jU6fUbqC7tsdm93dLlpfD84Md9qZfdQ6FbVdnWNNNcboDRz1R2/yqGPKu/vXaVu097uOIa/bBP7oOtoTvlXggtLHgW3a1dz5VT1u/TLjD85fM9i2tHbb0+kEZ6G7LHBd7U2vX5wE/rjbuNO6nvtYp919VfVcAvdXmx+rgdSrV+9IkyZNDlMwCOfnQOPGjfV67n/OV/JFZG1+PXPsCCCAAAIIIIAAAggggEA5AQL5SgL5JUuWTB0wYID/pnpDhgxZqmPK64dGG2g7HyBFx4jVMeR1G7vc1rqez+fbu3jx4nJj0rvL7bStCwoKHq5bt+5h+9iti4qK/ENh2HnuMdl5Wgeu5y7z6jSBfLnXf3UeuIGp9gK/r3Rjd/73zhjz2stbH9sfd72D7msnYJx1u77W7jbudOAy7Ym9vHSoHB06xl3XnT6Wtqt7rDpUj577O6U7c/fvTrvHEjitXzhob3ttK9iP205F01U97pbGmGeNMduNMZ8ZY3o7Owxs2w6no6u4ywIfaw/3Ok47dtLdxp0O3F6Xufuq6rnY/YRDrQYUDLz4HNAvKvlBAAEEEEAAAQQQQAABBMJagEC+kkBeQ+vU1NSN2sO9TZs26/WxhiQ2zHan7bxgtd7MTXvb/3/23ga8quu8832FPiKJggqZCkFQKRZft8Lm2qETP2FCk+q2NWPKYGPq4n5A6Z1emmp6NUw691JuO2DZKklQGjGJiHIviT+vaiXqCIuEQGoHWSbumITAYBeMY2NqBwMmtmUVZMDAPP/TvZSXwzkHSXzpnP3bz7NZa6+Pd6390z5rs/977XfJVqr8VHY0I18ifijf0tLykBaq0+Jycqfj6/h4pnLBVpxDBPkhj2cShvym38L/qmvPJWpWt2bGa1Oo47D5cq9Hbm1CXrrQ1/FxlffH8in/u5FNucHxeT7u2/HpPp5se7B9lfudlWbWHDXmbfu470uIz3MvNNL5kE/un7fp4wPtd2hbAvjvmdk/hYTLcNSMVrm50aavInzbcoOjxWeTN18mU31fTjYGey7J7WbjsRhc0HhfVlbWww6DXL4GtA5ONIbouveuzrLxt0ufIQABCEAAAhCAAAQgAAEIXJYAgvxlBPmamprnly9fvq2mpmaXhGw9NAZB28dDmg8bGxsfk5ivtMH6kL/zzju/P2fOnB8Fe6NGjepdtWpV+5EjRxqOHj0qdxgp+5GpXLAV5xBB/rJjQroCySKpXMPIZ7wWUg3bQ9HCnxKTP2tmD4cMM5PbkeCGRDOy15pZqZn9UeS6xRXtj/o6ye37Yy0Mq1n7cjujr0dU76bIirfRbzipP96WyvjjgfY11FkQCcj/LmospCfb9X0J8R9EvuPlp32Fmek41ZbOpk8faL+fM7PfjsT1jye9RPHsvG31SS9b7o5egshNj2bFh21zNMP/30SLu4Z0by9T/eS2BnouoZ1cCMUAH/Jp7s9xvofl4rnjQz4XhizOAQIQgAAEIAABCEAAAhAYDAEE+TQP/EHwXrduXatmpjU0NLTqQTikJ8dTPSRXVlYeke94+Zevra3douNU5bzN3bt3Ny5ZsuSpkpKSU97FzdSpUw/Jn70eXLW4bGlp6anu7u6EexzF9+3bt162M5VL1Xbc0hDkBzM8XFQ2WSRV5m1JQuwEM9sRuY75ezPTcdi0YOi70cEvmJkW/uw1sxfN7BOhUFLo6yS3748/amZvm5l80f+6mWnh2ZORLW/Dm/fp3pbK+OOB9jXU0YK2althsq1QJsq6JJgVud6Rf/k90WKrlxRK6p+36eMD7fdvmNmByL3QQTO70zWYidFSM9NMeO3LzOwd52Zmhpm9YmbHzSy8mJBZby9TfX8eqjfQc3Fdz/qoGCDIp7k/x+2+levniyCf9eMVJwABCEAAAhCAAAQgAAEIDJIAgnyaB/4gkmtGemFh4RmFeigO6cnxVA/MHR0dG+VmRv7lJ0yYcLS1tTWxQGxy2UhgSwgwRUWBcw5sAAAgAElEQVRFZ6qrq1/u7Oxs9uXa2tpaSkpK+saMGfPOhg0bHlm0aFGX+qUyq1ev/mZxcfH7imcq5+3FNY4gP8gRguIQgMCNIIAgn+LerHul1nLx9y+9xM7Lyzsf0pLvp1rbZfv27V8K+bq3Tp48+XXdPydOnPjmQO7Leul966237t+8efPGYOdy4ZQpUy5Z4P1ydeKajyB/I4YY2oQABCAAAQhAAALXh0Diweb6NDXoVtL1Tb559Rm+/Cr+s5n9g5npc3I2CFxNAgjyKR764/pQHIfzRpC/msMHtiAAgWtEAEE+xb25oKDgrNZj8fequrq6JwsKCj4Iaf6luVzFLV26dPukSZPeCPn6Uq22trYz+nKtc/z48cdCng+DnbNnz67duXPnFxcvXryjuLi4b8uWLRe9LPd1fFx+0f0x8Qtr0jFAkL9GowhmIQABCEAAAhCAwDAgkE70TtW1r0aza1LlXYu0dH37x6gf8osrP6z6tH+768C16ue1suu6TnQYEUCQT/HQn+6hkfT0D9TZwgZBfhiNPnQFAhBIRwBBPsW9WQuaz58/f6e/38iFWxDPle7jOpYory/PQp329vavnDt3LiEOD3Ztl3vvvfd7t91224vBVnNz88MVFRXH9KKgvLz8RFNT06PKmz59+qvR/+EvSMBPVy7YiXuIIJ9uGCAdAhCAAAQgAAEIZD+BIHoXRv9BPhotnPZTMzsSLUymswzlQjjGzLRInXykyj/t30WL0nk768zs/WhBNNVLZ1sLzb0e+WndH/m59W0mU5YPWtm7NTkjRT9Du6EvqeyGc1LexEjcl8j/I+enNpRJDkMXQnqq81eZdLxCfcLhR0CL5SX+rpMmTeqrqqo6xQ6DXL4GxowZcyZc89FYOPx+lfQIAhCIO4HEffmOO+54Lu5irT9/jd2aIa/1VJS+devWL69YseLbSg/lfFyz4JctW7atqqrqEvcxWnBda7zMnDnzYKjrQ28npO/du3d9aWnpyXBcUVFxvLGx8fGenp76lStXdowdO/adkOfrZyoXysc5RJCP+3DH+UMAAhCAAAQgkMsEgpCsc1T8AzP7vUgU1/Fr7uR92dao/O1m9rEo/o2orMqdNbNaMyt2aZlsq9iHIztafE6bby9KSgRfivJk71kz+3MzK3UFfL10fVF62Hx5vVjQ8YLoHP57KJTUH19HRfyx4snnn4mXa4LoMCKg6zn8XQlhEbdrYPIw+i3SFQhAAAKBQGIsRpC/+Kss/X+lq6urad68eYkXFQsXLuyWT3mlB0Hb/59G67fIh7zqhPwQqlxZWdl7fvH0kKfQ2wzp77777gP5+fnnwrEPe3t7NfHmon74/BBPLhfS4xwiyIefPSEEIAABCEAAAhDIPQJBZNKZhbhE9Pzo+Lw75ZCvpDBLPaQp1Ex5bSFtZHTs01LZ/kMz04z8UE+hrxMdXhTUmNkXzezNqF6Hyw12vI1UfQlVfHmdg44LQqYLfTkf9+34uG8zEy/XBNFhRODr4ZrUJ9da5IwdBrl8DeTn5+slZxjbfnEY/RbpCgQgAIFAIDFGIchfKshLuK6qqjqsGe7Tpk07pGON6UHQ9vGQlirs6+u7X7PtZStVfio7mpEvET+Ub2lpeUgLtxcVFZ2WOx1fx8czlQu24hwiyIefPSEEIAABCEAAAhDIPQJBfNGZ+fjljo9H5cMMeE8m2c5Abf1SUh9S2fHtKP6RqI4E77D5ej4e8hMPBtFLhw8ltfludHw5QT6TjVRtZuIV+kU4vAjgQz6Fn9o4Pxjn+rnjQ354DUD0BgIQSEkg8X8sBPnUgnxNTc3zy5cv31ZTU7NL9yz9nzbcu3w8pPmwsbHxMYn5ShusD/k777zz+3PmzPlRsDdq1KjeVatWtR85cqTh6NGjDb5tH89ULtiKc4ggn3IMIBECEIAABCAAAQjkBAEvHvu4Ti75WG5YlCbh/OEovtTMftXMTpnZkxGR5HqpbPkyQQRfFLnMUZ5c0PgyHvYWM+sxs4+bmVzmqNxuV8D3M5WNf4rqfCpyzxPKy4Rsq86/jdzO/CCN3Uw2UrWZiZdrgugwIoAgjyCfWNwuLmIAgvwwGn1Sd0X3livd/MvrK7V1I+sPlMWOIXbS288VZkNEMeyqJf6PhSCfWpBft25da1lZWU9DQ0Or7l36P224h/l4SPNhZWXlEfmOl3/52traLTr2+SHu7ezevbtxyZIlT5WUlJzyLm6mTp16SP7sJShrcdnS0tJT3d3dCfc4iu/bt2+97GUqF9qLc4ggP+zGHzoEAQhAAAIQgAAErhqBxINNZM3HlZR83BItvKrZ3lqk9GtmdszM3jMzLRwloT5VvVRp3vZfRi5wHo38wZ8ws5dStP8v1s1uM7NnzEwLr0qYf8rMZoZMM/P99O2EIr8dLVgrNzl/Ep2Dyo2IzkEP8P8cifwfDZWS7GaykarNTLxcE0SHEQEE+RSCvPtdJq7zkpKSvltuueWlnTt3fvFGPTRPmTLlkkXpBtIXLyoMpHyul4mxIK+xX/tw3/Sbu9JNL5NzYRsoi58M8WS9/VxhNkQUV71aqi8QB9NI4t6DIJ9akNeMdLlWU6h7lr/P+Xiq+1lHR8dGuZmRf/kJEyYcbW1tTSwQm1zW/z+gqKjoTHV19cudnZ3NvlxbW1uL/n8wZsyYdzZs2PDIokWLutQvlVm9evU3i4uL31c8UzlvL65xBPnBDA2UhQAEIAABCEAAAhCAAARygUBWC/Kf+cxnOtI9wA41T/aSH+hfeeWVzy5evHjHTTfdlNLXbLo+XM300aNH9/utHYzd5HNJrjtUTpnqJbcxnI5jLMhrvNKaEevM7JcHOXhJXHzHzO4zs6NmphfKv29mfxS97H0rygtmf83M9plZn5kdMLPfMLPx0VdmYd0RfSGmr84qQqUolBB5T9TePya9iJaN7dHL7e+Z2c8n1Q2H4WuydOV1PuEc9MJdL+B1bmETH70w17nOD4lmluq8lF0Ynevi6AX6K0n91vm8bGbvm9kL0Rd3wawXxZXmj308Xdt/74RDvbRPd86yPcPM/kd07guT2grMQr8Ir4zA/xn93vSV4lBehOlvfwFB/mJBfjjdS+jL1fvbIMhf2WBDbQhAAAIQgAAEIAABCEAg+whktSAvwSLdQ/FQ82QvVV3NxNMsudDe3r1718+YMeMVzYbT5+iHDx9ep7yTJ0/erwVy16xZ0/ahD33o/bFjx769ZcuW/ll16eqpbnNz88MVFRXHVL+8vPxEU1PTo0qfPn36q+qTdtnKZGP79u1fGj9+/DF9Lt/Q0PC3qc4lnIPCTPlDzfP2h1s85oL8b+pvGu27zOzPzOwXBjhsaTHcz5nZKDOT8CyB/gvu+JCzI9FZLtG0fokWNNf1q22nmf27KK787ijuA/VPvphHm5m+LJOLtbA9EfXh56IXC18OGWnCTOXPmNn6NP3vjPr9STPb72ynOy8VUb8fjOz9FzP7lqunFxa/Egn3S8zshy5P9fzmj338cm0HG5nOWQvDq2/6G66N+hzqEV5dAnpZpBdS+hseNrMHzGz6IJpQPQT5FF+wDbd7Cv25cmEeQX4QIwNFIQABCEAAAhCAAAQgAIGcIIAgn+KBX0KIf8iW2L5gwYLu6dOnvxLSZ8+e/cL8+fN3aiG3BQsWPKtF5kKe6i9cuPAZifgSgKurqw+GvEz1Kioqjjc2Nj7e09NTv3Llyo6xY8e+E+r5PmWyMWvWrANqU23fc889ck110bkEeyHMlD/UvGB7OIYxF+QlkJ/W39XtEqY3m5nWN1F+uk11/lWUWRTV/7A7PpemYiir7P8UuUVTvMnM6lLUUTsTovTyaPZ6KKZZ7aEPyvMvAUIZH2Yqn3w+vv9y9aYXApk2f14qJ3thtr9ecqjtsElM/2szmxQSXKh6fvPHPu7LpGo75Gc6Z30JEF7AiHE6+8EW4ZURkNtBMfb7P5jZn5rZ2MuYTtSpqKg49bGPfewtdhjk8jXw0Y9+VONW+J3ItScbBCAAAQhAAAIQgAAEIACBnCaQdYL8kiVLnnYPbuEB7oLSh5qXLBx7+3l5eecnTpz45pw5c/a8+OKLnw9lNQP94MGDn9Px/v37Py8fsiFP9cNibgcOHPicyoa8TPVCGYW9vb31shPSfDyTjZEjR55Um6q3Z8+eRl8v2Boqp0z1gu3hHl5GkJdIrOsrl3e5Ten/3STFtfi3ZlDnpxj1VMdvmY41s1wz8LUGimbWh7KTzSz4Kpc7ml/0BqO4ysoFjDaFeoEQNr08UH7YdS6ZtkzlQ59CfX8sDqncjKQ7L9lQ/cBNLnHUdth03v9v5N7nR2Y2N2Q4NiHJ98PHL9d2qJ/pnJUXfJsni/qhvlze5PL1fz3PTS6P9DdMtesFkNYlSud2KVUd0lKzhEtucdGaWWwQgAAEIAABCEAAAhCAAARymkDWCfJe8JXQ4Y99fKh5suHrnjhx4sGvfvWrX/e2Fc/Pz5eg0i8EFBQUfBDKKP306dNrddzX13e/yoa8TPVaWloe0mJzRUVFp0eMGHHe98PHM9lQntpUe8mifuiDD71dn674UPOS7Qyn48sI8pp1XZnDuwRwieT9120UP2lm7ZEf9SAqJw98quO3TMdvmtnvRq5R5F7Gl5UgLZ/yz3tjLq6y46JjzTiXqBm21yOb4fhyYabyvk+y44/lYibVDOZM5+X7rVnospG85ZnZ77mXEsrXOBJeQOi8fT98/HJth7YynbP6FGbI6zr39kN9/f1z+TdwPc/N+/cXa+36e2vmvHzMhy9MAnsfhvIX9FKYHQa5fg1Evw9d99/xPwTiEIAABCAAAQhAAAIQgAAEcpEAgvwAXNY0NDS0yje7F5bLysp65BbGp4W4HizDbPpohvzJkJep3qhRo3pXrVrVLrtyhSM7oZ6PZ7JRWlraP0N+165d8vHdbyPY8mGm/KHmefvDLX4ZQT4Xf+P+nLRYaRD6JAxqJuJSM5NofrlN9fyW6VgLrs6OBEd96SF3BDdFleUXXqL8/+WNubjs/lXUp//HzP6by9Msc/k+14KwWlD2cjMpM5XP1H+58Pm0mf2baHHX0IVM5xX6Lf/s+spANsL2nJn9diS8f9zM3ggZUfzu6EWDfq+anR8238dMbYtvcJeT6Zw1I/svIrb6u+ilH9u1IaAXG36GvNwW/Wcz+8gAm9PfHh/yKe7Pw+2eQn/wIT/A3zTFIAABCEAAAhCAAAQgAAEI9BPIakH+M5/5TEe6h+Gh5sleKiH6k5/85A80Wz60N3fu3B/KR7vS6urqNk+bNu3VkKf69957b8KPuwTgW2655UDIy1RPi8M+8cQTX9UCZ3fffXeXXNN0d3c3qa7iwQ1OJhvV1dUv33fffU9J0JeNvLy8jIL8UDllqhfOdTiGMRfk/yZapFSibCp3Mf0DQ4qIF4eVnen4o2b2duTj/dfN7H4z0yx8beGlwNTo2AeaKa5yEqi1aOw+M5vhCmh2txZc1Sz/F83sEy4vVTRT+Uz9V5uvRP7rwyK0sp/pvGTvnqjfLyct4KkvAg5E7ncOmtmdrrN6IaKZ69qXRfU1k16b72OmtrVQ7LtRnUznfIuZyVWQfOSL8SnnwiaqTnCVCNwVXT9yg6W/3WA3/e0R5BHk1wzH++jV7hOLug52eKA8BCAAAQhAAAIQgAAEIJDtBLJakL/aD4XBnoSQEA+hhPJPfOITu8OxZr7ffPPNL8m9zLhx445v2rTpayFP9deuXdtWXFzc9+EPf/in3/3ud/9ryMtUr62traWkpKRP/ug3bNjwyKJFi7oKCwvPqO7q1au/WVxc/L7imWxs3rx547hx494qKSk5VV9f/0RhYeHZ4MIm9CHOYYwFeYm8t97gAUsz2zV7PBddEnjx/AZjpvlhQOBm54poKN1BkE8hxkcvqRJsFNf98pZbbnlp586dX7xR97UpU6a8NpS2U/0/Yyh2cqEOgvxQhgjqQAACEIAABCAAgfgRWB/NztPMsqu5hQeMV5OMaqZdyFNWiCvUgna7zezXojr6FP6H0ay3/Wa2MMlWcv1gy6cnx1OYICmHCCDIp3jov9IHXB60r/wT9iv9G6SrH2NBfjgMW1qg9R8iH+XDoT9Xsw+6n7JB4GoRSPz/7I477ngu3Vg2nNMzfUE11Dydb/K99ZVXXvns4sWLd9x0002HbxSP0aNHvzeUtpPPJdnGUDllqpfcxnA5RpC/WsMGdiAAAQhAAAIQgEBuE/ggEsVTLfh2JWeuh6++6FNyfVauTZ/267N/Ce/hYT/xkBbl6zNoHQd/tLvM7IyZzY3S5Vc2efP1k/PC8UDKhLKE2U0AQR5BPhafxAfhAUE+uwcseg+BmBBI/D8sWwV5/R80jLnJ4VDzZCdVXa25UlRUlPiSTGX27t27fsaMGa/o6zK5gTt8+PA6pZ88efL+goKCs2vWrGn70Ic+9P7YsWPf3rJlS3PoX7p6ym9ubn64oqLimOqXl5efaGpqelTp06dP1ySaxN9KtjLZ0Do048ePPyb3cw0NDX+b6lxCXxRmyh9qnrc/nOII8jEZ1ThNCEAAAhCAAAQgcBkCY8zs69FiXMfN7LFoYTpVC0J1CL0pLZD2euQjVrPT5TdX/nBVVgt7/Wkkth+JfLf6usG2Ftlrjxa0U9qq6Ni35+OzIvuHk4xp8TyV25OUHtpRXvLm7fq4eDwU+bfVy4G/c4vHJdvgOPsIJBb91PUyYcKENydNmvQ6Owxy+RrQgrjR+Khxbnz2/WTpMQQgEAMCif+HIchf/LWVxm4vJEtsX7BgQff06dNfCemzZ89+Yf78+Tu1jsqCBQuerampeT7kqf7ChQufkYivl7PV1dUHQ16mehUVFccbGxsf7+npqV+5cmXH2LFj3wn1fJ8y2Zg1a9YBtam2tf6Mrxds+TBT/lDzvP3hFEeQj8GIxilCAAIQgAAEIACBARB4WP/RNbPfiYRzxf9/Vy/xkOSOk6MfjuofijJUXrPqfy8S6XX8WnKlqI7y/jhyO6Mi+rT/37s8pYX2FUrA1wJtwWVNMKu8Y2YWZtqH9OT6wZZPT463Rm3ebmYfi+Lf8AaJZzUB/S3DdUAIi7hdA5Oz+tdL5yEAgVwlkBiLs0mQX7JkydOp/j+h9KHmJYvG3n5eXt75iRMnvjlnzpw9L7744udDWc1AP3jw4Od0vH///s9rTZaQp/phcXStxaKyIS9TvVBGYW9vrybg9L8Y8PFMNkaOHHlSbcrGnj17Gn29YH+onDLVC7aHc4ggn6vDGOcFAQhAAAIQgAAEBkdAbl70IFRiZsVR/KfORBCsXFIi+ofRDPiQr1BbOJat/Oj4fJTng1Buopkp/1ciwX2Cs+Ht+brJ8dlRnWeTM5Js+ezQvtJ8/KQ7DumaKc+WGwQQ5H92vYfrmzA+TBDkc2Mc4ywgkGsEEvehbBLkveCr/zf6Yx8fap5s+LonTpx48Ktf/erXvW3F8/PzNVml/z5eUFDwQSij9NOnT6/VsRY7V9mQl6leS0vLQ5WVlT/RIu4jRozQ/9H7z8/HM9lQXlhgPVnUD33wobfr0xUfal6yneFyjCCfa8MX5wMBCEAAAhCAAASGRsAL8iP1n97IXUuwFv6TH45DKPc2yvulKFRcW3L55OOo2EXl5GrmKTOTT3htvo6PR9mXBAVRnVQLz6ar79N9PJyXXiiw5R6B/xiur8cff/zr+/bt+yI7DHL5Gvit3/qt58I1b2ZXey2Q3BshOCMIQOBGEEj8PwxBPrPLmoaGhlb5ZvfCstySyS2MTwtxjf1hNn00Q/5kyMtUb9SoUb2rVq1ql125wpGdUM/HM9koLS3tnyG/a9euhLvAYCNV6O0m5w81L9nOcDlGkL8RQwxtQgACEIAABCAAgeFHILisWWRmS/SfXjNTWti8WB3SFL4blVW9sPBraZSmOmFLV9+nPxjV+6uoks/z8WAzhD+MFoD91aj+D0KGC9PV9+k+HngsNTPZlcj/pLNHNLsJsKjrNVjUdbg85NKPi8Uc8WBR12s6YOneETb5SA6bTw9pIcyUF8pci9C3q3jY9VJea6Uku3y72cy+b2b6amx39BVbqn75806VTxoEBkIgcT1mqyD/mc98piPd/WeoebKn32my3U9+8pM/0Gz5kD537twfyke70urq6jZPmzbt1ZCn+vfee2/Cj7vuBbfccsuBkJepnhaHfeKJJ74q4fjuu+/ukmua7u7uJtVVPLjByWSjurr65fvuu+8pCfqykZeXd8m5hL4oHCqnTPW8/eEUR5AfyJBAGQhAAAIQgAAEIJD7BLSI6SPRrHjNDpcgrbSwhYf2cBzCv4we1B81sz83Mz3Uv+Qe8kO5dPV9+sejerdFlXyejwebIZRgvs/M+szsR2b20ZDhwnT1fbqP69y/Fvmkf8/Mvh19BeBMEs1iArEV5PUbe/rppzf4h9Ldu3c3yi9tSHO/3wtFRUVn9GDvZ+N1dnY2T548+fXCwsIz8mXb2tr61VDXh7Ljj0M8XXrIH0p4LWwOpR/DtQ6C/HUbrX7iWtI9Zbhtvk8hPsLM5MZIwt87ZjbTdVovuP+PyJ2dwv/h8nzUn7dPJw6BwRBI/D8sWwX5azX+p7q/SSj/xCc+sTu0qZnvN99880tyLzNu3LjjmzZt+lrIU/21a9e2FRcX9334wx/+6Xe/+93/GvIy1Wtra2spKSnpkz/6DRs2PLJo0aIu3fdVd/Xq1d8sLi5+X/FMNjZv3rxx3Lhxb5WUlJyqr69/orCw8GxwYRP6ENcQQX4wQwNlIQABCEAAAhCAAAQgAIFcIBBbQb6goODspz/96W/5B+C6uronk/3Nhvzjx48/uHTp0u2TJk16I6RVVlYeqa2t7Xz77bcfUDh+/PhjIc+HqUQE5adL93UHG78WNgfbh+FcHkF+0MPWuOgFdWFUUy+KJRbeGh3LRZoWEVe5IGz/fRTXsURtfTX2B5GdN6Ovz0JHQh3Z0Yvs34/s6YX4faFQUqiFzMPL5wNm9huuLwO1EdpVVR8PTekLNb+Auc43L8qUO7tULuGSzztdP2Vmmpmp7xL+9QWa7IkBGwREQNfkBQT5S79yupL7i5heSX3qXt2/R+CJIM+gBwEIQAACEIAABCAAAQjEjUBsBXktzDZ//vyd4YFQoT4j9w/sPq58ifKaKR/qtLe3f+XcuXNrQp5mvIU8HybbCXk+fe/evetnzJjximbd6fP4w4cPrwvlmpubH66oqDimlwjl5eUnmpqaHg15mrGvFwH6bL6hoeFvB2Lz5MmT92uW3l133fVMuj4H+7kWIsgPaYj7rpn9elTzP0fCur4E0/a/mZnytXlh28fPmtnnzWy0md1jZq9F5ZPrnDGz9WY2yswWm9khV85HXzCzf2tmHzIzLaj+qsscqA3fPx8PpsZH5xmOQ6jF2f/UzLaEhKTQ28rUT7l+W2tmZWa2MVrMPckUhzEmoOsIQf4qu5Tz98dcu7dl8/kgyMd4pOPUIQABCEAAAhCAAAQgEFMCsRXk9WCuGfL63F0Pslu3bv3yihUr5JKpfwadj2sW/LJly7ZVVVW9lvzge/r06bUrVqz41syZMw8m5+nY2/H5Pn327Nkv6AWB/MsuWLDg2ZqamudD2YqKiuONjY2P9/T01K9cubJj7Nix74S8WbNmHZDIrMXm5Dd3oDZHjBhxTi8gdF7BVhxCBPkhjXR/ZGbNUc1tZlZvZt+JjpWufG1ejE6Ofzgqo1ng56J4qjr/KsorSirnqlwUVbnktgZiI7nORUbNTAuZS9xP3lTvDTObkpwRHXu7vkhyPzWTX18VaNNs+XT1oiIEMSOg6+FCeXn5W7fffvtedhjk8jWg//9EY6Cu+3CvidlPntOFAAQgAAEIQAACEIAABOJEINaCfFdXV9O8efOekxC9cOHCbvmU10NhEKbdA+IFzSSXD3nVCfkhVLmysrL3duzYcZFPep/vbfl4KKMZ7gcPHvycjvfv3/95+aoNeT7s7e2VGNrfx5EjR56U31qV2bNnT6PPy2RT5cJCdN5+rscR5Ic0vP18NFtdIvXRaAa7XM/oWLPdwzorXlROF1cH0uX59ORyvuOfNLNdZtbrFlEP+QO14cv5eLDzy5HwHo5DqBcKnzazZ0JCUuhtZeqnvhoILmrE0ddLMslhDAnoemCHQRyvgadi+HvnlCEAAQhAAAIQgAAEIACBmBGItSAv8bmqquqwZrhPmzbtkI4lggRR2sdDWqpQC7Nptr1spcpPZ8en5+fna9Zw/8O392Xf0tLyUGVl5U+0SJ1c7STXCwvDJYv1mWzKRnC3k6rPuZqGID/kEU4uVlabWVtkQe6RVplZp7Oo6zds6eLKT5fn05PLBbsK9TLgd6MXAz+XwV4mG74tHw/tyHXO18OBmc0zM7mr0ZbOh7zyvK1M/XzbzMJXA5pt7+v9Syv8G2cCuh7YYRDHawBBPs4jH+cOAQhAAAIQgAAEIACBmBCIvSAv1zDLly/fVlNTs0sitESQIEb7eEjzYWNj42MS85Um//Lp/LGns+PTy8rKeuR2xtsP8VGjRvWuWrWqXflyaePrlZaW9s+Q37Vr1xd8XiabvlxoJw4hgvyQR7YlZtYTCeEy8jtm9q47VpoXleWSpSJqzacnl/N5Pp5cLjKVCL5nZrMjQVtfjKitm6ICA7Xhy/n4R6IXDz9Nckvzg8h3fImZrTAzHafa/Hln6qf87v/fkV99uWjwfUhll7R4EdD1cGH27NkvNzc3t7PDIJevgb/+67/Wi93ENW9mn4vXT52zhQAEIAABCEAAAhCAAATiSCD2gvy6detaJVw3NDS0SpDWQ2EQpn08pPmwsrLyiHzHyw97bW3tFh37/BBPZ8enz50794fyAX/ixIkH6+rqNss9TqivRV7l614Ln8nvu1zRdHd3J1znVFdXv3zfffc9JaFeeXl5ef39z2TTtx3aiUOIID/kYU6zwiXAy32NNi3QqmRbFxIAACAASURBVGPNUA+bF5Ul4Ctfm09PPvZ5Pp5cLmEo+uejZqYZ5lr0VYvN3m9mJ6O8gdrw5RQP+z+bmdaSuNk3aGazIjc5p8xsj5n9SlJ+OPTnnamfeqHw4+hlwjIz6wsGUvByWURjQiBxPd5xxx0Jl2pxGJs5xwuJBeLjyIFFXWMyqnGaEIAABCAAAQhAAAIQgEA/gdgL8pp1XlhYeCbMTvdCtY+nekju6OjYKFcymhk/YcKEo62trYkFYpPLprPj0+UH/uabb35JbmnGjRt3fNOmTV8Ldtra2lpKSkr65Fd+w4YNjyxatKhLfVb+5s2bN44bN+6tkpKSU/X19U+oL8GFTSabvu3QThxCBPn+3z6RG0vgU2Y20cy02OufmtnOG9sdWh9mBGIpyOu+pLVc/L1o9+7djXl5eedDmsqEvaio6IxeXm/fvv1LIb+zs7N58uTJr+seOXHixDev5L4cbF5pGNf77UC5IcgPs9GH7kAAAhCAAAQgAAEIQAAC15xAbAX5gT4oUi63Zu0hyF/zMYUGBkbgb8zsrWhm/H83s1sGVo1SMSEQS0G+oKDgrNZj8ffdurq6J/2aKl7clqu4pUuXbp80adIboY6+VKutre2MvlzrHD9+/LGQ50NvZyDpvsxg4+naGqydXC2PIB+TUY3ThAAEIAABCEAAAhCAAAT6CSDIX8gtwTlXH9iv1nkhyPf/9olAAALDl0AsBXktWj5//vydfryXKzYvaPu4ykmU10z5UKe9vf0rYcHyK13bZe/evetnzJjximbby3Xc4cOH14V2mpubH66oqDimlwjl5eUnmpqaHg15mrGvFwFyL9fQ0KAFsPtdyaWzefLkyfv1pdtdd931TLr1aIL9XAsR5IfvQETPIAABCEAAAhCAAAQgAIFrQ+Cv9KCo/U/+5E+eXbNmzXfZYZDL18C//tf/+pVwzZtZ+bX5WWEVAhCAwBURiKUgr7FZM+S1ZopE561bt355xYoVWtOhX9D2cc2CX7Zs2baqqqrXkkVqLbiuNV5mzpx5MDlPx96Oz/fps2fPfkEvCLRGy4IFC57VIvChbEVFxfHGxsbHe3p66leuXNkxduzYd0LerFmzDujlr1zhaW2YgdocMWLEOb2A0HkFW3EIEeSvaKygMgQgAAEIQAACEIAABCCQhQS+oQdFdhjE9BqYnIW/WboMAQjkPoHYCvJdXV1N8+bNSyxmu3Dhwm75lPeCtr9XaSa5fMirTrJwrXJlZWXv7dix4yKf9KGct5McD2U0w/3gwYOf0/H+/fs/r3VcQp4Pe3t762UjpI0cOfKk1nDR8Z49exp9XiabKrdv3771wU5cQgT53B/QOEMIQAACEIAABCAAAQhA4GICCPK8kIjzCxkE+YvHA44gAIHhQSC2grxE6KqqqsOa4T5t2rRDOvaCto9nEqy1uLlm28tWqnLp7Pj0/Pz8czoOu/dl39LS8pAWdddC7HK1k1wvLK6eLNZnsikbwd1Oqj7nahqC/PAYdOgFBCAAAQhAAAIQgAAEIHD9CPS7rPmt3/qtZ//gD/7gu+wwyOVrYPr06bisuX7jCy1BAAJDIxBrQV6uYZYvX76tpqZml0RoL3b7eCqBurGx8TGJ+cq7Uh/yZWVlPXI7k6qdUaNG9a5atapd+XJp4/tVWlraP0N+165dX/B5mWz6cqnazNU0BPmhDRLUggAEIAABCEAAAhCAAASylwCLurKo65pcfchPdV4s6pq9gxU9h0CMCMRakF+3bl2rhOuGhoZWjeNeqPbxVGN8ZWXlEfmOlx/22traLTpOVS6dHZ8+d+7cH8oH/IkTJx6sq6vbLPc4wZYWeZWve4nJ8vsuVzTd3d0J1znV1dUv33fffU9JqFdeXl5evzubTDZ926GdOIQI8jEa2ThVCEAAAhCAAAQgAAEIQCBBAEE+jSCvB2P5rvUPw7t3727My8s7H9JUJuxFRUVn9LC+ffv2L4X8zs7O5smTJ79eWFh4ZuLEiW+2trYmFqoL+SEMNhTqof7WW2/dv3nz5o0h/3LhlClTLlnQ7nJ14pqPIM/IBwEIZAGBWAvymnWu+2aYna57Y7hn+XhI82FHR8dGuZKRf/kJEyYczXTf9fVC3NuXH/ibb775JbmlGTdu3PFNmzZ9LZRra2trKSkp6ZNf+Q0bNjyyaNGiLvVZ+bp/jxs37q2SkpJT9fX1T6gvwYVNJpu+7dBOHEIE+SwYkegiBCAAAQhAAAIQgAAEIHBVCSDIpxHkCwoKzsr/rH8Yrqure9L7kPUPz/o0funSpdsnTZr0RqijmXm1tbWd0Uy9zvHjxx8LeT4Mds6ePbt2586dX1y8ePGO4uLivi1btjT7cunio0ePfi9dHukXLvoCAEH+qo4fGIMABK4NgVgK8tyvLr5fxYUHgvy1GUSwCgEIQAACEIAABCAAAQgMXwII8mkEeS3SNn/+/J3+gVifngfxXOk+rmOJ8popH+q0t7d/JSzQNlhftvfee+/3brvttheDrebm5ocrKiqO6UVBeXn5iaampkeVN3369FfVD+0S8NOVC3biHiLID9/BiJ5BAAL9BBDk09yb434Py8XzR5Dv/90TgQAEIAABCEAAAhCAAARiQgBBPs1DvwRuzZCXj1g9AG/duvXLK1as+LYX4X1cs+CXLVu2raqq6hL3MVpgTj5tZ86ceTDVw7S3E/L37t27XgvDheOKiorjjY2Nj/f09NSvXLmyY+zYse+EPF8/U7lQPs4hgnxMRjZOEwLZTSAhyM+ZM+fFzZs3P8QOg1y+BjZt2tSq/8dEuxbIZYMABCAAAQhAAAIQgAAEIJDTBBDkMwjyXV1dTfPmzXtOAvbChQu75VPei9/uAfKCfMTKh7zqJAveKldWVvbejh07LvJJH8p5myHt3XfffSA/P/9cOPZhb29vva/j45nK+by4xhHkc3o84+QgkCsEgjhJ+DOhFhbxYPFUrvyIOQ8IQAACEIAABCAAAQhAAALpCCDIZxDkJVpXVVUd1gz3adOmHdKxF799PJPArcXcNNtetlKVS2VHM/Il4ofyLS0tD2mhOi0uJ3c6vo6PZyoXbMU5RJBPNxSQDgEIDCMCiM/xEJ/5O1/6d0aQH0YDEV2BAAQgAAEIQAACEIAABK4NAQT5ywjyNTU1zy9fvnxbTU3NLgnZXvz28VQid2Nj42MS85U3WB/yd9555/fnzJnzo2B31KhRvatWrWo/cuRIw9GjR/VJ94WQ5+OZyoXycQ4R5K/NQIJVCEDgqhJICLXl5eVv3X777XvZYZDL18Ds2bNf0P9jor35qv6SMAYBCEAAAhCAAAQgAAEIQGAYEkCQv4wgv27dutaysrKehoaGVgnZXvz28VQid2Vl5RH5jpd/+dra2i06TlXO29m9e3fjkiVLniopKTnlXdxMnTr1kPzZa/EzLS5bWlp6qru7O+EeR/F9+/atl+1M5VK1Hbc0BPlhOArRJQhAIJlAQpy84447Ei7T4jZOc74X1sSJAYu6Jv/8OYYABCAAAQhAAAIQgAAEcp0AgvxlBHnNSC8sLDyjUA/IXjz38VQPzx0dHRvlZkb+5SdMmHC0tbU1sUBsclnZCXtRUdGZ6urqlzs7O5t9uba2tpaSkpK+MWPGvLNhw4ZHFi1a1KV+qczq1au/WVxc/L7imcp5e3GNI8jn+pDG+UEgJwggyKe4N+s+qbVc/P1LL7Hz8vLOh7RwL1Wo+6nWdtm+ffuXQr7urZMnT35d98+JEye+OZD7sl5633rrrfs3b968Mdi5XDhlypRLFni/XJ245iPI58SYxUlAAAIQgAAEIAABCEAAAoMggCCf4qE/rg/FcThvBPlBjA4UhQAEbhQBBPkU9+aCgoKzWo/F36vq6uqeLCgo+CCkSYgPcbmKW7p06fZJkya9EdL0pVptbW1n9OVa5/jx44+FPB8GO2fPnl27c+fOLy5evHhHcXFx35YtWy56We7r+Pjo0aP714Dx6cQvnf2PIH+jhhnahQAEIAABCEAAAhCAAARuFAEE+RQP/TwwX/rAnCtMEORv1FBDuxCAwCAIIMinuDdrQfP58+fv9PcjuXAL4rnSfVzHEuU1Uz7UaW9v/8q5c+cSLmEGu7bLvffe+73bbrvtxWCrubn54YqKimN6UVBeXn6iqanpUeVNnz79VfVDuwT8dOWCnbiHCPKDGBkoCgEIQAACEIAABCAAAQjkBAEE+RQP/XF/OM7l80eQz4lxi5OAQK4TQJBPcW+WwK0Z8lpPRfeprVu3fnnFihXf9iK8j2sW/LJly7ZVVVVd4j5GC65rjZeZM2ceTHXP83ZC/t69e9eXlpaeDMcVFRXHGxsbH+/p6alfuXJlx9ixY98Jeb5+pnKhfJxDBPlcH844PwhAAAIQgAAEIAABCEAgmcA39NDIDoOYXgOTk38QHEMAAhAYBgQQ5NMI8l1dXU3z5s1LLHa7cOHCbvmU9+K3v5dp/Rb5kFedZMFb5crKyt7zi6f7Mt5mSH/33XcfyM/PPxeOfdjb21vv6/h4pnI+L65xBPlhMOLQBQhAAAIQgAAEIAABCEDguhJAkOeFRJxfyCDIX9fhhsYgAIEBEkCQTyPIS7Suqqo6rBnu06ZNO6RjL377eCaBu6+v737NtpetVOVS2dGMfIn4oXxLS8tDWri9qKjotNzp+Do+nqlcsBXnEEF+gKMCxSAAAQhAAAIQgAAEIACBnCHwBT00ap8wYcKbkyZNep0dBrl8DZSVlfWEa97MxufML5kTgQAEcokAgnwGQb6mpub55cuXb6upqdklIduL3z6eSuRubGx8TGK+8gbrQ/7OO+/8/pw5c34U7I4aNap31apV7UeOHGk4evRog2/bxzOVC7biHCLI59LQxblAAAIQgAAEIAABCEAAAgMhgA/5FA/9cX4wzvVzx4f8QIYFykAAAjeYAIJ8intzELnXrVvXqperDQ0NrbpnhfTkeKr7WWVl5RH5jpd/+dra2i06TlXO29y9e3fjkiVLniopKTnlXdxMnTr1kPzZS1DW4rKlpaWnuru7E+5xFN+3b9962c5ULlXbcUtDkL/Bow3NQwACEIAABCAAAQhAAALXnQCCfIqH/rg9DMfpfBHkr/sYQ4MQgMDgCSDIp7g3B5FcM9ILCwvPKNT9K6Qnx1Pd2zo6OjbKzYz8y0+YMOFoa2trYoHY5LKyGfaioqIz1dXVL3d2djb7cm1tbS0lJSV9Y8aMeWfDhg2PLFq0qEv9UpnVq1d/s7i4+H3FM5Xz9uIaR5Af/ABBDQhAAAIQgAAEIAABCEAguwnEVpDXg7YWg/MPwJoFl5eXdz6khYdxhXog1+Jw27dv/1LI18P55MmTX9cD+MSJE9/M9GAf6vhQdv3x1YhfC5tXo1/DxQaCfHYPWPQeAjEhgCCfQpAfLvcR+nFhzdVkgCAfk1GN04QABCAAAQhAAAIQgAAE+gnEVpAvKCg4qwXd/ENlXV3dkwUFBR+ENC9uy9fs0qVLt0+aNOmNkK9P3WtrazujT987x48ffyzk+dDbGUi6LzPYeLq2BmsnV8sjyPf/9olAAALDlwCCPIL8VRW9h/M9HUF++A5E9AwCEIAABCAAAQhAAAIQuDYEYivIjxgx4vz8+fN3+odU+YD1graPq5xEec2UD3Xa29u/cu7cucRD82AXh5MNb3/v3r3rZ8yY8Ypm28vf7OHDh9eFdpqbmx+uqKg4ppcI5eXlJ5qamh4NeZqxrxcB8lfb0NDwtwOxefLkyfvlC/euu+56Rp/tB1txCBHkr81AglUIQOCqEkCQR5BHkL+qPymMQQACEIAABCAAAQhAAAIQGD4EYivIS7jWDHktyCYheuvWrV9esWLFt72g7eOaBb9s2bJtVVVVryUL16dPn16rReJmzpx5MDlPx96Oz/fps2fPfkEvCI4ePdqwYMGCZ2tqap4PZSsqKo43NjY+3tPTU79y5cqOsWPHvhPyZs2adUAis3zp3nPPPTsGanPEiBHn9AJC5xVsxSFEkB8+gw89gQAE0hJICPIFBQUXSkpKzrPDIJevgeLi4vP6v0u0fyftr4IMCEAAAhCAAAQgAAEIQAACOUIg1oJ8V1dX07x5856TEL1w4cJu+ZT3grZ7QLygmeTyIa86ycK1ypWVlb23Y8eOi3zSh3LeTnI8lNEM94MHD35Ox/v37/+8FokLeT7s7e2tl42QNnLkyJMHDhxI1NuzZ0+jz8tkU+X27du3PtiJS4ggnyMjF6cBgdwmEMRJwp8JtbCIB4uncvunzdlBAAIQgAAEIAABCEAAAhAwi7UgLxG6qqrqsGa4T5s27ZCOvaDt45kE676+vvs12162UpVLZ8en5+fnn9Nx2L0v+5aWlocqKyt/UlRUdFqudpLrqX21myzWZ7IpG8HdTqo+52oagjzDHgQgkAUEEvcCjfllZWU97DDI5Wtg9OjR74X/+5hZaxb8PukiBCAAAQhAAAIQgAAEIACBKyIQe0FermGWL1++raamZpdEaC92+3gqgbqxsfExifnKu1If8nrYltuZVO2MGjWqd9WqVe3Kl0sb36/S0tL+GfK7du36gs/LZNOXS9VmrqYhyF/ReEFlCEDg+hBICPJ33HFH4guuXB2POa8LsfETn+lvzaKu12dQoRUIQAACEIAABCAAAQhAYPgQiL0gv27dulYJ1w0NDa16YPRCtY+nepisrKw8It/x8sNeW1u7RcepyqWz49Pnzp37Q/mAP3HixIN1dXWb5R4n2NIir/J1r4dW+X2XK5ru7u6E65zq6uqX77vvvqck1CsvLy+v351NJpu+7dBOHEIE+eEz+NATCEAgLQEEeRZ1jY1YjyCfdhwgAwIQgAAEIAABCEAAAhDIUQKxF+Q167ywsPBMmJ3uhWofTyVWd3R0bJQrGfmXnzBhwtHW1tbEArHJZdPZ8enyA3/zzTe/JBcF48aNO75p06avBTttbW0tJSUlffIrv2HDhkcWLVrUpT4rf/PmzRvHjRv3VklJyan6+von1JfgwiaTTd92aCcOIYJ8jo5knBYEcotALAV53Ze0lou/F+3evbsxLy/vfEhTmbAXFRWd0cvr7du3fynkd3Z2Nk+ePPl13SMnTpz45pXcl4PNKw3jer8dKDcE+dwavDgbCEAAAhCAAAQgAAEIQODyBGIryA/0QZFyufVJPYL85QcFSkAAAjecQCwF+YKCgrNaj8Xfd+vq6p70a6p4cVuu4pYuXbp90qRJb4Q6+lKttra2M/pyrXP8+PHHQp4PvZ2BpPsyg42na2uwdnK1PIL8DR9v6AAEIAABCEAAAhCAAAQgcJ0JIMjzWXxsPouXmIEgf51HGJqDAASGQiCWgrwWLZ8/f/5OLzzLFZsXtH1c5STKa6Z8qNPe3v6VsGD5la7tsnfv3vUzZsx4RbPt5Tru8OHD60I7zc3ND1dUVBzTS4Ty8vITTU1Nj4Y8zdjXiwC5l2toaPhb3+d0Nk+ePHm/vnS76667ntGXbsFWHEIE+aEMEdSBAAQgAAEIQAACEIAABLKZwNf1oKhdD5V66GSHQS5fA/n5+R+Ea97MfjGbf7z0HQIQyFkCsRTkNTZrhrzWTJEQvXXr1i+vWLHi20oPwrSPaxb8smXLtlVVVb0W8kOoBde1xsvMmTMPhjQfejvp0mfPnv2CXhBojZYFCxY8q0XgQ9mKiorjjY2Nj/f09NSvXLmyY+zYse+EvFmzZh3Qy1+5wtPaML6tTDZHjBhxTi8gdF7BVhxCBPmcHcc4MQhAAAIQgAAEIAABCEAgDYFv6EGRHQYxvQYmp/ldkAwBCEDgRhKIrSDf1dXVNG/evOckRC9cuLBbPuW9oO3vVZpJLh/yqpMsXKtcWVnZezt27LjIJ30o5+0kx0MZzXA/ePDg53S8f//+z2sdl5Dnw97e3nrZCGkjR448qTVcdLxnz55Gn5fJpsrt27dvfbATlxBB/kYONbQNAQhAAAIQgAAEIAABCNwIAv0z5MvLy89+5CMfOcMOg1y+BkaNGsUM+Rsx0tAmBCAwGAKxFeQlQldVVR3WDPdp06Yd0rEXtH08k2Ctxc012162UpVLZ8en5+fnn9Nx2L0v+5aWloe0qLsWYperneR6YXH1ZLE+k03ZCO52UvU5V9MQ5AczNFAWAhCAAAQgAAEIQAACEMgFAviQx4c8PuRz4ZfMOUAAArlEINaCvFzDLF++fFtNTc0uidBe7PbxVAJ1Y2PjYxLzlXelPuTLysp65HYmVTujRo3qXbVqVbvy5dLG96u0tLR/hvyuXbu+4PMy2fTlUrWZq2kI8rk0dHEuEIAABCAAAQhAAAIQgMBACCDII8gjyA/kl0IZCEAAAtePQKwF+XXr1rVKuG5oaGiVCO2Fah9PJVBXVlYeke94+WGvra3douNU5dLZ8elz5879oXzAnzhx4sG6urrNco8TbGmRV/m6l5gsv+9yRdPd3Z1wnVNdXf3yfffd95SEeuXl5eX1u7PJZNO3HdqJQ4ggf/0GFlqCAAQgAAEIQAACEIAABIYHAQT5NIK8Hozlu9Y/DO/evbsxLy/vfEhTmbAXFRWd0cP69u3bvxTyOzs7mydPnvy6FkmdOHHim62trYmF6kJ+CIMNhXqov/XWW/dv3rx5Y8i/XDhlypRLFrS7XJ245muhPcd7zPD4GdILCEAAAhcRiLUgr1nnum+G2ekas8M9y8dDmg87Ojo2ypWM/MtPmDDhaKb7rq8X4t6+/MDffPPNL8ktzbhx445v2rTpa6FcW1tbS0lJSZ/8ym/YsOGRRYsWdanPytf9e9y4cW+VlJScqq+vf0J9CS5sMtn0bYd24hAiyF/02+cAAhCAAAQgAAEIQAACEIgBAQT5NIJ8QUHBWfmf9Q/DdXV1T3ofsv7hWZ/GL126dPukSZPeCHU0M6+2trYzmqnXOX78+GMhz4fBztmzZ9fu3Lnzi4sXL95RXFzct2XLlmZfLl189OjR76XLI/3CRV8AIMjHYFTjFCGQ/QRiKchzv7r4fhUXHgjy2T9gcQYQgAAEIAABCEAAAhCAwOAIIMinEeS1SNv8+fN3+gdifXoexHOl+7iOJcprpnyo097e/pWwQNtgfdnee++937vtttteDLaam5sfrqioOKYXBeXl5SeampoeVd706dNfVT+0S8BPVy7YiXuIID+4AYLSEIDADSGAIJ/m3hz3e1gunj+C/A0ZY2gUAhCAAAQgAAEIQAACELiBBBDk0zz0S+DWDHn5iNUD8NatW7+8YsWKb3sR3sc1C37ZsmXbqqqqLnEfowXm5NN25syZB1M9THs7IX/v3r3rtTBcOK6oqDje2Nj4eE9PT/3KlSs7xo4d+07I8/UzlQvl4xwiyN/A0YamIQCBgRJICPJylSJf6uwwyOVrQF/56f8x0d460B8J5SAAAQhAAAIQgAAEIAABCGQrAQT5DIJ8V1dX07x5856TgL1w4cJu+ZT34rd7gLwgH7HyIa86yYK3ypWVlb23Y8eOi3zSh3LeZkh79913H8jPzz8Xjn3Y29tb7+v4eKZyPi+ucQT5bB2q6DcEYkUgiJOEPxNqYREPFk/F6pfOyUIAAhCAAAQgAAEIQAACsSSAIJ9BkJdoXVVVdVgz3KdNm3ZIx1789vFMArcWc9Nse9lKVS6VHc3Il4gfyre0tDykheo0Y1LudHwdH89ULtiKc4ggH8txjpOGQLYRSIjPxcXF58eMGXOOHQa5fA38/M///Dn9Pybat2Tbj5X+QgACEIAABCAAAQhAAAIQGCwBBPnLCPI1NTXPL1++fFtNTc0uCdle/PbxVCJ3Y2PjYxLzlTdYH/J33nnn9+fMmfOjYHfUqFG9q1ataj9y5EjD0aNHG3zbPp6pXLAV5xBBfrBDBOUhAIEbQCAhTt5xxx2JL7TiPGZz7rm/0Cs+5G/ACEOTEIAABCAAAQhAAAIQgMANJYAgfxlBft26da3y3drQ0NAqYcCL3z6eSjSorKw8It/x8i9fW1u7Rcepynk7u3fvblyyZMlTJSUlp7yLm6lTpx6SP3s9uGpx2dLS0lPd3d0J9ziK79u3b71sZyqXqu24pSHI39DxhsYhAIGBEUCQT3Nvjts9Kw7niyA/sEGBUhCAAAQgAAEIQAACEIBA7hBAkE/z0B9Ecs1ILywsPKNQD8YhPTme6qG5o6Njo9zMyL/8hAkTjra2tiYWiE0uK5thLyoqOlNdXf1yZ2dnsy/X1tbWUlJS0jdmzJh3NmzY8MiiRYu61C+VWb169TeLi4vfVzxTOW8vrnEE+dwZvDgTCOQwAQT5FPdm3Se1lou/f+kldl5e3vmQFu6lCnU/1dou27dv/1LI17118uTJr+v+OXHixDcHcl/WS+9bb711/+bNmzcGO5cLp0yZcskC75erE9d8BPkcHsk4NQhAAAIQgAAEIAABCEAgJQEE+RQP/XF9KI7DeSPIpxwHSIQABIYXAQT5FPfmgoKCs1qPxd+r6urqniwoKPggpEmID3G5ilu6dOn2SZMmvRHS9KVabW1tZ/TlWuf48eOPhTwfBjtnz55du3Pnzi8uXrx4R3Fxcd+WLVsuelnu6/j46NGj+9eA8enEL3XBgyA/vAYfegMBCEAAAhCAAAQgAAEIXHsCCPIpHvp5YL70gTlXmCDIX/tBhRYgAIErJoAgn+LerAXN58+fv9Pfj+TCLYjnSvdxHUuU10z5UKe9vf0r586dWxPy9AVbyPNhsh3l3Xvvvd+77bbbXgzlmpubH66oqDimFwXl5eUnmpqaHlXe9OnTX1V97RLw05ULduIeIshf8XiBAQhAAAIQgAAEIAABCEAgywj0C/Kf+tSnfrBgwYJn2WGQy9fATTfddDgIJWY2Jst+r3QXAhCIBwEE+RSCvMZuzZDXeioSsbdu3frlFStWfFvpQdT2cc2CX7Zs2baqqqpL3MdowXWt8TJz5syDoa4PvZ2Qvnfv3vWlpaUnw3FFRcXxxsbGx3t6qiFI5wAAIABJREFUeupXrlzZMXbs2HdCnq+fqVwoH+cQQT4egxpnCQEIQAACEIAABCAAAQj8jEC/IK+HR3YYxOwaQJD/2VhADAIQGD4EEOTTCPJdXV1N8+bNe04C9sKFC7vlU96L3/4eptnv8iGvOsmCt8qVlZW95xdP92W8zZD+7rvvPpCfn38uHPuwt7e33tfx8UzlfF5c4wjyw2fgoScQgAAEIAABCEAAAhCAwPUhgCDPi4g4v4hBkL8+4wytQAACgyOAIJ9GkJdoXVVVdVgz3KdNm3ZIx1789vFMAndfX9/9mm0vW6nKpbKjGfkS8UP5lpaWh7Rwe1FR0Wm50/F1fDxTuWArziGC/OAGB0pDAAIQgAAEIAABCEAAAhCAAAQgAAEIQAACV5cAgnwGQb6mpub55cuXb6upqdklIduL3z6eSuRubGx8TGK+8uRffjA+5O+8887vz5kz50fB7qhRo3pXrVrVfuTIkYajR482+LZ9PFO5YCvOIYL81R08sAYBCEAAAhCAAAQgAAEIQAACEIAABCAAAQgMjgCCfAZBft26da1lZWU9DQ0NrRKyvfjt46lE7srKyiPyHS//8rW1tVt0nKqct7N79+7GJUuWPFVSUnLKu7iZOnXqIfmzl6CsxWVLS0tPdXd3J9zjKL5v3771sp2pXKq245aGID+4wYHSEIAABCAAAQhAAAIQgAAEIAABCEAAAhCAwNUlgCCfQZDXjPTCwsIzCiVee/Hcx1MJ2x0dHRvlZkYz4ydMmHC0tbU1sUBsclnZCXtRUdGZ6urqlzs7O5t9uba2tpaSkpK+MWPGvLNhw4ZHFi1a1KV+qczq1au/WVxc/L7imcp5e3GNI8hf3cEDaxCAAAQgAAEIQAACEIAABCAAAQhAAAIQgMDgCCDIpxDk4ypY5/p5I8gPbnCgNAQgAAEIQAACEIAABCAAAQhAAAIQgAAEIHB1CSDII8ivyXUhPpwfgvzVHTywBgEIQAACEIAABCAAAQhAAAIQgAAEIAABCAyOQEKQnz59+qt/9md/1skOg1y+BpYvX/6d4B7IzP5ycD8VSkMAAhCAAAQgAAEIQAACEIAABCAAAQhAAAIQuDIC/f7LnVBJmvPrDpef+bjPMRYI8lc2dlAbAhCAAAQgAAEIQAACEIAABCAAAQhAAAIQGCQBxHfE97heAwjygxwsKA4BCEAAAhCAAAQgAAEIQAACEIAABCAAAQhcGYGbzIwdBnG8BsZc2U+H2hCAAAQgAAEIQAACEIAABCAAAQhAAAIQgAAEIAABCEAAAhCAAAQgAAEIQAACEIAABCAAAQhAAAIQgAAEIAABCEAAAhCAAAQgAAEIQAACEIAABCAAAQhAAAIQgAAEIAABCEAAAhCAAAQgAAEIQAACEIAABCAAAQhAAAIQgAAEIAABCEAAAhCAAAQgAAEIQAACEIAABCAAAQhAAAIQgAAEIAABCEAAAhCAAAQgAAEIQAACEIAABCAAAQhAAAIQgAAEIAABCEAAAhCAAAQgAAEIQAACEIAABCAAAQhAAAIQgAAEIAABCEAAAhCAAAQgAAEIQAACEIAABCAAAQhAAAIQgAAEIAABCEAAAhCAAAQgAAEIQAACEIAABCAAAQhAAAIQgAAEIAABCEAAAhCAAAQgAAEIQAACEIAABCAAAQhAAAIQgAAEIAABCEAAAhCAAAQgAAEIQAACEIAABCAAAQhAAAIQgAAEIAABCEAAAhCAAAQgAAEIQAACEIAABCAAAQhAAAIQgAAEIAABCEAAAhCAAAQgAAEIQAACEIAABCAAAQhAAAIQgAAEIAABCEAAAhCAAAQgAAEIQAACEIAABCAAAQhAAAIQgAAEIAABCEAAAhCAAAQgAAEIQAACEIAABCAAAQhAAAIQgAAEIAABCEAAAhCAAAQgAAEIQAACEIAABCAAAQhAAAIQgAAEIAABCEAAAhCAAAQgAAEIQAACEIAABCAAAQhAAAIQgAAEIAABCEAAAhCAAAQgAAEIQAACEIAABCAAAQhAAAIQgAAEIAABCEAAAsOHwKfMrIUdBjG9BkqHz0+RnkAAAhCAAAQgAAEIQAACEIAABCAAAQhAAAK5TuA/mNkFdhjE9BoYk+s/cM4PAhCAAAQgAAEIQAACEIAABCAAAQhAAAIQGD4E+gX54uLi90tKSvrYYZDL10BhYeFZ9/IBQX74jEX0BAIQgAAEIAABCEAAAhCAAAQgAAEIQAACOU+gX5Dv6upqunDhwhp2GOTyNbB48eLvIcjn/LjGCUIAAhCAAAQgAAEIQAACEIAABCAAAQhAYFgSQJDnJUSsXsIgyA/LcYhOQQACEIAABCAAAQhAAAIQgAAEIAABCEAgFgRiK8hrlvTTTz+9wc8G3717d2NeXt75kOZmUl8oKio6M23atFe3b9/+pZDf2dnZPHny5NcLCwvPTJw48c3W1tavhjwfyo4/DvF06SF/KOG1sDmUfgzXOgjysRjXOEkIQAACEIAABCAAAQhAAAIQgAAEIAABCAxLArEV5AsKCs5++tOf/pYXjuvq6p4sKCj4IKR5cfv48eMPLl26dPukSZPeCPmVlZVHamtrO99+++0HFI4fP/5YyPOhtzOQdF9msPF0bQ3WTq6WR5AfluMQnYIABCAAAQhAAAIQgAAEIAABCEAAAhCAQCwIxFaQHzFixPn58+fv9MLz3Xff3eUFbR9XOYnymikf6rS3t3/l3LlzCZcvytOCoSHPh8l2Qp5P37t37/oZM2a8otn2U6dOPXT48OF1oVxzc/PDFRUVx/QSoby8/ERTU9OjIU8z9vUioLS09FRDQ8PfDsTmyZMn7y8pKTl11113PZOuz8F+roUI8rEY1zhJCEAAAhCAAAQgAAEIQAACEIAABCAAAQgMSwKxFeQlXGuG/BNPPJFwM7N169Yvr1ix4tte0PZxzYJftmzZtqqqqteSRerTp0+vXbFixbdmzpx5MDlPx96Oz/fps2fPfkEvCI4ePdqwYMGCZ2tqap4PZSsqKo43NjY+3tPTU79y5cqOsWPHvhPyZs2adUAi85EjRxruueeeHQO1OWLEiHN6AaHzCrbiECLID8txiE5BAAIQgAAEIAABCEAAAhCAAAQgAAEIQCAWBGItyHd1dTXNmzfvOQnRCxcu7JZPeS9oKx52zSSXD3nVSRauVaasrOy9HTt2XOSTPpQLNlKFoYxmuB88ePBzOt6/f//nx4wZ0y+6hzIKe3t762UnpI0cOfLkgQMHEvX27NnT6PMy2VS5ffv2rQ924hIiyMdiXOMkIQABCEAAAhCAAAQgAAEIQAACEIAABCAwLAnEWpCXCF1VVXVYM9ynTZt2SMde0PbxTIJ1X1/f/ZptL1upyqWz49Pz8/PP6Tjs3pd9S0vLQ5WVlT8pKio6LVc7yfXUvtpNFusz2ZSN4G4nVZ9zNQ1BfliOQ3QKAhCAAAQgAAEIQAACEIAABCAAAQhAAAKxIBB7QV6uYZYvX76tpqZml0RoL3b7eCqBurGx8TGJ+cq7Uh/yZWVlPXI7k6qdUaNG9a5atapd+XJp4/tVWlraP0N+165dX/B5mWz6cqnazNU0BPlYjGucJAQgAAEIQAACEIAABCAAAQhAAAIQgAAEhiWB2Avy69ata5Vw3dDQ0CoR2gvVPp5KoK6srDwi3/Hyw15bW7tFx6nKpbPj0+fOnftD+YA/ceLEg3V1dZvlHifY0iKv8nX/4x//+LPy+y5XNN3d3QnXOdXV1S/fd999T0moV15eXl6/O5tMNn3boZ04hAjyw3IcolMQgAAEIAABCEAAAhCAAAQgAAEIQAACEIgFgdgL8pp1XlhYeCbMTvdCtY+nEqs7Ojo2ypWM/MtPmDDhaGtra2KB2OSy6ez4dPmBv/nmm1+SW5px48Yd37Rp09eCnba2tpaSkpI++ZXfsGHDI4sWLepSn5W/efPmjePGjXurpKTkVH19/RPqS3Bhk8mmbzu0E4cQQT4W4xonCQEIQAACEIAABCAAAQhAAAIQgECWEJgokcrtFUPod6j/alLdl51dZYVyCt83s91m9mtRnY+b2Q/N7JSZ7TezhUm2kusHWymKkQSBjARiK8jHQXzmHC+sSWaAIJ9xPCATAhCAAAQgAAEIQAACEIAABCAAAQhcVwK/Hwnlx6Lwd4bQusTxPjP7qZndEtX/ZTN7OxLela/Ni+gfjY7fiPJ2mdkZM5sbpZ+I0n3g6/t04hAYDAEE+QuXirbJIi7HucMIQX4wwwNlIQABCEAAAhCAAAQgAAEIQAACEIDAtSXwtUgAT/iRNrOWqLnCKP2omf1pJLYfMbO7U3RHQvk5M2s3s7+K8ldFx15E9/FZkf3DSfZuitL3JKXr0NcP2b6f66IXAMqrN7PXzex0NOP+183Ml10RndNbZqaXEn9uZu+amT/HMWb2kJmpjF4u/J2ZDeULgtBXwuFBILFAqK6nWbNm7b/99tv3ssMgl6+B8ePHaxwP4ydj2PAYh+gFBCAAAQhAAAIQgAAEIAABCEAAAjElIDczH5jZL0Qz1A86DhJwlPd7ZiZBW8evufwQDULPH0duZ5T+D2b2750IpLRQTqEE/H90Lmu8Lc3WDzPtQ3py/WArpJ81s1ozK/YVzOzDUbuHonTV0zn9rjunfzazpe44nGNrVPd2M/tYFP9Gkn0Os4+A/obh+iGERdyugcnZ95OlxxCAAAQgAAEIQAACEIAABCAAAQhAIDcI/GIkTMp3u7b/Hh3Lr7y2IFRJ5M6Pjs9HeT4I5VRP+b8SCe4TnA1vz9dNjs+O6jybnJFky2eH9ke6xD+MZsCHPIXawrE/J6V9KMU5nnTlQz3NlGfLbgII8j/7HYTrmjA+TBDks3v8ovcQgAAEIAABCEAAAhCAAAQgAAEIZDEBzQpPJcRpRry2kBcdXnKcKl2uZp4yM/mE1+Zt+HiUfUlQENXR4q7JW7r6qdKPR3Z+6TJ9SK7rj4ON5Fn3yf3iOLsI/EW4JlatWrWtubm5nR0GuXwNzJ07V18jhbHtX2XXz5XeQgACEIAABCAAAQhAAAIQgAAEIACB3CEg/+gSaTSbXFsQ6DdFx0HAiQ77BZ1wHEJf7sHIZvAl7/N8PNQNoWbpv29mvxrV/0HIcGG6+qnS5Q9e6YsiFzWKl0Zpioctua4/fjgqLy7ql14SPBkqEmYtARZ1ZVHXNXFatJZFXbN2rKLjEIAABCAAAQhAAAIQgAAEIAABCOQYAflKlwA9NTqvsKCq97eeSbwOOLyI/fHI5m1Rps/z8VA3hBK895lZn5n9yMw+GjJcmK5+qvS/NDO5nHk0WrD1hJm9NEhBXou6atFb+bR/z8y+bWaacc+W3QQQ5NMI8vp9PP300xu8WL179+7GvLy88yHN/YYuFBUVnZk2bdqr27dv/1LI7+zsbJ48efLrhYWFZyZOnPhma2vrV0OeD72d0tLSU7feeuv+zZs3b/RlMsWnTJnyWqZ88i70v3RAkM/uAYveQwACEIAABCAAAQhAAAIQgAAEIAABCEAgmwkgyKcR5AsKCs5++tOf/pYXs+vq6p4sKCj4IKRJSA/x48ePP7h06dLtkyZNeiOkVVZWHqmtre18++23H1A4fvz4YyHPh8HO2bNn1+7cufOLixcv3lFcXNy3ZcuWZl8uXXz06NHvpcsj/WdivFggyGfzcEXfIQABCEAAAhCAAAQgAAEIQAACEIAABCCQ3QQQ5NMI8iNGjDg/f/78nV7Qvvvuu7uCeK50H9exRHnNlA912tvbv3Lu3LnE7GzlFRYWng15Pky2o7x77733e7fddtuLoVxzc/PDFRUVx/SioLy8/ERTU9Ojyps+ffqrqq9dAn66csFO3EME+ewesOg9BCAAAQhAAAIQgAAEIAABCEAAAhCAAASymQCCfBpBXgK3Zsg/8cQTCTczW7du/fKKFSvkqql/VryPaxb8smXLtlVVVV3iPub06dNrV6xY8a2ZM2ceTCWIezshf+/evetLS0tPhuOKiorjjY2Nj/f09NSvXLmyY+zYse+EPF8/U7lQPs4hgnw2D1f0HQIQgAAEIAABCEAAAhCAAAQgAAEIQAAC2U0AQT6DIN/V1dU0b9685yRgL1y4sFs+5b34rXjYNftdPuRVJ1nwVpmysrL3duzYcZFP+lDO2wxp77777gP5+fnnwrEPe3t7630dH89UzufFNY4gn90DFr2HAAQgAAEIQAACEIAABCAAAQhAAAIQgEA2E0CQzyDIS7Suqqo6rBnu06ZNO6RjL377eCaBu6+v737NtpetVOVS2dGMfIn4oXxLS8tDlZWVPykqKjotdzq+jo9nKhdsxTlEkM/m4Yq+QwACEIAABCAAAQhAAAIQgAAEIAABCEAguwkgyF9GkK+pqXl++fLl22pqanZJyPbit4+nErkbGxsfk5ivvMH6kL/zzju/P2fOnB8Fu6NGjepdtWpV+5EjRxqOHj3a4Nv28Uzlgq04hwjy2T1g0XsIQAACEIAABCAAAQhAAAIQgAAEIAABCGQzAQT5ywjy69atay0rK+tpaGholZDtxW8fTyVyV1ZWHpHvePmXr62t3aLjVOW8nd27dzcuWbLkqZKSklPexc3UqVMPyZ/9j3/8489qcdnS0tJT3d3dCfc4iu/bt2+9bGcql6rtuKUhyGfzcEXfIQABCEAAAhCAAAQgAAEIQAACEIAABCCQ3QQQ5C8jyGtGemFh4RmFEq+9eO7jqYTtjo6OjXIzI//yEyZMONra2ppYIDa5rOyEvaio6Ex1dfXLnZ2dzb5cW1tbS0lJSd+YMWPe2bBhwyOLFi3qUr9UZvXq1d8sLi5+X/FM5by9uMYR5LN7wKL3EIAABCAAAQhAAAIQgAAEIAABCEAAAhDIZgII8mkE+bgK1rl+3gjy2Txc0XcIQAACEIAABCAAAQhAAAIQgAAEIAABCGQ3AQR5BPk1uS7C+/NDkM/uAYveQwACEIAABCAAAQhAAAIQgAAEIAABCEAgmwn0C/ItLS0PySc5Owxy+Rr4zd/8zX8I7oHMbEw2/3jpOwQgAAEIQAACEIAABCAAAQhAAAIQgAAEIJBdBPoFeSdS9vszJ+1nvt1hkZMsEOSza7yitxCAAAQgAAEIQAACEIAABCAAAQhAAAIQyGoCCPJuQVVE95wU3TO9YEKQz+rhi85DAAIQgAAEIAABCEAAAhCAAAQgAAEIQCC7CFSb2R+zwyCm18CHsuvnSm8hAAEIQAACEIAABCAAAQhAAAIQgAAEIAABCEAAAhCAAAQgAAEIQAACEIAABCAAAQhAAAIQgAAEIAABCEAAAhCAAAQgAAEIQAACEIAABCAAAQhAAAIQgAAEIAABCEAAAhCAAAQgAAEIQAACEIAABCAAAQhAAAIQgAAEIAABCEAAAhCAAAQgAAEIQAACEIAABCAAAQhAAAIQgAAEIAABCEAAAhCAAAQgAAEIQAACEIAABCAAAQhAAAIQgAAEIAABCEAAAhCAAAQgAAEIQAACEIAABCAAAQhAAAIQgAAEIAABCEAAAhCAAAQgAAEIQAACEIAABCAAAQhAAAIQgAAEIAABCEAAAhCAAAQgAAEIQAACEIAABCAAAQhAAAIQgAAEIAABCEAAAhCAAAQgAAEIQAACEIAABCAAAQhAAAIQgAAEIAABCEAAAhCAAAQgAAEIQAACEIAABCAAAQhAAAIQgAAEIAABCEAAAhCAAAQgAAEIQAACEIAABCAAAQhAAAIQgAAEIAABCEAAAhCAAAQgAAEIQAACEIAABCAAAQhAAAIQgAAEIAABCEAAAhCAAAQgAAEIQAACEIAABCAAAQhAAAIQgAAEIAABCEAAAhCAAAQgAAEIQAACEIAABCAAAQhAAAIQgAAEIAABCEAAAhCAAAQgAAEIQAACEIAABCAAAQhAAAIQgAAEIAABCEAAAhCAAAQgAAEIQAACEIAABCAAAQhAAAIQgAAEIAABCEAAAhCAAAQgAAEIQAACEIAABCAAAQhAAAIQgAAEIAABCEAAAhCAAAQgAAEIQAACEIAABCAAAQhAAAIQgAAEIAABCEAAAhCAAAQgAAEIQAACEIAABCAAAQhAAAIQgAAEIAABCEAAAhCAAAQgAAEIQAACEIAABCAAAQhAAAIQgAAEIAABCEAAAhCAAAQgAAEIQAACEIAABCAAAQhAAAIQgAAEIAABCEAAAhCAAAQgAAEIQAACEIAABCAAAQhAAAIQgAAEIAABCEAAAhCAAAQgAAEIQAACEIAABCAAAQhAAAIQgAAEIAABCEAAAhCAAAQgcGUELphZ8n5lFq+sdujLlVmhNgQgAAEIQAACEIAABCAAAQhAAAIQgAAEIAABCEBgmBEYbgL4cOvPMPtz0R0IQAACEIAABCAAAQhAAAIQgAAEIAABCEAAAhDIVgKpBPBCMztgZn8fndROM9trZgVmVm9mr5vZaTPbb2a/bmYqLztHzWyFmf3UzN4ys983sz83s3fN7IiZ3W1mRVHZHjN7wMx6zewFM5sVteX7M8bMHopsvW1mf2dmFdkKmn5DAAIQgAAEIAABCEAAAhCAAAQgAAEIQAACEIBAvAkEAdyHInJHJJx/wczOm9nHkzB9OMo/FKWr/gdm9ruRSK/jfzazpe74NVdW+YvN7J7IzveS8nTYGuXdbmYfi+LfiMoRXEcCF5ZZ8YX/3W4Z7P75n/uLmWtszS2D2fd+8n+ZOdh29nxqVvVg2lDZpp/7i0G3o341jVkx6HN6fs6c6sGe0z/dWTXodnRe1/GyoCkIQAACEIAABCAAAQhAAAIQgAAEIAABCEBgkASCEJ+qWmckgm9ymX8YzYAP9RRqC8fFZpbvjj/kjiXsh7KKa7a8yqvuey4v2Dzp7AT7minPdp0JXPhjq7rwx7ZjsPsDBau3rLE1OwazH/53v/j1wbbz3Mc/9vXBtKGyny3+T98ebDsq/7mSP28bbFv7amb+f4Nt68BvTn98sO2ofJu16ffHBgEIQAACEIAABCAAAQhAAAIQgAAEIAABCAxDAkHoTtW1b0ez49tc5vFIJP8lJ5YrO9lOpmPlSZCXcPhzUV25tUm2E9qSaM92AwkgyP/sZQSC/A28EGkaAhCAAAQgAAEIQAACEIAABCAAAQhAAAJZTiBZOA+nI1cyEs3lB16uaOZHGRLOVWdRlK546RAEedVbaGa/HdXdFtn3/Xk4ypPbm181s1Nm9mToIOH1I4AgjyB//a42WoIABCAAAQhAAAIQgAAEIAABCEAAAhCAQO4SCAK4D0eZ2Rtm9nh02lpY9XA0m/0vzUyuZB6NFmw9YWYvDUGQP2Nmn41s/Q8zq47aCv3QoRZ1/ZqZHYtc2mjGvmbms11nApcI8hdSbClc2iS7rElR60KyW5ZLXNakqpTUlndZk1z8/ffeP/tPO//ppy23tTzv27rEZc2qX/r+RXX/asY/pHIz42fIP1D8QNcLT7xw5NRPT50+9fapMy+0vvCT+g/Vd/l2FE/rsubppkP9bSadU7LLmoG2lUUua7ROxQ/N7H0z09cwegFXPsBLW+NENmy+nz5+rft+PdtKdy6Z+pApL529K03P1KbP23GlDV2j+r6PV6OJoZzn1e7DUM/jevZjqG0Ntd5QmVAPAhCAAAQgAAEIQAACEIAABCCQkYAeVHlYzYhoeGWmFeSTRORkATudIJ8sWPvjtIJ8hrZSCfKyuTZv7Y6OZR0vSPR+6x/fes+3c4kg//AfJcpd6Os5kxDJH/uTf0w+Hx17Qf7Zzz37qsp+5z9958B3/uN3Dij+zAPP/Ni3o3hKQf4/jHzmwnvH3r9w/tz5RHtJ55csyA+0rSwR5D9hZloPQl/iaJ2JiWb2N2aml38D2bJl/LhR/bxR7fq/3XDow1D68xNfKYfjQznP4fI3vZ79GGpbQ62Xw5ccpwYBCEAAAhCAAAQgAAEIQAACN5KAHlR5WL2Rf4FBtp2tgrzE8PqS+mckeJ/tO3vOC+WXCPI7N72eEMafe+SNfwkffuNygvxbB97qVdkvTPzCzi/+0hcTM+yPv3j8IuE/rSD/3/7i4IUDT7914fy/6PHJbSUL8gNtK0sEeS0Y/R8ucxl+xMy+Z2a9ZvaMmU1y5f34MdByqh7qFUaLUz8QucJypvujvxx9/XPUuexSZqb2ZpiZvvjRl0NyyRXa820XRPlyB6avf/R1wH39rZpNM7MDZvaOmcldl1x1qU7yppcZL0dfGLwQufUKZeRm7A/M7C0ze9PMloSMNP0fF5UVF223RX2/NTpW++qrymVqNyqeCHTuKqvz+Eczm+kyA5fLsfg1M9tnZn0Rk9+IbPi/n2yJ0cgoTy7UdFzh2lN0IP35+6icyvr+qp86D/2ddD3o76u/3x9FXMTZ/w0z9VvnstjMeszsFdeOzildXui/wssxG8j1k3yema5pjzHTdTXezLZHX73pd/vz0Vd1+rruY5ERha9F6UqaEJ2z/mbatF6MvsCTrXQMVS5cP8nx5ONUfVIZbVfjOs5k3/cxFd/B/OaiLhNAAAIQgAAEIAABCEAAAhCAAASGTkAPqv5hdeiWqHldCGSrIK8Z8pv/cHNi5vtr33vtrYyC/Ot7ehJC/LqP7UqEP3nhvWSRPHmG/NlTZz9Q2bWFa7vkUkbx0/98+gPfTkpBfkX+jgs//adTF772B/sSbemfy8yQH2hbWSLIS6SrvMzF+5iZrTMzudCqN7NWV96PHwMtp+q+3tnIbomz66N6afCHZvZJM9vvMjK112Fm/yXq89qk9nzbctm1PioncfaQs691MlS3zMw2Rmt5uOz+qETgXzH7n+y9CbQVxbn2Xwc4jMosIEGQGVHxhkhUkjhc1OiHcNHA3y/RfBrjdXmJcXGTa3C4RhAlikHBRA0GnAgSx0jUaBxBBYlExRxQRBwQIcgUERkOeDj/9Rz2iy9Nd+3evbu6d+/z7LXOqe6u+am3q2r/una1AcgFcMf2P/JB3W4GLzKrAAAgAElEQVQyxrTMgUdAUPkElf9ZY8wpuUC/yAH6y3LnJxtj4I+PLd9ckDoH9Z2YKwO2OntCeYbVAg8a/k/uVxRoiw9UGrr95htj/iPnh/Avq3ByGLY8umwSFy5g9CTVZgD0N6tz3Ya2ciP963PxYCtPqkzy+UnQOOxH1zPIJiQ/cW129UBOH7yoHfftbblIw4wxC3Mvcf+b5+EWgvzdGHN6LiweuCzKHefTMBdsn3sa13S9gsqEcHHYsS19XY4gfcPec1JXulSAClABKkAFqAAVoAJUgApQASpABahAfVEgEMjvpcn7A2UA5qAta3Q0L7wO3LJGR/LAa78ta3TwrZ9u3XHb4bct1Hnts0L+J03n1e6qrqndsr66Doxv/ueO2i937q7FtjKevPSWNbLbDNIF/Eeeu2t279b54Hi/LWuwPc4XG6trR1fWQfy6snry8a6QD5tXRoA8VgJjqxrbZ01uRTbCYG95vcWGhl1hwyEdHQ/H3lXUujwbczBZX8OxLT+sdj8oFwGrf735SVq43j530tgYUyMeudXXWD2LD1Y76zRyl+scAMtfeX45IP6I0y53ghXVOv2g8mO19+25OHjJNh6CPJ07x3X442PLNxekzkEZoAE+aD9oIx9dJxwHaSHh4UInbzxpv58bY6blAk81xozREXPHhZTHJ3pd3rqcSE809rahjm8rN2wFq+3lgzSlTn5+Opwui25fpBfGfrSWQTYh+Ymr6+y1K+QrZUJ76wcUDxlj8IDrj5KQcn+Z264Kl/CQCg9vvB8/DSWMrgeu6XNbmeKwY1v6uhxB+oa956SudKkAFaACVIAKUAEqQAWoABWgAlSAClCB+qJAIJD3QGQvvA4C8l5grc8DgbwlLz8gjzQByZ/4ryfeBvBe++baz3Q++wD5Kae8oQH+3uOpp73hrZMG8ju37txvhfzOL3bu0vngeD8gv7pqc+3Lv/+4Lm3JzFM/L5APm1dGgDxWOvfIc/9U51bVIlhDYwzO5aNhV9hwiKvj4bhCEsz5aX+sBm6g/OXQlh9WLgNU4hMVIiJfSQNbeOgy5ZKuc7obY36f2zLlTWPM8crTG0efB5UfW4wAoiJPbMuCXyZguxucY4U9XrKNjy3fXJA6B3nKFjhwg9pPlw0R9Tl+nYAV09i2CCvUtR+Opf1Qpo9zmWN7nK66ILljhI9SHklK541rtvN85YY944N2hs3IB2na/HQ4OYaryxLWfnScIJvQeXjz8Z6jHkhT/vCyZvlAD1yH6/38mzFmae4itns6KnecT0NJR9cD1/S5rUxx2LEtfV2OIH3D3nNSV7pUgApQASpABagAFaACVIAKUAEqQAWoQH1RIKtAHjB84gET6/aQr9lZE7yH/JMTVtRxcYHkL01bWXf+l+tW2IA89otHOL2H/NrFazfnBfIC4b3uFd0WSH5eIB82r4wA+fuNMZfnuX8+ya2sRjCsuMW5fDTssoXDymGBsFg1rOPpY0lXu9jSoq2+kDu25Yc4skIeW/LoPIKOkaz2w8tuZeV1L4+fT3HqoPS5Ckh70/Oe28qP7XKuMsY8mMsIK5qvyK1u9uYNGO7NV4dBnWSlNlZ9A/LLR9dXH8Nfn+OBwDm5hwPYCkX76WPEw0MJbHnymmTicRE+SnkkGW9+tvN85ZZywFZgM/LRZfTz0+HkGK4uS1j70XFsNhGUjzffVbl20uHlGHvK/8YYM1cueFxsYYX3FuitlfJpKEnY7nFbmSR+MXZsSz+svoXcc1JmulSAClABKkAFqAAVoAJUgApQASpABahAuSuQVSBft4f8j/fsIb/2H/uC8n1WyL/913V1bHzmRUvrgPh9P15ad/72M+sEkIurV8i/dN1LdSD/2cueXfbc5c+9izjP/+/zy/MCeb0aXqC8vnaRmesF8mHzygiQxypYvNQSQBcrsAEfxxpjHlb30j3GGLx0FS/rvNEYc6/y07DLFg6g8awcKMR+31g9LB+dhlzT7hxjzGhjzLdzL3cVP1t+fzHGXJl7aSW2fNktkTzQ1Ju3Pse+0nhYgf3fsVWM9lPJmVeNMf9f7oHDYMsDC8TRadjKj73o0S6A4Pj8X2PMZ+oc12z57om15z/yxHYkAOn/a4z5k/LU5dHHCKLPAXKPzj2ggJ7YIkR+WaHDIR62OgGUhx35fRA+THmQh2wbo9Px5mc7z1dulAO/QMAe8rAz+UgZg/x0ODmGq8sS1n50PW02EZSPN1/8WgPvPsALWrEVy/O5iHjZrWx9NM/z8ltJG/vNwz5+KxdyL3QO0/a2ezyoTMgmDju2pa/bxKZvmHtOycJDKkAFqAAVoAJUgApQASpABagAFaACVKBeKJBFIC+cu3pL9S680PU3fX7zqgbl+wD5zz/dURd+XP+FdeD9l31erTvHdQ8o10AeL3NdMnvJ6m2btu3ctnFb9Zt3vblqfMPxc3U+ON5vyxqdphRUX/MB8mHzygiQx33zXWPMG8YYbG3xqTEG0Aor4eWD/cexohbblTyn9iOHv4ZdtnDn5VYgYxXy+cYYvIhTtjnRaUie2u1njHk/t/e5vDAU/rb8BhhjsGUK9p/Hg4BtavsZnZ8+9tYHEHJFDj6jzNhv3++D1eDLclvBLDfGDFWBbOnbyo+HHwDw2EoDHzwUwDmgunxs+UoY/Cpha04DaF5ljIGe8tHl08fw1+ffMMZgxTe20sELZ6/NpesNh/P+ubi9JRPlFlIeAFLU2fvR5YKf7TxfuUfmbPE9Y0xflRHStPlJUFveYe1H19NmE5JnvjrjoRr2icf9ii1ovpN76ICthA7PJfLN3Lsg8MBBf9AX4OEVbEs++TSUcLZ73K9MEi8OO7alr9vIpm+Ye07KTJcKUAEqQAWoABWgAlSAClABKkAFMqAAvhDiD/s16w8ggPjhuhzDBRwDJPv3XASsvHw9B5beMcaM0AnljiW+eHnP5XoUV/ZQRpr8pKTAfkDeA4+90FrOvXvIe0G13/l+e8iHyEvvIe+Xpt+1fYB8iDykThrI+6Xrd80K5APy9q6Q90vX71qGgHxK1lzy2Z5kjOmS24P+J8aY+SVf4vQLiFXZWG0uK7HTL1FwCWxjmc0vOMV9fWg/++rBMypABagAFaACVIAKUAEqQAWoABWgAokqgC/3WF2J1ZpYuYkPVhFixSHAu3z5hyvHWJWGY/wMHB+8UA8vLsMLA3EdP3P3fnR8+HnPveELOSeQL0QtR2EJ5M1cAnlHxsVkvQrcklvVj777b6rv9obj+VcK4KWZC40x2Le/1D8YH4M+Nr+gON7rtB+vIjynAlSAClABKkAFqAAVoAJUgApQASqQoAL4co8Xnj2S2zsXWeMFfTjX0FwfY29nnOMla/qDfXtxfbG+mDvW8XFJn7fJbUWBLSPwIOBRtT8v9gTGS9EAU7D6HlsS4IOftyMf/PR9Ysj0sCUB8sWLA2/IPXDIJUenWAUI5Anki7UhxqcCVIAKUAEqQAWoABWgAlSAClABKkAFqAAVoALlroCA8Yty286gvlhF+J8eyC3h4ALgYw9k2bJGNIIf9nmWlfZyHa6Or4/hNzvnf6wx5pjc8UM6cu6FfYiHfYLxwcvgcI69dPHSR0kTfrb0EA4vbbwk96LIPanxf9EKEMgTyBdtREyAClABKkAFqAAVoAJUgApQASpABagAFaACVIAKlLkCArKxHzFemDYoB9zxgjHxgwT6OEgSvCgO4V7xCeCNr8/xYj85Fxcr5fH5UW47HbkOFx+sjMdxM2MMXngm/vCzpSfhEIcfKkAFqAAVoAJUgApQASpABagAFaACVIAKUAEqQAWoABWgAokpIIAaGWILGKw8x57w+Gg/fZzz3s9plIuzbT+ffdPypr0uFw97wXs/4neopzwC5BHnQI+fxPFLL0w9vGXgORWgAlSAClABKkAFqAAVoAJUgApQASpABagAFaACVIAKUIGiFdCA+voc2P5lLlXtp4+9mb6e24/9hFz8v3sDeIA5vHV69+bOzzPGIA0A/T/n0vgs5/c9Y8yXuePmxpi5ueOzjDE/zB0jTXxs6el8c8HpUAEqQAWoABWgAlSAClABKkAFqAAVoAJUgApQASpABagAFXCvgAbUg3Nge2AuW+2nj72lAkSvMsZsN8a8aYz5hjeAB5jDW6eHl7reldt//nNjzF+MMVgRj8/VuS1oZhpjLjPGbDDGvJvLY7kxBuHxAAEvfUWaeHGrLT2dby4LOlSAClABKkAFqAAVoAJUgApQASpABagAFaACVIAKUAEqQAWoABWgAlSAClABKkAFqAAVoAJUgApQASpABagAFaACVIAKUAEqQAWoABWgAlSAClABKkAFqAAVoAJUgApQASpABagAFaACVIAKUAEqQAWoABWgAlSAClABKkAFqAAVoAJUgApQASpABagAFaACVIAKUAEqQAWoABWgAlSAClABKkAFqAAVoAJUgApQASpABagAFaACVIAKUAEqQAWoABWgAlSAClABKkAFqAAVoAJUgApQASpABagAFaACVIAKUAEqQAWoABWgAlSAClABKkAFqAAVoAJUgApQASpABagAFaACVIAKUAEqQAWoABWgAlSAClABKkAFqAAVoAJUgApQASpABagAFaACVIAKUAEqQAWoABWgAlSAClABKkAFqAAVoAJUgApQASpABagAFaACVIAKUAEqQAWoABWgAlSAClABKkAFqAAVoAJUgApQASpABagAFaACVCAGBSqNMWPL9O/Xxpi/5P4mlmkdy7Xtyqles3M2+GA9tMHb1T14VT2sf1x2fKvScRx1jH3MukXpO4H6xq5vXPcB03EzX3ssZ//30fYzY/u/VX3W1Wy3WNrt4Zyms8pMz18qW/lNmdWtnMeEmbl2e5RtFsv9nYSt3KDutUll1m53qroloWWSeZRr35+khmnm1SYGHsokqECqCrQwxtTyjxrQBmgDtAHaAG2ANkAboA3QBmgDtAHaAG2ANkAboA3QBmgDJW4DvVIlqcycCsSgAIE8H0jwgQxtgDZAG6AN0AZoA7QB2gBtgDZAG6AN0AZoA7QB2gBtIAs2QCAfAxBmEukqsBfIn3766Qs+/PDDG8rl75RTTvmbPNG7+uqrn8lXr+OPP/71a6+99oF84cR/7Nixj5522mmvynk+97HHHrujT58+H+QLp/2POeaYf0yePPkP+prt+JJLLnl8+PDhL9vCaL/HH3/89t69e3+or+U7btu27aZ8YbR/165dP3nhhRdu1ddsx0OGDHnt6quvfsgWJozf0KFD548ZM2ZOmLB+YZ5++unfdu/e/WM/v0KuNWnSZAfssGPHjjsLiVcOYXv06LFS7sFnn332jnKoU746HHzwwWsXLVp0c75whfgPGDBgmeh411133V9IXIbNP6Yde+yxb4m+kydPfiyLmk2ZMmXmoEGDqrJYdpT5kEMOWT1v3rypWSz/z372s8eyPH9q0KDBbtj/YYcdtiWL+tvKjHnaqaeeutAWJot+ffv2fV/6rIcffvjuLNah1MrcqFGjL6Fp9+7dt5da2Yopz6233oqtqOqgyrBhw94rJq1SjIvvDFddddXDpVi2YsrUokWLL9BuDRo0qC0mnVKMi+/DhX73LMV6eMuk55I//elPX/H6Z/kc322kH3n//fdvzHJdvGVv2LBhXd/fs2fPbV6/rJ+Da4FvZb0e3vKfd955z4g9GmMI5NNlycw9BgX2Avkzzzzzpdra2nHl8jd06NAFcrNOmjTpyXz1Ovnkk1+bOnXqzHzhxH/ChAkPDB8+/BU5z+fOnz9/ymGHHbYiXzjt/61vfevNu+++e4a+Zju+/PLLHz377LNftIXRfgsXLrwFX+z0tXzH7du335gvjPYH1F62bNkkfc12fPrpp786adKk+21hwvidddZZ8wD2w4T1C7N48eLJvXr1+sjPr5BrTZs23Q477Ny5885C4pVDWEy45R6sqqqaUg51yleHLl26rFmzZs3EfOEK8R84cODbouOcOXPuKSQuw+Yf077zne+8IfpOnz79wSxqdt99900fPHjw4iyWHWXu1q3bqhUrVtyYxfKPGzfuwREjRmR2/tSgQYMa2P8RRxzxeRb1t5X5uuuu++OwYcNCz9NsaZWS3+GHH75c+qy5c+dOK6WyZbUsjRo12gVNAWWyWge/cs+cOXO62MrIkSOX+YXJ8jU8DL3xxhuL/s5QahoceOCBW9BuAPKlVrZiy7NgwYIp/fr1K+i7Z7F5JhEf4FPutcsvvzz0d/EkylZsHvhuI3WrqakpG1YEXQTI9+7de2uxOpVafCzWwQLVUitXseW5+OKL8Y5IWb1PIB8DEGYS6SrgC+SVkdc2adKkumfPnh898sgjv5MbCP5yHAe0lLTidIOA/IwZM+7q37//e7oOyNcPyD/11FO3AShXVlbuxNPhWbNm/V7K6AfkseK8e/fuqxC+S5cu/5w9e/adEt4G5LG6w1sexPMCeWit2wZllvTh+gH5Xbt2jccKksaNG+9s27btv7DiXuL4AXmdvhxLeLheII+VDlgFj/ThPvroo3vtBOG9QB55AtRCo/79+69YvXr1r3T6XiAf1F6Is3LlyhvQlliFDnfVqlV70/ICeVs6fn5eIO8XRspts5MkgbytjDbblHrE7SYF5G31ljoF3WPiH5frB+Rt5ct3T6NcpQ7kbfWz9T9xaV5sOnEDeZse0qdqt9jyI36cQN5W/nz9fdS6xAXkbWXPN/ZELXucQN42ltjGu6hlRzzXQN5WJ1t7FVMniesKyNvqZPOTchXrliqQt9U9jTlIITq7BPI2XaSMruYoroG8rW5h5jdS/6iuKyBvq1cS8xqXQN5WNz03keOobRMUzxWQt9XL1dxF19ElkLfVzdXcRtfNJZC3jQ2u5j26bi6BvK1uruc/qKMrIG+rl81Wte7FHBPIpwuPmXv8CgQCeblR1q1bd/2FF1749MEHH/ypXNNuy5YtS3JVVRCQxwRx2rRp92CioevhB+TxM/qLL774yU2bNl136aWX/rlz585rJY4fkD/kkEPWYNsYhIerNbMB+SOPPPJdb3mQjxfII38MvFIGr+sH5C+55JInzjjjjPn4iRlWnn/jG99YKvGQlm2FPEDD0UcfvUTCw/UCeTx4wE/2N2zYcP2YMWP+jEFbh/cC+SOOOGL5yJEj5wKeYzU/yqbDe4F8UHshDla+nXPOOc8B6p977rnPjRgx4mVJywvkben4+XmBvF8YyctmJ0kC+TxlDLRNqUfcblJA3lZvqVPQPSb+cbl+QN5Wvnz3NMpV6kDeVj9b/xOX5sWmEzeQt+mhy+rXv2r/Qo7jBPK28ufr7wspsw4bF5C3lT3f2KPLU8hxnEDeNpbYxrtCyusN6xrI2+pkay9vOaOcuwLytjrZ/KLUwS9OqQJ5W91t82O/OiZ9zSWQt+ki9XQ1R3EN5G11CzO/kfpHdV0BeVu9kpjXuATytrrpdohzjqLTdQXkbfVyNXfR9XIJ5G11czW30XVzCeRtY4OreY+um0sgb6ub6/kP6ugKyNvqZbNVrXsxxwTy8QNhppiuAnmBPG4YQHmsgJabR+Bx3759P5An6E888cTt48ePf7Bdu3YbsRdjp06d1t155513S5yk3SAgL+WQOsi5H5B/8MEHp2ElBMJgGwqtgR+Qx68I5Kdc0KyysnKXpB8E5AHJR40a9aK3PIjnBfJt2rT5DE+LJU2v6wfke/bsuRJPMr1hcW4D8gDsHTt2XAcwreN6gTzquHnz5gkIs2XLlgm6zrjmBfJNmzbdISvZoRfy0Ol7gbz4+emDuNifHmGeffbZ3+BXDBLeC+Tlul86fn5eIO8XRq7Z7CRJIC/l8aujzTYlXtxuUkBeyu1Xb/jZ7jGJG5frB+Qlbb/y5bunEbfUgbytfrb+R+Kl7cYN5KU+fu0tfkH9q/gX6sYJ5CVvv/Ln6+8lbqFuXEBe8vUre76xR+IW6sYJ5G1jiW28K7TMOrxrIG+rk5TDr73ErxjXFZC31cnmV0xddNxSBfK2uqcxB9Ga5Tt2CeRtuqBcLucoroG8rW5h5jf52iWfvysgb6tXEvMal0DeVjfRO+45iqQL1xWQt9XL1dxF18slkLfVzdXcRtfNJZC3jQ2u5j26bi6BvK1uUgZX8x+k7wrI2+pls1Wpc7EugXy68Ji5x69AXiCP1cff//73nz/uuOPekhtIdx76uHnz5luxTcvWrVuvxc8v0YFLnKTdOIC8LjO+2OnV5H5AXsJXV1ePx8p6PLWWa0FAvk+fPh8uXbr0Jq2jxPECecBdhG/cuHE1YOdrr722z2p5PyDfrFmz7dhLHS8I6ty58z+feeaZ30r6NiCPF2aMGjVqroQV1wvkse0Mfg2ABxBYKY8vihIWrh+Ql21q8OJUbF2jwxcC5BEXv0ZAfEweoYuklSSQlzzheu2kVIC8lNHPNsUvbrdUgLztHou7zoUC+Xz3NMqXZSBv63/i1j5qemkA+aD+NWodkgLy+fr7qOVPCsjbxp6oZY8TyOsyeMcS23in4xV67BrI6/J46yR+fvMf8SvGRX6u95APqhPKbfMrpl6lCuR1nYLqnuQcRJcn37FLIK/z9tPF5RzFNZC31S3M/EbHj3LsCsjrsnjbLIl5jUsgb6ub+MU9R5F04boC8joPb5u5mrvoPF0CeZ2Pt24A8i7mNjpPl0Be8vEbG1zNeyRPuC6BvOTjVzfxczX/QfqugLyU3VYvhPHaqsQr1iWQjx8IM8V0FQgE8ugg5K9Dhw7rq6qqfi03kO489DFWxQ8fPvxl27YqkoZrN04gD4jdtm3bTU8++eRtUm4bkIcmrVq1+nzu3Ll1q7cRxw/I4xcE8qBD6yh5eIE89oK/9957Z6xdu3YiwPWAAQP2eUGTH5Bv0KDBbrxwDiv8sVWMfpFOEJDHiveDDjpog99qfC+Qf/7553+DBzEoP1ysVJfyw/UC+cMPP/w9/CIA5Tn11FMXVlRU7LN1UCFAvqKiYrf8IgG/ZMC55J0GkPezk1ID8n62KZrF7ZYCkM93j8Vd50KBfL57GuXLMpC39T9xax81vaSBvK1/jVqHpIB8vv4+avmTAPL5xp6oZXcB5P3GEtt4F7XsiJcUkPerk5Tbb/4jfsW4+DLoEsjb6mTzK6ZOiFvqQN5W9yTnIIXonASQ99PF9RwlKSDvV7cw85tC2sgvrGsg71evJOY1SQB5v7pBYxdzFN12roG8X71czV10vZIA8n51czW30XVLAsj7jQ2u5j26bkkAeb+6SRlczX+Qvmsgb6uXn61KnYt1CeTThcfMPX4FAoG83CzYXgQr5PXqcN156GNAZwxIshp7+vTpmd6yBhpguxfAeOw7L5rAtQH57du3Xzt69Ogn8bNGieMH5PHEHj/tQRito8TxAnm5DhewHE/F9TU/IA8gjIkIwqEt8QJUiRME5PEldvDgwYslnHa9QB7bFl166aV1K+THjBkzB3ui6fBeII+yYF9JrDCBXWF7Ix2+ECCPLYRkhTxW6OMFxJJW0kA+yE5KDcj72aZoFrdbCkA+3z0Wd50LBfI6f797Gv5ZBvK2/kfXPc3jpIG8rX+NqkNSQD5ffx+1/EkA+XxjT9Syxw3kg8YS23gXteyIlwSQD6qTlNtv/iN+xbgugbytTja/YuojcUsZyOere5JzENErjOsayAfp4nqOkgSQD6qb1j1ofqPDRDl2CeSD6pXEvMY1kA+qG9rAxRxFt61LIB9UL1dzF10v10A+qG6u5ja6bkkAeb+xwdW8R9ctCSDvVzcpg6v5D9J3DeSD6hVkq1LnYl0C+fiBMFNMV4G8QB43DVYz661FdOehj+UGw6plwOHWrVtvlmtJu3GskMc+4n4wHnXxA/KTJ0/+A36+A/8we8hDO+8f9uIXrbxA/rPPPqvbngX+y5cvn4QHHxIWrh+QB/wW6I8JcfPmzbdJnCAgf+yxx7517bXXPiDhtOsF8vgSI+WCm28PeZ0WyuW1kUKAPF6aKw8bsP0NXtoj6ScJ5G12UipA3mabolncbikAee/9hXN9j8Vd50KBvNw7KIffPY3rWQbytv4nbu2jppc0kLf1r1HrkBSQz9ffRy1/EkBel81v7NH+hRzHCeRtY4ltvCukvN6wroG8rU5SFvTLchyn6wrI2+pk84urbqUK5G11T2MOUojeLoG8TRfXcxTXQN5WtzDzm0LayC+sKyBvq1cS8xqXQN5WN2jsYo6i284VkLfVy9XcRdfLJZC31U2XIc65jU7XJZC3jQ2u5j26bi6BvK1uUgZX8x+k7wrI2+oV1lal/lFcAvl04TFzj1+BvEAeK5DPP//8Z7p3775KbhrdeQDwynY2+FJ9zTXXPIQ95LG1CrZtkThJu3EA+WOOOeYfF1100VN+ZfcD8njrNPaOh2aXXHLJEziXuH4r5MUPrtZUrnuBPF5uctlll/0pt2XNgm9+85tVEhauH5A/++yzXwDkxup47AkPuCdxgoB8x44d1wvolrDieoE8XqQ6ZsyYP6POP/vZz+ZoKI443hXy2FcfL/99//33b/zud7+78LTTTntV0oZbCJA/88wzX8Iqe+ydd/bZZ7+ILXkkrSSBvM1OSgXI22xTNIvbLQUgr+vkd49p/ziOCwXy+e5plCnLQN7W/8ShdxxpJA3kbf1r1PokBeTz9fdRy58EkM839kQte5xA3jaW2Ma7qGVHPNdA3lYnKbervtkVkLfVyeYn9S3WLVUgb6t7GnOQQnR2CeRtuugyurgPXAN5W93CzG90/aMcuwLytnolMa9xCeRtdUMbuJij6LZ1BeRt9XI1d9H1cgnkbXVzNbfRdXMJ5G1jg6t5j66bSyBvq5uUwUW/L2m7AvK2etlsVcpVrEsgHz8QZorpKhAI5NFB4A8r4/v06fOBBrS688DLW2XrlKlTp87s0KHDBnRuALc33XTTrGJvuqjxg4C81Eu7yOPkk09+DeXX+WF/c6yTEzsAACAASURBVB0Ox7IvvB+Qf+yxx+445JBDVmOVOFZQ4AW3kl4cQH7WrFm/x6QCP+E67LDDVrz11lt79/VHPn5AHiv1BwwY8C7K1KNHj5X6RbBBQB5bvwD6S9m16wXyeBoPCI/04eJch/cC+RtvvPF+rIqHXZ1wwgmvb9myZYIO7wXyXv1xLuEB4vv37/8etuE58sgj39Vl9gJ5Wzp+fnjCq7ff8Qsj5bDZSZJA3lZGm21KPeJ2kwLytnrrOiGcPndx7AfkbeXLd0+jjKUO5G31s/U/LvSPkmbcQN6mB8pn61+jlB9x4gTytvLn6++jlj8uIG8re76xJ2rZ4wTytrHENt5FLTviuQbytjrZ2quYOklcV0DeViebn5SrWLdUgbyt7mnMQQrR2SWQt+miy4j7QZ/HcewayNvqFmZ+U2wdXQF5W72SmNe4BPK2uqE9XMxRdDu7AvK2ermau+h6uQTytrq5mtvourkE8raxwdW8R9fNJZC31c31/Ad1dAXkbfWy2arWvZhjAvl04TFzj18BXyBfzE1SKnGDgHxQ+fyAfFBYXPcD8rbw+YC8X1zvCnm/MPqaH5DX/t7jICDvDafPvUBe+/kde4G8Xxh9zQvktV8hx14gX0hchPUC+ULjS/gkgbzkWSpuUkC+VOqLcvgB+WLLV+pAvtj6pR0/biCfRn3iBPJplD8uIJ9G2eME8mmU3zWQT6NOkqcrIC/pp+WWKpBPS4848nUJ5OMoX9Q0XAP5qOWKK54rIB9X+aKm4xLIRy1TXPFcAfm4yhc1HZdAPmqZ4ornEsjHVcao6bgE8lHLFFc8V0A+rvJFTYdAPn4gzBTTVYBAvrZ2HDoEAvk9OuTrHAnkw+kkOhLI7/mlTVVV1RTRpJxdAvnC7o9SsAUC+fTbjEA+vTYgkE9P+6j9H4F8/G1GIB+/plHtu5B4BPLZazcC+ey1GYF89toM/SiBfLqQlblTgbAKHCg/mRkwYMCyK6644pFy+evXr9/7UrczzjjjrXz16tu37/vDhg17JV848cfe59gmRc7zuRdccMHT2G4mXzjt37Nnz4+wL7q+Zjs+6aSTFn39619/2xZG+1144YVPderU6VN9Ld8xVm3kC6P9DzrooA2jR49+Ql+zHWMLmqFDh863hQnjd9RRR71zyimn/C1MWL8weBdAhw4d1vv5FXJNvuS1bt26ppB45RAWbS/34H/913/9tRzqlK8Obdq0+deYMWPm5AtXiH/nzp3/KTqee+65ofuoQvKoz2F79Ojxseg7cuTIRVnUYtSoUS9iS7Islh1lbteu3cZLLrnk8SyW/9RTT12Y5flTRUXFbtj/1772tR1Z1N9W5kLnaba0SskP8zbps3784x+/WEply2pZ5MFUhw4ddma1Dn7lxq9FxVYGDhxY0HzfL71Su4aHU4DypVauYsuDrTjRbtj+odi0Si1+lO+epVYHv/L07NlzpdxrJ598cmg+4JdWqV1r1arVZqkbfo1fauUrpjzS93fq1Km6mHRKMS64FrY4LsWyFVOmwYMHLxZ7NMb0Dws9GY4KlKoCHZRB77dfOv32rO6lDtSBNkAboA3QBmgDtAHaAG2ANkAboA3QBmgDtAHaAG2ANpC6DQwpVcjKclGBsAoQyOdeXssONfUOlQ+EaIu0AdoAbYA2QBugDdAGaAO0AdoAbYA2QBugDdAGaAM2GyCQD0t9Ga5kFWglIHrAgAGf/PSnP11QLn+9e/deK3W7+DDz2ZTjzCrb33EdzJb/7GfW28Jov//Xx2w44WDzub5mO77q6+afvVqa7bYwXr+vt6v44pvmm5+eZk5bFebvCHPExh6mx+YwYRHmeHP8mjamzY6w4RGumWm2q5DwbRs12Xrt0Wa1t25B59/uZLZc0Dd8OwSl8++dzeYf9DYbg/zzXR/3DbOm+4FmR75w+fwbNzB12wEcYA7YXYhu5RC2pWlZLffgv5t//2c51ClfHQ40B+482Zz8Sb5whfi3M+22i47fNt9eX0hchs3fd3Y0HbeJvv99pNmU754uRf9LjjCffr292VqKZQtTpkNamOoJBYwTYdJMKsy5vc2GEwuYCyRVrrD5VOS+6B1kDqopt/7i38y/bTjUHPp5udWrtWldt50F+q0TzAmh54jlpkOc9akwe7ZuamPalNVc7Whz9DoZ304/pPg5bdh+Jalw3+5kPv9RDN8Zkipv2HyaNTI1aLcGFaY2bJyshPvfgYV/H85C3Y5qZ/bOJY8yR5XVuNPcNN8l/Uic/W4ppFVhKupgb1vTtuzmQAPNwPVdTJctpaBznGXoa/r+S+zRGDOgZCkrC0YFQipQL17q+vApZnntRWau7e8HvczqB082b9nCaL/pJ5glFx1mPtbXbMdLR5mFx3U0m2xhvH7Du1asOcec8+Y4M25umL/TzGnvHGuO/TBMWIT5ifnJwi6my6aw4RGulWm1rZDwXZoc8Okn55r53roFnZ/Xx6yaeZKpCvIPe310f/PRHd8xS8OG94b74PtmwcD25l/e64Wet6g0dZOYdqZdTSG6lUPYzqbz3gHz5+bnC8uhTvnq0N603zLWjH05X7hC/HuYHutl4nGRuSh0f1BIHvU57GHmsL179D83NHqfUWjfEGf4p/+PeWN4N7M2zjSTTOuItmbzmgLGiSTLli+vad8xSy/ub1bmC1eq/g0q9jw0PtQcuqPc+oH/MP+xZKAZ+HG51aur6bpRxoSfmJ/8vdzql0Z9GpqGdQD0a+ZrO9PI31WePzQ/fENs5ecDzIZS7YeilutHfcyq+2L4zhA1f1fx2jYxdQtaGlWYWld5pJXu26PMwmML/D6cVlkLyfes7maN3GvDzLCPXN3TaaSL7zZStzTyd5lnA9Ogru/vYrqUVd8PzUaakf8YYAZ84lK/NNI+0Zz4ntijMaZXSObJYFSgZBXwBfLKyGubNGlSjZeLPvLII7/DG5vxB385LlV36NChC6Qe+wD5P176Tu3u3Sj/PpMcXyAfEBYDtC+Qt4T3BfKW8MjDC+SfuvSpd3bnyu7XAfoBeVscPyBvC488vUA+X/j9gHyeOluBfJ64euJkBfIh0rEC+RDxpSxpAvl8beNnQ3FeSwPIX9f0unlLHliyZtvGbdXbNm3buWT2ktUTmkyYF2e9bGmFAfKFtkvWgHyh9bPpmYSfcyBfQH8h/UahrhMg/5Om82oXPbCm9ouN1bVbN+2sXTR7de3oJvMKLVuY8M6AfALaOwHyCWqfFJBPo29OAsinUa8sAPk0dClmvEgCyKehSWJAPsE+S48piQH5BMYSXa/EgHwK7ZYIkE+hXkkB+TT6kaSAfBp1SwrIp1G3JIB8GvUikC9ZrsyCRVQgEMgLaF+3bt31F1544dMHH3zwp3ItC64vkJ9+TlXtn695bw+NzwPkLWExadoPyOcJvx+QzxMeeWgg/8g5j1S9eM2Le8vu98XDC+TzxfEC+XzhkacG8mHC7wPkQ9Q5EMiHiKsns4FAPmQ6gUA+ZHwpS1pAPkzb+NlQnNfSAPKvTHrlA9zfT//86WVP//fTy3D80nUvrYizXra08gH5KO2SJSAfpX42PZPwcwrkC+wvpN8o1HUC5P86qe5eqn3o58tqH/zvunup9i/XrSi0bGHCOwHyCWnvBMgnqH1SQD6NvjkJIJ9GvbIA5NPQpZjxIgkgn4YmiQH5BPssPaYkAuQTGkt0vRID8im0WyJAPoV6JQXk0+hHkgLyadQtKSCfRt2SAPJp1ItAPiL1ZbSSVSAvkAd8B5Rv3LjxTgHxskJ++/bt1zZv3nzb2LFjH23RosUXLVq02HrllVc+IuFuv/32ezt16vRpo0aNdnXo0GHD1KlTZ8Jv69at1zZr1mzbmWee+RLSqqys3IU84Ldhw4brcV5VVfVrSSeK6wvkHx//Xt2ER4i82sZmvxXylrBIYz8gnyf8fkA+T3jkoYH83PFz38OXDSm63xcPL5DPF8cL5POFR54ayIcJvw+QD1HnQCAfIq6ezAYC+ZDpBAL5kPGlLGkB+TBt42dDcV5LA8ivX7Z+C+6Rm7vcPH/KoVMW4Hjd0nWfx1kvW1r5gHyUdskSkI9SP5ueSfg5BfIF9hfSbxTqOgHya5fV3Uu1Y7vMr73i0Lp7qXbN0s8LLVuY8E6AfELaOwHyCWqfFJBPo29OAsinUa8sAPk0dClmvEgCyKehSWJAPsE+S48piQD5hMYSXa/EgHwK7ZYIkE+hXkkB+TT6kaSAfBp1SwrIp1G3JIB8GvUikC9ZrsyCRVQgL5BfvXr1r77//e8/f9xxx70lYFyAPM4bNmxYA/i9Zs2aiePGjXuwTZs2/5JwnTp1Wjd58uRZmzdvnvCzn/3ssbZt2+71a9CgQc1ZZ501b9OmTdd1797944kTJ85GPITv0aPHSkkjqusL5AXAC9WW84vM3P2AvPj5hMWkaT8gnyf8fkA+T3jkoYG8fNGQ4si5dr1AXvyC4niBfL7w8NdAPkz4fYB8iDoHAvkQcfVkNhDIh0wnEMiHjC9lSQvIh2kbCePKTQPI79q260vY+/jK8fPwMzocV39R/aWrOnrTzQfkJXzQPSn+2s0SkJdyF1I/iZOW6xTIF9hfSL9RqOsEyO/cVncv1Y6unFeLn3/js+OLLwstW5jwToB8Qto7AfIJap8UkE+jb04CyKdRrywA+TR0KWYMSQLIp6FJYkA+wT5LjymJAPmExhJdr8SAfArtlgiQT6FeSQH5NPqRpIB8GnVLCsinUbckgHwa9SKQj0h9Ga1kFQgE8rL/OtwOHTqs1yvWNZDH8fLlyycBnG/ZsmVCRUUFNmiv22teu/DzxpM0zz///L+eeOKJf0f4U089dSG2yNFxoxwTyH/1ItggOEYgv++2RXoyTCD/lf1E/ZKbBpDfXbPn/RAo8/iK8XW/KNlds3t31DoUGo9Afo/dBPU5heqZRHgC+YAXnu+u2dOMgBEXV+z5dRZuMIETMboE8p42SFD7pIB8Gn1zEkA+jXplAcinoUsx40USQD4NTRID8gn2WXoMIpD3jB2FjssptFsiQD6FeiUF5NPoR5IC8mnULSkgn0bdkgDyadSLQL5kuTILFlGBQCAvEHzVqlV1K+T79u37vlzzgnW5Dlf7TZs27Z5DDjlkdePGjasbNGiwW/vhuKampg7cz58/f0rr1q03I37Hjh3Xv/baa7foNKMcE8h/BVSD4BiBPIF8MV9g88VNA8jv3LpzvxXyO7/YuStfWePyJ5AnkNewYO+xdMKFflkOGd7JCvnqrfuvkK/+YtfeOoUsW5jwBPIeqJKg9kkB+TT65iSAfBr1ygKQT0OXYsbxJIB8GpokBuQT7LP0mEIg7xk7Ch2XU2i3RIB8CvVKCsin0Y8kBeTTqFtSQD6NuiUB5NOoF4F8ROrLaCWrQF4gDxiO7WgqKyv320Mefhqye88PPPDALVdcccUjiL927dqJOqw+RrzOnTv/E3vMd+3adTXOi/0jkCeQv+M7ZqmeuO9znAeQcYX8V/YT9UtuGkAe+8WjafUe8msXr90ctQ6FxiOQJ5Dfp5+RL8d5+hvfOBI3hOsEyGO/eHz0HvKrFm8utqx+8QnkPVAlQe2TAvJp9M1JAPk06pUFIJ+GLoWO1zp8EkA+DU0SA/IJ9ll6DCGQ94wdIeYLWr+698IkNM5LvokA+RTsMSkgn0Y/khSQT6NuSQH5NOqWBJBPo14E8iXLlVmwiArkBfLY4/38889/pnv37qsEkmuYro/hr8979+794QMPPHDnihUrbsR+8XgB7MsvvzzVGw7nZ5999guA8j/84Q+flXyKcQnkvwKqwoL0lw8cc4U8V8h7bSLO8zSA/EvXvbQC9v7sZc8ue+7y597F8fP/+/zyOOtlS4tAnkBevnTu40onXOiX5ZDhnQD5v1xXdy/VPnzZstpHL6+7l2rn/O/yfeoVsnz54hDIe6BKgtonBeTT6JuTAPJp1CsLQD4NXWxjcz6/JIB8GpokBuQT7LP0eEIg7xk7Ch2TU2i3RIB8CvVKCsin0Y8kBeTTqFtSQD6NuiUB5NOoF4F8ROrLaCWrQCCQB1jHH1bG9+nT54Pnn3/+NwLINXTXx/DX5w8++OC0Zs2abceLXm+99db7vve9782TlfY6HOI99dRTt+HaCy+8cKvkU4zrC+QFinhdv5e6esPIeW6ys99LXcXf6+bC7/dSV284OVeTKf1SV/H2uvpLhvelrt6wci5xvEBe/L2uhIerX+rqDSfnOvw+L3WVAF5X1Tnwpa7eOHKu4upJeuBLXSWe1/WkE7hC3htPzj3xpSxpvdRViuV1ddu4Pk4DyONlrktmL1m9bdO2nds2bqt+8643V41vOH6u67pK+vmAvLc95Fzi+7lZeqmr1Mfr+tWrVK453UPeK4ScB/QX0m8U6joB8niZ66LZq2u3btpZ+8XG6tr5d62qvbjh3ELLFia8EyAvWnvdmLV38lLXBLVPCsin0TcnAeTTqFcWgHwauhQzpiQB5NPQJDEgn2CfpceURIC8dwyR85jHEl2vxF7qmkK7JQLkU6hXUkA+jX4kKSCfRt2SAvJp1C0JIJ9GvQjkS5Yrs2ARFfAF8sWA8ChxN2zYcP2oUaNe7N+/P1bkFb1dDdLwBfKWydMPepnVD55s3tITItvxfkDekjbS2Q/I5wmPOBrIh/mi4QXy+eJ4gXy+8PDXQD5M+H2AfIg6BwL5EHF1ewUC+ZDpBAL5kPGlLGkB+TBt4zpMGkDedZ3ypZ8PyOeL7+efJSDvV/5Sv+YUyBfYX0i/UajrBMgnVHbU1QmQT6j8ToB8QmWH9kkB+TT6gSSAfBr1ygKQT0OXYvJMAsgXU76ocRMD8gn2WXp8TATIp1C3xIB8CnVLBMinUK+kgHzUvqCYeEkB+WLKGDVuUkA+avmKiZcEkC+mfFHjEshHpL6MVrIKlASQb9iw4ZfdunX7ZNGiRTcTyH/180MC+a+00BPwMMcE8l9tWRR1wCs2HoF8PG1AIB+PjkH2TCAfvZ8N0xeHCUMgn14bEMi77V+C+p1irhPIx99mBPLp9UFhxoigMATy2Ws3Avn4+69ixpMwcQnks9dmaFcC+ZLlrywYFdhHgZIA8nFBeJ0OV8jnHzy4Qj54IssV8vntJ98kjkC+eA2hMYF8PDoG2SuBfHA/GARB4r5OIJ9eGxDIu+1fgvqdYq4TyMffZgTy6fVBxYwnBPLZazcC+fj7r2LGkzBxCeSz12ZoVwL5fZgnT6hAySrQAfu2848a0AZoA7QB2gBtgDZAG6AN0AZoA7QB2gBtgDZAG6AN0AZoAyVuA0NKlrKyYFQgpAIE8nwgwQcytAHaAG2ANkAboA3QBmgDtAHaAG2ANkAboA3QBmgDtIEs2ACBfEjoy2Clq0BbeerVuXPnrcccc8z6cvlr3779Dqlbp2Zm56EHmK1Z+8MLQQ8wB2xvbVpvzepfo4oGXx7SwmzLmvZxlbciN5g3NU1r+5l+W+vTXxfTZUcr02oX/rJqv6VQ7hamxY7GpvEu/OGlyqVQpnIqQ6Wp/FLGihM6m+oRh5qt/KMG9cUGxPYPMAfsrk/jU5bryrE1/jlxU9N0J8bYpqZpdTmNb5g/yD1+eBtTU1/6tazXc0BbU93tALPr0AOy+f01ru9QWUrnwMZmp9xrXzNf25XlMcZb9s6mc9l+n2timtT1/c1Ms7Lq+8tpHPPWBW0l95ox5pjSxawsGRUIpwD3kE/hTexh90ss9KWuYfaBSzpMlyYHfPrJuWZ+2DqXWzg8VMGg0c60q0lae+aXzT3/2G7Jtls57CFfbv0m65PcvsDlvIc8+9Jk+1LqXXp6/9D88A0BFz8fYDawb02ub6XW9UvrXxxl3pd7bZgZ9hH7w9LrD9km5dEmJ5oT35N7zRjTKxzyZCgqULoKEMgTyM91OUARyBPIu7Qvpl0ek6s025FAvn59aSYk2be9CeTZh6bZ/zJvt/ZHIL9vf8f+n3q4sgECebd9GccK6is2QCBfumCZJYumgC+Qx1On2tracd6/oOvecKVwPnTo0AXy9OzhU8zyWAdgqOP9OAD7rlbIe4uOc+nk4nZTA/J+lXTQRvnsiivky2MC4TWnHZ/v2PXx/I83Ths47bW47xmml6zNEMin+AX9ikMX7HNv/bLfwnx9Kv3jbS8C+WT7m7T69+uaXjdvyQNL1mzbuK1626ZtO5fMXrJ6QpMJ89IqD/NNxu4I5OPtLxMbf16Y+uHesTGF7y6J1bOM6kYgn0yfFtfYwTExW+2l251APhr0ZazSVYBAPspkQGZJUeIWEMc1kNedm6vj1IF8AXq7mIASyGd3wNf3hNzyuDa+Yvzcx85/bAmurX97/ec6HI+z194E8ikCi3t/XHcf1W7fvLPuHvvDf73toh9mmsFtTCCfvT4ryjjzyqRXPsA99vTPn1729H8/vQzHL1330oooaTFOdmyGQD647yvZceGnLV6q/fzTHbW7a3bXjYspf48pWZ1KTBcC+ez0ixjDOCZmq730vINAvnTBMksWTYHIQP6tt976db9+/d6vrKzc2bt37w9Xrlx5w9q1aye2bt36s1mzZv0ei67htmnT5jNcT3rVfCIr5B1PBgjki5hI181ia2vTnkgSyGd3wNeDv5iTXJvQbMJLuLZr+y6+G8Bku40J5IvoZ4sdA+fPWFV3b7163yd73Hs/SbvPrm/5E8hnu/+SMSmfu37Z+i24x27ucvP8KYdOqftlyrql6/hAOePjV752J5BPcXyLOj7+6crltcteWF+7ew+Pr29jUlbrSyCfrbGUY2K22kuPdQTy0aAvY5WuApGB/NFHH73kjDPOmA/YPnz48FeGDBnyGqD7jTfeeH+3bt0+qa6uHt+1a9dPJk2adH/SMB75EcgHd7R14AMiJfBFhCvkuYd8EnbmOg99z2CF/Jwfzalb2fvRix+td5030w/uy+LQhkA+RWCxavHmunvrhmMW1bmrl3ye1S/jWS03gbzb/iWOPiqONHZt2/Ul7rHxlePn4af6OK7+ovrLONJmGqVrQwTyKY5vUYD8xQ3n1m78eFvtXf+vqm5MxL8o6TDO3KR1I5Av3X7Qb4zimJit9tJtSCBfumCZJYumQCCQl/3Xva7A9ebNm29bvnz5JJy/8847N7Vp0+Zf4jdw4MClRx555LuDBg0CtNpvL/okriUC5PfOltxMmFyvkNfF1x1dnMepA3ldyRQmqFwhn90BX98H2ozkeOunW3fcdvhtC3U4HmevvQnkUwIWP2k6r3ZXdU3tlvXVdV+cN/9zR+2XO3fX4uf6KfTV9TVPAvns9VlRxhnZ/QJx8VAZ49jumt27o6TFONmxGQL5lMa3qGMYtnH7YmN17ejKuodmdfPNqGkxXqJQnkA+O/0ixjCOidlqLz3vIJCPBn0Zq3QVCATyftBcv9S1YcOGNRrWN2rUCKtv6uD7tGnT7oEfXLmWtJsIkHc82XEN5HXn5uo4dSDvuI3yQRwC+ewO+PqeEAiPa4AZT/zXE2/j2to3136mw/E4e+1NIJ8SsJhyyhtyX+3jTj3tjXz9Kv3jazMC+ez1WVHGmZ1bd+63Qn7nFzt3RUmLcbJjMwTy8fWViYw7q6s21778+4/r8pKBMeXvMYnUuwzqSCCfnX4RYxjHxGy1l553EMiXLlhmyaIpEBnIt2rVavOaNWt894bHnvKnnHLK33r16vVR0iBe8iOQD+5oZY6nOzdXxwTy3LLGlW0lma73npl4wMS6PeRrdtZwD/kEtr5y2dYE8ikBiycnrKi7rwQ+vDRtZd35X65bQQCQXJsQyAfPlVz2O0mnjf3icX/pPeTXLl67OelyML9k7Y1APrm+NJZxSyabXveKbgtiSb8MwHep6kAgn2zfVuxYwjExW+2l25tAPhr0ZazSVSAykD/++ONfHzly5NwNGzZcP2bMmDl9+vT5ADD8yiuvfKR///74oj2uZ8+eH+FcIHmSLoF8cEcr8zzdubk6JpAnkHdlW0mmq++Zuj3kf7xnD/m1/yDQSLIdXORFIJ8SsHj7r+vq7quZFy2t+4J934+X1p2//cy6Uv3CXY7lIpAPniu56G/SSvOl616qewD27GXPLnvu8ufexb32/P8+vzyt8jDfZOyOQD6l8S0O8C0TzzjSYhrOt68hkE+mT4tr7OCYmK320u1OIF+6YJkli6ZAZCC/bNmySdgnvnHjxtUdO3ZcN2PGjLuwYr5169abn3zyydsA3++///7ft2zZ8vOglfQuAT2BfHBHK3M83bm5OiaQJ5B3ZVtJpiv3jLjVW6p34YWuv+nzm1eTLAfzCu7XompDIJ8SsPj80x1199O4/gvrQPcv+7xad47rhAfO4YFoTCAff58StS9yGQ8vc10ye8nqbZu27dy2cVv1m3e9uWp8w/FzXebJtNO3LQL5lMa3OMYwmXDGkRbTcD6mEsin398VMuZwTMxWe+m2JZCPBn0Zq3QV8AXyLkF5Umk7BfIJTWxc7SGvOzXXx6kB+YTaSKBGkMs95LM74Lu+N5h+adgGgXyGgUWJ9PNB/X8WrhPIl0Y/xPGA7eDCBgjkOb5lYRwqhzISyLMPd9GHM8397YpAvnTBMksWTQEC+RL+Qk8gn/2JNIH8/gMpJxfUpJRsgEA++/1sOXyZT6sOBPLsj0upP2ZZ4rVHAnmOb2mNLfUtXwL5ePsujgXUM8gGCOSjQV/GKl0F2hljavFXWVm5q1mzZtvK5a9hw4ZfSt2aNzI1LRubnVn7q2xgaipN5a4mpsnOrP41MBU1B2ZQ+7hsRWywwlTUZrUNo5a7kWn0ZQPTYDf+mpgmmbbjqBrEEa/SVO7VsbFpTB1j7g8rTMVuuU9bVJov47r3mU72xtz62GZi+w1Mg3o3RsXRP6eRBseE+OfEDU3DGsxV4KbRpq7yxHcIucebNjS762Mfl8U6N2loaho1MLvxPTCL5a+PZW7cwNTIvVZpKsuqH/F8n8ssoKQTeAAAIABJREFUk/DrZ8u17/era7lcgz3KvWaMGVy6mJUlowLhFOigDLoOzPN8zwMK6kAdaAO0AdoAbYA2QBugDdAGaAO0AdoAbYA2QBugDdAGaAMlZQNDwiFPhqICpatAe+lUDjzwwJqvfe1rO8vlr1mzZntXPbZv376s6lYubVQf6iH3V2VlZW19qK+uY5MmTfauFunUqVPZ9C26jkkcN2vWbK+OHTp02JVEnvUpjyZNmuwdKw466KAv61PdWdfymfNEbUsZo5o1a1bvxqiomqUdr2nTpnvHhI4dO3JMiOG7S0VFRd2ipCZNmpTVfdCuXbu9K+Rbtmy5O23bZf7hxpwGDRrUzUsaNWpUVvZYzu3fokWLvf1y27Zty4o7VFZW7p0nl1sblmvfX27tpOvTqlUrvUL+O6WLWVkyKhBOgXqxh/ykSZOeTOplssyndhw1+EqDpk2bbgfw6Ny58876pkvv3r0/FNhTVVU1pb7VP676Dhw48G3Rcc6cOffElS7T2XOffuc733lD9J0+ffqD1OWr/otalL8WDRo0qIMIRxxxxOds72y09+GHH75c+qy5c+dOY7sV326NGjWqA9c9e/bcVk56zpw5c7rYysiRI5eVU93KuS4HHnjgFrRbmzZtasq5nuVUtx/+8IfPyr12+eWXv1hOdevSpcsaqVtNTU1Zfc+XLY579+69tZzarJzrcvHFF/9F7NEY0ysc8mQoKlC6ChDI1xY/kS/nTo91K84+COT3/KyNQD66HRHIR9cuTP9FIO9W3zBtwDDptQGBfHraR7V7Avn424xAPn5No9o349WOI5DPnj0SyGevzdDXEMhnr90I5EsXLLNk0RQgkCeQL6sn3aU2kSeQJ5Av1iYJ5N1OFgnk3epbrP0zvtv2IZB3q68L+yWQj7/NCOTj19SF7deXNKMCeawafeGFF27VOr3xxhuTKyoqdutrYY+RXtiwEk6tXN3n3XTi7+f26tXrI7/rcV2LUo9C8yaQz2YfQiCfvXYjkI8GfRmrdBUgkCeQJ5B3aAME8gTyhU7qveEJ5N1OFgnk3errtWeel5beBPKl1R5h7g8C+fjbjEA+fk3D2DLD+OseFcjDjkePHr3PNq1jxoz5c6NGjb6MonUUkB0lTsuWLTO/ZRqBvL8tR7G7JOMQyGev3QjkSxcss2TRFCCQdwhjkxxQmFdpDigE8gTyxd6bBPJu720Cebf6Fmv/jO+2fQjk3errwn4J5ONvMwL5+DV1Yfv1Jc2oQB4vgz3jjDPma53OOuuseRqSY8U83vHUuHHj6p49e65cuHDhLRL+mWee+e3BBx/8afPmzbdNnDjxjzreW2+99et+/fq9X1lZuRPxV65ceYPE066Oo6+vXbt2YuvWrT+bNWvW73Edbps2bT7r1q3bJ4iDvyeeeOL2oHy2b99+Lco1duzYR1u0aPFFixYttl555ZWPSB7jx49/sF27dhvx8KFTp07r7rzzzrvFT5cpqP750pe0glwC+Wz2IQTy2Ws3Avlo0JexSlcBAnkCea6Qd2gDBPIE8kGT97DXCeTdThYJ5N3qG9bOGS6ddiCQT0f3YuydQD7+NiOQj1/TYmy8vseNCuQBnrFC/oEHHrgTGj711FO3CbwSTY899th/DB8+/JU1a9ZMBKwfNGhQlfgdddRRy0aNGvUi/EaOHDlXg+yjjz56CWA/wDriDxky5DWJp10dR1/H8Y033ng/AHx1dfX4rl27fjJp0qT7cV3HseXTsGHDmqFDhy5A+caNG/dgmzZt/iV5NG/efOvs2bPv3Lp167VXXXXVw3gRqfjp9G31t6UvaQW5BPLZ7EMI5LPXbtKn4b7mS11LFzKzZOEVIJB3CGODBm1ez17nH7XNCOQJ5KPajsQjkHfbXxDIu9VX7JhuaepMIF+a7WK7Xwjk428zAvn4NbXZMP3sehcD5OfNmzf19NNPfxUajxgx4mXsKa+BdMuWLbcsXbr0Jvi/8847N+ntYrDqfNmyZZPgt3jx4sk6HlanL1++vM4P8TQM1+2Zg2SB+8cPHDhw6ZFHHvnuoEGDlki8sPkgnJRhy5YtE/Te+FgVP3z48Jf1in+/9G31t6UvaQW5BPJ2mw7SLe3rBPLZazcC+fCglyGzoQCBPIE8V8g7tAECeQL5YiebBPJuJ4sE8m71Ldb+Gd9t+xDIu9XXhf0SyMffZgTy8WvqwvbrS5rFAHlohK1osAq9T58+H+JcA28ASPjhOlyci65YIY6tW3AO4O2JV4Nz+Qval17HkXS1O23atHsQBq5c13FQBskDrs5Hh0NcfT5//vwpxx9//OvYzqZz587/nD59uu+WNbb66/S86UtZg1wC+Wz2IQTy2Ws3AvlsQGaWMrwCBPIOYWzQoM3r2ev8o7YZgTyBfFTbkXgE8m77CwJ5t/qKHdMtTZ0J5EuzXWz3C4F8/G1GIB+/pjYbpp9d72KBPLaTueCCC/46ZMiQRdBag+ZWrVp9jhXuuA4X59Ie2PZFVsgvWrToZk+8zdgqRsIGuTqOXxjsP3/KKaf8rVevXh+Jv47TqlWrwHx0OMT1nuNaTU3NuMsvv/zR1q1bbw5IP7D+3vS855Ken0sgb7dpP81K4RqBfPbajUA+POhlyGwoQCBPIM8V8g5tgECeQL7YCSeBvNvJIoG8W32LtX/Gd9s+BPJu9XVhvwTy8bcZgXz8mrqw/fqSZrFA/oYbbpgNsD1x4sTZ0EyD5W9961uLzzzzzJfWrVt3/bBhw14ZPHjwYtH18MMPf+8HP/jB89gnHvvLV1RU1IofVp9jX/kNGzZcP2bMmDl9+vT5QPy0q/PS13GMl7D2799/BY579uz5kbyUFdvhVFVV/RrXbfl409bn3bp1W3XNNdc8hD3k77333hn6QYMOZ6u/DoeyeM9xLeiPQD5YmyDNSuE6gXz22o1APhuQmaUMrwCBvGVwLYWBgmXI3kCh24xAnkBe20OUYwJ5t30AgbxbfaPYPOMk1yYE8slpHZddE8jH32YE8vFrGpe918d0igXyWMleWVm5U1a0a7CMveGxOr1x48bVffv2/QDnovGcOXPu6Nix4/pmzZptmzBhwgOVlZW7ZAsbrJzH3u+I17Fjx3UzZsy4S+JpF3n5/aEsWLX+5JNP3obw999//++xfz2u4yWsTZs23YHrtnx0PRBWn0+dOnVmhw4dNgCwtm/ffuNNN900S8qlw9nqr8N505e0glwC+Wz2IQTy2Ws3AvnwoJchs6EAgTyBfODT/qBJB6+HH7wI5Anki71fCOTD329RtCaQd6tvlDZhnOTahEA+Oa3jsmsC+fjbjEA+fk3jsvf6mE5UIF8ftSqVOhPIZ7MPIZDPXrsRyGcDMrOU4RUgkCeQJ5B3aAME8gTyxX5ZIJB3O1kkkHerb7H2z/hu24dA3q2+LuyXQD7+NiOQj19TF7ZfX9IkkM+ePRLIZ6/N0J8QyGev3Qjkw4NehsyGAgTyDmFsfZk4sp7BgxmBPIF8sfcHgXzw/VWstohPIO9W3zjaiGm4ayMCeXfaurJbAvn424xAPn5NXdl/fUiXQD579kggn702Q19CIJ+9diOQzwZkZinDK0AgTyDPFfIObYBAnkC+2C+PBPJuJ4sE8m71Ldb+Gd9t+xDIu9XXhf0SyMffZgTy8WvqwvbrS5oE8tmzRwL57LUZ+hMC+ey1G4F8eNBbbEh5IUi1MeYfxpjRxSboiS/p47I+9gSznv7aGLPFGLPNGqq0PQnkHcLY+jJxZD2DBzMCeQL5Yu8PAvng+6tYbRGfQN6tvnG0EdNw10YE8u60dWW3BPLxtxmBfPyaurL/+pAugXz27JFAPntthr6EQD577UYgnxxcFkheaYy5PQfNzw+Z/Z258CGDRwbyX+byaRs2oxIMRyBPIM8V8g5tgECeQL7YL48E8m4niwTybvUt1v4Z3237EMi71deF/RLIx99mBPLxa+rC9utLmgTy2bNHAvnstRn6EwL57LUbgXxyRFmAPHI8LAe+38hl38YYc48xZr0xZpMx5lFjTKecn8QTd4IxZpUxBivt3zHGnOIJh1MJm/Pa6yCfu40xa40x64wxfzDGtPPE94vrlyceLCAs0vqJMWajMWaNMeasvbmlc0Ag7xDG1peJI+sZPJgRyBPIF3t/EMgH31/Faov4BPJu9Y2jjZiGuzYikHenrSu7JZCPv80I5OPX1JX914d0owD5mTNnTu/WrduqTZs2XQfm4KdT0HW/sGGvBaXZqlWrzbfddtu9SOfll1+einAvvPDCrTifNm3aPa1bt94seeg0evXq9ZHfdbkW5CIN+QsKo6/rPPV177Euj9dPnxPIZ7MPIZDPXrsRyCcHjaVTRY7Nch3s9lz2s3PnxxpjjskdP6SKpuPKZYB0XP8wd0GH0ccSHu69uTj/NwfOEe5+FSAongTxyxOr6s/NPRhA/I8kcEougTyBPFfIO7QBAnkCeT1hj3JMIO92skgg71bfKDbPOMm1CYF8clrHZdcE8vG3GYF8/JrGZe/1MZ1CgTwgfLt27TYCfEMv8As/3YKu+4UNey0ozaOPPnrJBRdc8Fekc8011zzUokWLL66++uqHcX7hhRc+NWjQoCV+ebRs2fJzuR6Utvj7uVHi+KUj13R55JqfSyCfzT6EQD577UYgnxw11rBboPHWXPZwxV9crJSXj1zD+Y9yq9HlGlx85Nx7vMd3z/8NuXB4INA0d4yV7fLRacg1uPnyRFoNc+nt1hFTOBZta88888yX/AaYrF4bOnToAmnnSZMmPZnVerDc2RsodJsRyBPIa3uIckwg77YPIJB3q28Um2ec5NqEQD45reOyawL5+NuMQD5+TeOy9/qYTqFAHoB7yJAhi0QrfP+VY+3q6+PHj38QEL9Ro0ZfdurUad2dd955t4R96623ft2vX7/3Kysrd/bu3fvDlStX3iB+zzzzzG8PPvjgT5s3b75t4sSJf9RpShi4KNPgwYMX4/iMM86Yj+OhQ4fOx/m3v/3tNy+66KKnJLyk0bdv3w9wjL8nnnji9gYNGuz+xS9+8afmzZtvhSZXXXVVHdCXeH6upAW/N954YzLK37hx4+qePXuuXLhw4S0SR8Jt3779WtRl7Nixj+KhQYsWLbZeeeWVjyCctzwS188lkM9mH0Ign712I5BPjhhr2N0/1zm/msse28fAH2Db76PjSthDc3Hgh48Oo49z3nWOBvICrrFNjnyC4oXJE2kExZf0k3ClXgTyDldJ+w3cvJa9ASBKmxHI7+nnqqqqpkTRj3FqxxHIu+0rCOTd6st7uLT1JZAv7fbxu38I5ONvMwL5+DX1s11eC6dzoUAe26rcfvvtddvDQGMwBj+t9XVA7tmzZ9+5devWawG6u3TpskbiYHU7IPratWsnDh8+/JUhQ4a8Jn5HHXXUslGjRr24Zs2aiSNHjpyr05QwcJF2586d1+K4T58+H06ePHkWXJwjrwceeOBOCa/T0McYnwDxV69e/Ss8QGjTps1nEifI1fGPPfbYf6D8KOtZZ501b9CgQVUST4dr2LAh8lmAcOPGjUM+//ILJ9f8XAL5cLbtp12a1wjks9duBPJJIOI9eQisxkry29BpGmOG57KXrWTOM8acYIzZZoz5syrarlx4QPjPcsffM8bIS1ib564hTXwkr9zpXkfyQdzv58LhmnyC4oXJE2kExZf0k3AJ5AniuWWNQxsgkCeQL3aiSSDvdrJIIO9W32Ltn/Hdtg+BvFt9XdgvgXz8bUYgH7+mLmy/vqRZKJAHXF++fPkk0QeMQY61q69jVfzw4cNf1qvGJSxWjEt677zzzk0aUGMF+bJly+ryWrx48WSdpsSHi5Xn+A60efPmCa1atfoc59j+BQ8AmjVrtg3nEl6n4T1esWLFjZJeRUXFbokT5Or4LVu23LJ06dKbEBb10NvP6HA4lvpu2bJlgs5HhwvKE9cJ5LPZhxDIZ6/dCOSTQMR78hBYDfcTY8ylKmu8bPUuY8ynxpjPjTF/McYAvstnWu4lrlipfrUxBlvczDTGXGaMwar3d9G55v4QRx9LGnCRz325l8ciLcB4XJNPULwweSKNoPiSfhIugbxDGGsbuOmXvQEgSpsRyBPIR7EbHYdA3m1fQSDvVl9tyzwuPa0J5EuvTfLdJwTy8bcZgXz8muazY/oHa14okEc/DtAtmlZUVNRq4I3rXtA8f/78Kccff/zr2Kalc+fO/5w+ffreLWuwYlxxilpsayNpw0/SRpoIJ35eFyv3sbIdL5uFX7du3T7BNjfYRkaH1WkEHSO89tPx9bEOA9haXV09Hv5wcS5hdTh9DH99ro8lrp9LIB9sz356lco1AvnstRuBfBKImHkkqQCBPIE8V8g7tAECeQL5YiedBPJuJ4sE8m71Ldb+Gd9t+xDIu9XXhf0SyMffZgTy8WvqwvbrS5qFAnnvCvlWrVptxh7sWq9Zs2b9HnvG62s4rqmpGXf55Zc/2rp1683ih/jYvkXOtYu8ZIX8okWLbrYB6xEjRrz89a9//e2TTjrp70jjxBNP/PvAgQOXjhgxYp/31uk0go4RX/vpMskxXm7buHHjnXKOlflYGY9zuDgXP52WPoa/PtfHEtfPJZDPZh9CIJ+9diOQTxIVM68kFCCQdwhj/QZsXstex19MmxHIE8gXYz+ISyDvts8gkHerb7H2z/hu24dA3q2+LuyXQD7+NiOQj19TF7ZfX9IsFMhjJfodd9xxj+hzxRVXPNKjR4+Pn3rqqds+++yz6wDj8SJWrFaXMFi1fs011zyElfX33nvvDA2rsXIe+8Nv2LDh+jFjxszp06fPBxLv8MMPf+8HP/jB89hfHvuyYzW++HndSZMm3Y8Xw44ePfoJ+I0ePfpJnN90002zdFgNvbFdTlVV1a/hr6/7neNa9+7dV5199tkvoJ54USxeRitpf+tb31p85plnvrRu3brrhw0b9oq8ZNabli0fXR5J188lkM9mH0Ign712I5BPAhEzjyQVIJAnkOcKeYc2QCBPIO83cS/kGoG828kigbxbfQuxdYZNvi0I5JPXvFg7J5CPv80I5OPXtFg7r8/xCwXyF1544VMnn3zy3hevQrupU6fOxEtVYdsdOnRYf+mllz6uNYV/hw4dNgBItm/ffqOG5FgBf+SRR77buHHj6o4dO66bMWPGXRJ3zpw5d3Ts2HE99oGfMGHCA5WVlbtkCxsJI+77779/I4D93XffPQPX4OIc1yUMXA3E8YLZpk2b7vBe9zvHNaR58MEHr0U5AOdfeOGFW3Edf9jjHg8rUI++fft+gHPx03nqY/jrc10eievnEshnsw8hkM9euxHIJ4mKmVcSChDIO4SxfgM2r2Wv4y+mzQjkCeSLsR/EJZB322cQyLvVt1j7Z3y37UMg71ZfF/ZLIB9/mxHIx6+pC9uvL2kWCuSxVUu7du02LViwYEp90ajU6kkgn80+hEA+e+1GIJ8EImYeSSpAIE8gzxXyDm2AQJ5AvtgvDQTybieLBPJu9S3W/hnfbfsQyLvV14X9EsjH32YE8vFr6sL260uahQJ56IJtZ7BCHHC+vuhUSvUkkM9mH0Ign712I5BPEhUzryQUIJB3CGNLaaLAsqQz4BDIE8gXe+8RyLu9dwnk3epbrP0zvtv2IZB3q68L+yWQj7/NCOTj19SF7deXNKMA+fqiTanWk0A+m30IgXz22o1APglEzDySVIBAnkCeK+Qd2gCBPIF8sV8eCOTdThYJ5N3qW6z9M77b9iGQd6uvC/slkI+/zQjk49fUhe3XlzQJ5LNnjwTy2Wsz9CcE8tlrNwL5JFEx80pCAQJ5hzC2vkwcWc/gwYxAnkC+2PuDQD74/ipWW8QnkHerbxxtxDTctRGBvDttXdktgXz8bUYgH7+mruy/PqRLIJ89eySQz16boS8hkM9euxHIu0fEtXiztTHmA09W7+Wuww8fCQd3hzHmDWPMv+f8BhtjXjfGbDPGvGOMGZG7rh2JL9e853I9ittUlS9K/CTj+AJ5lF+/pRwd1htvvDG5oqJit8uJEPKNK/2hQ4cukHaYNGnSk3GlG2c6YXSWOsBt3Ljxzj59+nzwzDPP/FbK8fjjj9+OPQMrKyt3dunS5Z+zZ8++U/y0+/DDD0/Dm+abNGlSjb/evXt/+OSTT96mw8R93KpVq8233XbbvUj35ZdfnqrrO23atHtat269OY48kW4c6bhIIwqQ79q16+oNGzZcr8vz2WefXYd21teKOU5CM9gY8sFfVVWV8xdNJVGnYjSPGtcL5EVTrxs1/bDxdH5+fVHYdBAOfVEh4b1hdfxi251AvvDJuLYFjCc9e/b86JFHHvmdtJNuE91W4g9Xp4HjZs2abR8wYMC78+fPD9VXBKWr8+Bx/rZNGsh7213bCtsrf3tBI9dAXrdRsX19mPbV+UXtT4q1nbBAXpc1jDZh6u8tu86jWD1mzpw5XdIbOXLkMm9epXKOMsb5vTOK7qWiBcpRikA+3/fIpMZkfD/q2rXrJ7Nmzfp9KbVZHED+lltu+UOXLl3WNGrU6MsWLVpsHTx48OJ33nnnprTriTJJP1JTUxP4y/qrr776oQ4dOqwH5O7YseO68ePHP2gre9j7NGy4KHklDeRFR69rK3sUvzg08+brIk1vHmHOCeTdo2LAm+3GmI3GmAG57PobYzblwDv88dEA/Ru5809yfouMMTuNMcfnrm/IXdeOju9NT4eLcpx5II+J6ejRo/eB2GPGjPkzBogwN0ophMkCkA+js+781q1bd/155533TLdu3T4RjQ855JA1l1xyyeN4iQ/cgw8++FPx0y4GyBtuuGE2JjKrV6/+FdLBAKvDxH189NFHL7ngggv+inSvueaah1q0aPHF1Vdf/TDOL7zwwqcGDRq0JI48tUZxpBdnGlGA/JlnnvmS6CRlGTdu3IPf+9735sl5FlwC+XBwJV9b+gH5fHFc+Ov7zK8vKiTPli1bfl5IeG/YYuPr9AjkC7dTry1ceOGFTweNPUFtpdNAe7z//vs3jho1am6PHj1W6vYJOg5KNyg8r/u3cxpAnm3h3xZhdUkCyEtZiu3rvfe5pKtdHQb5RelPdHpRjgsB8pJ+sdpIOl43Tj2yAuTDfB/y6mQ71xrawpWqXykC+XzfI5Mck/Hwpn379hs3b948oVTasFggP2PGjLuwMAEQG/V6/fXXbz7ttNNe/da3vrU47TqGAfJTp06die/5t99++70o/29/+9v78FBBFualXYegPiENIJ+EFkH1TSJv13kQyEfB04XFASivMcY8Yoz5ZS7qFblzDdH18VEwOmPMSk9WPXLXF3uu41TH9563McbcY4xZn3sQ8KgxplMujQnGmFXGmOrc6vtTctcPN8Ygny3GmIme9IPSq8yFW2uMuSH3wCGXXGKO7wr5Bg0a7D7jjDPm6xvqrLPOmofyyrW33nrr1/369XsfK7MB3lauXHmD+KEz7tSp06eYYHXo0GEDOmn4bd++/drmzZtvGzt27KPotNFRX3nllY9IPEk/X7jnn3/+N0gXsPOyyy77U2Vl5S7EkXTgZgHIh9FZNJG64QsAVuXIOVYlytNq+EEL8dNu69atP/OuJti6deu1aEfEQVyEB7DHOSYCtrZ66qmnbjvooIM2HHjggV9MmjTpfp2XHAO64+k+zmFPOB46dGidXX37299+86KLLnpKwuIXGLCjxo0bY7XlyoULF94CP5SxWbNm2wCppW74hQDgD8o3ceLEP3o1kjRLwY0C5LEK5cgjj3xXl/+oo45aNmfOnDuC7js/nTCpa9eu3UY8SOvUqdO6O++8825JU2sWpH2++1DSCnJLCcj79UlBtl9VVfXrQnQOqn9c1wsB8l478J6jTEHt7RdW10HbDK7rvsgvblA+ffv2xS/g6sbgJ5544vYgrZGHXz/jja/LFZSnzZYJ5AuHg1pzry3gXPy9bQU/+ZMwcg53zZo1E/X45nffIpw3XZsN6fR5/JX+okWpAHm/PsTWrk8//fRvMc/EGIuxDvNNmQd6bUufB6Vp6yOglbcvQjp+cyeMH6KtKzdJII866L4e50H3JfyizM90+/jlJ/7e+x5h4/qLAuS9ZfWzYZR98eLFk5G+/PIRv3jEdyfYkF/5pb7i59Vf/MPokRUgH+b7UND4Dp1sdhd0z4u+peiWIpAP+h4J/by2GKS53z0SFBbp2tr8hBNOeN27eDDNtiwWyON730UXXfQXWx2C9ICu6GOweKtJkyY72rZtu0nm13GMU2GAfP/+/VeMGTNmji7/JZdc8sQRRxyxHNf82l76Mvjb2I6EyzdO28YmSUOXD8elBORRP8xpwMbAV4TDQFdws+bNm+/lZkFtLvVDn/qLX/ziT4iD/uSqq66qWxAJf5tOYdmBLZyUwZVLIO+eEwsovyi37QxyXGiM+U/cSLk/XJNjuAD4b6sta6SU8PtUrbSX6974Oi34zc6lf6wx5pjc8UM6sjGmXe46tmTA5/nc+UhjzLm5Y6SLjy09hNlljLnEGIOV9Ul/fIE8yo9B7oEHHqjb/gRfRMT45ebC6mdA1rVr104cPnz4K0OGDHlN/AD/Jk+ePAtPSH/2s5891rZt23+JX8OGDWsAy/HFGwNHmzZt9voh3zDh8LP2kSNHzl21atWvTjrppEUVFRV740n8LAD5MDprTbAK/vzzz/8rtgeQeopbXV09/uKLL35SBj65Li46Zfz0FSD82muvfUC+GMC/e/fuH0+cOHE2jtFuskLR1laYOKBtsfUMVk1IPtrF9jmdO3dei2t9+vT5EGnDxTkGd7EvnB977LH/gB3BLvDwZ9CgQVWSFoABrqH+uAY4PWrUqBcRFnagNZI4peJGAfIoOx52rFix4kYcf/jhhzfgnsKx7b7z6oRBGG2AQRsDsf5FhNbMpr3NBvJpXEpAPqhPCrL9QnTOp0Ox/oUAeeTltQPvua29vWF12bXN+PVF3rir8Mi9AAAgAElEQVS2fHRaNq2D+hkdXx/b8gyyZQL5wqGW1hy/uPr+97///HHHHfeW2Iv218fiD9d7HQ/1hw8f/nLfvn3fl3BB9603vs2GJC26/u2M+xZtccQRRxT1q5Ww+nrbXcfz9iG2dh0wYADmAXMxDxgxYsTLeh7ozUOf29IM6iNQRr++KGj80HVycZwkkPfr6233ZZT5mW6fqP1JsTpHAfJ+2nhtWOqGX7NOnjz5DygnFikdcsghq4PKLHHgX6weWQHyqHO+75228d1md7Z7PqgN0r5eikDe9j0Semm7tWnuvUdsYW1tjvtIvlOm3V7Iv1ggjwceixYtutlWF5se0H/EiBEvYUzEd2SME0grjnEqDJDHNrV4+KjL/9prr93Spk2bz+Sat+21zdjYjg5nG6dtY5NOQ8oDt5SAPMojDyfRjuBk4Ainn376q3Lu5WZ+bZ5LB7xtPsYQwHPdDjadwrIDWzitr4tjYZJoU2NMr6ThaX3IT+B4F2PMbmPMoBxw75wTXSC3hLNpcnQuzis+gbzx9flWlZdcx5Y5+Pwot52OXIeLD1bG47iZMWYv5M752dKTdBAnjc/esmIFstw0qMu8efOmogPANXzZwc/DcF3C4Knd8uXLJ+Ec+5vpDkLCwN2yZQt+VbA3Ho4lHvz0vvRhwyHvpUuX1u2phieqOp7knRUgn09n1E3+8JQbe8gjjtRTXIRp1arV53Pnzr1Vrnld7OOOVekY9Fq2bLlFfrkAyH/iiSf+HeFPPfXUhfi5MI6RZlBbYdU6OnlvHvpcnvTiwQzKhnP8pFGekuNcwqM80qawJ/3TR5RDrzrDLyuWLVtWZ3sY/OEv6ZSaGxXIw35Hjx79BOpz6aWXPg5QhWPbfefVCQMu4smvDbQ2WrN82gfZgE7P77iUgLwun+6Tgmy/EJ112i6O/YA82k//6Xy9duA9z9fe+l7zpit5+vVFheYjadu0DupnkJfE18f56uZnywTy/qBW9PVzxQ7ExUNZbTe6TfSxTkviwsU8AO9AwU+zZRzQYXGs71uc63RtNuRNh+f7tje+IEPLJIG8bnvdjjjWdmRrV8wDZG9d7zxAp1mIrSCeXx+BNPz6oqDxw7WNJQHkoQX+/Pp6XT/vfRllfiZ5iRulP9FlinJcCJCXcvppAz9twzhHec4+++wXsf0EjjG/O/vss18IKqekL24xemQJyOf7PmQb3212Z+tHgtog7eulCOShSdD3SPiJrePYpjnC6XvEFtbW5kgD7Z52W0n+xQJ59EH4vizp+bk2PbSu+I4MXZFGHONUGCCPX2NjPNDlRn1QL7mmy4hrXpuR+Z+X7ehwOA4apyUfuN6xSaehw6UB5FEW/afL460fzmWBHurk5WZyL+k2R3o6HniLjqfz8+oUlh3Ywun0XRwTyLtHxmKgyAlbwGDlOfaEx0f76eOc935Oo1wcvNzV+/HG1+frcvH8VqyL36Ge8giQR5wDPX4Sxy89na+3jEmcBwJ53EDYOgQrr+UJNOolNxaeUKp61ur95bFqGqs/sP0InvTpePoYaenzoGNvOHyBFJiLn37qeFK+rAB5lNems1/dpI7ahR5YXYK09PWg4/vvv//3WIUNf7xET16w2rFjx/V4oo3r3rz1Odpg165d44PSl+t4yQ+ezHbr1q3uhaTY/x7bzADWShi4GBBhaziGi3PxR76yLU8u7N729w4kEqdU3KhA/t57753Ro0ePj1EP/CJCfk1gu++8OqFdjz/++NfxM7fOnTv/c/r06b5b1uTTXmupbUBf9zsuJSAf1CcF2X4hOvvVPc5rfkDelr7XDrzn+dpb32s6n3xtX2g+krZN66B+RpdFH+erm+QJV+IRyO8LaLVGQceiHfzxSzWskNcr27W/Ptbp6ev4xZbeUkvCBd238NfxbTYkadH1b+c0gHxQW6BNdf9ja1f4yZwB8x9tD/q4EFuxxfPri4LGj6D6xXU9CSBvK6vtvkS7yPw87PxM6x61P7GVN4xfIUDelh7qom1Y6vboo4/+Di85RFxsufjYY4/dEZSOxIF/sXpkCcijvrbvQ7bx3WZ3tn4kqA3Svl6qQF7ror9H4rq2W5vm3nvEFtbW5uhfEFeXKc3jYoE8dhPAAw9bHWx6QFc9Joo2cYxTYYA8VmB7V/jjXO+S4G17bTMYY2Xs8LIdHU4fe+3ONjZ544nO0BR+vXv3TuThTlA5pDxef9s5/Pza3KuL99ymU1h2YAsndXHlEsi7R8QaUF8PQ1N7yWs/fewt1eu5/dhPyMX/uzdA7jrSkI9O796c/3nGGKQBoP/nXMDPcn7fM8bU3cDGmObGmLptM4wxZxljfuhJ35aezlfKkqRrBfLYhgYv5RwyZMgi782Mnybh5zN+NxsmEldcccUj8MeWNtBDwuljb5raTx97w+GlJ/K0ECvCvWERPktA3qazX91ES7j4Cax0xthnEit2tL8cY+KElelyDv30Xr0Atlgx37Vr170/o/Xmrc/xUyW8hE/SC3Lx64qvf/3rb5900kl1K/CxEn/gwIFLR4wYsfcXGYiLFfSy2g0uziVNnS+uIW9ZIY/B3usv8UrBjQrk8YUOGmDffz2Zsd13QTogrcsvv/xReegCXXTYQrTX8fLpW0pA3tYn+dl+FJ3z6RHVPwqQ13l526yQ9ralo/1wHDUfm9ZB/YzOSx8XUjeJRyDvD2q97avPRTu5hrEeeyLLufbXx+IP13sd26ZhH2Adxnbf6vg2G9Lp8Xj/ti41IK/byNauum/wrpDHSjCZ72DFXVhb0eFQDn2u89Nl9Bs/tL+L47SBvO2+jDI/0zpDryj9SbE6xwnkdVl03bAlBd4RpLcO0GHlWMfBtWL0yBqQt30fso3vNruz9SOieam5uMdgB23atCkZ4Jzve6S2W5vmOhx0t4W1tXm5rZD/5je/WXXuuec+Z7NFmx7QVVaY51ZL7wXMxY5TYYA8vttj61xdfuwhjy2J5Jq37fW5je3ocPoY6epz29ikw0l54GYdyAe1ube++tymk2iTjx3YwomfK5dA3j0q1oB6MIzHGDMwl63208feUgGiVxljthtj3jTGfMMbIJcu0pCPTg8vYb0rt//858aYvxhjsCIen6uNMdiCZqYx5jJjzAZjzLu5PJYbYxAeL6PFS1+RJl7caktP55vLIlHHCuRvuOGG2RgoZX9xfTNj5S3278bKNrxsAlupyI0HEIcVvYC+2PsbP5uSp746DYTX50HH3nBYiYdBC1um4GGBjidlyBKQt+nsVzepI1zsS4kBEHtZYuDDufaXY+wLDziO/cixVy9ehnPYYYetEH/8fBYDNp7wyzVv3voc+7diRf5dd911l6y0l3jaxQtfAWpk+xXEwflNN900S4fDVgXYNgkPFYYNG/aKvAwWYXS+OD/88MPf+8EPfvA8HvbAvvTesTrNUjiOCuRR9pNPPvk1/Drl9NNPXyB1sd13Xp3wq4RrrrnmIYAJrLjHRE7S0WEL0V7Hk7SC3FIC8rY+yc/2C9E5qP5xXY8byBfS3roO+dre62/LB2OC/MzSpnVQP6Pj63xteepwqJecE8jvD2l1u/sdi3bwy+2j/Ez37t3rfgWltcWxbiudlk5DruOBrX6/ie2+1enabEjSpuvfzqUM5G3tinnAOeec8xzmAXifkZ4HYKybMGHCAwCZ2HoRdZT2t6XptUl9HtQX+Y0fkpcrN20gb7svo8zPtM5R+5NitU4CyAM2H3XUUe9gbmcrb5x6ZA3I274P2cZ3m93Z7nlbO6TpV4pAPt/3yLBjsrZvaGxrH1ubl9se8vjVDF7IigVUWCEOqI7v5PgOILZo0wO6YmssjHvYQx5jlsQrdpwKA+SxgAw2cOutt96HXy/gxaHYUujBBx+cJuXwtr0+t7EdHU4fI119bhubdDgpD9ysA/mgNvfWV5/bdArLDmzhtL4ujgnkE2XFzCwBBaxAXlZlwMUNpW9mDBR4yRW2pcHPMGfMmHGX3HTofPGkE/vKo2P+3ve+N09Wz+k0vGlqP33sDQfY365du03o+P/nf/7nMb0/mZQhS0DeprNXB6mfuBjAsT0QVsbjBap4iaf4aRf7iONLHAZ7tA2+FOifluHFvcgL7wqQeN689TlWMuIt7hhs5YGNxNMuVtHji/Ldd989A9fh4ty7uh4r3LC9Deypb9++H+Bc0tH54tqcOXPuwNY62NMVX7pRd/mZm8QpFbcYIH/HHXfcg7rfd99906U+tvvOqxMmqx06dNiAyUb79u036ocgOmwh2ut4UqYgFwM+wuOvqqpqSlC4uK5LXtqVtG19kp/tF6Kz5OHK9QPyuo5yLPnjXI7hes8LaW9bOtqv0HzwkuGmTZvuQDyb1kH9jI6v61dI3SQegbw/qPW2rz6HdvKHsR0P5LHnp4QRbXGu20r84eowch1jO9pDzm33rU7XZkOSFl3/di5lIG9rV5kHYE4DW9D2dNlll/0JK2bxhzkixmHZRsSWpk4D9qLPg/oiv/HDta2lDeRt96W0i9/8TOupNcJ1+Yvan+j0ohwnAeSnTJkyE/NfeX9TEnpkDcjbvg/Zxneb3dnu+Si2kkScUgTy+b5Hhh2TvXZvax9bm+MBvndFdhJtE5RHsVvWIF30EXifDrYBxnajAPDy63H42/SArtgiFuNdu3btNj777LN752TFjlNhgDzKh5eQ5r531uB7+nXXXfdHrZe37fW5je3ocPoYaetz29ikw+kypQHkURbvn5TJW07bOfyC2twWz6ZTWHZgCyd1ceUSyCdAiJlFogr4AnlXN1Bc6QJUvv766zfjCSwGY7xB3Jt2FoC8t8xpnWNFIp6m9+/ff++K+bTKUm75FgPks65F0kA+il5ZsH0vkI9ST8bxh5HQhUA+WBvaTflrkzSQd2VT3i+frvLR6aY1frgG8rqO9eU4LJDPmh5ZAfJZ09V1eUsRyLuucyHp4wXAgM5YSV5IPJdh4wDyxZQvaAyMY5wKC+SLKX8YtlNM+kFxkwbyQeWIcj2ozaOklaU4BPKJsmJmloACmQTyp5122qtY+YQJdNeuXT/ByghvR0IgHx4kYDDCy1b1inmvnjwPr6fWikA+uRXyWvewx1mwfQL5aPdeWBsgkHerb9h2YLh02oFAPrruaY0fBPLR2yyonyGQj1/TIK15Pb/WBPLBGmFbK2yXgYdNpWRLpQrk4xinkgDyYdiOi/aGPgDbSb3UNc46EMjXMYZeCfBSZkEFnCrQGjcz/rAFTP/+/d8rlz/sfS9169q164ZyqRfrkS0bxcvlYIdNmjTZXd/aDluSyD3Yt2/flfWt/nHVFw8fRceePXuujitdprOnL5EvvtC4e/fun1KXbPWxbK/i2kv6lgMOOOBLalmclknph20Hpd169+69Kql8yzkfmas1b968ppzqiS0txVYOOuigbeVUt3KuizworaysrHffHbLartjGVe61Ll26fJbVeviVG1uJSd38/LN8rVz7/iy3Sb6yY6tssceAd4U6hadMnArErUAHZdD77WdFv/33+KIm1IQ2QBugDdAGaAO0AdoAbYA2QBugDdAGaAO0AdoAbYA2kIoNDIkbjjI9KpC0AgTyPi/WYIeaSofKB0K0RdoAbYA2QBugDdAGaAO0AdoAbYA2QBugDdAGaAO0AZsNEMgnTY+ZX+wKHCDw+aSTTnprzpw595TL33HHHfe21O2SSy75W7nUi/XIlo02bty47md+HTp0+LK+td0hhxyyVu7B3/3ud4/Ut/rHVd8+ffp8LDpef/31T8eVLtPZ05cMGDBgheg7duzYedQlW30s26u49pKfa/fu3XsbtSxOy6T06969+95tSG6++ebHk8q3nPNp2LBhDcaBbt26VZdTPceOHfsXGd9OOeUUvHOrbL7nlXNdmjdvXrctVcuWLXeXWz2nTJnyMPqwcqvXd7/73TfkXjvvvPPKiqkcdNBBe7fj+dOf/lRWfYj0/YceeuiOcrPJcq3PWWedtVDuNWNMv9jpKBOkAgkrkMmXuoZ5IQZf6hr8Qpww+jFMPPrxpa57fm1RVVU1hTYVzab4UtdouoW1N77U1a2+YduB4dJpB9mr+IgjjvicbZBOGxSqO1/qGn878aWu8WtaqF0z/FdtIO+2adOmTU256bJgwYIp/fr1e7/c6pX2S11d6pnES11dlt+WdpZf6mqrVzn7XXzxxXsfNBtj+FLXhOExs4tfAQL52q8mQOXcebFu6bQzgTyBfLH3HoG823uXQN6tvsXaP+O7bR8Cebf6urBfAvn424xAPn5NXdh+fUnTFZBfuXLlDXhhYpMmTXbAXbVq1a+S1tQFkC+FetVHIO9C91tuueUPeADQqFGjL1u0aLF18ODBi995552bXNkpgXz2+n4C+fiBMFNMVwECeQL5ca4GOaZbO45AnkC+2PuAQN7tZJFA3q2+xdo/47ttHwJ5t/q6sF8C+fjbjEA+fk1d2H59SdMVkB82bNgr55xzznOrV6/+1bnnnvvciBEjXk5aUxdAvhTqVR+BfNy6z5gx465mzf7/9s49xooi7f8iMCNDnBs6wxBgMtyd5bL6giIYxbAhEIQMCCEIUWIIMYZsiPFuiAwisuAoIJcFRRddZEFk4V14QREEESWwsLCzvCCCiDiIiCyIiCyLv1++rA8+b9Nd032665zTc75/nFR33etTT1V3f091daNzlZWVS0+fPv3Mjh07Xujbt+/HPXv23GXLTinIx2/upyCfWvGYpUdPgII8BXkK8hZtgII8BfmwN5EU5O3eLFKQt8s3rP0zvd3+oSBvl68N+6UgH32fUZCPnqkN28+UPG0J8sXFxcc3bNgwExzXrVv3UklJybFkM7UhyKdDuzJRkI+ae6dOnT4ZM2bM/5hscufOnVVt27Y9lJWVdb5169aHt27d+iLinz17diLm8QkTJizFGyCFhYUnV61aNWf37t3PN2zY8MLx48efRbwTJ048i/Pq6urncU5BPn5zPwX56AVh5phaAhTkLYqxpgsKw+J3AUikzyjIU5BPxG50GgryducKCvJ2+Wpb5nH6saYgn359Uts4oSAffZ9RkI+eaW12zHBv5rYE+YYNG/7r5MmTk8AewiRETbd+UB9M/H9y7BYvET8bgnw6tCsTBfmouefn55/avn37Cya76t69+98HDhz44dGjRycPHjx4U7du3aolPmy1oqLiA4QNHTr0fVwrEVZWVvbF5MmTF+O4qqpqUatWrQ5LGgry3vOQMEo3l4J8asVjlh49AQryFOS5Qt6iDVCQpyAf9kaGgrzdm0UK8nb5hrV/prfbPxTk7fK1Yb8U5KPvMwry0TO1YfuZkqctQb5evXo/Xbx48dJz34ULFypxnmymNgT5dGhXJgryUXPHPIytakw2mZube2bPnj2X9pTH3vK5ubmXP0gPQV5Wvu/bt29qTk7OD8hr1KhR7/Tq1euvOO7Tp8/W0aNHr5UyKMjHb+6nIB+9IMwcU0uAgrxFMVYme7rxm+yj6jMK8hTkw9oSBXm78wcFebt8w9o/09vtHwrydvnasF8K8tH3GQX56JnasP1MydOWIJ+VlXV5hTy28MjOznZdIW+Tsw1BPh3alYmCfNTcCwsL/7l58+YZJvuDgH7+/PlKxIGLc4kPQV7Czp07N7F+/foXEbZly5bp+fn5p3FcXFz8zbZt2y5tc4NzCvLxm/spyKdWPGbp0ROgIE9BnivkLdoABXkK8nKjmKhLQd7uzSIFebt8E7V7pktOv1CQTw7nKO2Zgnz0fUZBPnqmUdp8puVlS5AvKSn5ev369S+B59q1a2c1b978Kze2sk2Ndt3iJeJnQ5BPh3ZloiAfNfebb765Gh8bNtlVXl7ed1gZjzhwcS7xYa+yev7nFfJnJaxZs2ZfzZgx442WLVvWiB9cCvLxm/spyEcvCDPH1BKgIG9RjNUTPo/jN+FH0WcU5CnIh7UjCvJ25w4K8nb5hrV/prfbPxTk7fK1Yb8U5KPvMwry0TO1YfuZkqctQX7QoEEfDB8+fH1NTc1zw4YNe3/IkCEbk83UhiCfDu3KREE+au4rVqyYiw+yPv7448tPnTo1CaI6uOI5SOy0Z8+eu1Au3vAYMGDAhz169NglYRDkYdeyh3znzp33SdiwYcM2QJRHfuIHl4J8/OZ+CvKpFY9ZevQEKMhTkOcKeYs2QEGegry+8UvkmIK83ZtFCvJ2+SZi80yTvD6hIJ881lHZNQX56PuMgnz0TKOy90zMx5YgDyG+vLz8U4ienTp1+uTYsWOTk83XhiCfDu3KREHeBvfp06e/gTc3GjRo8O/GjRt/DwFeVsTDVnft2lXVpk2bz/FB4vbt23+Gc7FhCPKVlZVL8ezdpEmTb9etW3fpbRCEr1mzZjbCN2zYMFPiw6UgH7+5n4J89IIwc0wtAQryFsVYPeHzOH4TfhR9RkGegnxYO6Igb3fuoCBvl29Y+2d6u/1DQd4uXxv2S0E++j6jIB89Uxu2nyl52hLk04GfDUE+HdqViYJ8OnDXdYDgrs/l+MSJE88OHTr0/fLy8gPiJy4F+fjN/RTkUyses/ToCVCQpyDPFfIWbYCCPAV5uelL1KUgb/dmkYK8Xb6J2j3TJadfKMgnh3OU9kxBPvo+oyAfPdMobT7T8qIgHz97pCCf+j7zEuQhupeWln65ffv2F5xzCQX51Pebs09qO6cgH70gzBxTS4CCvEUxtrYJheHxuwgE7TMK8hTkg9qMMz4FebvzBAV5u3yd9szz9OJNQT69+sPP+KAgH32fUZCPnqkfW2Ycd+4U5N25pLO9UJCPX5/BnijIx6/fKMinVjxm6dEToCBPQZ4r5C3aAAV5CvJhHyAoyNu9WaQgb5dvWPtnerv9Q0HeLl8b9ktBPvo+oyAfPVMbtp8peVKQj589UpCPX59hPqEgH79+oyAfvSDMHFNLgIK8RTE2U24c2U7vixkFeQryYccHBXnv8RWWLdJTkLfLN4o+Yh72+oiCvD22tuyWgnz0fUZBPnqmtuw/E/KlIB8/e6QgH78+w1xCQT5+/UZBPrXiMUuPngAFeQryXCFv0QYoyFOQD/vwSEHe7s0iBXm7fMPaP9Pb7R8K8nb52rBfCvLR9xkF+eiZ2rD9TMmTgnz87JGCfPz6DPMJBfn49RsF+egFYeaYWgIU5C2KsZly48h2el/MKMhTkA87PijIe4+vsGyRnoK8Xb5R9BHzsNdHFOTtsbVltxTko+8zCvLRM7Vl/5mQr0mQ9/pwpZNLmzZtPnf6RXmu6xGkrI8++mh6hw4dDkZdlw0bNszUee7cubOqXr16P4nfsmXL5qGe2dnZ5/Fr27btodWrV8+W8LCuX0H+8OHDU8rLyz/Nzs7+Ee6RI0eeC1M25q61a9fOcuah+8cZps/99F3z5s2PIj/8Ll68aGUh3/jx498qKir6BgJ5cXHx8crKyqVST5TZt2/fjxs2bHhB/KJyKcjHb+6nIJ9a8ZilR0+AgjwFeSsX1qgulHHPh4I8BfmwNkxB3u7NIgV5u3zD2j/T2+0fCvJ2+dqwXwry0fcZBfnomdqw/UzJMwpBPjc397tk8QpSlg1BHuP3wQcfXK3bO27cuP9u0KDBv8UPYu+UKVMWnzhx4tmamprn7rvvvnchNEt4WNevID9gwIAPR4wY8R7qMHLkyPcqKio2hykbbezRo8eu8+fPV+p8/AryfvrOtiA/Y8aMNxo3bvz9nDlzFp4+ffqZWbNmvd64ceOzs2fPXog2HTx48Hdoz6FDh6boNkZxTEE+fnM/BfnoBWHmmFoCFOQpyFOQt2gDFOQpyIe9YaQgb/dmkYK8Xb5h7Z/p7fYPBXm7fG3YLwX56PuMgnz0TG3Yfqbk6UeQP3fu3MScnJwfHnvsseUQMyFgPvnkk2+DUfv27T+TFc2rVq2as3v37uexKr1hw4b/wspwrNJGPFMeCMcq5SZNmnwL0bdp06bH58+f/5r0gQi+uiz4HT9+/FnEgfCNFc3V1dXPSxq4NgT5q6+++qe77rpriy5n8ODBm6SO8M/Pzz+1aNGil3Wcs2fPTtTnYY79CvJY/S2r+detW/dSSUnJsTDlou1o17333rtO56PbjrcF0O9ZWVnnW7dufXjr1q0vIq7uO9iJTq+PbQvy5eXlB8aNG7dSlzl27NhVHTt23A+/vLy879Ae3SYdN8wxBfn4zf0U5FMrHrP06AlQkLcoxoa5QDBt/C4Qbn1GQZ6CvJtdBPGjIG93LqAgb5dvEFtn3OT3BQX55DMPa+cU5KPvMwry0TMNa+eZnN6PIA8+9evXv9i/f/+Pjh49OnnChAlLCwoK/inctHjZtWvXf0CwPnbs2OSBAwd+2Lt3720Sz5RHTk7O2cWLF8+HcP3UU08t0yvKdf5yXFZW9sXkyZMXI++qqqpFrVq1OizliGtDkEf5WCG/ZMmS+ShnzZo1s0W0k3IfffTRP2Ormttuu+1vEydOXII/DCQsCtevII8/RU6ePDkJZaIOEMndykebnD+vePC/++67N2lRXfoEYd27d/87+h12gj8qunXrVi156Xji53RtC/J5eXmnd+3aVaXL3bZt24sFBQWnxM9PPSVuEJeCfPzmfhnbP4+PNtHLo8yRBJJLgII8BXmukLdoAxTkKcgHuTF0i0tB3u7NIgV5u3zdbJp+6cOcgnz69IXfcUFBPvo+oyAfPVO/9sx4V7L3K8hDkNq/f/9UMDxz5swzes90LWBiJb3E27t37zSncC9hzjywKn7gwIGbZUW17iudvxyPGjXqnV69ev0V8fr06bN19OjRa3UaHNsS5Ddt2jSjX79+H6MMbAODVehSL6nD5s2bZ4wZM2ZN586dP8nNzT2DrVIkLKzrV5BHH8k+7BcuXKjUfZZIHaSN2Orl1ltv3Y23HpCP+OMYbd2zZ880HKP/9TY1Op5X+bYFebyBAdvT5aM9mJfFz089JW4Ql4L8lfNPEH6piEtBPlmTEdUAACAASURBVLliMUuzT4CCvEUxNhWTFMtMrwsLBXkK8mHHJAV5u2OagrxdvmHtn+nt9g8Febt8bdgvBfno+4yCfPRMbdh+puQZRJDXTLRoqY+xCh7n8tN7q+t4yEufb9myZfrtt9++A1viNGvW7KtXXnnlii1rdBrEz8/PPw2/4uLib7DKWdcPx7YEeeSN7Viwl3q7du0O4Vy3xVmPN9988+Xrr7/+hNM/0XO/gnxWVtblFfLY3ger9hMtE+l0G/GGwD333LPe6Q/RWfaYh4tzKVOnFz+na1uQx0r47du3v6DLxXlhYaHrGx86XthjCvLxm/spyNsXiFlCcglQkKcgzxXyFm2AgjwF+bA3ixTk7d4sUpC3yzes/TO93f6hIG+Xrw37pSAffZ9RkI+eqQ3bz5Q8oxbksSUItitx4+cUZJ3nSIMV3Y8//vhyEdvhp+PpYwj3WHnesmXLGrfybAry2Irn/vvvf6d3797bnXWEAK/3jD9w4MDvII671TERP7+CfElJydfr169/CWWsXbt2VvPmzb9yKw9MnT+veNp/6NChG5cvX/573Sd5eXnfYWU84sHFuaTR8cTP6doW5G+66aY9DzzwwP/5KC/2kMdWS1IXP/WUuEFcCvLxm/spyCdXLGZp9glQkLcoxga5IDBu/C4IfvqMgjwFeT92YopDQd7u3EBB3i5fk20zLPXsKcinvg+CjgMK8tH3GQX56JkGtWvG/6UPohDksU2NfFAVq9yHDBmyEXuW4+OZ7dq1+0x4O4VOfV5aWnrk6aeffgtC9sKFCxd4Cbm6rGHDhm2AKA+BWsrQrk1BfsqUKYvx54PsY6/bgv3ssZXNoUOHpuCjtnfccceOG2644YCuW5hjv4L8oEGDPhg+fPj6mpqa54YNG/Y++iVMubqNyAdbv2DPeL3dS8+ePXehXKzIHzBgwIc9evTYJWXqvhM/p2tbkMdHaVGPmTNnvo76z5kzZyE+Urx06dJ5UhdnO8U/rEtB/pd5JyzLZKWnIG9fIGYJySVAQZ6CPFfIW7QBCvIU5MPeoFCQt3uzSEHeLt+w9s/0dvuHgrxdvjbsl4J89H1GQT56pjZsP1PyjEKQx0dYr7nmmh/BbN++fVM7der0CT4gWlxcfHzBggWvCkun0KnPsdK9qKjoBETL66677ttp06Ytckuny8IHVZEH9nCXuNq1KcjjLQB8NFXeBtBtwT74mDuzs7N/bNSo0bkuXbrsdW6TousZ9NivIA8hvry8/FPUA32CD+0GLUvH120U/2XLls3DtV3O8cHUNm3afI7+b9++/Wf6A6q67yS+07UtyKM8fJT4Z1u7iO2OJk2a9CddD7d26vBEjynIx2/upyCfXLGYpdknQEHeohib6MWB6eJ3cfDqMwryFOS9bMOvPwV5u/MBBXm7fP3aOeOlph8oyKeGexh7pyAffZ9RkI+eaRgbz/S0JkE+ndlgBf7QoUPfLy8v91x5bkOQTwcmfgX5dKhr0DokQ5APWqeo4lOQj9/cT0HevkDMEpJLgII8BXmukLdoAxTkKciHvWmkIG/3ZpGCvF2+Ye2f6e32DwV5u3xt2C8F+ej7jIJ89Ext2H6m5BlXQR7iZmlp6ZemlecU5OM31ijIx6/P6vJcSUE+uWIxS7NPgIK8RTG2Lk+GbJu/izMFeQryYccKBXl/Yy1RzhTk7fJNtF+YLjn9QkE+OZyjtGcK8tH3GQX56JlGafOZlldcBXk//URBPn5jjYJ8/PrMz1iMaxwK8vYFYpaQXAIU5CnIc4W8RRugIE9BPuwNDwV5uzfCFOTt8g1r/0xvt38oyNvla8N+KchH32cU5KNnasP2MyVPCvLxs0duWRO/PsN8wi1r4tdvFOSTKxazNPsEKMhbFGMz5caR7fS+mFGQpyAfdnxQkPceX2HZIj0Febt8o+gj5mGvjyjI22Nry24pyEffZxTko2dqy/4zIV8K8vGzRwry8eszzCUU5OPXbxTk7QvELCG5BCjIU5DnCnmLNkBBnoJ82IdHCvJ2bxYpyNvlG9b+md5u/1CQt8vXhv0GEeQPHz48pby8/NPs7Owf4R45cuS5MHW66qr/XNO1Gya/KNOiTonmR0E+fuMg0b6OQ7qggvyyZcvmtWnT5vPs7Ozz+LVt2/bQ6tWrZ0tbESbHqXaDbFkTp3aFFeRffPHFP2JrmAYNGvy7cePGZ3v06LFr796901LdXyjfz5Y148ePf6uoqOgbCNzFxcXHKysrl5rq7ne+9hsv0bIoyMdv7qcgn1yxmKXZJ0BB3qIYa7o4MCx+F4BE+oyCPAX5ROxGp6Egb3euoCBvl6+2ZR6nH2sK8unXJ7WNkyCC/IABAz4cMWLEezU1Nc+NHDnyvYqKis215W8Kj0IcMeWfqjAK8vEbB6mylWSUG1SQhxA6ZcqUxSdOnHgWY/2+++57FyKq1DU3N/c7OU61G0SQj1O7wgjyCxYseLVRo0bnIGKfPn36mR07drzQt2/fj3v27Lkr1f2F8msT5GfMmPFG48aNv58zZ85C1H/WrFmv40+F2bNnL0yH+puuWxTk4zf3U5C3LxCzhOQSoCBPQZ4r5C3aAAV5CvJhb0YpyNu9WaQgb5dvWPtnerv9Q0HeLl8b9htEkMdKxQ0bNsxEPdatW/dSSUnJsTB18hI2zp49O7FRo0Y/DBo06IOGDRteQBkQZ5o2bfo1xO6ioqITEG3gf+7cuYm4N3ryySffvvbaa7/Pycn54bHHHls+bty4lRB1cnJyziJM6rl79+7nO3TocLBhw4b/wspfrPqXMO3qukHYatKkybdYbdq0adPj8+fPf03HdR5TkI/fOHD2YV06DyrI5+fnn1q0aNHLmgHGJM7bt2//GcYGfqtWrZrjNZ7cxrBXXOS7c+fOKozHrKys861btz68devWF3X5XsdBBPk4tSuMIN+pU6dPxowZ8z9ezEy80W+YvyZMmLAUb0IVFhaelH7GXHz8+PFnkR5/1uC8urr6eVM5bmG1CfLl5eUHMH/rtGPHjl3VsWPH/fBzsy09X69fv/4lXCNwXXjkkUf+jHriOoG0Eg/ncq3AdQKCv75OeF1vdB66fnJMQT5+cz8F+eSKxSzNPgEK8hbFWJns6cZvso+qzyjIU5APa0sU5O3OHxTk7fINa/9Mb7d/KMjb5WvDfoMI8hCxT548OQn1gCAD8cytTiLYadcrnps//GBLgwcP3iTlQQivqqpahBWTDz300IrCwsJ/Stqrr776p7vuumvL0aNHJ0NIwr1Sv379PpbzgoKCy3G7du36D8Q9duzY5IEDB37Yu3fvbZKPdkW4gR9E/cWLF8+HEPTUU08t06uFdRo5piAfv3EgfVcX3aCC/KOPPvpnbFVz2223/W3ixIlLMNY1Fz02TOPJOYZNcbt37/53jEeMWYz7bt26VesyvY6DCPJxalcYQR5/PGzfvv0FL2bwN/FG/1ZUVHyAvhg6dOj7uEYgTVlZ2ReTJ09ejGPMxa1atTpsKsMrrDZBPi8v7/SuXbuqdPpt27a9WFBQcEr8nLalbbJz586fDBkyZCO2VLvzzju316tX7/L2Yzpe/fr1L/bv3/8jt+uE6Xqj85D6iEtBPn5zPwV5+wIxS0guAQryFOS5Qt6iDVCQpyAvN32JuhTk7d4sUpC3yzdRu2e65PQLBfnkcI7SnoMI8vXq1fvp4sWLl+7zLly4UInzMHWBsOH8SX7w91p9eebMmWe0KILj/fv3T0VaCTtw4MDv5FzXE6siJS72VNZivZQNV+cPcWbgwIGb/a7apSAfv3Gg+76uHQcV5NH+zZs3zxgzZswaiJu5ubln5I0U59gwjSfnGDbFRRl79uy5tMc5xqXfbXGCCPJxalcYQR7zD/64NNmxibfut3379k1FvyGvUaNGvdOrV6+/4rhPnz5bR48evdZUhldYbYI83kTCPK7Toz1ol/jpOsJPz9eor9gSVsvrMOexXAtQnr5OSDlw5ZoifjoP8ROXgnz85n4K8skVi1mafQIU5C2KsTLZ043fZB9Vn1GQpyAf1pYoyNudPyjI2+Ub1v6Z3m7/UJC3y9eG/QYR5LOysi6vkMfWBVhFG6ZOJmEDYSL+o4x58+b9oUWLFjVYlY8V8TqtPkZc0zlWRSJcfhB/3Nqg89iyZcv022+/fQe2NmjWrNlXr7zyCresGTJknxs3+qXfHJCIIK/78c0333z5+uuvPyF+emyYxhPi6TFsigsh8/z585UoAy7OpTyTG1SQ13mlc7vCCPJ4ewh/qOi2Oo9NvNFv0hfY2gX9hvSYB/Pz80/juLi4+BusWscx4mubcJblPK9NkMdKeOcKf5zrt6KctqXLx32IbFFz6tSpSTrM61jaIXUNcr2RNHApyKff/Kf7x+2Ygrx9gZglJJcABXkK8lwhb9EGKMhTkHe7mQjiR0He7s0iBXm7fIPYOuMmvy8oyCefeVg7DyLIl5SUfI0Vhyhz7dq1s5o3b/6VW/kQPZw/r3hu/vDTwgnOISo+8cQTb2N7AWw3o8P1sVtaHY7tEJCHV7nir9OIH8TFxx9/fLmIUuLvdLlCPn7jwNmHdek8qCAPoRrbMwkDvG2CP+PkXI8N03jS8ZDWFDcvL+87rIxHPLg4l/JMbhBBPk7tCiPI33zzzdX46LaJm4k3+k1WmP+8Qv6s5IU/JPG2RMuWLWvEL6hbmyB/00037XnggQdW63yxhzy2PBI/p23pc3zQVt6Q2rhx40wd5nWMfHVYkOuN1AkuBfn4zf0U5JMrFrM0+wQoyFsUY/WEz+P4TfhR9BkFeQryYe2IgrzduYOCvF2+Ye2f6e32DwV5u3xt2G8QQR4fWR0+fPj6mpqa54YNG/Y+9ukNUyctgDjzcYbhg49LliyZD6EFe0xjWwJZBeqMazrHSnfUG/ti48OB7dq1+8xZNs51HqWlpUeefvrptyBSLly4cEFtYiEF+fiNAzcbqCt+QQV57A1eUVGx+dChQ1Pw0eM77rhjxw033HBAeGDsyXZSpvGkxxDSmuL27NlzF+YXvHkzYMCAD3v06LFLyjO5QQT5OLUrjCC/YsWKufggK/48xApxiOrID/f/wtLEG/2G+V32kO/cufPlt2GGDRu2AaI88pO8grq1CfL4oDBsbObMma9juxh8YBUfXV26dOk8KctpW/q8ffv2B/GHBK5TvXv33q7DvI6Rrw4Lcr2ROsGlIB+/uZ+CvH2BmCUklwAFeQryXCFv0QYoyFOQ1zd+iRxTkLd7s0hB3i7fRGyeaZLXJxTkk8c6KrsOIshD4CgvL/8UYk+nTp0+wUr1MPXQAogzH2cYxBisfMSe7xBq7r777k34yCzSOeOaziFOoe7Y+qa4uPj4ggULXnWW7cwTK0KLiopOQGy57rrrvp02bdoitzTiR0E+fuNA+q4uukEFeXwrAfMCxjnGXJcuXfbqLUTwYeNrrrnmR7AyjSfnODTFxUc827Rp8znGZfv27T9zftTTq1+CCPJxalcYQR6spk+f/gbeYMKWXNhqCwK8vIGAcBNv9FtlZeWlj2M3adLk23Xr1l16Kwrp1qxZMxvhGzZsmOnVJ7X51ybIIz0+zv3znHsR2+NMmjTpTzpfp23pc/xx26RJk5MQ9R9++OEVzr3nJR+dBn76PMj1RvKDS0E+fnM/BfnkisUszT4BCvIWxVg94fM4fhN+FH1GQZ6CfFg7oiBvd+6gIG+Xb1j7Z3q7/UNB3i5fG/YbRJC3UX5dzJOCfPzGQV20Q2lTUEFe0sXBDSLIx6E9Usewgrzkk4irhWmdHm8VDR069P3y8vLLb0vocL/HfgR5v3m5xZs7d+4fduzY8QJW12Prm7Kysi/c4tnwoyAfv7mfgrx9gZglJJcABXkK8lwhb9EGKMhTkA97A0lB3u7NIgV5u3zD2j/T2+0fCvJ2+dqwXwry0fcZBfnomdqw/UzJk4J8/OwxHQV5iM2lpaVf6rclEhlDtgX5vn37fpyTk3MW83DLli2/XLly5dxE6plIGgry8RtrFOSTKxazNPsEKMhbFGMTuTAwTfwuDKY+oyBPQd5kH37CKMjbnRMoyNvl68fGGSd1fUBBPnXsE7V7CvLR9xkF+eiZJmrfTPefDyJj1XNBQcHFusaDK+TjN9ZsC/KptHEK8vGzRwry9gVilpBcAhTkKchzhbxFG6AgT0E+7I0mBXm7N4sU5O3yDWv/TG+3fyjI2+Vrw34pyEffZxTko2dqw/YzJU+ukI+fPaZyhbztcUFBPn72aNsmUpk/BfnkisUszT4BCvIWxdhUTlYsOz0unhTkKciHHYsU5O2OZQrydvmGtX+mt9s/FOTt8rVhvxTko+8zCvLRM7Vh+5mSJwX5+NkjBfn49RnmE66Qj1+/UZC3LxCzhOQSoCBPQZ4r5C3aAAV5CvJhHyApyNu9WaQgb5dvWPtnerv9Q0HeLl8b9ktBPvo+oyAfPVMbtp8peVKQj589UpCPX59hPqEgH79+oyCfXLGYpdkncIUg37Jlyxp8lVvf9Jw6dWpSWVnZEe3nPPb6wrczXrLO+/fv/xHqhN/UqVNXJ6vcZJSzbNmyeW3atPk8Ozv7PH5t27Y9tHr16tk2y87Lyzs9e/bshShj8+bNM8B1w4YNM3E+b968P+Tn55+Oovx0s6OwbTIJ8gsWLHi1vLz806jarPtE6r1z586qevXq/STniCO/rKysf7Vr1+6zd999d5ZbuMSDK+Fwq6qq/tiiRYujDRo0+HdOTs4PEIzdPhgEu5Q8qqurp+s89PHhw4engEN2dvaPcI8cOfKchNtgJHmnyv3LX/4yB/Npw4YN/9W8efOvFi9ePN9Ul2QL8lEzh9Cxdu3ayzYmbXXalfgn26Ug/8vNuKnvEx2npnSJ9LWpjhcuXKjs3bv3NsxthYWF/8RcJWVEXQ/JN+5uFIK8ia0pLAy7p556apnXHOIWZrIbUx1NYbr+XnXx8tdpgx4nW5DH/WbQOgaJb2JkCjOVETSdU5D3Su/l76yL33jOdFGfv/HGG6+gLvgNGTJkX235m+zdNIZqy9crXOrml5ffeF42W9vzk1c6r/rb8rcpyI8fP/6toqKibyBEFhcXH6+srFwq7bh48eIEfGCzYcOGF/SxhEfh2tpDPtXtCiPI+7VrU7xEbdeUp/R3IlvWIF/RCSQf5zOp+PtxdT31sZ+0pjipEORN86wpzNQOr7B0fwbzqrfJn4K8fYGYJSSXwBWC/KBBgz4YP378Mj0QJkyYsPTuu+/epP2cx1FOjs68Ezmvy4I8bqSmTJmyGH+c1NTUPHffffe9i4tlIpz8punates/7r///ncQ/+mnn36rcePG34udjB49ek23bt3+4TcvU7x0syNTXf2EmQR53Dzhz4yo2oyL7oMPPvh//nwaN27cf0M4l7rqso4fP/4sbKe0tPRLt3Dx0y4eyHJycs5Onjz5T6dPn36murr6+cGDB2/q3LnzJzoejv0K8gMGDPhwxIgR78GWR44c+V5FRcVmyStqRrr9UkayXfyZMXbs2L+cPHlyEtySkpKvTXVItiAfNXPYX48ePXadP3++UrczHfoC9aEg/4sgb+r7RMepKZ22B7/HpjqOHTt21V133bXl4MGDv5s6deqb//Vf/7VH8o26HpJv3N0oBHkTW1NYGHadOnX6xGsOcQsz2Y2pjqYwXX+vunj567RBj5MtyOfm5n4XtI5B4psYmcJMZQRNR0H+P9cBk72bxpCpL/yEBe2v2vL0stnanp+80tVWXtThtgT5GTNmvIHntzlz5izEPfysWbNeb9y48VlZcIVrJ/ri0KFDU/RxlO2zIcinQ7vCCPJ++ZrGSaK2a8pT6pWIIO/nmVTy9+P6qaeffJxxUiHIm+ZZU5iz7n7O0/0ZzE8bnHEoyCdXLGZp9glcIchj9QAeZrTxd+nSZd/KlSvn4gLetGnTrzHJFhUVncAFUOLpiVIfI1yf7969+/kOHTocxOpQCHb4J1DyiNKty4J8fn7+qUWLFr2seZ09e3Yi2GJVA4RWhEGwx/mOHTtewErmxx57bDluxHDz9eSTT74t6desWTP7+uuvP3Httdd+DxFD/LUL0R2iGvwgeOC4f//+W3B+2223/W3MmDFrJD7+AUffZmVlnW/duvXhrVu3vogw1LFRo0Y/4E8f1At+WJ0NQRL1g8irbUXyi7NrEuSlXVG1+eqrr/4JfSP5woVYrvPXxwiHrWA1qaRxhou/uJgbICLLucn1K8hjhY6soli3bt1LJSUlx5z51lYvZ3yvc1M+bvOb15jCHxFec5mbnev6vP3227/HyiP4gb+MBR1HHydbkJeyTawkjh8Xdon56t57712n4+v8veYMHd/WMQX5XwR5Yaz7RvwSHad+0kkZQVy3OuJ6gzdQ3PKxVQ+3suLkF4Ugb2JrCkuUE+5Thg4d+r6bDZjCUJ5bGlMdTWG6/m756vJatWr1BeLon04f5DgRQf7cuXMTTfeBXnNw+/btP5M6r1q16vLYwnUOzwJYsIO32woLC0/qcLfrqbTRdN9nCvO65iJfUzop1+QGFeRr46nt4f77719744037sX1Pmgf7NmzZxoWQYA36o9nNOSN+wicox64r0f/ueUddIW8H3vXbTMxDRKm8/SyReQn8Uz8vWwW6b2enxDmTOdlb273eF5xka+pPQh3+9kS5MvLyw+MGzdupS4Tf2R37NhxP/zy8vK+A2P89LGOH/bYhiCfDu3yK8i72Y/YNdiuX7/+JWgseH585JFH/oxnBNg7wnA//eijj/4ZcwJsBG+Dwd+v7SJuInNlIoK8n2dS07gx1VPzMl1r0N7afqkQ5E3zrCmstra4hYd5BjPNsyjL1H9udYnKj4K8fYGYJSSXwBWCPAYLxNkDBw78Dsf4l7xp06bHcQy3qqpqEf5Vf+ihh1bglXAZXHpy1McI1+dYaQ3R8NixY5MHDhz4IV4vlzyidOuyII+LMbaqgRA+ceLEJXqLobKysi8mT568GCzRV61atTqM4/r1618Ek6NHj07GA1RBQcHlvoPIiv7Eam2sHnHrB2yr0axZs0tCabt27Q4hb7iIiwv1kiVLLm+70b1797+jb1EWBOFu3bpVS554+IcfVgfDD3/24MEacYcMGbJR24qkibMbhSAPJs6fGxPEwQp56Qv80SIXLYmv+aIPRo0a9U7r1q0vv46uwyWNdvEws2vXrirt53XsV5DHn3NiD7Bl/JHjzLO2eiHc+XPmgXNTPl7zm9eYMs1lTjt3qwtWjD/wwAOr5UHILQ780lWQd/L2Yiv+eMtKCzbijzaa5gwvLlH5U5C/8oFF941wTnSc+kmHMlCm8ydlu7ludWzUqNE5vLYOgapZs2Zf4YFO0vqth8TPFDcKQd7E1hSmGTv73q1/JT7uPSBUusUxhSG9WxpTHU1hUh+vfL388XZh7969t+v0QY4TEeSRv+k+0DQHuzGTtlVUVHyA+zfcx6Fe0g6v6ynCTfd9pjDTNdeUTupkcoMK8sjLxFOY4X77jjvu2CFviJnSePVB+/btD86cOfN1lIk/tiHG4e1GnGOFM8K96hNUkPdj79I2lOn2Q7jz5xZP++k8vTggvo5nYqnj6XJMz0/O/E325rzHM8U1tUfXTR/bEuSx/ajzHn7btm0vFhQUnJLyNTt9LOFhXRuCfDq0y68gD35O+9Gc8cYxnoexfeedd965vV69epe3DUU6LIbDG8XYasir30z2mMhcmYggjzbV9kyaaD01L9O1xo+tpkKQN82zpjDdHjBw/nS4HAurRJ/BTPOsqf+kfBuuaBs/t79NcqVTlkYC0RNwFeQh3D744IOrMIh++9vf/mXgwIGXt5CQgXXmzJlnZJDDz+vYGYYVHPv3758K/717907TwrDkHYVblwV58ME+7liVjgt3bm7uGXlbAQJrr169/oo4ffr02Tp69Oi1OEb/CHf0nd5XHKvWcXFHPK8f/iWFuIw/Y7BqAud4PU7+6Zd/75Ee9cHDMo7Rx/o1OtQDq4ulHKzW37dv3yV7wE2itiOJE2c3CkHeb/vBbtOmTTP69ev3MdJg6xesPNdMcSw/rLrAHvJII2VImHYlDC4eWmED4ucVD+F+BXnYoqwYxx7Q2jZ1OXIcxkV9/aTX85vXmDLNZShH27lbmYiDsbRx48ZL32JwiwO/dBXkverr9BfmsJtbb711t8wV4o/4pjnDmV/U5xTkr5z3dd8I70THqZ90UkYQ162OWAkkAiEeaPE2nuRpqx6Sf1zdKAR5E1tTWCLM5s+f/xrmEaR12oApTMpypoG/qY6mMMlT6oK83X46HlY2YzWnrHjWYX6PExXkUTev+0DTHOzGDHWFv1zncB+Ha6JbG/T1FOGm+z5TmOmaa0rnVienXyKCvIknwl555ZXXnNt9mtJ49QFWNMsfODfccMMBLGqBDaEN8JcVz255BxXk/dg7ynHyC3uu8/TigDJ0PLf2Sj10PPET1+v5yZm/yd6Qv9g+0pnimtojdXK6tgR5bF+B8ajLw70Z7F/8NDt9LOFhXRuCfDq0K4gg77QfzRm2JM/QWC2vw3AsCyZxL43xKv2h45nsMZG5MlFBvrZn0kTrqdsq7YfrvNboMK/jVAjypnnWFObVBpO/sEr0GQzpve4bTP1nqlPYMAry0QvCzDG1BFwF+YULFy7A67UYMFg9KytusYK6RYsWNVjBigdfGeSI53XsDMM/bYgrP1xEww5Mt/R1XZDXbX7zzTdfxlsN8NuyZct0+cBqcXHxN1j5AH/dP85zPJBDCNV5uh1j/0j8I19aWnrpA7/YexzbzEB41fFxcZPVQHBxLuGoh4iv8IM9iECXyIVU8k1XN9mCPDhg2wZwlzcYdN/rYzdmtYXjrRjcTDvTuqXzK8hjyxxZIY9XuvH2h5/8nXH8nLvVU9J5zW9eY8o0l6EcbedShnZh91g9gv7S/s7juiLIo124ltxzzz3rcaz7wjRnOHlE9k/rKgAAD9FJREFUfU5B3p8gn+g49ZMukT7V9iPpMd/iARbnWF2GrTQkzFY9JP+4ulEI8ia2prBEmEGIXLp06TykddqAKUzKcqaBv6mOpjDJ060uEqbLg2iN+R4LFSQ8ETeMIK/L03UzzcE6njO93OvheoZrooR7XU8Rbrrvqy0MdZGffn4wpZM6mVynII9VqXJvKulwj+olgCGO5oRjLEbB26eS3hnHee7VB9jaE4uXTp06NQlbS+KNBAi2OMcKWbzJ7MxLzoMK8n7sXbcT5UTx03l6cZA2SXk6TW1hksbp6ucnZx6wKZQhP21v8NP3eKa4pvY46yPntgR52Mv27dtfkHLg4tzvG+86XaLHNgT5dGhXUEFe24+2ZVyTZe7BGNdh+hj89bk+rsUeL+fv97k7UUEedTQ9kyZaT91W07XGj41ifCK/tm3bnvUTP4o4pnnWFJZI2ZpVIs9gOj3K1+em/kukrn7TUJBPrXjM0qMn4CrI4yKBlZvY91dfpHGD8MQTT7yNm0FsOaMHpT7GDaus/nG+VozXypDe76BLNF5dFuRxAyl8wQf/lmMCF1Z4VR8r5lu2bFkjfrp/4KfP8forPt4jcb1crLi+8cYb//fOO++8tAIfK/FvuummPRUVFR/oNLAdeeCEi3MJ1+XCD2XLCnncFDrDJV1c3SgEeTBx/tx4CDtsA4UP8MqKKvFHGn1sysMtDH4333xzNfZD1eGYL9zy9SvI4xsCIqKtXbt2VvPmzb/S+ePYLX8dB+HOnw6XY1M+pvnNbUyZ5jJTOVVVVX8UESPOe8g7eXu12ek/dOjQjcuXL/+99jfNGdJ3tlwK8lcKKrpvhHui49RPOpSBMp0/KdvNdasjtlUTsRYiFlbvSFq/9ZD4meJGIcib2JrCNGNn37v1L+K7xZOtsExhUpZbvqY6msIkT6mXPpdjKQ/3bOXl5Z/K3t8SnohrQ5A3zcHSBmdd4S8rOX9eIX9Z0DBdT033faYw0zXXlM5Zb7dzpyCPssSuJD6eiZo0afKtnDu56HMc474G98yvv/76K37SmPoAb8MOHz58vXyoulu3bv8YMWLEe/qbX7p8lIfzoIK8H3t3liNtExfhzp+EublYkKGfYUwcdNn6GPnqc32sy6zt+UmnM9mbjof8TXFN7dF108e2BHk8s2GrRF0W9pDH1hPip9umjyU8rPvRRx9N12+vhc0P6dOhXUEFed1uzRlb78kqeLxBq8P0MdLrc31sssdE5sowgrzpmTTReuq2mq41mrHXcSoEedM8awrTbQAD50+Hy7FmBb+gz2DO9Prc1H9Svg2Xgnz0gjBzTC0BV0Eeg+c3v/nNNqyw7dev30cymCCw4d81XCjwyiQedvHqH8IdA/S7Z555ZgmEd2yfgQc+yeP222/fgVfJsVc0XrPElhkSFqVblwV57AsPcRyrYiA6YH9KvMYq/IYNG7YBAiJuDsRP9w/89Hnnzp33YaXuq6+++qqstJd02sXH0rC3mWxnhDQ4nzZt2iIdr2fPnrvw4VaIjfhauHwM1lkuzn/1q199ihWz+IMHNqX3ytN5xvU4CkHeb9ulT6dMmbIYF0n5loD4Ix997JZvbeErVqyYiy2OML7x+hs+6IKHRNibMz+/gjxsBXlg26Rhw4a9j/nBmVdt9XLG9zo35WOa39zGlGkuM5XTokWLo3ggwkMoHoRw7lVf+NelFfJoD1bkYE9V/Yq0ac4wsYkijIK8P0E+0XHqJ10i/eg2xjBOcc+B1fF46MDYkbxt1UPyj6sbhSBvYmsKC8vMzQYkT68wN39THU1hUhZct3y1P+6psXe8TpPosQ1B3jQH415fb88h9Uabcc3GvT72kMe9pISZrqem+z5TmOmaa0ondTK5TkEei4/wpjC+xYNVqhDjIZTgLVHJx9nn+lyOwQ17HO/YsePSqmTxd8vD1Af4eCPe+EG9kBa2dM0111w+h59b3kEFeT/27ixH2hLELSsrO4L5Gmyx/aYWaE0cdNn62Nl+L5ut7flJpzPZm7NsU1xTe7yY2RLkYcdoI75JgHsxfBATW5jIH9lOjs52etU3iL8NQT4d2hWVII9vQowcOfI9PBNhYZXuA33s7Cu/tpvIXBlGkDc9k5rGjamemoPpWuPHLlMhyJvmWVOYn/Y442hWCAv6DOZMr89N/eesR5TnFORTKx6z9OgJeAryc+fO/QMGnV7ZgQs2/rnFq5O4mGNvRAiyGGR6gOKr4PgHFr+HH354BURJeTULq2iwogPb3uBL0gsWLHg1ykEqedVlQX7r1q0v4oEMN+fojy5duuzVryDiAQL9gf3DhYfuH2d/4cN3hYWFJ3FTJiKupNMuVtFDMH/ttdcWwB8uzp2r67EXPLa3QR/jy+/6A0LOeqxcuXIuttYRkVd/TV6XHddjkyAPFs5fmHYKWzwcY1zKmyjij7z1sVtZzvrIuY47ffr0N3Bzhtd3sTcmvlXg9g0Cv4I80mLlIOwZcwP+nJHypHztSlgirs5HjiUf0/zmNqZMcxnylnydLv7UwNZfsHWs6MUHk51x9HmyBXnhol1dn6DHbiyWLVs2T/9Ra5ozgpYXND4F+V8Eed3nciw8Ex2npnSSdxBX6qVdSY8/gbGSFGMLwots2YbwqOshZcbdjUKQN7E1hYVlBxvwysMZpu1FjiWtqY6mMEkP11mehIm/lKldiKUSL4hrQ5A3zcEQgyH+OuuItkCgxn0OVo6vW7fu0nZRiGe6npru+0xhpmuuKZ2z3m7nTkEecfCmKa7RCCsqKvoG39TSaaVvxU+f62Mwwj0T/oTX/kinz019gLkNfYBFOEgHu8S5835J6iJ5BxXkTfaOujp/urwgx3h+KCkpOYa5GuK8fl4xcdC89LG0V+rgZbO1PT/pdCZ7c5Ztimtqj9TX6doS5FEOPjRcVFR0AttN4Plr0qRJf9Ll67bpYx0nzLENQT4d2hWVII+Fj02aNDkJgR0ail684uwPfe7XdhOZK8MI8qZnUtO4MdVTt9t0rfFjp6kQ5E3zrCnMT3uccTQrCQvyDOZMr89N/Sdl2XApyEcvCDPH1BLwFORtDKBk5lmXBXkTR7x5gJVK8sEnU1yG/SJE2WJhEuRtlZku+foV5NOlvl71SPWYSrYg78WhrvpTkLc/D9ZV26kL7YpCkK8LHOLUhkQF+ajbqB/Mo8472fm5CfLJroON8oIK8jbqwDyDX2NtCvKp7g9bgnyq2xVEkDfVFQsi8UYNVjLjbdqysrJL3/QzpbEdloggb7tOUeWfCkE+qrpnaj4U5FMrHrP06AlQkI/og0TpMiniwoKPreoV8+lSt0ysBwX5/6yoqq6uvuJDsHGxh1SPKQrywR9mg9gWBXm7fIP0BeMmvy8oyCefeVg7pyAffZ9RkI+eaVg7z+T0FOTjZ49RCfJ9+/b9GDsMYE5q2bLll1gpnuqxQEE+fvaYapuxWT4F+egFYeaYWgKXBXl8SBEf6awrP7wKidU7+HXs2PFwXWkX2xEvG5V/3nNyci5mWt/l5uZ+J2OwR48e1ZnW/qjaiy3ChGPXrl0/iSpf5vOfuQSvbgvfX//61wfJJV5zLPsrXH/Vq1fvJ9h/QUHBv8gyHMtk8cvPzz8lc9Ytt9zyv8kqty6XI39M5ebmXqhL7cSWlmIrpaWl/6xLbavLbcG2k+i37Ozsn+paO2+55Za/4ztXda1dWAwnY61Dhw5H61L78AeBtK0utQttkXugvLy8OjX317V+0u3B913EHq+66qo2qZVSWToJhCdwWZBXhn3FHoEMu3LfRDIhE9oAbYA2QBugDdAGaAO0AdoAbYA2QBugDdAGaAO0AdpAUm2Agnx4PZg5pJhAzlVXXXWyjv7OXHXVVVj5hR9W6tbVdrJd6d23WOUCG7yQgTb4gxqDWOVNW02MAVamyFyGlZHkGC2D7xXf0+RL+8owG/j3z/Z/PsPaHed5lNeEaK8BsAXco+E6i3u2ONuGs+64Z5D7B9iNM5zn6ckE8zH6DfNzXeyjungvC61Bxho0iLrUb+dU2+pSu9AWmft5DxRPmy1LsZbK4kmABEiABEiABEiABEiABEiABEiABEiABEiABEiABEiABEiABEiABEiABEiABEiABEiABEiABEiABEiABEiABEiABEiABEiABEiABEiABEiABEiABEiABEiABEiABEiABEiABEiABEiABEiABEiABEiABEiABEiABEiABEiABEiABEiABEiABEiABEiABEiABEiABEiABEiABEiABEiABEiABEiABEiABEiABEiABEiABEiABEiABEiABEiABEiABEiABEiABEiABEiABEiABEiABEiABEiABEiABEiABEiABEiABEiABEiABEiABEiABEiABEiABEiABEiABEiABEiABEiABEiABEiABEiABEiABEiABEiABEiABEiABEiABEiABEiABEiABEiABEiABEiABEiABEiABEiABEiABEiABEiABEiABEiABEiABEiABEiABEiABEiABEiABEiABEiABEiABEiABEiABEiABEiABEiABEiABEiABEiABEiABEiABEiABEiABEiABEiABEiABEiABEiABEiABEiABEiABEiABEiABEiABEiABEiABEiABEiABEiABEiABEiABEiABEiABEiABEiABEiABEiABEiABEiABEiABEiABEiABEiABEiABEiABEiABEiABEiABEiABEiABEiABEiABEiABEiABEiABEiABEiABEiABEiABEiABEiABEiABEiABEiABEiABEiABEiABEiABEiABEiABEiABEiABEiABEiABEiABEiABEiABEiABEiABEiABEiABEiABEiABEiABEiABEiABEiABEiABEiABEiABEiABEiABEiABEiABEiABEiABEiABEiABEiABEiABEiABEiABEiABEiABEiABEiABEiABEiABEiABEiABEiABEiABEiABEiABEiABEiABEiABEiABEiABEiABEiABEiABEiABEiABEiABEiABEiABEiABEiABEiABEiABEiABEiABEiABEiABEiABEiABEiABEiABEiABEiABEiABEiABEiABEiABEiABEiABEiABEiABEiABEiABEiABEiABEiABEiABEiABEiABEiABEiABEiABEiABEiABEiABEiABEiABEiABEiABEiABEiABEiABEiABEiABEiABEiABEiABEiABEiABEiABEiABEiABEiABEiABEiABEiABEiABEiABEiABEiABEiABEiABEiABEiABEiABEiABEiABEiABEiABEiABEiABEiABEiABEiABEiABEiABEiABEiABEiABEiABEiABEiABEiABEiABEiABEiABEiABEiABEiABEiABEiABEiABEggNQT+P9x6BKm8v7a0AAAAAElFTkSuQmCC)\n"
      ]
    },
    {
      "cell_type": "code",
      "execution_count": null,
      "metadata": {
        "id": "7DDfqh029bNK"
      },
      "outputs": [],
      "source": [
        "# votre code solution ici\n"
      ]
    },
    {
      "cell_type": "markdown",
      "metadata": {
        "id": "P53zAG24hBSO"
      },
      "source": [
        "## 5. Tour des librairies utiles pour la gestions des fichiers"
      ]
    },
    {
      "cell_type": "markdown",
      "metadata": {
        "id": "g5gZcYFs9uLv"
      },
      "source": [
        "Plusieurs types de fichiers sont très utilisés pour l'échange des données en informatique.\n",
        "Python met à disposition des modules natifs pour les créer et modifier.\n",
        "\n"
      ]
    },
    {
      "cell_type": "markdown",
      "metadata": {
        "id": "aPOqu2Eb-wUe"
      },
      "source": [
        "\n",
        "Fichier - Module\n",
        "*   `json` - JSON\n",
        "*   `csv` - CSV\n",
        "*   `xml` - XML\n",
        "\n"
      ]
    },
    {
      "cell_type": "markdown",
      "metadata": {
        "id": "_IiSbgBahIK4"
      },
      "source": [
        "### JSON\n",
        "JSON (JavaScript Object Notation), décrit par la RFC 7159 et par le standard ECMA-404, est un format très simple d'échange de données inspiré par la syntaxe des objets littéraux de JavaScript.\n",
        "https://www.json.org/json-en.html"
      ]
    },
    {
      "cell_type": "markdown",
      "metadata": {
        "id": "wTYUjZD46MrD"
      },
      "source": [
        "JSON (JavaScript Object Notation) est un format de données populaire utilisé pour représenter des données structurées. Il est couramment utilisé pour transmettre et pour recevoir des données entre un serveur et une application web au format JSON.\n",
        "\n",
        "Format JSON expliqué: [https://www.json.org/json-en.html](https://www.json.org/json-en.html)"
      ]
    },
    {
      "cell_type": "markdown",
      "metadata": {
        "id": "UOiVya2KFkdZ"
      },
      "source": [
        "#### Table de conversion de Python - JSON\n",
        "![image.png](data:image/png;base64,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)"
      ]
    },
    {
      "cell_type": "code",
      "execution_count": null,
      "metadata": {
        "id": "KDwlIxQvGtSw"
      },
      "outputs": [],
      "source": []
    },
    {
      "cell_type": "markdown",
      "metadata": {
        "id": "RV5-C3mlGa3W"
      },
      "source": [
        "#### Table de conversion JSON à Python"
      ]
    },
    {
      "cell_type": "markdown",
      "metadata": {
        "id": "WQzfeVxXGjL6"
      },
      "source": [
        "![image.png](data:image/png;base64,iVBORw0KGgoAAAANSUhEUgAAAhUAAAF6CAYAAACurqpsAAAAAXNSR0IArs4c6QAAAARnQU1BAACxjwv8YQUAAAAJcEhZcwAAEnQAABJ0Ad5mH3gAAEf1SURBVHhe7d0NdFzlnef5H2yOQpqCJFIaEM66EhMNPagzk2Kh7eYEoxOzrBFKH2DaFjTY2m6wc2yfDGg6I/u4UUKiHB9bnW2R7hFObMKuTJgg3GOYiSI8PjgrDIdjNSyVmY6YTgt2KU2MgERqXsoEdDKwz3Pvc6tu3bqlF/vaLknfj0+5bj26dev1ee7/Ps//uXXWsmXLPhQAAMBJOttdAwAAnBSCCgAAkAiCCgAAkAiCCgAAkIjYRM1rrrnGLQEAAEzvqaee8q4rBhXPPfecLrjgAlcCoBqk02nqJoCqYtulIKioOPzx8Y9/3C0BqCbUTQDVqmJQUVNT45YAVBPqJoBqVTGoOOuss9wSgGpC3QRQrZj9AQAAEkFQAQAAEkFQAQAAEkFQAQAAEkFQAQAAElHx5Fe5XM7dmp496UU1m+3rAOYDW9/4TgOoJrM6+RUAAMBcEFQAAIBEnMLhjz/Wn3f/gS60i795SQPf2KMjXnkg9PeQ37w0oG/sKV0z6o+/1q0/KPvpg9/opR9/Q3uedjcd73Vcv117bm/UuV7JMQ3d1qG93nLRhr98WE0X26XjGvnhRu14wisGqsqchz9KvvsVvDqk2/5ttEbMXfP2PWr69UZ17HEF4cdO6DEAVJ8zP/yx9s/VHRNQWB/7XIu6v7lRK93tEt794gIK62P63Je7K9+3YIma/nKDWwagi5v08J7tanY3565Z2/c8rNsapw1dACwCZyCo+GP9+RVx4UTIxz6nVRsjocHVG/XNme5nmfu2fO2P3Y0KLr5S2693ywCkcxt14/YTCyuat98o4gkA1ukPKtamiz0Udliko0MdweX5190fbGxwpQk/Aiu18drP6WPulj/UEbqfuQy89Bv3N+OCP9Cfr3XLsc5V45forcAiY4cgbrut5PLwyHH3R1MrPvOFk+itAIAznKj5+kgkz+LR51SMDc5X7dVu8erf05JCRPG6/q6jPHfiyJ5vlAQlFzbOMAxycZO6N7plYJEa3PGcjrll6/Pb9+jhhx/2LnH1w+Ye+X/fo+3Xlw97LLmm8n21sbuwbe8yzTBk8XGCi30898eQ0udTfj/qOHB6nf6gYvwdBXHDhVd0R3oUjmjPN4Leh2LgsPKfLyn0Uvzmpef0t265TDgo+dh5ik29OH5cwbHZkitOZhwZmP+at1+pJW5Zb/1Ku0JBxpKG6E5/gxq8ZGbj+Cv62VySmW3exjWFR/LZsrLAYoO6TTDgJ02HnavG2x/WnopDNP7fo/dbck18MALg1Dj9QcXTe/T3b7hlwwYWNvnSu8yYZPkbHftv080MOaLJd9xiuKcj7K3n9NyrbvkkxpGBecfuxENH8fYS7mU4/k82nNir0aB+XNxgdvEhGxsKAcix53do0PzbsbF0COXYU/6wSmEGSEjwt9tuGyr2jkQeY8NfNhUfo7D+wwoe4tzGG6cJEuzMLv8+Q8FrMMHGZzLUceB0OSPDH3/7nYHQMEeITbL0AoxvamMoILjg/GI2RRL2/nSk0FtxbmNTacMJLEbHR/T4jkFvce9ooa9CDaHhgw0Nhd29RmOChmmZ7Q8V7hMKXPQJ/W4QJFy/XVcGPQ2vDoUCExO8PBbU2cr5UMeeKk4VL6njn4z0kAA4Zc5QTkVxmKMkwbLATg8tDSx8H9N59W7xZDyxQ48Xjq6W6Ep6K7CIHR95WLdttD0Pzp7RmCGQ0NDHq6Nl53mZ0Vu/Km6/gubMZ0zI4Ds2GnmEJ36mV4IqG+1B8RzXm//dLQI4Y04+qHDnjrCXb0angc6Cl2BZmMUR7sH4mJb8c397b7xdDDzO/8R0j/HHShcSKd7WZCSZMyycoGa7VK/8uLsBLFQxsz/sZaProSiKGQIJD31Ed/gA4Jx8UBFKvPzY+bGpkSErtfGbQQ7Fn4emjAaOaM+TL5Vt78h/O1YsK5lqWmrlxs+Hpqu+o1DqRoy96niqEFboXObZAwXF4QN/CKQw9FEyjAEApU4+qHh6Um+7RV3w+eKQRfh8FO9Muqmj4UTKC/UHZYmZ0fNROE//g44VOivM/SI5F5Y9dXfL54r3LJuuGmfPUCEBDEBIaLhhSUN3Yejj+Cs/m3EY40QNZl8p5EGUzTy5/gv6TBD4n8jwC4DTIoGcir9VrtAl4E6VbXsiQme/fH2sOAn0b4eLPRHFxMzg0qJQXBC6X2kPRsnjuEvJqbvf+Dv9H4+65WkNasfzhTx0AAWD+lkQVVy8xA19HNcr2VMVUhgleRPh88g0a/tNwe+XHNfITwkpgGqVSKJmSaAQ9ZuX9Fx4B//0Hh2OTc4sZX9YrCQwMPf7xo+neZyAPUvndyqeyaLcno7Q9DMAgXDPgafCuSkGf/2mW9L0J7+akZ2iWpxuGmzr4YdvK5wG/PjI4/zYH1DFEgkqvB1+x9+peD5Lnw0MOsp+nTRIzixf32fPmNkR/0ul3uNUmjHiTt0d83gzCU8/A+A8saN4Thej4tCHCczD56qwPvGpE51RtVcdt5We+8Lnn4OiPKkUQDU5hT99Xh3m9DPRQJWb80+fnyR72mv/LJXHNfLDjfQSAChz5n/6HED129hdPO31q88RUACYEUEFgBLNwY+KFX6rg+RIALNDUAFgGgx7AJi9k86pAHD6nO6cCgCYCTkVAAAgcQQVAAAgEQQVAAAgEQQVAAAgERWDig8/LMvfBFAFqJsAqlXFoGJqasotAagm1E0A1apiUPHWW2+5JQDVhLoJoFpVDCreffddvfHGG3r//ffpbgXOIFv/bD209dGibgI406LtUqDiya8AAABmIzj5VcWgIlgBQPWgbgKoNuF2iSmlAAAgEQQVAAAgEQQVAAAgEQQVAAAgEQQVAAAgEQQVAAAgEQQVAAAgEQQVAAAgEQQVAAAgEQQVAAAgEQQVAAAgEac/qNjWp6GhIfVtc7ens6ZHA2bdgZ5WVzBXDbppe596v+ZuAijT2jPg1clCPXP1bmhfh397jlp7+tSzxt0AsKgs7J6KbfforuvSSn3E3QZQJl2X8q4nXu/3rnVJrWxJfiLn356Djn1D2pSRxve7AgCLSnUHFfvb1dLUpJZ219gBSFir6mvtdV6TL3sF0s42NZ1QvetQ41JzlZ/U3MMRAAsBORXAYrZmhRq8bolRHT3Z3oU19aqz15Pj4jAAWJwSDCqWa11XnwYODXnjs/Zy6D/1adeWa1Xv1ihx9k3q/P4BHfqpW3/ggPZuv6l03Qo5FfWrNmvXvoHifX86oAPf79RNS9wKhu2GHVqd9pbTq+16A4zzYlELcif8i6sPbqijGAh0qM+rjz0qrXWt6hkI7utfwnlR3ra3ZPxtLW0u+zuAxSGhoGK52Yl36Y6r06rJ55QdOqzDw6PKn5PW8jUd6t3RWhZY1Ddt0qqGGo0/Z9YdGtF4Ta0arrtLe78zfVJm/S096v2LtVq+tMYcXA3r8KGnlf2lVHvpKt212zSELrAYedps98VJb3nyRbN86Ekd/f+8m8Ai4wcEmzJ+7oQvpcyWAfVd5vUtFPMn4nobvOTqTSq5u2GD9SBwCPIyikLDKQAWjUSCiszX71az2clPjQ2q8+Y2td/bpa6tG3TzVx/V6Hs1qr2qVXdf71Z2aj4yocP3tKhtq1n33i269U9/qJH3TFN3xY3qvMKtVOYG3b02o9qz88p+r003f2WrunZ0qn19i7YeGpfOz+iObeu8NX+y12x37B1v+Z0xs7zjPvU/790EFpXWnnUuIMhpsKnJy5doaho0t1JKL/WDgcpJmh3qcz1++exud19zOej/Pf1Fv0eje32TBsdsiambvXadFrWTrAksOgkEFdfqli/YfohxDf91t4b9Qt8v7tf9R83OXrVqXHWTX+ZMjQyq61l3wzr2gB7w1q3XZS0ZvyxqzbVqtEllY0fU/Yhdt2h4x2EvKKlpWKE7XRmADjV7EYUNKNrU7Rca3WrrzZoQwCr2KrReaPsp8hp91g8yWntWyoYUNqAoSdzc2eYHEala7++2N8RL+EwiNwPAvJVAUHG5LvIak9f085iegOzIa17DlbqgwS9wxo895JaKsv/gr1v/6T/0C6LcUdSU6nTn9k51llzSSv3W/PEc08hV7OkAFpltjS4oGAwFFBGhQMAfxphwU0JbtcLL4szpSMxMENs70VQIVNKqtauSpAksagkmaibgf7jrGts6lfOPosyfly7XqutWRS5XK+3d7TylPuutBix6HZd5IUWh5yFWKEmzdEqoCxTGRioHJAEXvORenHFNAAtYdQUV59WoxlxNmUYtzpFf+TkSk89+uzi2W3ZhLBeYjdarGkrzJ6JJmsHtWQiGTUjOBBa3BIKKF/SajQFSaV1+nV8Slmm8yG+43hj1C5y6C8tnedxwab0XVEy88f/4BRHj5oGmzHXtpy+PmaZ6p3oPDunQwV7d7UoAVBLkWpzYmTS9KduhadresAn5FMCil0BQ8aQe+ZmfjJm5vUPL/ULfpZu1eYXd/U9q5PBjfpmTamxWx1XuhnVVh9ZmaqUPcsoOZF1hxINHNGKTLpau1D3rwzka9bppV7Maz5FqfjlaNqZbc3Z5CAIsBrkJL6NJmbbQeSe88780uwTLykma2j+uCXu9tLnknBM2oGi2wyRjR1yvoEvSJJ8CWPQSGf7Ifus+DY5NqcY0Pl0H+tRzb6c6d+3Vgb9Zqwazo598vl/3PeFWDtSk1XzvAe3d5da91zRyNVPKHbpf3RWnfvar+4c2Yz2lxj/r1YHv71Ln9i717Nuru5abVm0qp8EH71NhXsgbea9no37Ft9S1/W61ksCJRaa//YifH5HKaFNw4qrgJFVWxSRNq1uDWX9+iH8COf/iBRR2Nsn6IH/C5V64k16d+A8AApjvEsqpGFb3+k49OpzTVCqtTNMqrVreoNR7OQ3v/7a2fK2/uKN3coe+q8PHapS+0l+31q77SKfadpZMSi0z/ki7NnQ9qmETxKQabMLm1cp8ukb5sWE9em+busPTVB/cp8FfmEbx/AZdfd2Nam5y5cCi0a0275wUIfmsdgdlFZM0ff3tLYVzUhSMDao468Pq1oh3jgpfYTgFwKJz1rJlyz50ywXXXHONnnrqKXfrDLLdtOaoStE58sAiVTV1EwCccLtUXbM/otxsEAAAUP2qM6i4brO67u1Sb3ODF1SMv0QvBQAA1a46g4rfX66rm65W46dqlP/F43qg15UDAICqVZ1BxV+1FU5m1fKV+0p/TwQAAFSl6s6pAAAA8wZBBQAASARBBQAASARBBQAASARBBQAASARBBQAASARBBQAASARBBQAASETFHxQDAACYjeAHxar7V0oBlKBuAqg28+dXSgEAwLxBUAEAABJBUAEAABJBUAEAABJBUAEAABJBUAEAABJBUAEAABJBUAEAABJBUAEAABJBUAEAABJBUAEAABJBUAEsBmt6NDA0pIGeVlcgdewb0tDQgHrWuIK52Nanvm1uGQAcggpgMbikVilzNfF6v39braqvtdcTGt/vFcxaa8+AhlbXafJlVwAADkEFsAh0XJY2/+dDgUC/2lua1NTUpm5XMjutWtHghSdzDkYALHwEFcCCd+K9EuXSqrUxRX5SOb8AAAoSDyq8rtEhO1ZbvJSPvbaqZ8D8bV9Hcdmua2+7sV/vPm65ZBvb+kq2bS/hcWKPW6es3NOhPnu/gR7zyMBiUB4IBPW0pG6G6lts3fLqVbPZmpHKaFP07wAWvUSDCpv4tSljW69S6dWRxmfNCtke1PyETECxScFdci92q/WqBqVsN61MA7cl440Dm79oZKdrCFd7TVqJVGaTC1CclyfNFkx5Xfm6Hftso5hXtq9dwegysKCtqVeducqPHi1859N1XpRRHA6xAUOhvhWF61brhXYrpYo5GgCQZFBhGqXmpeZ6bFBNTXas1l16s/4OvmFFsWfAJY2pYaUyymq3W7fNBA5+Y2f+9MWMlN3tttOmbnMUtc5GH/ni+v5l0D/6WtqoQlixf1wmXpFq60t7I8w2VnrP8YjaGQ/GYjGLJM0g5yLbW7lu9be3aHfW1mYT5h/017F1FgACiQUVrS+7YGJ9JO0r2MFPjheOkoIjnpRGtbsl3GMQNHamCRzdrZb28FHQUT1kt1+yvpXTpG3nSsZ4XVlEx5ftkZhpOH88t9Q0YD4rT9J0wyFjI5EkzZQybeFhwW61ecFFMZnTD/r9nkMAiEosqOjfb3b1MWOyhTHYkKA3IvdMNEBwjZ1ptI6UBBSG2X5/kA9RcikOnxT1a3zSXKVqi4/teiny2YfopcAiEpOkGQyHTBTD8O71rlfC5UrE5xy5bZGkCaCChIIKl2wZMyYbKDZgQcOU1WD0aCdo7LKDZdPc/BP1lAcoBaGeECs3Ybsq6lTvndjHPL82+9xighVgQYtJ0vTylqL5EH6vRDC8EQQXpYmcLhcqlJsBAGGJBBWtPetcb0FOg153afHiN1J5jT7rmiHXMEWDACu+sTOCfI2yMV9zOeg3lTbJM6z/dTvoklLtJeZqW7P3/OKCFWBBm02SZojNmyjWW7Pu6tAZN8tyMwCgVCJBRdBIZXujJ9LpULMXbYS6Xl3DFA0CrErjtUEORu5gS2ToolU9X4yOFztuBkjdhR1uHXopsAjNlKQZDFmGZ08ZxaRMF5gbfj0knwJAZYnlVNjGp+Gq8CiszX9wwxXhrlevYYo7Spp5vDZ9Wbjhs0MuQT5FzEl9ggRRO8PErJM7ONczBwLz34xJmkE9WdocOZ9McObM4n29oJ98CgDTSCSo6P6xmzZq57QXEijj8x/83oiYICBo7GKGRfrbj/gNmWn4pk/QDPNngKRStiGMyd8AFrzZJGl2a2TMX7LnkymrX4Xp125bQSJnpGcDAKxkeir2t6vF5TYU2fyK3fJ7UINZGNP0RsRkpBd1q82d76LIz68Y9BrEICEzzM0AMcpnmQCLweySNLvXF3OTwvL2PDGFKeL9OjparIHx9RTAYnfWsmXLPnTLBddcc42eeuopd2u+csMv9mRZZee2AOanhVE3ASwk4XYpwZyK6sLpuAEAOL0WWFBRPDmWf8pwTscNAMDpsrCCCpeX4bG/QRI9ZTgAADhlFlZQYRNGg5NiEVAAAHBaLdicCgAAcHoRVAAAgEQQVAAAgEQQVAAAgEQQVAAAgEQQVAAAgEQQVAAAgEQQVAAAgERU/EExAACA2Qh+UGwB/0opsPBQNwFUm0XxK6UAAOD0IqgAAACJIKgAAACJIKgAAACJIKgAAACJIKgAAACJIKgAAACJIKgAAACJIKgAAACJIKgAAACJIKgAAACJOINBRYf69nW45Rms6dHA0JCGZrs+gJMwh7oJACFnJqjwgoRm1U3kXMEMLqlVylzlZ7s+gBMz17oJACFnJKhovarBCxImXu/3C2ays01NTU1qaZ/l+gBOyJzrJgCEnJGgIl3n9Tto8mX/NoDqQN0EcDLOWrZs2YduuSD82+hz06qegU3K2HYpkM9qd0u7/OOeDvUNNSvtLTvB37f1aWh1nbK9LWq/xC7btfLm9hHVbjH3CW/HWzet3MEmtSlY1+eV7XQ3CiLPy23LFGpTRv5j7nd/A6pYddVN6g2A0nYpwZ4K2yhFGi0rldGmoT7zV2NNveq8wpDJca9R67jMNlQTGi80WkZ+VEfl7uPWs1ov9LeSXj1UElBY6dXusQpinpd9TgM9WuEdlZnHpGHEgnaK6ib1BkBEckHFtkbvKCef3e3lPwSXwTH7x7Qat5mr/e1q6c2aYxxjbNBfZ323udGq+lpzla/TStNo2d4G72/2KKksSbNVKxqKrWNh3ehjeezRmTv6Ch7PXg6abZkGNbPUlOcnRUoaFrRTVTftugAQknhORSqzTj1r3A2je73fCBWGJFyQkHvRNliBtGptYSqlicjwhd8rkdfos0ET5tY1okMduQmvSSza1uwfndlG0msgnZ1t2p1164Z6QICFLOm6CQBRyQUVZkftH/mklNkypKGhgZIGLBAECSWJYEHXaz6rwUij5SeOhYYoZlw32Harer7oHZ8p++NwI+nrf33Cuy5tQIEF6BTVTQCISrSnwjvyCbpQgwas5CQ6bugiOh4bHCE9E+1S7VBjdIgiGA4ZPRpZN+imDbbtjrAqjP3GNqDAApV83QSAcokPf3hjs3bMNWjAljZroKfV+1NhRx8ZcvATwWJ28MFRUlmSZng4JBC/7XhBXgZJmlhEkqybABAjgaDCJkPaLtXIrItQ4leqzkuVLAQJpUMO0R6GkKBXoixJMyYYCJLRZnMmwCDXgiRNLGinsG4CQIwEgop+jU/a67SaI78XEJydr7Cj94KE6FFP5R6GikmaMcGAv64JNwpnAuzWiB1HttPmws/LnePCM6teDWC+OnV1EwDiJDL80f2ia5iWNpujIntk5F82ed0BOR1xp9f2d/xBsljp/Pi4HoaKSZoxjZy/bk4joWSy7h8Xu3kLz8sEFPm8Vzq7Xg1gHjtVdRMA4iSTU+H9Nsdg+VCCPSNfU5uCDtX+Z0f9nbwV9Da4IY7y3xqonKRZPmMjZl0rPPfesdNQj0zarcTlZQALzCmpmwAQL+HTdM8HwemKcxoMNarAfLCw6yaA+egUnaa7urT2DHjdvMXsdl/HPne64rERAgoAABK0YIOKoDs3ldlUMpbcbIdJlNNg+AybAADgpC3YoCIun8ITGUsGAADJWIQ5FcD8Rd0EUG0WRU4FAAA4vQgqAABAIggqAABAIggqAABAIggqAABAIggqAABAIggqAABAIggqAABAIiqe/AoAAGA2gpNfcUZNYB6hbgKoNpxREwAAJI6gAgAAJIKgAgAAJIKgAgAAJIKgAgAAJIKgAgAAJIKgAgAAJIKgAgAAJIKgAgAAJIKgAgAAJIKgAgAAJGLxBBXb+jQ0NKS+be72GVR/S48GhgbUs8YVVLGOfUPmfetTh7u9IC25Vpt79qor/Hm478tAT6srSMgVHer76SHzPVzuCk6TNfY7Zz7LfSf+Sbb29M2L7yyAM2fRBBUdl6XN/3lNvuzfPmOWtKrj9oxqXhpU935XhjOq9Wt3a22mXil3+5R6vluPHs0r/aXN6rjClZ0Ol9R6ry8/kfNvz5ENLjdlpHG+swCmsUiCilbV19rriTPeKN6wpVWZ1LiGH7xf464MVWhnm5qamtTS3u8KkvOT3ic1qrSu/bM7Ve/KTrmTej0dalxqrvKTOrGQBMBisUiCirRq7WHa2Ii6/YIzY8lm3XiFiW5eGtb9z7oyLD7H7teTI3nVXLZKm69yZdVsTb3q7PXkuJIPsQAsJGctW7bsQ7dcEP5t9NlrVc/AJmWU1e6Wo1phl4P+5Lwtaw81SG7dVE6DTW0lO/rWngFtMnfMHWxS206vpGRd7RtSsz1qssYG1bTe3jtYxy8uljt2PHlLRsruVsvrzRpabYdCrPLHL7Bj6oX1rLh13eNO2sfLFZ9D9PGdzNd/pJ4v1Wv0wK3a8NehfgrvseqU/d59Gl1+h5r/Zb1SNtz7IK/x/zKoH3zH7ISO+av6lmtd12a1Lk8rVeOXTL2dU/Y/P6T7zFFwYcvudU8c3KrhT25Wc8at77Z7X/tjOu/f3KPNX2r0g64PpjQ5MqhdX71Pw94G/G7v5qU5He55SUvXXa2GT/kPmP/1qIYf+rq6/mPM63jkSaWab1TD+absvXEd/ne3qmtAql+1WXe3NSvz6ZRq3OubHB3WQ9/q0mMlr6+Sel275W6t+98ySp/vXrg5eh599iF9fcdjoZ6f4uey4fGP6p7//erC+vZ9evr/+ra6DowW1wu+Nx73ObvPP2+/M6Gj+9m+Bu99q83q0UMpNd/Y4H2eU68e1nf/pEs/sStcv0sHti5X6u9/oOu++pB3n9k4sbrZob6hZqXD9dC9Pq+eqfS7Xqx75h1y9TEs/HcACLdLCfZUuN6AVEabhiINtSlbV5Lw5taN6U5N13l/COU+FHsZSgIKa2mz+npsAlrk8Wx5OCHTjSdP1IUDCiut5oEes2sp5SUnlqxnmXWjyZVrVqjBbDg/oZKdU+7FuDAlo5bfs53dOY3+h7iBjxo1/EmH1jZ+VOPPHdbhoaxy76ZUn1mrjm9uDnWTLzfPr0t3XJ1WTd4EEkNm3eFR5c9Ja/maDvXuaC3rUq+7qlNrr6zTxMjTZrsjGv+tv92t//6v1PFHab0/asuzGn+3RrWfv1Fbd9zg7hmo19VbVqnhnHENHzqsp/9+XDWfatCq9r0xiXspNd58o9LvjujpQ8Mazb2oF2xAcUuPev9irZYvrVHe7IQPH3pa2V9KtZeu0l27zWewxN29onq1fqdX96xZrvQ5eY0Ou/dItWq47i7tNd+vsqGE2pXq+derVPemfS6HNfyLSen8tFb9613adb1d4R919KemfGzKLE8pZ7dpnpf5psWa82v4nUbdeGNa79j33XxGuX94wQ8orCdeUC5vPvXPXl72/UtcTE9D64VeidKry7/r6dXFxFy/PoZVQV4SgKqVXFCxrdHsdh17RNTU5I3hNvVmTTNkdjUNK4qNp2vk8qNHI92pLvchP6qjQe5D0CCaQMEeMQ8G2z3ohyPpTEap8OO58roLi021n6Rp1l1qjqJ73XpNg35AYwKe5lAAYo/MvMAlvM3CdlPKfDmUPe+CFTWs9Hto3LrxR3F/qKUXmau3zZF17FF5jVJmpz14783asLVLXfe2q+0rj2v0A/OXZRnd5NbKfP1u8/xqNDU2qM6b29R+r1l36wbd/NVHNfqeCQquatXd3g6zKHX+lIa/u0Ft7Z1mu1t06yMjZhdqdoYX12l03wbd6pW369Z7n/aO9mt/b6Wu9e4ZqFHNrw9ra0ubCTi61PnVW9W2z27DvB83dZrXXqomP6zv3rJFnTu2asNX7JH5Dbp7bUa1Z+eV/V6bbv7KVnXt6FT7+hZtPWQe8fyM7ti2zt27guvvVqsdOrKfy5+G3qOWrTr8qv0Y79A96926gZT5dLK7tWF9u3kuXdr6lZv13WETWNhA5Gr7CrPq/6suvTDhBxWTz5tt7niguOMvcQKv4WwTfDz3Xd36VfP+ms9ow7fCW+7X+K/MVSqty6/zS06ZsiTNVq2w0bBjex6C7/ngmC1Jq9HVie71QZl53V7daVE7yZoAKkgsqAiOfMqGOvaPyxzIlwp6Dl4vDSmCI/+Ssdtgx+3t5GOGKqKPVyZI0rSNZ7hB7FZbWQDSoWbb3RC3zZ2DytroqNYcMfslhdec0ugMz8G4uUH19t1+c1yP+SVlpl56Wt3hXItj/Rp7zVybnZO/C7hWt3zBHo+Pa/ivuwtDFJ5f3K/7j3ohgRpXBSGI89qIHgkPUzyY84cK8iM68mCo/Pmf6zX7Gmtq/ECuYEojB7tKHm/8wQc0bJ/bxZfp5sgshnwudERurblWjfYzGDui7kdCj2cM7ziskffMQ5qg805XFqf1ukbzysxn+Ey3+kuCsmF1PWkDnBo1rIhuYVzZh83O292yfpLNeUFuzcdKX+GMTug15JXLxocoVu5N7wuli/6Ff/tU8b+neY0+G3xDXe+fER3KyE3Y5xQWE+gDQAWJBRVBN2numcjONabrteL0zrIjqmIvQ3S7wQ69UnkxYAmGWrIajPYgvDzp7WAKgt4WbwjHnp8hfHHDG6naQo9Mxdcc5xPmaN9cTTelL//mK24pMK73f2uvz1OddzR7uS7yGvjX9PPn7e1S2ZHXvNeTuqDBLwhMvWOOyWO8PakjbnF648rtc4sFWf183D5avS6KnHLhnbf+0S057nOdMt+EO7d3qrPkklbKvsZzzPs6zRRL/72ekj55Z+T+5vLZlP2LamrTpb0mNnck+j79D/8qdd4cg4oTeg3vKP+SW4zxj2+9413X1JQN3CTKf+9CM5+COhlTJ/x1Y4YfSdIEMAsJBRVBb0BOI9Edt2uMi3kGlY98ygOCytv1G79K5aFGseJQixH0gjhBADOtQh5I8DpigpU4F6S8oGI677z9pFuKMgHJx93iCagYyPz2/ZKj+BNVc55bcKbeKw1hgs+1ZulyrbpuVeRytdLeh3CeUp/1VosRfA9qlF4evb+5XG126vbPqZT+mb0OvJsv7yUL1IQ/+Zmd2GuY0jsxwV8g+54Nhcy9fneld31qxEwHDYL32Qw/ukA7Pk8IAEolFFQUkymjTY/fGM/myCcY5w0HCkEvQzShM2j8KpWHGkWvAQ13/RYFQUTpMEwwdlzhEgxzxA3VTOeNvHc0vZCc91EbJk0p/4Z/u5Ijv/KPyCef/Xb8e+pdphurP6LJt+31pIZ3xN3XXWYagjoJJ/8aymXO8cPMd341u/6iExLTUxjUyfI6UV43y+svAFSWTFDhjmbKj4iDQCHU9Vpp3W3N/vBCOFCIaRA9lXboMeV+4JBS7SX+7YI1PVrpzSSJ6V2J4Z+uOjT7o6wHZgZvTnlBRarOD2ROzAt6zeYZVkjuyzRe5B+BvmGnSyapTvVlszxuUMNFdqc4ocn/6pdUMm6etH3ttZ++vHyGhu5U78EhHTrYq7tdSblxjZv3z8s/uDxmqODPenXop4d06P7KWzhZJ/8ayv2zj/tdPFNTSfQXVRD0ShTqW0ydDMTUTa/nj3wKALOUSFARdA2XJV5W7GkoXdfOuChMawsHCmUNojPr8qDb3DyTL4anjnaob0vGXzc7WOhd6X7R3i+lzJbwb13Ycxm4qaxjRwpHonM+gjswqvEPzPUn6gszOebuST3yM7sDqlXm9g6VpDJculmbV9jd3aRGDldKBT1RKTV+ufTxlm9bq4x9b8eyOjBNF7/nwSMasekXS1fqnvXhfA/zXuxqVuM5Us0vR0sDxIgH/u8R827bz/EerbvUL/MsuUm7WhpVc3aNcv8w3RZm4X9y13ESeA1R/lDdpF6bISg7GeW9EpXrZHk9dvUnGrwDQAWJBBXlyV3ONPkM3vx4lwTpnewq6089DR/5lzeIvkpBTHl50IDmlS9Jvmz2jsjsSapKTlsczPAwf20urOsSNO2MkNAJrfzXPJfTfj+m0V+aq/Mv0u/PeE6GyrLfuk+DY1OqWdqsrgN96rm3U5279urA36xVg9mxTT7fr/uecCsnyH+8vdq1vVO7vn9AXSYIrJnKafB73fFJoCX61f1D+/ma4OTPenXg+7vUub1LPfv26q7lZq9lt/PgfdPnd+zv1kP2w0k16o6/OaC9u8zrvrdHfd+/S94mzGf5QPiEYnPgJ0ya5/ZHPeZ53anoWTp8CbyGEncqfYG5yuf0wiG/5FQo+55W6v0z/HVjhh/NZ2/rQuI/rgZgwUkgqIjJY3Bar2owTXBk57+zTbv9Pbfjn3tiUHbd0sCk0o67vPHzlZW7BjT3TIta3PkyAvZMieVnvexXe0swL7/IW7dkvL5STsd0xvWQ1xNSr8+tO5ls/2F1r+/Uo8M5TaXSyjSt0qrl5r17L6fh/d/Wlq+VTqFMhj2j5mGNfySt5det0vJLa81OfFiP3ttWOgV2GuOPtGtD16PeiaZSDTbZ8WplPl2j/Ky3Y3aC7Rv07f3Dyr2XUoNN2GzKKF2TV274UXWaz7Jkiu0cZPc+ruHXTKB2ccY8rxt17c3uDxEn/xpC1jQqbYPAkSfLdu7JqZykWT5sF/f7Ht0aCdWFaBAPAFEJnqYbM1pyp3p/cLsaJw+r/U+6ZnGEj4Vq3d8c0h2fn9Dhr92qrpmGj0KomwCqzSk6TTdmdOwBDb4wKZkj4lsiZ73EIrLkbq1srNHUi4f1wBwCCgCodgQVp9lPevuVzdcq86/Cv+eBxeSGLSvVoJyefPCBUzBUBQBnDkHF6XbMT/ibWtasjrJpmljwrujQ2hUp5Q7dr256KQAsMORUAPMIdRNAtSGnAgAAJI6gAgAAJIKgAgAAJIKgAgAAJIKgAgAAJIKgAgAAJIKgAgAAJIKgAgAAJKLiya8AAABmIzj5FWfUBOYR6iaAasMZNQEAQOIIKgAAQCIIKgAAQCIIKgAAQCIIKgAAQCIIKgAAQCIIKgAAQCIIKgAAQCIIKgAAQCIIKgAAQCIIKgAAQCIWT1CxrU9DQ0Pq2+Zun0H1t/RoYGhAPWtcQRXr2Ddk3rc+dbjb88IVnfqR+ayHTvY9XmM/pyEN9LS6Aqm1Z0BD/6lHrUtcwXzi6kBwsa/r9H6+rerZZ947dwvAwrNogoqOy9Lm/7wmX/ZvnzFLTEN+e0Y1Lw2qe78rQ6JuWJNRvbkeH+pSe8Lvcf93BjV6Tkbr2ufbrrFDfattHQjkNfqsCXBr7eKkcn7hKWQef2iTMhpXvysBsPAskqCi1W88NaHxM7wjv2FLqzKpcQ0/eL9pXpG8dWr+l7WaGhvUffcOu7IEHbtfjz8/qdQVN6rrKlc2H6ypV529Nu9LU1OTubSoXSvUkDJlk6dhR7+tUV5YP3HqwxcAZ84iCSrSqrWN59iIuv2CM2PJZt14hYluXhrW/eYoEafCQ9qyuknXre/WKQgpPD/pPWqO7Ou1/PY7vR6ReeGSWtkqkHsxVANc2enY0bde6IU0mnidfgpgITtr2bJlH7rlgvBvo89eq3oGbPdmVrtbjmqFXbYtlpW3Ze2hoyG3biqnwaa2kh29HbPeZO6YO9iktp1eScm62jek5qXeqv5Rl9l5FNfxi4vljh0b35KRsrvV8nqzhgrdwOWPX2DHn0u6i+PWdY87aR8vV3wO0cd3Ml//kXq+VK/RA7dqw1+H+im8x6pT9nv3aXT5HeZIu14pG+59kNf4fxnUD75zv5485q/qW651XZvVujytVI1fMvV2Ttn//JDu632y2APiXvfEwa0a/uRmNWfc+m6797U/pvP+zT3a/KVGP+j6YEqTI4Pa9dX7CjtkO+bevDSnwz0vaem6q9XwKf8B878e1fBDX1fXf4x5HY88qVTzjWo435S9N67D/+5WdQ1I9as26+62ZmU+nVKNe32To8N66Ftdeqzk9cUIXsuh3XrtX9yh5ReZ52HuP/Kjrdqyd8Ss0KCbtndo3VUN/msxvPdk8H5t/V40vJjluuHvTXt4Z1ivux/4kW78nHltXzOv7XlXfBrMuW661xBUDV9e2d4WHb0qWtecsu++v37cUFJQX8NKtxepm55p6h2AeSfcLiXYU+F6A1IZbbJjp+FGxJStCyW7FdaNGctN13l/COU+FHsZSgIKa2mz+npMoxl9PFseTsh0R2QTdeGAwkqreaA8ccxLXitZzzLrRhP/1vjdx/kJlTScJUeDBRm1/J49rs1p9D/EDXzUqOFPOrS28aMaf+6wDg9llXs3pfrMWnV8c3PoiHi5eX5duuPqtGryZkc4ZNYdHlX+nLSWr+lQ747WsqPnuqs6tfbKOk2MPG22O6Lx3/rb3frv/0odf5TW+6O2PKvxd2tU+/kbtXXHDe6egXpdvWWVGs4Z1/Chw3r678dV86kGrWrfG5MImVLjzTcq/e6Inj40rNHci3rBBhS39Kj3L9Zq+dIa5U0gcfjQ08r+Uqq9dJXu2j37xMf6JhNQ2OEje//cqEYGbUBh3pP/s1d3XWeCBPP+lrwnt3SZ78Jy/86euaxbybj6/1/7Gdbrc9dWeV+F++6X8ocB/bqW00gooIj/7qeU2VKe5GzXjQYUVnp1OLnV1d+w05LDAeBMSC6ocGOmHtsz4Y3bmktv1oQIpllqWFHcebvx3fzo0chYrst9yI/qaHBUFIwFm0DBHjEPBts96DdL6Yw5Cgs/niuvu7AYKvhJmmbdpeYoutet1zToN2wm4GkONZb2yMsLXMLbLGzXNK5fDuXJBw12w0q/h8atW3LUV/CHWnqRuXp7UqOxR+U1Spmd9uC9N2vD1i513duutq88rtEPzF+WZXSTWyvz9bvN86vxcgY6b25T+71m3a0bdPNXH9XoeyYouKpVd1/vVnZS509p+Lsb1Nbeaba7Rbc+MqIpU157cZ1G923QrV55u26992mvl6P291bqWu+egRrV/Pqwtra0mYCjS51fvVVt++w2zPtxU6d57aVq8sP67i1b1LljqzZ8pUs/0Q26e21GtWebI97vtenmr2xV145Ota9v0dZD5hHPz+iObevcvadX85GcHv+KfR7m/n/arvvNe1m/5U5d+9ka6VX/ORbekz/drWy+xuzk7lbnFf7957LudMb/4TXve53+XPDJVKmdbcXveuE7bXsJgrpW3MEXvvtez0Txu787a1+pea1fDAXg2/r8dQs5Gu5SVt+71RZ9/JJeSwALSWJBRTBmWjbUsX/cHBdFBD0H0fFVd+RfkjgW7Li9BimmyzT6eGWCJE3bLRvuwjWNXVkA0qFme+QVt82dg2anY65r6wsNa/CaUxqd4TkYNzeo3r7bb47rMb+kzNRLT6s7nGtxrF9jr5nrs03A4RVcq1u+YI+MzZH6X0dyBn5xv+4/6oUEalwV2dG9NqJHwsMUD+b8IZL8iI48GCp//ud6zb7Gmho/kCuY0sjBrpLHG3/wAQ3b53bxZbo5shPO514wgUTImmvVaD+DsSPqfiT0eMbwjsMaec88pNkJ3enKpvXamPpLgrJ6rVveYMIesyN8rPQ52vdv3/P28ep1WYsNfeay7gwOuO/1BQ2FgK9qxQXxZXXNfffN7n/QJnGGhjr62x/yv/up2sKBQ+vLLpiIDvMF9T1chyseRABYaBILKvyuVNMkPRPZuQY9DaFGpuL0ThdAhBPHgl6G6HaDHXql8mLAEgy1ZDUY7UF4edI7qioIelu8IZzifH7/4oY3Qg1rxdcc5xPmaN9cTZcUl3/zFbcUGNf7v7XX56nuOnt9uS7yji5f089jxvGzI/7Rc8rs6EpMvaOsWyzx9qSOuMXpjSu3zy0WZPXzcfto9booMmLwzlv/6JYc97lOmW/Cnds71VlySStlX+M55n2dRQ/BlAnKSsOSlS5onDKBSXTbnWrxvw6qu+B/Mf/PZd2ZmO+OCYZsDfKzTKpYXBAfrWvB7IzsYEyuQ7/GJ+11nerdcFf/frMtm69RVk+aC/WjIO7xASxICQUVQW9A6fisxzUoxTyDmCEOpzwgqLzduPFgqywnY7qjJPfcAkEAM61Cd3HwOmKClTgXpGbc+bzz9pNuKcoEJB93iyegYiDz2/cjO+gTU3OeW3Cm3isNYYLPtWbpcq26blXkcrXS3odwnlKf9Vab1tT777ilQDBmX6vGsm2by+f9nIcaEwzObd2ZvKMpGwyFgsxqFRfER+tasM7os9Pt+IMp2Tb50gQQZQmgReUHBjFtA4AFJ6GgophMGT3K8RuvmMTLsrnxrVrh9ceGG5+glyGa2BXs0CuVhwIWL3CIbyyDIKL0CKp0PLnsEgxzxA3VTOeNvDk+XljO+6gNk6aUf8O/XcmRX/mBwOSz345/T71L/OyCmeU0aTtMPhjVo7HbdRevm34u687kPNV8xFxVfdJhEJiXnqOlUlAer0ONXp6R/1pbe9a5pORQjpO7+PkX4fpWqa4CWIiSCSoqntgmCBRCDVqldbc1+w1VuPGJGTrxVNqhx5T7gUNKtZf4twvW9Gill5Q2u4bVP51xaPZHWQ/MDN6c8oKKVJ0fyJyYF/Sa7YZOpXW5NxxSKtN4kfec8m+M+gWJKXZ7F92gBjut03y2k//VL6lk3DxpLzH005erfK7Eneo9OKRDB3t1tyuZm39U3u7Hzq5XQ9lzNO/JvT/S0E8P6UdddkbLXNadifn8zzFXH9iwqprFBfxz29F37POHNILevqA3MNsbzXEK8jLCAYz/+ORTAItDIkFF+bBFoFJPQ+m63u8pBNPYwoGC23GXBSCzLg+O0swzCWeu21MGu67b8Bhy94v2fnb6XPi3EPyuXj/T/UjhaLq8B2YGB0Y1bnZA+kT9SST2PalHfmYHLGqVub1DJakMl27W5hV2lz2pkcOVUkFPVEqNXy59vOXb1ipj39uxrA7MdJ6GB49oxO7Ml67UPevD+R7mvdjVrEazc6755egJ7nTM4//MfW43dera8NTUS+/W5qvMe3J2XmPP/sQUzGXdGQQBrwngkn63ExUXxMcE3/HffT+Y9meE5HSk5FwdKTVcVaxRXp0K8iliDgzK2wYAC1EiQUVZHkNgmnwGO5c9SO7yTsCT9aeihY/8gx13dOiiUhBTXh4ENXnlS5IvXeM3Nlh6UqNghof5a3NhXZegaWeEhLrF/ddc2qU8vcc0+ktzdf5F+v2T+DGq7Lfu0+DYlGqWNqvrQJ967u1U5669OvA3a9Vgds6Tz/frvifcygnyH2+vdm3v1K7vH1CXCQJrpnIa/F53fBJoiX51/9B+viY4+bNeHfj+LnVu71LPvr26a7mJTOx2HrzvhPM7sjvv994TXbxK93w//J7cqIYa+9EV35O5rDudoFco91JVhxTxdSUuKI/97gcBRWmvRPeP3bTRzKbCerEJmpZ7LL++z48f0QNw4hIIKmLyGJzWqxq8BqWkQdvZVpj37vPHZQdl1y0NTCrtuCuNB5eVu6Am90yLWtz8+UA+uztm7Lxf7S3muYy5m463bsmU0RMZJx7XQ97RYL0+t658EGD2htW9vlOPDuc0lUor07RKq5ab9+69nIb3f1tbvtafSPJlKXtGzcMa/0hay69bpeWX2t/WGNaj95odzSxPNz7+SLs2dD2qYbNDTzXYhM2rlfl0jfJz3E48+55s0XcPjWrS7NqC96R2alKjh76rDSZwLL4nc1m3knr9r8vMZ/jBqLIPJf9uJymursQH5f53v7RuGjaYjua77G9Xi5uOXWTrsT3Xh1kMJ6/uHAnVkbkE4QDmowRP040ZLblTvT+4XY2Th9X+J12zOMJHVbI/rf6dVar7+x/ouq8+5ApPD+omgGpzik7TjRkde0CDL0xKF2d0S+Ssl5g//J9WH9fwj05vQAEA1Y6g4jT7SW+/svlaZf5V+Pc8MG/YX5rN1CqffVyd/NIsAJQgqDjdjvlJi1PLmtVB0tq80/q1ZjW8l9VD3wnnIwAALHIqgHmEugmg2pBTAQAAEkdQAQAAEkFQAQAAEkFQAQAAEkFQAQAAEkFQAQAAEkFQAQAAEkFQAQAAElHx5FcAAACzEZz8ijNqAvMIdRNAteGMmgAAIHEEFQAAIBEEFQAAIBEEFQAAIBEEFQAAIBEEFQAAIBEEFQAAIBEEFQAAIBEEFQAAIBEEFQAAIBEEFQAAIBGn4Lc/OtS3T2pb3+1uA0jKidXNVvUMbFIm5W7OIJ/drZb2fncLAKZ36n77Y02PBoaaVTeRcwUAzry0amcZUFgTrxNQADgxiQYVrVc1yLZdNEpANelWW1OTmkKX3dm89xfbKxEut5e2nd6fAGDOEg0q0nU2pMhr8mX/NoDqFNTV0Wc5AACQnISCig71DQ2pealdTimzZUhDAz1qtTe39WloaEA9a4Jl8zfvth3ntct95t6lWnsGvPX6trmCgDe8Yu8TXNx2AcxBq+pr7fWExvd7BUWujnl1L1Tf7O2OfRXqnKvXAz1ejQ8J6njxUr4OgIUkmaBiTb3q3GLB5LjsMVDHZWnzv2m8LjENz2q7bORHdXS/G+fNTyqagRHX4+EFGlsy3vBKkR/AlAUfAKZRue75Q5im7skEFIX6ltPIzsqBSOuFfu0vGfb0ApLy5NBUZpOG9kUPIwAsFMkEFfvb1dKbNU2RMTboj816sz9cQ5Sv00oTUOQOunHblnb1u0AkP3rUCz6KgvvYwMMvsUdCm7zWKafB0Nhvk3vM9BddrwiAmW1rNGGF4QL/MD+glxq+mJEK+RZt6g4CkbERs1zKv48NPPzbXs+lC0gKdd677JaXyrF0JT2MwAKVXE7FJbV+I/JiuMlxDVEqpQnTuJQkgLn1y5I616xQg/1DocFrVc8XbRNoAwrbuIWYYObImLlO1fqNJIAZBT0LpXXVCnojTAUcjUwrDQ4CymZ2dajRDnuGej1ae1Z69dEGFKVJn/1qf8aulVLtJX4JgIUlsaDCb6giSZrBsEg+q8FIRrk/LBKT1OmCjULjFQQZpplqDo3NBhc/j6NO9Rz5ALNSOaE6mHqa05HIeSoqzuwK6njoIGCFX2GVXl1eX4Mh0LoL6VsEFqKEggrXkISHLKyg9+KZ9pmHOJzo+GzQmE0vJuEMQIzKuRGF3ojs4CyGOJyKBwHTY9o5sDAlFFS4I5zIGG3F3ogK6xeCk5jGq3RsNnqJDIsAiBfs9Csmacbt8IODgPL7BHW8bGpqkFtV4cK5MICFKZmgwh3hlI7RVu6NCBLFysZntzX72eIxjVecilNPAcQLehbKEqSn6Y0oy3Ny1vRopTf8OMuewmCKKrM/gAUrmaDCa6iiPRKVeiOKwkdEXoAQTDkN3af/2VGzZbO11aXz4+2ceW9GSEy+BoB4sdM/PZV7IwIlBwH23BTBlNPwffYf1ag3w6O59JwUhfXzyv6YfkVgoUokqPAbKnfSq+BkVhWzxYvCiVw2QMhl/SmiJT0ewQyPwvb9i5+gmdOgnZ5qFwHMaMYkzWkOArxzTLj6Zw8A8qa+2tpd2usRzPAoX9/KHWxRO/lPwIKVSFAR9CZ4gqMW180am5C1s63w2wM+//wTg3In3ok0eN3ri79VUOCN2ZJLAcyem/45XZJm3EGAPQ/NwXB5XtneJrW87k/lLqvjpn4H55Ap8us4uRTAwnYKfvocwKlC3QRQbU7dT58DAIBFi6ACAAAkgqACAAAkgqACAAAkgqACAAAkgqACAAAkgqACAAAkgqACAAAkgqACAAAkgqACAAAkgqACAAAkgqACAAAkouIPigEAAMxG8INi/EopMI9QNwFUG36lFAAAJI6gAgAAJIKgAgAAJIKgAgAAJIKgAgAAJIKgAgAAJIKgAgAAJIKgAgAAJIKgAgAAJIKgAgAAJIKgAgAAJCL5oGJbn4aGhgqXgZ5W94fZ6dhn79enDncbQBI61Beql/GXAfWscavPidv2PmotsNglHFSYxmV12i1beY0+2++WZ6NV9bXmKj+pnF8AIAlr6lXnFiub0Ph+tzgXbtv5CWotsNglG1QEDdfYoJqamsylRe1zaaTWrFBDylxPjmsuoQiAGVxSK1u18tndrm7GXdrU7a89J61XNXjbnnidWgssdskGFa7hyr14Ik2TETR8HPEAieq4zO9BPBU7/nSdV2s1+bJ/G8DilUxQsaZHA3ZM1Q19pFdHx2djxnMHehTNtmi90O+gLW34WtUzMPN9PZF8DnIzAMsNK851x19Wn+JypIJtR4ZOgjZh2vv6/Dyq0IXcDGDeSiaocD0MpVwj4zUuzQpnWnhSGW2K7PT9I56cRnb6t/1gZJMy0Y3H3NdrmEryOay0mk84+QxYKNKq9erQ7HMmWnsGYuqTrXqbIjt9t+2xkeLQiQ1GtmTK2oTy+/oHG81L3c3A0ubKBw4AqloyQcXONjU1DfrJlfmsdhfGZ1vV02Ybl7yyvaXjt4NjduW0GrfZaysmSXNboxeMRMeBo/e1DaDXMBUe210O2i2llPkyRz5YxApJmjbIjvQKFC6h4NscCKyzkXy0PgV1fGljMaCPSdL0h1qidT56X9sD6R9sxNZvc+DQXGgbAMwXyeVUBI3L6NGSJMujfbahKE/YzE3kzf+h7thpkjRTmXUlvQ3d6/3Gp83r0ehQc9AAtrSX3nfnoLL2YWrrOerB4hXbkxiRH9XRQh09qofsDj5an0xYMOlV22LgXzlJ0wTzbeHehm61eUGDSwbd1uz1QNqAoqW99L7dP86alkGqu5BaC8w3Zy1btuxDt1xwzTXX6KmnnnK3Zsl2ea5OK3cw2NkX2aGJsi5Ojz2acQGHu3+0kSm9b2j9gLvf9HIaPMHMdqCanEjdtD15m8wePK5uVmaHJmKGLa1QAO/Xz2i9jNw3JuCv3CaE2Flk66m1QLULt0uJ9VQEXZ4liWAu0aty41Ec441P0nS9Er3+kYt39LNlqGRcNshqnxbnvcAiNtfZGV5+UqWAwir0JlZI0nS9Eru9bkLDy4EaUl9hOKNDjTMFFAazwID5J6GgIq5xMUcrrgehfG68G18NJXeVJ2mG7G9Xi71fEFwsbY5kkpfnbJRcyrpxgcUi2IHPMknTHAj4BwExdcrLUTK1tDBlPCZJM6S/vcW7XxBcpFdHkqbLcjZKL9FhEQDVL6GgIqZxCZ0IK9o4tPas9I6Cikci0STNYBppZEqoDS5cYJGqm7mHwj/iYvYHFrGgHs6yty7oMcwdjOZBmTr5Ra/WhvKgIkmawTTSyJRQG1z4gUVKtZf4ZZX5M0KY/QHMT8kEFcEsjbjuynCmuBGM71qFoY6yJM1+jU/a67SaIw1UkBgWPFb3i/baDouEAxA/KPGOuMaOlCWJAotGkKQ5x7PUpi8rqbWmPgVTu0NDltEkzf3j5q/G0ubQUIfVqhVeBQ8Ckm6NuBkem8L1OzT9PPcMvYvAfJRIUBGbD7G/XUfc1M/wNLYgoCgRcyZNP1gw7Jz1svvndCTo/QhmeJQ8jmsAbfcqiV5YxAo9D7M8y21/+xG/R6Ok3sWcK8Yoz9VwwYLhnwAvcv9QgB/M8Ch5HHduCztcOvuEUgDVJJGgolI+RPf63W6HX+TlV7ix2WDKWGxQEj73RZg3DhueydGv9pbg3BVF3uOQS4FFbq5JmjYwaCskRgf8/Aq/jtWp3htOjE/S9BKrXf0O8+pjOMD38qSi9dt/HHIpgPkruSmlAE456iaAanNKppQCAIDFjaACAAAkgqACAAAkgqACAAAkgqACAAAkgqACAAAkgqACAAAkgqACAAAkgqACAAAkgqACAAAkgqACAAAkgqACAAAkouIPigEAAMxG8INi/EopMI9QNwFUG36lFAAAJI6gAgAAJIKgAgAAJIKgAgAAJIKgAgAAJIKgAgAAJIKgAgAAJIKgAgAAJIKTXwHzyFzr5u/8zu/o4x//uGpqanTWWWe50urx4YcfampqSm+99ZbeffddVwpgPuHkV8AiYAOKCy64QB/96EerMqCw7POyz88+T/t8AcxvBBXAAmV7KOaT+fZ8AZSbJ0FFh/qGhjS0r8PdNiX7zO2hPvMXAHHskMd8Mt+eL4By8yOoWFOvOnOVn8j5t9Wq+lpzlZ9UUAKgVLUOeVQy354vgHLzIqhovapBKXM98Xq/X7BmhRpsweS4XAkAADjD5kVQka6zEUReky/7t3VJrRdkFHsuAFS0sVsPP/ywuXRrgysKbPhLU75nu5rdbQA4GQkGFa3qGRjS0ECPWXLLNg/CXryysODv5TkRrT0D3n36trkCs6431KEJje/3CtR6oR0MCfVcAJiFJbpyO+EDgFMnwaAirVrbfZDKaNPQJmXscsCUresJhxVu3ZiciLJeiWDdsRF1+wVunZxGdvq3AczkuI69elznNjaV9VYAQFKSCyq2NZrdv5PPandTk5rspTdrQgQTVzSsKPZWBImXo0cjORFBAuaojrpeCZI0gWS8OfqKCS2WqGGjK6ioWdv32OGS0OUvy0OR4tDJBnXPsK7VvH1P6TYZdgEWnMSCimBIwgsoWtqLwcL+cU24xQKXE1E2fBGTgEmSJpCQ/75Dz70qLblimp359du15+Hb1PjWkG677Tb/8sMRHb+4KT4IOLdRtz3cJD1Vuu6eyDCLDUBua5RGfujWu+1hjcjetzzPA8D8lVhQ4Q9JSLlnQgGF5XoawkFAx2W2TyM8xOHEJGCSpAkkZ+/oMS8QaKrQW7HhS4069/iIHv63e12J8cQObXyq8v2OmYCiY4+78cTP9Mpxs+pnvlAMQEygcuXFdr2N2vGEK9OgdjxmApBZ9ZwAmC8SCiqCZMqYPAcXBOReDDIiYoY4nPIETJI0gUTtGdKI2enH91ZsUIPZ+R9/5Wdmlx+xZ1QmrNAnPhW91zGNBgFFBc2Zz+jcuPWe+JXeNFdLGuirABaKhIKK8mTKgB8ExCRelg1ftGqFN64RDkxI0gSSNagdz9teh8/oC9e7osD1v6tPuMVKzv3kErc0e0s+ea79X03hfArv0mRKASwkyQQVLkmzfEgiCBSKPQ0V193W7M8YCSdgkqQJJM/rdThXjV+K9BC4noNYLuA4/k+2v2Jujv3Tcfu/hoIcjeglPNQCYF5LJKioPCRReepoeF3v3BSr3dwRkjSBU2yvhuwYyMUNanAlvmN6M5oPEfifP2HCkON6JVs2MDKjwV97gxzkTgCLQCJBRfm5JZyKU0fNfVYXT461KZNSLutPPS3mXsRslyRNIBGDO54zIcQSLbnYFXiCoZFG3RaeFmpnhFyzRHr1uVCi5RwEeRzX7NH26JALgAUlgaBimsTLaE+DtbNNu7M2fAjkNNjUZJozu244MCFJEzh1XG9F1J6O4hTSIPfh9ka9aaeMnvAwhQlWNt6mh0ekxtvDORX2QqABLCRnLVu27EO3XHDNNdfoqaeecrcAVIu51M3PfOYzbmn+eOWVV9wSgPki3C4lNPsDQLX58MOy44WqNt+eL4ByBBXAAjU1NeWW5of59nwBlCOoABaot956yy3ND/Pt+QIoR1ABLFDvvvuu3njjDb3//vtVO7Rgn5d9fvZ52ucLYH4jUROYR6ibAKoNiZoAACBxBBUAACARBBUAACARBBUAACARBBUAACARBBUAACARBBUAACARFc9TAQAAMBvBeSpigwoAAIC5YvgDAAAkgqACAAAkQPr/AVKsHdUGmmPWAAAAAElFTkSuQmCC)"
      ]
    },
    {
      "cell_type": "markdown",
      "metadata": {
        "id": "5dxVhk-6F-Sg"
      },
      "source": [
        "#### Import du module `json`"
      ]
    },
    {
      "cell_type": "code",
      "execution_count": null,
      "metadata": {
        "id": "ZCqmF-2uDa7N"
      },
      "outputs": [],
      "source": [
        "import json\n"
      ]
    },
    {
      "cell_type": "markdown",
      "metadata": {
        "id": "jNnGFhq6ARiN"
      },
      "source": [
        "#### 1. Créer un objet Python à partir d'une chaîne de caractères contenant un document JSON\n",
        "\n",
        "`json.loads(s, *, cls=None, object_hook=None, parse_float=None, parse_int=None, parse_constant=None, object_pairs_hook=None, **kw)`\n",
        "\n",
        "*  Déserialise s (une instance de str, bytes ou bytearray contenant un document JSON) vers un objet Python en utilisant la table de conversion JSON vers Python."
      ]
    },
    {
      "cell_type": "code",
      "execution_count": null,
      "metadata": {
        "colab": {
          "base_uri": "https://localhost:8080/"
        },
        "id": "kiRVObcDg7uj",
        "outputId": "6bdfcbe3-8ffa-4c1c-942f-9fd0a5e148db"
      },
      "outputs": [
        {
          "name": "stdout",
          "output_type": "stream",
          "text": [
            "\n",
            "{\n",
            "    \"results\":[\n",
            "        {\"nom\": \"test_001\",\n",
            "         \"auteur\": \"Max L.\",\n",
            "         \"categorie\": \"fonctionnel\",\n",
            "         \"suites\": [\"smoke\", \"sanity\"],\n",
            "         \"duree\": 5,\n",
            "         \"est_execute\": true\n",
            "        },\n",
            "        {\"nom\": \"test_002\",\n",
            "        \"auteur\": null,\n",
            "         \"categorie\": \"performance\",\n",
            "         \"suites\": [\"sanity\", \"regression\"],\n",
            "         \"duree\": 276,\n",
            "         \"est_execute\": false\n",
            "        },\n",
            "        {\"nom\": \"test_003\",\n",
            "         \"categorie\": \"utilisabilite\",\n",
            "         \"suites\": [\"acceptance\", \"validation\"],\n",
            "         \"duree\": 59,\n",
            "         \"est_execute\": true\n",
            "        }\n",
            "    ]\n",
            "}\n",
            "\n"
          ]
        }
      ],
      "source": [
        "# Cette chaîne de caractères est du code JSON valide\n",
        "tests_str = '''\n",
        "{\n",
        "    \"results\":[\n",
        "        {\"nom\": \"test_001\",\n",
        "         \"auteur\": \"Max L.\",\n",
        "         \"categorie\": \"fonctionnel\",\n",
        "         \"suites\": [\"smoke\", \"sanity\"],\n",
        "         \"duree\": 5,\n",
        "         \"est_execute\": true\n",
        "        },\n",
        "        {\"nom\": \"test_002\",\n",
        "        \"auteur\": null,\n",
        "         \"categorie\": \"performance\",\n",
        "         \"suites\": [\"sanity\", \"regression\"],\n",
        "         \"duree\": 276,\n",
        "         \"est_execute\": false\n",
        "        },\n",
        "        {\"nom\": \"test_003\",\n",
        "         \"categorie\": \"utilisabilite\",\n",
        "         \"suites\": [\"acceptance\", \"validation\"],\n",
        "         \"duree\": 59,\n",
        "         \"est_execute\": true\n",
        "        }\n",
        "    ]\n",
        "}\n",
        "'''\n",
        "\n",
        "print(tests_str)\n"
      ]
    },
    {
      "cell_type": "code",
      "execution_count": null,
      "metadata": {
        "colab": {
          "base_uri": "https://localhost:8080/"
        },
        "id": "2v7SuFlWDNhb",
        "outputId": "da04853b-c72a-439c-91f7-79ec059d3f8a"
      },
      "outputs": [
        {
          "name": "stdout",
          "output_type": "stream",
          "text": [
            "<class 'dict'> \n",
            "\n",
            "\n",
            "{'results': [{'nom': 'test_001', 'auteur': 'Max L.', 'categorie': 'fonctionnel', 'suites': ['smoke', 'sanity'], 'duree': 5, 'est_execute': True}, {'nom': 'test_002', 'auteur': None, 'categorie': 'performance', 'suites': ['sanity', 'regression'], 'duree': 276, 'est_execute': False}, {'nom': 'test_003', 'categorie': 'utilisabilite', 'suites': ['acceptance', 'validation'], 'duree': 59, 'est_execute': True}]}\n"
          ]
        }
      ],
      "source": [
        "resultats_de_tests = json.loads(tests_str)\n",
        "\n",
        "print(type(resultats_de_tests), \"\\n\\n\")\n",
        "\n",
        "print(resultats_de_tests)\n"
      ]
    },
    {
      "cell_type": "code",
      "execution_count": null,
      "metadata": {
        "colab": {
          "base_uri": "https://localhost:8080/"
        },
        "id": "5KjXvxJ2E4RX",
        "outputId": "8594af09-8931-4f82-8299-f54c0482eebc"
      },
      "outputs": [
        {
          "name": "stdout",
          "output_type": "stream",
          "text": [
            "<class 'dict'> \n",
            "\n",
            "\n",
            "{'results': [{'nom': 'test_001', 'auteur': 'Max L.', 'categorie': 'fonctionnel', 'suites': ['smoke', 'sanity'], 'duree': 5, 'est_execute': True}, {'nom': 'test_002', 'auteur': None, 'categorie': 'performance', 'suites': ['sanity', 'regression'], 'duree': 276, 'est_execute': False}, {'nom': 'test_003', 'categorie': 'utilisabilite', 'suites': ['acceptance', 'validation'], 'duree': 59, 'est_execute': True}]}\n"
          ]
        }
      ],
      "source": [
        "resultats_de_tests = json.loads(tests_str)\n",
        "\n",
        "print(type(resultats_de_tests), \"\\n\\n\")\n",
        "\n",
        "print(resultats_de_tests)\n"
      ]
    },
    {
      "cell_type": "markdown",
      "metadata": {
        "id": "MdhHSnIWxMV2"
      },
      "source": [
        "#### 2. Créer une chaîne de caractères contenant un document JSON à partir d'un object Python\n",
        "\n",
        "`json.dumps(obj, *, skipkeys=False, ensure_ascii=True, check_circular=True, allow_nan=True, cls=None, indent=None, separators=None, default=None, sort_keys=False, **kw)`\n",
        "\n",
        "*  Sérialise obj en une str formatée en JSON, en utilisant la table de conversion Python à JSON"
      ]
    },
    {
      "cell_type": "code",
      "execution_count": null,
      "metadata": {
        "colab": {
          "base_uri": "https://localhost:8080/"
        },
        "id": "Ye1AoeFYDlGC",
        "outputId": "de367abb-ec5d-49f1-d4fd-18725df88e91"
      },
      "outputs": [
        {
          "name": "stdout",
          "output_type": "stream",
          "text": [
            "{\"nom\": \"John\", \"prenom\": \"Doe\", \"age\": 35, \"marrie\": true, \"endette\": false, \"localite\": [\"Paris\", \"France\"], \"animal_domestique\": null, \"comptes\": [{\"courant\": 1449.5}, {\"epargne\": 9378.0}]}\n"
          ]
        }
      ],
      "source": [
        "import json\n",
        "\n",
        "client = {\n",
        "  \"nom\": \"John\",\n",
        "  \"prenom\": \"Doe\",\n",
        "  \"age\": 35,\n",
        "  \"marrie\": True,\n",
        "  \"endette\": False,\n",
        "  \"localite\": (\"Paris\",\"France\"),\n",
        "  \"animal_domestique\": None,\n",
        "  \"comptes\": [\n",
        "    {\"courant\": 1449.50},\n",
        "    {\"epargne\": 9378.00}\n",
        "  ]\n",
        "}\n",
        "\n",
        "print(json.dumps(client))"
      ]
    },
    {
      "cell_type": "code",
      "execution_count": null,
      "metadata": {
        "colab": {
          "base_uri": "https://localhost:8080/"
        },
        "id": "IXcpzpx1zGxj",
        "outputId": "aa01d876-e5bc-4f02-bfad-ebb00246b7db"
      },
      "outputs": [
        {
          "name": "stdout",
          "output_type": "stream",
          "text": [
            "{\n",
            "  \"nom\": \"John\",\n",
            "  \"prenom\": \"Doe\",\n",
            "  \"age\": 35,\n",
            "  \"marrie\": true,\n",
            "  \"endette\": false,\n",
            "  \"localite\": [\n",
            "    \"Paris\",\n",
            "    \"France\"\n",
            "  ],\n",
            "  \"animal_domestique\": null,\n",
            "  \"comptes\": [\n",
            "    {\n",
            "      \"courant\": 1449.5\n",
            "    },\n",
            "    {\n",
            "      \"epargne\": 9378.0\n",
            "    }\n",
            "  ]\n",
            "}\n"
          ]
        }
      ],
      "source": [
        "print(json.dumps(client, indent=2))\n"
      ]
    },
    {
      "cell_type": "code",
      "execution_count": null,
      "metadata": {
        "colab": {
          "base_uri": "https://localhost:8080/"
        },
        "id": "ZoxBrknDzRAf",
        "outputId": "317e6b3e-c012-4165-a696-552a31d37fd0"
      },
      "outputs": [
        {
          "name": "stdout",
          "output_type": "stream",
          "text": [
            "{\n",
            "  \"age\": 35,\n",
            "  \"animal_domestique\": null,\n",
            "  \"comptes\": [\n",
            "    {\n",
            "      \"courant\": 1449.5\n",
            "    },\n",
            "    {\n",
            "      \"epargne\": 9378.0\n",
            "    }\n",
            "  ],\n",
            "  \"endette\": false,\n",
            "  \"localite\": [\n",
            "    \"Paris\",\n",
            "    \"France\"\n",
            "  ],\n",
            "  \"marrie\": true,\n",
            "  \"nom\": \"John\",\n",
            "  \"prenom\": \"Doe\"\n",
            "}\n"
          ]
        }
      ],
      "source": [
        "print(json.dumps(client, indent=2, sort_keys=True))\n"
      ]
    },
    {
      "cell_type": "code",
      "execution_count": null,
      "metadata": {
        "colab": {
          "base_uri": "https://localhost:8080/"
        },
        "id": "f8A2PRZfzCCb",
        "outputId": "7f2db90b-315c-439f-b2c3-a26409e154a2"
      },
      "outputs": [
        {
          "name": "stdout",
          "output_type": "stream",
          "text": [
            "{\n",
            "  \"nom\" = \"John\".+. \n",
            "  \"prenom\" = \"Doe\".+. \n",
            "  \"age\" = 35.+. \n",
            "  \"marrie\" = true.+. \n",
            "  \"endette\" = false.+. \n",
            "  \"localite\" = [\n",
            "    \"Paris\".+. \n",
            "    \"France\"\n",
            "  ].+. \n",
            "  \"animal_domestique\" = null.+. \n",
            "  \"comptes\" = [\n",
            "    {\n",
            "      \"courant\" = 1449.5\n",
            "    }.+. \n",
            "    {\n",
            "      \"epargne\" = 9378.0\n",
            "    }\n",
            "  ]\n",
            "}\n"
          ]
        }
      ],
      "source": [
        "print(json.dumps(client, indent=2, separators=(\".+. \", \" = \")))\n"
      ]
    },
    {
      "cell_type": "markdown",
      "metadata": {
        "id": "zLrIWxN10FjK"
      },
      "source": [
        "#### 3. Créer une chaîne de caractères contenant un document JSON à partir d'un object Python\n",
        "\n",
        "`json.dump(obj, fp, *, skipkeys=False, ensure_ascii=True, check_circular=True, allow_nan=True, cls=None, indent=None, separators=None, default=None, sort_keys=False, **kw)`\n",
        "\n",
        "*  Sérialise obj en un flux JSON dans fp (un objet fichier prenant en charge .write()), en utilisant la table de conversion Python à JSON"
      ]
    },
    {
      "cell_type": "code",
      "execution_count": null,
      "metadata": {
        "id": "2UMVfZfTz4yJ"
      },
      "outputs": [],
      "source": [
        "with open('data.json', 'w') as fp:\n",
        "    json.dump(client, fp, indent=2)\n"
      ]
    },
    {
      "cell_type": "markdown",
      "metadata": {
        "id": "c6upz1S21wQi"
      },
      "source": [
        "#### 4. Créer une chaîne de caractères contenant un document JSON à partir d'un object Python\n",
        "\n",
        "`json.load(fp, *, cls=None, object_hook=None, parse_float=None, parse_int=None, parse_constant=None, object_pairs_hook=None, **kw)`\n",
        "\n",
        "*  Déserialise fp (un text file ou un binary file supportant .read() et contenant un document JSON) vers un objet Python, en utilisant la table de conversion de JSON à Python"
      ]
    },
    {
      "cell_type": "code",
      "execution_count": null,
      "metadata": {
        "colab": {
          "base_uri": "https://localhost:8080/"
        },
        "id": "ip7WiHa21a5A",
        "outputId": "51d71fa9-d77b-4e91-df20-c212068c78a5"
      },
      "outputs": [
        {
          "name": "stdout",
          "output_type": "stream",
          "text": [
            "{'nom': 'John', 'prenom': 'Doe', 'age': 35, 'marrie': True, 'endette': False, 'localite': ['Paris', 'France'], 'animal_domestique': None, 'comptes': [{'courant': 1449.5}, {'epargne': 9378.0}]}\n"
          ]
        }
      ],
      "source": [
        "with open('data.json', 'r') as fp:\n",
        "    client_data = json.load(fp)\n",
        "\n",
        "print(client_data)"
      ]
    },
    {
      "cell_type": "markdown",
      "metadata": {
        "id": "eQWVfOzV4TeK"
      },
      "source": [
        "#### Exercice\n",
        "\n",
        "Utiliser la chaîne de caractère \"tests_str\".\n",
        "\n",
        "\n",
        "1. Créer un objet Python `data_sans_auteur` à partir de \"tests_str\"   \n",
        "2. 'Supprimer la paire `'auteur:valeur'` de cet objet, car elle n'est pas présente dans chaque élément\n",
        "3.   Sauvegarder le nouvel objet Python dans un fichier `data_sans_auteur.json`\n",
        "4. Lisez vérifiez que le contenu du fichier  `data_sans_auteur.json` est correct"
      ]
    },
    {
      "cell_type": "code",
      "execution_count": null,
      "metadata": {
        "id": "X4TCN4ve3hLT"
      },
      "outputs": [],
      "source": [
        "# Votre solution ici\n"
      ]
    }
  ],
  "metadata": {
    "colab": {
      "provenance": [],
      "authorship_tag": "ABX9TyNmV5RNEsfXSErYJe3L+wt6"
    },
    "kernelspec": {
      "display_name": "Python 3",
      "name": "python3"
    },
    "language_info": {
      "name": "python"
    }
  },
  "nbformat": 4,
  "nbformat_minor": 0
}
