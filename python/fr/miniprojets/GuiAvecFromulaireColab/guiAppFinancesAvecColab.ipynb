{
  "nbformat": 4,
  "nbformat_minor": 0,
  "metadata": {
    "colab": {
      "provenance": [],
      "authorship_tag": "ABX9TyOtoS9T+Kd48keN2a4LQgj6"
    },
    "kernelspec": {
      "name": "python3",
      "display_name": "Python 3"
    },
    "language_info": {
      "name": "python"
    }
  },
  "cells": [
    {
      "cell_type": "markdown",
      "source": [
        "# Créer une Interface utilisateur avec Google colab pour notre app financière\n",
        "Créer une interface utilisateur simple avec des buttons, slider, checkbox, etc.\n",
        "\n",
        "##### Instructeur: Joan Mouba, Dr.-Ing. en Informatique\n",
        "L'utilisation de ce fichier est sous la license GPL.\n",
        "Vous pouvez utiliser, modifier et redistribuer librement.\n",
        "\n",
        "Nous serons reconnaissant si vous mentionnez l'auteur et/ou la référence source du Notebook:\n",
        "[https://bit.ly/3skCdlO](https://colab.research.google.com/drive/1ajrZfkap-L-ZnXBkfKyQmSdi5tgBHZ-Z?usp=sharing)\n",
        "\n",
        "LinkedIn: [![LinkedIn](https://img.shields.io/badge/LinkedIn-0077B5?style=for-the-badge&style=social&logo=linkedin&logoColor=white)](https://www.linkedin.com/in/joanmouba/) - https://www.linkedin.com/in/joanmouba/\n",
        "\n",
        "Web: [https://epignosiscenter.com](https://epignosiscenter.com)\n",
        "\n",
        "Courriel: joan.mouba@epignosiscenter.com\n",
        "\n",
        "Canal Youtube: [![YouTube](https://img.shields.io/youtube/channel/subscribers/UCjqWeYtZ82DBan-vhFzkTog)](https://www.youtube.com/channel/UCjqWeYtZ82DBan-vhFzkTog)\n",
        "\n",
        "Répertoire GitHub:[![GitHub](https://img.shields.io/badge/GitHub-100000?style=for-the-badge&style=social&logo=github&logoColor=white)](https://github.com/JoanMouba)  \n",
        "\n",
        "Merci de me laisser un avis sur Google: [Je laisse mon avis sur la formation](https://g.page/r/CRFbaxcVvqo9EAI/review)\n",
        "\n",
        "Dernière mise à jour: 12.11.2023 par [Joan Mouba](https://g.page/r/CRFbaxcVvqo9EAI/review)"
      ],
      "metadata": {
        "id": "EyGf5O7Nfrdg"
      }
    },
    {
      "cell_type": "markdown",
      "source": [
        "### Programme\n",
        "\n",
        "\n",
        "1.   Qu'est-ce qu'une interface utilisateur (UI)\n",
        "2.   Qu'est-ce que Colab?\n",
        "3.   Créer une interface pour l'App finances personnelles dans Colab\n",
        "\n"
      ],
      "metadata": {
        "id": "HAZQNkXzFdwi"
      }
    },
    {
      "cell_type": "markdown",
      "source": [
        "### 1. Qu'est ce qu'une interface utilisateur ?\n",
        "Une interface qui facilite l'accèsaux fonctionnalités complexes d'une application à un utilisateur non-expert.\n",
        "Elle met généralement à disposition des buttons et d'autres éléments visuels configurables facilement"
      ],
      "metadata": {
        "id": "-C82EpDrEumv"
      }
    },
    {
      "cell_type": "markdown",
      "source": [
        "### 2. Qu'est ce que Google Colab\n",
        "C'est une plateforme ou un environnement en ligne, mis à disposition par Google, sans installation requise, et qui permet de créer des Notebooks ou fichiers exécutables."
      ],
      "metadata": {
        "id": "AqOtO76bFWWe"
      }
    },
    {
      "cell_type": "markdown",
      "source": [
        "### 3. Créer une interface utilisateur pour App dans Colab\n",
        "Nous allons créer une interface pour notre application financière.\n",
        "\n",
        "\n",
        "*   Titre ou nom de votre application\n",
        "*   Des éléments graphiques approprié pour les informations personnelles, les revenus, les dépenses, les ratios et des éventuels graphiques\n",
        "\n"
      ],
      "metadata": {
        "id": "9EbAfuh9Fnzm"
      }
    },
    {
      "cell_type": "markdown",
      "source": [
        "## Votre proposition de solution ici\n",
        "\n"
      ],
      "metadata": {
        "id": "5qHCFJp5viNp"
      }
    },
    {
      "cell_type": "code",
      "source": [
        "# Votre Code\n"
      ],
      "metadata": {
        "id": "YVpGXal8vmMP"
      },
      "execution_count": 1,
      "outputs": []
    },
    {
      "cell_type": "markdown",
      "source": [
        "## Ma proposition de solution"
      ],
      "metadata": {
        "id": "RInztosKvpRc"
      }
    },
    {
      "cell_type": "code",
      "source": [
        "#@title Analyzer Financier {run: \"auto\"}\n",
        "prenom_et_nom = 'Alfred Chen'  #@param {type:\"string\"}\n",
        "date_entretien = '2023-12-06' #@param {type:\"date\"}\n",
        "devise = 'INR' #@param ['USD', 'INR', 'XAF']\n",
        "taux_conversion = {'EUR':1.00,'USD':1.07, 'INR':89.85, 'XAF':655}\n",
        "\n",
        "# Revenus\n",
        "salaire_mr = 4000   #@param {type:\"raw\"}\n",
        "salaire_mme = 3300  #@param {type:\"raw\"}\n",
        "\n",
        "# Depenses\n",
        "loyer = 900     #@param {type:\"slider\", min:700, max:1500, step:100}\n",
        "nourriture = 300 #@param [200, 300, 400, 500]{type:'raw'}\n",
        "\n",
        "investissement = 'Aucun' #@param ['compte_epargne', 'bourse', 'immobilier', 'startup']{allow-input: true}\n",
        "\n",
        "# Situation\n",
        "possedeEpargne = False #@param {type:\"boolean\"}\n",
        "endette = None #@param {type:\"boolean\"}\n",
        "dettes = 10000 #@param {type:\"number\"}\n",
        "\n",
        "##### ANALYSE #####\n",
        "revenus_total = (salaire_mr + salaire_mme) * taux_conversion[devise]\n",
        "depenses_total = (loyer + nourriture)  * taux_conversion[devise]\n",
        "cash_flow = (revenus_total - depenses_total)  * taux_conversion[devise]\n",
        "\n",
        "# Ratios\n",
        "taux_endettement = dettes / revenus_total * 100\n",
        "\n",
        "# Récapitulatif\n",
        "print(f\"{prenom_et_nom} est passé le {date_entretien} à Joan Financing Inc.\")\n",
        "print(f\"Son foyer gagne {revenus_total}  {devise} et dépense {depenses_total} {devise}\")\n",
        "print(f\"Ils dégagent un cash-flow de {cash_flow}  {devise}\")\n",
        "print(f\"Si le cash-flow est positif ils pourraient songer à investir s'ils ne le font pas déjà.\")\n",
        "print(f\"Leur taux d'endettement est de {round(taux_endettement)}%\")\n",
        "\n",
        "if possedeEpargne:\n",
        "    print(f\"Super, vous arrivez à épargner\")\n",
        "else:\n",
        "    print(f\"Si le covid revient, vous risquez de galérer\")\n",
        "\n",
        "# Style de vie\n",
        "if taux_endettement < 30:\n",
        "    print(f\"{prenom_et_nom} est ok côté dettes\")\n",
        "elif taux_endettement < 40:\n",
        "    print(f\"{prenom_et_nom} est surendetté\")\n",
        "else:\n",
        "    print(f\"{prenom_et_nom} est en faillite financière personnelle.\")\n",
        "\n"
      ],
      "metadata": {
        "id": "avqCi91QHLX0",
        "colab": {
          "base_uri": "https://localhost:8080/"
        },
        "outputId": "59bf5938-1acc-40a7-8572-a563b11c1c92"
      },
      "execution_count": null,
      "outputs": [
        {
          "output_type": "stream",
          "name": "stdout",
          "text": [
            "Alfred Chen est passé le 2023-12-06 à Joan Financing Inc.\n",
            "Son foyer gagne 655905.0  INR et dépense 107820.0 INR\n",
            "Ils dégagent un cash-flow de 49245437.25  INR\n",
            "Si le cash-flow est positif ils pourraient songer à investir s'ils ne le font pas déjà.\n",
            "Leur taux d'endettement est de 2%\n",
            "Si le covid revient, vous risquez de galérer\n",
            "Alfred Chen est ok côté dettes\n"
          ]
        }
      ]
    },
    {
      "cell_type": "code",
      "source": [
        "# @title # PROSPERO APP\n",
        "\n",
        "# @markdown ## Identité du Client\n",
        "nom = \"Blanc\"                       # @param {type: \"string\"}\n",
        "prenom = \"Christophe\"               # @param {type: \"string\"}\n",
        "date_de_naissance = '1985-07-23'    # @param {type: \"date\"}\n",
        "statut = \"Marrié\"                   # @param [\"Célibataire\", \"Marrié\"]\n",
        "email = \"christophe.blanc@gmail.com\" # @param {type: \"string\"}\n",
        "# @markdown ---\n",
        "\n",
        "# @markdown ## REVENUS\n",
        "devise = \"EUR\"                      # @param [\"EUR\", \"USD\", \"INR\", \"XAF\"]\n",
        "salaire_mensuel = 2500              # @param {type: \"number\"}\n",
        "revenus_immobilier = 234.50         # @param {type: \"number\"}\n",
        "revenus_bourse = 367.40             # @param {type: \"number\"}\n",
        "# @markdown ---\n",
        "\n",
        "# @markdown ## DÉPENSES\n",
        "loyer = 1100                        # @param {type: \"number\"}\n",
        "nourriture = 1400                    # @param {type: \"number\"}\n",
        "transport = 1367.40                  # @param {type: \"number\"}\n",
        "credits_conso = 379                 # @param {type: \"number\"}\n",
        "# @markdown ---\n",
        "\n",
        "# @markdown ## SITUATION\n",
        "epargne = 3000                      # @param {type: \"integer\"}\n",
        "dettes = 14000                       # @param {type: \"integer\"}\n",
        "assurance_vie = False               # @param {type: \"boolean\"}\n",
        "# @markdown ---\n",
        "\n",
        "# @markdown ## ANALYSE\n",
        "revenus_total = (salaire_mensuel\n",
        "                + revenus_immobilier\n",
        "                + revenus_bourse)\n",
        "\n",
        "depenses_total = (loyer\n",
        "                + nourriture\n",
        "                + transport\n",
        "                + credits_conso)\n",
        "\n",
        "cash_flow = revenus_total - depenses_total\n",
        "taux_endettement = dettes / revenus_total * 100\n",
        "taux_epargne = epargne / revenus_total * 100\n",
        "ratio_loyer = loyer / revenus_total * 100\n",
        "\n",
        "# @markdown ---\n",
        "\n",
        "# RÉSULTATS\n",
        "print(f'\\n{prenom} {nom} né le {date_de_naissance} est {statut}.')\n",
        "print(f'Ses revenus sont de {revenus_total} {devise}, et il dépense')\n",
        "print(f'{depenses_total} {devise} par mois')\n",
        "print(f'Il dégage un Cash-flow de {round(cash_flow)} {devise}.')\n",
        "\n",
        "if (cash_flow > 0) and (dettes > 0):\n",
        "        print(f\"\\nIl peut songer à augmenter ses mensualités de remboursement de dette\")\n",
        "        print(f\"Contactez nos conseillez pour une stratégie de désendettement au 01.23.45.56.00\")\n",
        "elif (cash_flow > 0) and (dettes == 0):\n",
        "        print(f\"\\nIl peut songer à investir ce cash-flow de {cash_flow} {devise}\")\n",
        "        print(f\"Contactez nos conseillez pour une stratégie d'investissement au 01.23.45.56.00\")\n",
        "else:\n",
        "    print(f\"\\nIl vit au-dessus de ses moyens, et doit réduire son train de vie de  {round(0-cash_flow)} {devise}\")\n",
        "    print(f\"Contactez nos conseillez pour une stratégie de réduction de coûts et d'augmentation de revenus au 01.23.45.56.00\")\n",
        "\n",
        "print(f\"\\nUn E-Mail contenant le rapport vous a été envoyé à {email}.\\n\\n\")\n",
        "\n",
        "# GRAPHES\n",
        "import matplotlib.pyplot as plt\n",
        "data = [\n",
        "    revenus_total,\n",
        "    depenses_total,\n",
        "    cash_flow,\n",
        "    epargne,\n",
        "    dettes\n",
        "]\n",
        "\n",
        "\n",
        "plt.bar(['Revenus', 'Dépenses', 'Cash-flow', 'Épargne', 'Dettes'], data)\n",
        "\n",
        "plt.title(f\"Résultats financiers pour {prenom} {nom}\")\n",
        "plt.ylabel(f'{devise}')\n"
      ],
      "metadata": {
        "colab": {
          "base_uri": "https://localhost:8080/",
          "height": 681
        },
        "id": "uilya-qrz3pv",
        "outputId": "0eb3bd9a-334d-4bf0-ec72-96b20f7a6431"
      },
      "execution_count": null,
      "outputs": [
        {
          "output_type": "stream",
          "name": "stdout",
          "text": [
            "\n",
            "Christophe Blanc né le 1985-07-23 est Marrié.\n",
            "Ses revenus sont de 3101.9 EUR, et il dépense\n",
            "4246.4 EUR par mois\n",
            "Il dégage un Cash-flow de -1144 EUR.\n",
            "\n",
            "Il vit au-dessus de ses moyens, et doit réduire son train de vie de  1144 EUR\n",
            "Contactez nos conseillez pour une stratégie de réduction de coûts et d'augmentation de revenus au 01.23.45.56.00\n",
            "\n",
            "Un E-Mail contenant le rapport vous a été envoyé à christophe.blanc@gmail.com.\n",
            "\n",
            "\n"
          ]
        },
        {
          "output_type": "execute_result",
          "data": {
            "text/plain": [
              "Text(0, 0.5, 'EUR')"
            ]
          },
          "metadata": {},
          "execution_count": 1
        },
        {
          "output_type": "display_data",
          "data": {
            "text/plain": [
              "<Figure size 640x480 with 1 Axes>"
            ],
            "image/png": "[encoded data removed]"
          },
          "metadata": {}
        }
      ]
    },
    {
      "cell_type": "code",
      "source": [],
      "metadata": {
        "id": "n0apwQ869HRl"
      },
      "execution_count": null,
      "outputs": []
    }
  ]
}
