{
  "nbformat": 4,
  "nbformat_minor": 0,
  "metadata": {
    "colab": {
      "provenance": [],
      "collapsed_sections": [
        "D5hR4ARMpR_P",
        "PB6vqmNfIEYc",
        "tnB0-sn4dOt5",
        "fOlFwifG-pvE",
        "yLlaDqeImZ3p",
        "wWk9oDUbuneG"
      ],
      "authorship_tag": "ABX9TyOTN+LjHepPc8+Bv7+fAd6i"
    },
    "kernelspec": {
      "name": "python3",
      "display_name": "Python 3"
    },
    "language_info": {
      "name": "python"
    }
  },
  "cells": [
    {
      "cell_type": "markdown",
      "source": [
        "# **Les Opérateurs Python**\n",
        "##### Instructeur: Joan Mouba, Dr.-Ing. en Informatique\n",
        "L'utilisation de ce fichier est sous la license GPL.\n",
        "Vous pouvez utiliser, modifier et redistribuer librement.\n",
        "\n",
        "Nous serons reconnaissant si vous mentionnez l'auteur et/ou la référence source du Notebook:\n",
        "[https://bit.ly/3skCdlO](https://colab.research.google.com/drive/1ajrZfkap-L-ZnXBkfKyQmSdi5tgBHZ-Z?usp=sharing)\n",
        "\n",
        "LinkedIn: [![LinkedIn](https://img.shields.io/badge/LinkedIn-0077B5?style=for-the-badge&style=social&logo=linkedin&logoColor=white)](https://www.linkedin.com/in/joanmouba/) - https://www.linkedin.com/in/joanmouba/\n",
        "\n",
        "Web: [https://epignosiscenter.com](https://epignosiscenter.com)\n",
        "\n",
        "Courriel: joan.mouba@epignosiscenter.com\n",
        "\n",
        "Canal Youtube: [![YouTube](https://img.shields.io/youtube/channel/subscribers/UCjqWeYtZ82DBan-vhFzkTog)](https://www.youtube.com/channel/UCjqWeYtZ82DBan-vhFzkTog)\n",
        "\n",
        "Répertoire GitHub:[![GitHub](https://img.shields.io/badge/GitHub-100000?style=for-the-badge&style=social&logo=github&logoColor=white)](https://github.com/JoanMouba)  \n",
        "\n",
        "Merci de me laisser un avis sur Google: [Je laisse mon avis sur la formation](https://g.page/r/CRFbaxcVvqo9EAI/review)\n",
        "\n",
        "Dernière mise à jour: 05.12.2023 par [Joan Mouba](https://g.page/r/CRFbaxcVvqo9EAI/review)"
      ],
      "metadata": {
        "id": "KpcOq9u_fJIA"
      }
    },
    {
      "cell_type": "markdown",
      "source": [
        "## Agenda\n",
        "\n"
      ],
      "metadata": {
        "id": "BSqhp_f1Ddps"
      }
    },
    {
      "cell_type": "markdown",
      "source": [
        "### Programme\n",
        "\n",
        "\n",
        "1.   Opérateurs arithmétiques (+,-,*,/,%,//,**)\n",
        "2.   Opérateurs d'assignation (=, +=, -=, *=, /=, %=, //=, **=)\n",
        "3.   Opérateurs de comparaison (==, <, >, <=, >=, <>, !=)\n",
        "4.   Opérateurs logiques (and, or, not)\n",
        "5.   Opérateurs d'identité (is, is not)\n",
        "6.   Opérateurs d'appartenance (in, not in)\n",
        "7.   Opérateurs bit à bit (<<, >>)\n",
        "8.   Expressions et précédence\n"
      ],
      "metadata": {
        "id": "oij44Nk-DsKo"
      }
    },
    {
      "cell_type": "markdown",
      "source": [
        "## 1. Opérateurs arithmétiques\n",
        "\n"
      ],
      "metadata": {
        "id": "D5hR4ARMpR_P"
      }
    },
    {
      "cell_type": "code",
      "source": [
        "# Definir 2 variables\n",
        "op1 = 30\n",
        "op2 = 20\n"
      ],
      "metadata": {
        "id": "m5m8Rci97RHk"
      },
      "execution_count": null,
      "outputs": []
    },
    {
      "cell_type": "markdown",
      "source": [
        "#### Addition (+)\n",
        "somme = op1 + op2\n"
      ],
      "metadata": {
        "id": "Vd-UPK_T4Xkd"
      }
    },
    {
      "cell_type": "code",
      "source": [
        "# Editer la somme et afficher le résultat\n",
        "somme = op1 + op2\n",
        "print(somme)"
      ],
      "metadata": {
        "id": "AlSYufWp4jYh",
        "colab": {
          "base_uri": "https://localhost:8080/"
        },
        "outputId": "968243eb-ee14-40b0-dc6a-6f13c3919ec7"
      },
      "execution_count": null,
      "outputs": [
        {
          "output_type": "stream",
          "name": "stdout",
          "text": [
            "50\n"
          ]
        }
      ]
    },
    {
      "cell_type": "markdown",
      "source": [
        "#### Soustraction (-)\n",
        "difference = op1 - op2"
      ],
      "metadata": {
        "id": "EvhqGtYS4ueQ"
      }
    },
    {
      "cell_type": "code",
      "source": [
        "# Editer la différence et afficher le résultat\n"
      ],
      "metadata": {
        "id": "s4ndNhNH6jTf"
      },
      "execution_count": null,
      "outputs": []
    },
    {
      "cell_type": "markdown",
      "source": [
        "#### Multiplication (*)\n",
        "produit = op1 * op2"
      ],
      "metadata": {
        "id": "FziUgTmS6sra"
      }
    },
    {
      "cell_type": "code",
      "source": [
        "# Editer le produit et afficher le résultat\n"
      ],
      "metadata": {
        "id": "Ljcyu1-e6zmO"
      },
      "execution_count": null,
      "outputs": []
    },
    {
      "cell_type": "markdown",
      "source": [
        "#### Division (/)\n",
        "quotient = op1 / op2"
      ],
      "metadata": {
        "id": "xjNc2ktg62Yy"
      }
    },
    {
      "cell_type": "code",
      "source": [
        "# Editer le quotient et afficher le résultat\n"
      ],
      "metadata": {
        "id": "hf5AxES869xY"
      },
      "execution_count": null,
      "outputs": []
    },
    {
      "cell_type": "markdown",
      "source": [
        "#### Modulo (%)\n",
        "reste = op1 / op2"
      ],
      "metadata": {
        "id": "BqnIh3pn7Da2"
      }
    },
    {
      "cell_type": "code",
      "source": [
        "# Editer le reste de la division entière et afficher le résultat\n"
      ],
      "metadata": {
        "id": "EhKXJMBK7y5k"
      },
      "execution_count": null,
      "outputs": []
    },
    {
      "cell_type": "markdown",
      "source": [
        "#### Division entière (//)\n",
        "quotient_entier = op1 // op2"
      ],
      "metadata": {
        "id": "mUBpqlAl76XU"
      }
    },
    {
      "cell_type": "code",
      "source": [
        "# Editer le quotient de la division entière et afficher le résultat\n"
      ],
      "metadata": {
        "id": "mrnDBNQz8DZI"
      },
      "execution_count": null,
      "outputs": []
    },
    {
      "cell_type": "markdown",
      "source": [
        "#### Puissance (**)\n",
        "puissance = op1 ** 5"
      ],
      "metadata": {
        "id": "tgQO987b8Iyp"
      }
    },
    {
      "cell_type": "code",
      "source": [
        "# Editer le puissance et afficher le résultat\n"
      ],
      "metadata": {
        "id": "rjO6sJ6E8QPn"
      },
      "execution_count": null,
      "outputs": []
    },
    {
      "cell_type": "markdown",
      "source": [
        "#### Exercice\n",
        "*   Christophe a effectué les opérations suivantes sur son compte après avoir observé un solde de 238.76 euros:\n",
        "\n",
        "\n",
        "1.   Achat 2 paquets d'oeufs à 2.99 euro chacun par carte de débit\n",
        "2.   Achat de 5 baguettes en offre à 3.50 euros par carte de débit\n",
        "3.   Achat d'une paire de chaussure à 24.90 euros par carte de débit\n",
        "4.   Remboursement d'une dette de 55.98 euros par virement bancaire instantané\n",
        "5.   Aumône à un mendiant de 2 euros en espèces\n",
        "\n",
        "\n",
        "* Combien Christophe a-t-il dépensé au total ?  \n",
        "\n",
        "* Combien reste-t-il à Christophe dans son compte bancaire ?  \n",
        "\n",
        "* Christophe peut-il aller au cinéma avec ses copains? L'entrée, les pop.corns, la boisson coûteraient 32 euros  \n",
        "\n",
        "* Combien de glaces de 3 euros pourraient-il s'offrir avec ce qui lui reste dans le compte bancaire ?\n"
      ],
      "metadata": {
        "id": "lw5JIUa2D6xv"
      }
    },
    {
      "cell_type": "markdown",
      "source": [
        "##### Solution"
      ],
      "metadata": {
        "id": "3wQMxyUTE6rG"
      }
    },
    {
      "cell_type": "code",
      "source": [
        "# Editer votre solution ici\n"
      ],
      "metadata": {
        "id": "kKSJNL7MAMRw"
      },
      "execution_count": null,
      "outputs": []
    },
    {
      "cell_type": "markdown",
      "source": [
        "## 2. Opérateurs d'assignation\n"
      ],
      "metadata": {
        "id": "PB6vqmNfIEYc"
      }
    },
    {
      "cell_type": "markdown",
      "source": [
        "#### Assignation simple (=)\n",
        "\n",
        "\n",
        "\n",
        "```\n",
        "op1 = 30\n",
        "op2 = 20\n",
        "```\n",
        "\n",
        "\n"
      ],
      "metadata": {
        "id": "sY7tWcmuBvo6"
      }
    },
    {
      "cell_type": "code",
      "source": [
        "# Editer la somme et afficher le résultat\n"
      ],
      "metadata": {
        "id": "-UPjmiVeCZ8g"
      },
      "execution_count": null,
      "outputs": []
    },
    {
      "cell_type": "markdown",
      "source": [
        "#### Addition et assignation (+=)\n",
        "\n",
        "\n",
        "\n",
        "```\n",
        "op1 += op2\n",
        "```\n",
        "\n",
        "\n"
      ],
      "metadata": {
        "id": "1uXEHBHmCze5"
      }
    },
    {
      "cell_type": "code",
      "source": [
        "# Editer la somme et afficher les deux opérateurs\n",
        "# Que constatez-vous?\n"
      ],
      "metadata": {
        "id": "UDifW8VDDC3p"
      },
      "execution_count": null,
      "outputs": []
    },
    {
      "cell_type": "markdown",
      "source": [
        "#### Soustraction et assignation (-=)\n",
        "\n",
        "\n",
        "\n",
        "```\n",
        "op1 -= op2\n",
        "```\n",
        "\n",
        "\n"
      ],
      "metadata": {
        "id": "w1ozYCXFDTP_"
      }
    },
    {
      "cell_type": "code",
      "source": [
        "# Editer la différence et afficher les deux opérateurs\n",
        "# Que constatez-vous?\n"
      ],
      "metadata": {
        "id": "mfVLRXUuDZTW"
      },
      "execution_count": null,
      "outputs": []
    },
    {
      "cell_type": "markdown",
      "source": [
        "#### Produit et assignation (*=)\n",
        "\n",
        "\n",
        "\n",
        "```\n",
        "op1 *= op2\n",
        "```\n",
        "\n",
        "\n"
      ],
      "metadata": {
        "id": "3Tm-8eOWDgoL"
      }
    },
    {
      "cell_type": "code",
      "source": [
        "# Editer le produit et afficher les deux opérateurs\n",
        "# Que constatez-vous?\n"
      ],
      "metadata": {
        "id": "KurUG6EuDp1f"
      },
      "execution_count": null,
      "outputs": []
    },
    {
      "cell_type": "markdown",
      "source": [
        "#### Division et assignation (/=)\n",
        "\n",
        "\n",
        "\n",
        "```\n",
        "op1 /= op2\n",
        "```\n",
        "\n",
        "\n"
      ],
      "metadata": {
        "id": "M_cSds5dFsRi"
      }
    },
    {
      "cell_type": "code",
      "source": [
        "# Editer le quotient et afficher les deux opérateurs\n",
        "# Que constatez-vous?\n"
      ],
      "metadata": {
        "id": "ttEYf6fqF7Tx"
      },
      "execution_count": null,
      "outputs": []
    },
    {
      "cell_type": "markdown",
      "source": [
        "#### Modulo et assignation (%=)\n",
        "\n",
        "\n",
        "\n",
        "```\n",
        "op1 %= op2\n",
        "```\n",
        "\n",
        "\n"
      ],
      "metadata": {
        "id": "3DLpfcbbGEp4"
      }
    },
    {
      "cell_type": "code",
      "source": [
        "# Editer le reste de la division entière et afficher les deux opérateurs\n",
        "# Que constatez-vous?\n"
      ],
      "metadata": {
        "id": "dGjYtXDBGKAa"
      },
      "execution_count": null,
      "outputs": []
    },
    {
      "cell_type": "markdown",
      "source": [
        "#### Division entière et assignation (//=)\n",
        "\n",
        "\n",
        "\n",
        "```\n",
        "op1 //= op2\n",
        "```\n",
        "\n",
        "\n"
      ],
      "metadata": {
        "id": "1BUJNBGuGWgC"
      }
    },
    {
      "cell_type": "code",
      "source": [
        "# Editer le reste de la division entière et afficher les deux opérateurs\n",
        "# Que constatez-vous?\n"
      ],
      "metadata": {
        "id": "W_W8xqZ9GfM7"
      },
      "execution_count": null,
      "outputs": []
    },
    {
      "cell_type": "markdown",
      "source": [
        "#### Puissance et assignation (**=)\n",
        "\n",
        "\n",
        "\n",
        "```\n",
        "op1 **= op2\n",
        "```\n",
        "\n",
        "\n"
      ],
      "metadata": {
        "id": "fezH-9YHG80L"
      }
    },
    {
      "cell_type": "code",
      "source": [
        "# Editer le reste de la division entière et afficher les deux opérateurs\n",
        "# Que constatez-vous?\n"
      ],
      "metadata": {
        "id": "v3yMKMjeHIT_"
      },
      "execution_count": null,
      "outputs": []
    },
    {
      "cell_type": "markdown",
      "source": [],
      "metadata": {
        "id": "x0OORMOlCqt3"
      }
    },
    {
      "cell_type": "markdown",
      "source": [
        "## 3. Opérateurs de comparaison"
      ],
      "metadata": {
        "id": "tnB0-sn4dOt5"
      }
    },
    {
      "cell_type": "code",
      "source": [
        "#### Définir 2 variables\n",
        "op1 = 20\n",
        "op2= 30\n"
      ],
      "metadata": {
        "id": "d4LaKzykKSb_"
      },
      "execution_count": null,
      "outputs": []
    },
    {
      "cell_type": "markdown",
      "source": [
        "#### Inférieur (<)\n",
        "\n",
        "\n",
        "\n",
        "```\n",
        "print(op1 < op2)\n",
        "print(op1 < op1)\n",
        "```\n",
        "\n",
        "\n"
      ],
      "metadata": {
        "id": "qxFXcBK1Kfeb"
      }
    },
    {
      "cell_type": "code",
      "source": [
        "# Editer la comparaison et afficher le résultat\n"
      ],
      "metadata": {
        "id": "T0WYTbPXKwKJ"
      },
      "execution_count": null,
      "outputs": []
    },
    {
      "cell_type": "markdown",
      "source": [
        "#### Inférieur ou égal (<=)\n",
        "\n",
        "\n",
        "\n",
        "```\n",
        "print(op1 <= op2)\n",
        "print(op1 <= op1)\n",
        "```\n",
        "\n",
        "\n"
      ],
      "metadata": {
        "id": "9ExlV0UyK3KZ"
      }
    },
    {
      "cell_type": "code",
      "source": [
        "# Editer la comparaison et afficher le résultat\n"
      ],
      "metadata": {
        "id": "Cv3L-lpcK_xM"
      },
      "execution_count": null,
      "outputs": []
    },
    {
      "cell_type": "markdown",
      "source": [
        "#### Supérieur (>)\n",
        "\n",
        "\n",
        "\n",
        "```\n",
        "print(op1 > op2)\n",
        "print(op1 > op1)\n",
        "```\n",
        "\n",
        "\n"
      ],
      "metadata": {
        "id": "oovaO6C2LCe-"
      }
    },
    {
      "cell_type": "code",
      "source": [
        "# Editer la comparaison et afficher le résultat\n"
      ],
      "metadata": {
        "id": "vW2KCOiLLKrF"
      },
      "execution_count": null,
      "outputs": []
    },
    {
      "cell_type": "markdown",
      "source": [
        "#### Supérieur ou égal (>=)\n",
        "\n",
        "\n",
        "\n",
        "```\n",
        "print(op1 >= op2)\n",
        "print(op1 > op1)\n",
        "```\n",
        "\n",
        "\n"
      ],
      "metadata": {
        "id": "beBJa0ETLPEg"
      }
    },
    {
      "cell_type": "code",
      "source": [
        "# Editer la comparaison et afficher le résultat\n"
      ],
      "metadata": {
        "id": "IgnME2pNLUJX"
      },
      "execution_count": null,
      "outputs": []
    },
    {
      "cell_type": "markdown",
      "source": [
        "#### Egal (==)\n",
        "\n",
        "\n",
        "\n",
        "```\n",
        "print(op1 == op2)\n",
        "print(op1 == op1)\n",
        "```\n",
        "\n",
        "\n"
      ],
      "metadata": {
        "id": "OfurVEtILcAA"
      }
    },
    {
      "cell_type": "code",
      "source": [
        "# Editer la comparaison et afficher le résultat\n"
      ],
      "metadata": {
        "id": "iLdFBdZBLhnV"
      },
      "execution_count": null,
      "outputs": []
    },
    {
      "cell_type": "markdown",
      "source": [
        "#### Différent (=!, <>)\n",
        "\n",
        "\n",
        "\n",
        "```\n",
        "print(op1 =! op2)\n",
        "print(op1 <> op1)\n",
        "```\n",
        "\n",
        "\n"
      ],
      "metadata": {
        "id": "iyCkaReHLs7I"
      }
    },
    {
      "cell_type": "code",
      "source": [
        "# Editer la comparaison et afficher le résultat\n"
      ],
      "metadata": {
        "id": "GHT3tOUiL2qx"
      },
      "execution_count": null,
      "outputs": []
    },
    {
      "cell_type": "markdown",
      "source": [
        "## 4. Opérateurs logiques\n"
      ],
      "metadata": {
        "id": "fOlFwifG-pvE"
      }
    },
    {
      "cell_type": "markdown",
      "source": [
        "##### Tables de vérité\n",
        "\n",
        "![operateurs_logiques.png](data:image/png;base64,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)"
      ],
      "metadata": {
        "id": "Q151Urjekiun"
      }
    },
    {
      "cell_type": "code",
      "source": [
        "#### Définir 4 variables\n",
        "op1 = 20\n",
        "op2 = 30\n",
        "op3 = 10\n",
        "op4 = 75\n"
      ],
      "metadata": {
        "id": "rtjcLxw-dWLQ"
      },
      "execution_count": null,
      "outputs": []
    },
    {
      "cell_type": "markdown",
      "source": [
        "#### ET Logique (and, &&)\n",
        "\n",
        "\n",
        "\n",
        "```\n",
        "print((op1 < op2) and (op3 < op4))\n",
        "print((op1 > op2) and (op3 < op4))\n",
        "```\n",
        "\n",
        "\n"
      ],
      "metadata": {
        "id": "FQnmtHWDiebf"
      }
    },
    {
      "cell_type": "code",
      "source": [
        "# Editer la logique et afficher le résultat\n"
      ],
      "metadata": {
        "id": "NbGk8o65jF-m"
      },
      "execution_count": null,
      "outputs": []
    },
    {
      "cell_type": "markdown",
      "source": [
        "#### OU Logique (or, ||)\n",
        "\n",
        "\n",
        "\n",
        "```\n",
        "print((op1 < op2) or (op3 < op4))\n",
        "print((op1 > op2) or (op3 < op4))\n",
        "```\n",
        "\n",
        "\n"
      ],
      "metadata": {
        "id": "DPQaYaFNYJf9"
      }
    },
    {
      "cell_type": "code",
      "source": [
        "# Editer la logique et afficher le résultat\n"
      ],
      "metadata": {
        "id": "9sKm_2ERjaLG"
      },
      "execution_count": null,
      "outputs": []
    },
    {
      "cell_type": "markdown",
      "source": [
        "#### NON Logique (not, !)\n",
        "\n",
        "\n",
        "\n",
        "```\n",
        "print(not (op1 < op2))\n",
        "print(not (op1 == op2))\n",
        "```\n",
        "\n",
        "\n"
      ],
      "metadata": {
        "id": "QAtfARX6jfIj"
      }
    },
    {
      "cell_type": "code",
      "source": [
        "# Editer la logique et afficher le résultat\n"
      ],
      "metadata": {
        "id": "YUod2B3vjwNb"
      },
      "execution_count": null,
      "outputs": []
    },
    {
      "cell_type": "markdown",
      "source": [
        "## 5. Opérateurs d'identité\n"
      ],
      "metadata": {
        "id": "yLlaDqeImZ3p"
      }
    },
    {
      "cell_type": "code",
      "source": [
        "#### Définir 2 variables\n",
        "op1 = 20\n",
        "op2 = 30\n"
      ],
      "metadata": {
        "id": "FkpFwJRemjep"
      },
      "execution_count": null,
      "outputs": []
    },
    {
      "cell_type": "markdown",
      "source": [
        "#### Même identité (is)\n",
        "\n",
        "\n",
        "\n",
        "```\n",
        "print(op1 is op2)\n",
        "print(op1 is op1)\n",
        "```\n",
        "\n",
        "\n"
      ],
      "metadata": {
        "id": "By6aviFOmtD3"
      }
    },
    {
      "cell_type": "code",
      "source": [
        "# Editer la comparaison et afficher le résultat\n"
      ],
      "metadata": {
        "id": "AHNvFUOGnA_R"
      },
      "execution_count": null,
      "outputs": []
    },
    {
      "cell_type": "markdown",
      "source": [
        "#### Différente identité (is not)\n",
        "\n",
        "\n",
        "\n",
        "```\n",
        "print(op1 is not op2)\n",
        "print(op1 is not op1)\n",
        "```\n",
        "\n",
        "\n"
      ],
      "metadata": {
        "id": "9a2-QgQTnFdi"
      }
    },
    {
      "cell_type": "code",
      "source": [
        "# Editer la comparaison et afficher le résultat\n"
      ],
      "metadata": {
        "id": "QxfH5EpjnLOn"
      },
      "execution_count": null,
      "outputs": []
    },
    {
      "cell_type": "markdown",
      "source": [
        "#### Exercise\n",
        "Définir les variables suivantes et appliquer les 2 opérateurs d'appartenance sur les catégories d'éléments:\n",
        "\n",
        "\n",
        "\n",
        "```\n",
        "x = 30\n",
        "y = 30\n",
        "nom1 = \"Alpha\"\n",
        "nom2 = \"Alpha\"\n",
        "list_pays1 = ['France', 'Pologne', 'Togo', 'Maroc', 'Vietnam']\n",
        "list_pays2 = ['France', 'Pologne', 'Togo', 'Maroc', 'Vietnam']\n",
        "```\n",
        "\n",
        "\n",
        "\n",
        "1.   Afficher les id de chaque variable\n",
        "2.   Appliquer 'is' à x et y\n",
        "3.   Appliquer 'is not' à nom1 et nom2\n",
        "4.   Appliquer 'is' à liste_pays1 et liste_pays2\n",
        "\n",
        "\n",
        "\n",
        "\n"
      ],
      "metadata": {
        "id": "bh4I6d4Hlnwk"
      }
    },
    {
      "cell_type": "markdown",
      "source": [
        "##### Solution"
      ],
      "metadata": {
        "id": "0XJ_OVnZpBNf"
      }
    },
    {
      "cell_type": "code",
      "source": [
        "# Veuillez typer et exécuter votre code solution ici\n",
        "# Commentez vos résultats\n"
      ],
      "metadata": {
        "id": "BlKuZjednaUa"
      },
      "execution_count": null,
      "outputs": []
    },
    {
      "cell_type": "markdown",
      "source": [
        "## 6. Opérateurs d'appartenance\n"
      ],
      "metadata": {
        "id": "wWk9oDUbuneG"
      }
    },
    {
      "cell_type": "code",
      "source": [
        "#### Définir 2 variables\n",
        "nombres = [20, 30, 40, 50]\n",
        "x = 30\n"
      ],
      "metadata": {
        "id": "HW_4pCgsutjD"
      },
      "execution_count": null,
      "outputs": []
    },
    {
      "cell_type": "markdown",
      "source": [
        "#### Appartient à la séquence (in)\n",
        "\n",
        "\n",
        "\n",
        "```\n",
        "print(x in nombres)\n",
        "```\n",
        "\n",
        "\n"
      ],
      "metadata": {
        "id": "g0VlZh-3u7e7"
      }
    },
    {
      "cell_type": "code",
      "source": [
        "# Editer le test et afficher le résultat\n"
      ],
      "metadata": {
        "id": "oxQj9CuZvS0X"
      },
      "execution_count": null,
      "outputs": []
    },
    {
      "cell_type": "markdown",
      "source": [
        "#### N'appartient à la séquence (not in)\n",
        "\n",
        "\n",
        "\n",
        "```\n",
        "print(x not in nombres)\n",
        "```\n",
        "\n",
        "\n"
      ],
      "metadata": {
        "id": "EhNyVmpyvG6u"
      }
    },
    {
      "cell_type": "code",
      "source": [
        "# Editer le test et afficher le résultat\n"
      ],
      "metadata": {
        "id": "-OzEvvFDvWnW"
      },
      "execution_count": null,
      "outputs": []
    },
    {
      "cell_type": "markdown",
      "source": [
        "## 7. Opérateurs bit à bit\n"
      ],
      "metadata": {
        "id": "l5bjgNFia3oP"
      }
    },
    {
      "cell_type": "code",
      "source": [
        "#### Définir 2 variables\n",
        "x = 35\n",
        "y = 10\n"
      ],
      "metadata": {
        "id": "9rGlF-FevXdS"
      },
      "execution_count": null,
      "outputs": []
    },
    {
      "cell_type": "code",
      "source": [
        "#### utiliser la fonction 'bin(number)' pour afficher leur représentation binaire\n",
        "# print(bin(x))\n",
        "# print(bin(y))\n"
      ],
      "metadata": {
        "id": "fsiUZuDmbF2q"
      },
      "execution_count": null,
      "outputs": []
    },
    {
      "cell_type": "markdown",
      "source": [
        "#### ET bit à bit (&)\n",
        "\n",
        "\n",
        "\n",
        "```\n",
        "print(bin(x & y))\n",
        "# utiliser (int('code_binaire), 2) pour identifier le résultat numérique\n",
        "```\n",
        "\n",
        "\n"
      ],
      "metadata": {
        "id": "4r7mLVY9eGLx"
      }
    },
    {
      "cell_type": "code",
      "source": [
        "# Editer la transformation et afficher le résultat\n"
      ],
      "metadata": {
        "id": "7nmCeOVBdKiJ"
      },
      "execution_count": null,
      "outputs": []
    },
    {
      "cell_type": "markdown",
      "source": [
        "#### OU bit à bit (|)\n",
        "\n",
        "\n",
        "\n",
        "```\n",
        "print(bin(x | y))\n",
        "# utiliser (int('code_binaire), 2) pour identifier le résultat numérique\n",
        "```\n",
        "\n",
        "\n"
      ],
      "metadata": {
        "id": "yEA1it93eS4j"
      }
    },
    {
      "cell_type": "code",
      "source": [
        "# Editer la transformation et afficher le résultat\n"
      ],
      "metadata": {
        "id": "WsrltvALfr6f"
      },
      "execution_count": null,
      "outputs": []
    },
    {
      "cell_type": "markdown",
      "source": [
        "#### XOR bit à bit (^)\n",
        "\n",
        "\n",
        "\n",
        "```\n",
        "print(bin(x ^ y))\n",
        "# utiliser (int('code_binaire), 2) pour identifier le résultat numérique\n",
        "```\n",
        "\n",
        "\n"
      ],
      "metadata": {
        "id": "b1W2-tFTfu_t"
      }
    },
    {
      "cell_type": "code",
      "source": [
        "# Editer la transformation et afficher le résultat\n"
      ],
      "metadata": {
        "id": "6BoqhZpkf1wX"
      },
      "execution_count": null,
      "outputs": []
    },
    {
      "cell_type": "markdown",
      "source": [
        "#### Complément (~)\n",
        "\n",
        "\n",
        "\n",
        "```\n",
        "print(bin(~x))\n",
        "# utiliser (int('code_binaire), 2) pour identifier le résultat numérique\n",
        "```\n",
        "\n",
        "\n"
      ],
      "metadata": {
        "id": "IO9hfZ_wf47J"
      }
    },
    {
      "cell_type": "code",
      "source": [
        "# Editer la transformation et afficher le résultat\n"
      ],
      "metadata": {
        "id": "-RIv-f6DeLva"
      },
      "execution_count": null,
      "outputs": []
    },
    {
      "cell_type": "markdown",
      "source": [
        "#### Décalage à gauche (<<)\n",
        "\n",
        "\n",
        "\n",
        "```\n",
        "print(bin(x << 1))\n",
        "# utiliser (int('code_binaire), 2) pour identifier le résultat numérique\n",
        "```\n",
        "\n",
        "\n"
      ],
      "metadata": {
        "id": "dwmVVmqtgHgE"
      }
    },
    {
      "cell_type": "code",
      "source": [
        "# Editer la transformation et afficher le résultat\n"
      ],
      "metadata": {
        "id": "4T_GwcSVgQ9A"
      },
      "execution_count": null,
      "outputs": []
    },
    {
      "cell_type": "markdown",
      "source": [
        "#### Décalage à droite (>>)\n",
        "\n",
        "\n",
        "\n",
        "```\n",
        "print(bin(x >> 1))\n",
        "# utiliser (int('code_binaire), 2) pour identifier le résultat numérique\n",
        "```\n",
        "\n",
        "\n"
      ],
      "metadata": {
        "id": "-rb6mgGLgTVM"
      }
    },
    {
      "cell_type": "code",
      "source": [
        "# Editer la transformation et afficher le résultat\n"
      ],
      "metadata": {
        "id": "3EGXzOChhvgj"
      },
      "execution_count": null,
      "outputs": []
    },
    {
      "cell_type": "markdown",
      "source": [
        "## 8. Précédence des opérateurs\n"
      ],
      "metadata": {
        "id": "sz5OQqCciIsY"
      }
    },
    {
      "cell_type": "markdown",
      "source": [
        "#### Table de précédence\n",
        "\n",
        "![precedence_table.png](data:image/png;base64,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)"
      ],
      "metadata": {
        "id": "HiFPmw7Ul-HS"
      }
    },
    {
      "cell_type": "markdown",
      "source": [
        "#### Exercice\n",
        "Quelles sont les valeurs des expressions suivantes? Expliquer.\n",
        "\n",
        "\n",
        "*   A = 2**(3**2)\n",
        "*   B = (2**3)**2\n",
        "*   C = 2**3**2\n",
        "*   D = 8/4/2\n",
        "*   E = 8/(4/2)\n",
        "\n",
        "\n"
      ],
      "metadata": {
        "id": "anz8fsz4j5lD"
      }
    },
    {
      "cell_type": "code",
      "source": [
        "# Editer votre solution ici\n"
      ],
      "metadata": {
        "id": "v8DpQkBwkcJH"
      },
      "execution_count": null,
      "outputs": []
    },
    {
      "cell_type": "markdown",
      "source": [
        "#### Exercice\n",
        "Lequel des opérateurs suivants a son associativité de gauche à droite ou de droite à gauche.\n",
        "\n",
        "\n",
        "*   +\n",
        "*   `**`\n",
        "*   %  \n",
        "*   not\n",
        "*   ~\n",
        "*   is\n",
        "\n",
        "\n",
        "\n"
      ],
      "metadata": {
        "id": "OGGl7zOUkmBH"
      }
    },
    {
      "cell_type": "code",
      "source": [
        "# Editer votre solution ici\n"
      ],
      "metadata": {
        "id": "1gMFLHzrhvm7"
      },
      "execution_count": null,
      "outputs": []
    }
  ]
}