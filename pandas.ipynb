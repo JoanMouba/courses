{
  "nbformat": 4,
  "nbformat_minor": 0,
  "metadata": {
    "colab": {
      "provenance": [],
      "authorship_tag": "ABX9TyMXrALwMxVnAm4TCwQbrfCF"
    },
    "kernelspec": {
      "name": "python3",
      "display_name": "Python 3"
    },
    "language_info": {
      "name": "python"
    }
  },
  "cells": [
    {
      "cell_type": "markdown",
      "source": [
        "# Pandas\n",
        "\n",
        "Pandas est une librairie (bibliothèque) Python qui permet de faire de l'analyse de données de manière efficace.  \n",
        "documentation Pandas ici : https://pandas.pydata.org/docs\n",
        "\n",
        "\n",
        "##### Instructeur: Joan Mouba, Dr.-Ing. en Informatique\n",
        "L'utilisation de ce fichier est sous la license GPL.\n",
        "Vous pouvez utiliser, modifier et redistribuer librement.\n",
        "\n",
        "Nous serons reconnaissant si vous mentionnez l'auteur et/ou la référence source du Notebook:\n",
        "[https://bit.ly/3vezc7y](https://colab.research.google.com/drive/1lq8oA1MOk78nHjegnM8CycbdoyXi7Mrt?usp=sharing)\n",
        "\n",
        "LinkedIn: [![LinkedIn](https://img.shields.io/badge/LinkedIn-0077B5?style=for-the-badge&style=social&logo=linkedin&logoColor=white)](https://www.linkedin.com/in/joanmouba/) - https://www.linkedin.com/in/joanmouba/\n",
        "\n",
        "Web: [https://epignosiscenter.com](https://epignosiscenter.com)\n",
        "\n",
        "Courriel: joan.mouba@epignosiscenter.com\n",
        "\n",
        "Canal Youtube: [![YouTube](https://img.shields.io/youtube/channel/subscribers/UCjqWeYtZ82DBan-vhFzkTog)](https://www.youtube.com/channel/UCjqWeYtZ82DBan-vhFzkTog)\n",
        "\n",
        "Répertoire GitHub:[![GitHub](https://img.shields.io/badge/GitHub-100000?style=for-the-badge&style=social&logo=github&logoColor=white)](https://github.com/JoanMouba)  \n",
        "\n",
        "Merci de me laisser un avis sur Google: [Je laisse mon avis sur la formation](https://g.page/r/CRFbaxcVvqo9EAI/review)\n",
        "\n",
        "Dernière mise à jour: 25.12.2023 par [Joan Mouba]"
      ],
      "metadata": {
        "id": "pMAsokl6SuMD"
      }
    },
    {
      "cell_type": "markdown",
      "source": [
        "## Installer Pandas\n",
        "La commande pip permet d'installer des modules et des librairies Python non livrées dans l'installation standard."
      ],
      "metadata": {
        "id": "ULS1E0B6O4cF"
      }
    },
    {
      "cell_type": "code",
      "source": [
        "!pip install pandas"
      ],
      "metadata": {
        "colab": {
          "base_uri": "https://localhost:8080/"
        },
        "id": "KP4gbTgEO6rw",
        "outputId": "2af5644f-6969-423b-d8b3-2482544466be"
      },
      "execution_count": null,
      "outputs": [
        {
          "output_type": "stream",
          "name": "stdout",
          "text": [
            "Looking in indexes: https://pypi.org/simple, https://us-python.pkg.dev/colab-wheels/public/simple/\n",
            "Requirement already satisfied: pandas in /usr/local/lib/python3.10/dist-packages (1.5.3)\n",
            "Requirement already satisfied: python-dateutil>=2.8.1 in /usr/local/lib/python3.10/dist-packages (from pandas) (2.8.2)\n",
            "Requirement already satisfied: pytz>=2020.1 in /usr/local/lib/python3.10/dist-packages (from pandas) (2022.7.1)\n",
            "Requirement already satisfied: numpy>=1.21.0 in /usr/local/lib/python3.10/dist-packages (from pandas) (1.22.4)\n",
            "Requirement already satisfied: six>=1.5 in /usr/local/lib/python3.10/dist-packages (from python-dateutil>=2.8.1->pandas) (1.16.0)\n"
          ]
        }
      ]
    },
    {
      "cell_type": "markdown",
      "source": [
        "## Importer la librairie (bibliothèque) Pandas\n",
        "Un module est un fichier Python qui contient des définitions de fonctions, de variables et de classes prêtes à être réutiliser.\n",
        "Une librairie est un ensemble de plusieurs modules."
      ],
      "metadata": {
        "id": "5yvmQQmBS4n1"
      }
    },
    {
      "cell_type": "code",
      "execution_count": null,
      "metadata": {
        "id": "gneImkaeSWXK"
      },
      "outputs": [],
      "source": [
        "import pandas as pd\n"
      ]
    },
    {
      "cell_type": "markdown",
      "source": [
        "## Importer les donnees du fichier .csv dans un DataFrame\n"
      ],
      "metadata": {
        "id": "Z4mvvRX7S2nU"
      }
    },
    {
      "cell_type": "markdown",
      "source": [
        "### Un data frame est une structure bidimensionnelle. Cela signifie que les données sont alignées de façon tabulaire en colonnes et en lignes. Le format de ces structures est comparable aux dictionnaires Python. Les valeurs sont en effet les Séries tandis que les clés sont les noms des colonnes. On peut toute proportion gardée comparer un DataFrame à une feuille excel avec des lignes et des colonnes."
      ],
      "metadata": {
        "id": "-PIXJE6LR22Q"
      }
    },
    {
      "cell_type": "markdown",
      "source": [
        "df = pd.read_csv('donnees_2022_franck.csv', sep=',')"
      ],
      "metadata": {
        "id": "7eiG35Udr0-K"
      }
    },
    {
      "cell_type": "code",
      "source": [
        "# Code ici\n"
      ],
      "metadata": {
        "id": "--rNJTTvSs2k"
      },
      "execution_count": null,
      "outputs": []
    },
    {
      "cell_type": "markdown",
      "source": [
        "## Afficher les données d'un DataFrame"
      ],
      "metadata": {
        "id": "ooNw0olKRevE"
      }
    },
    {
      "cell_type": "markdown",
      "source": [
        "1.  `print(df)`\n",
        "2.  `df`\n"
      ],
      "metadata": {
        "id": "OnIxjqYOr9Sb"
      }
    },
    {
      "cell_type": "code",
      "source": [
        "# Code ici\n"
      ],
      "metadata": {
        "id": "t3VnDQMZTAcs"
      },
      "execution_count": null,
      "outputs": []
    },
    {
      "cell_type": "code",
      "source": [
        "# Affiche les 2 premières lignes du DataFrame\n",
        "# df.head(2)\n"
      ],
      "metadata": {
        "id": "mrU5NE67UCXv"
      },
      "execution_count": null,
      "outputs": []
    },
    {
      "cell_type": "code",
      "source": [
        "# Affiche les 2 dernières lignes du DataFrame\n",
        "# df.tail(2)\n"
      ],
      "metadata": {
        "id": "qtQtfHi9UNLW"
      },
      "execution_count": null,
      "outputs": []
    },
    {
      "cell_type": "code",
      "source": [
        "# Afficher la liste des colonnes\n",
        "# df.columns\n"
      ],
      "metadata": {
        "id": "vdNhQYNCTtYk"
      },
      "execution_count": null,
      "outputs": []
    },
    {
      "cell_type": "markdown",
      "source": [
        "## Selectionner les colonnes d'un DataFrame"
      ],
      "metadata": {
        "id": "OCT_35qoUduP"
      }
    },
    {
      "cell_type": "markdown",
      "source": [
        "### La sélection des données seffectue à l'aide de l'opérateur `[]`"
      ],
      "metadata": {
        "id": "Zwt5afr9UTIY"
      }
    },
    {
      "cell_type": "code",
      "source": [
        "# Récupérer les données de la colonne 'Revenus'\n",
        "# df[\"Revenus\"]\n"
      ],
      "metadata": {
        "id": "5RBH6WZuUD2L"
      },
      "execution_count": null,
      "outputs": []
    },
    {
      "cell_type": "code",
      "source": [
        "# Lorqu'il n'y a pas d'espaces dans le nom de la colonne, une alternative\n",
        "# df.Revenus\n"
      ],
      "metadata": {
        "id": "DRWwko98Us-N"
      },
      "execution_count": null,
      "outputs": []
    },
    {
      "cell_type": "code",
      "source": [
        "# Emplacement de la colonne 'Revenus'\n",
        "# df.columns.get_loc('Revenus')\n"
      ],
      "metadata": {
        "id": "fmVYKiAVVJ0w"
      },
      "execution_count": null,
      "outputs": []
    },
    {
      "cell_type": "code",
      "source": [
        "# Sélectionner plusieurs colonnes et sauvegarder dans une variable\n",
        "# df_mois_revenus = df[[\"Mois\", \"Revenus\"]]\n"
      ],
      "metadata": {
        "id": "vq3xt1PmUnEX"
      },
      "execution_count": null,
      "outputs": []
    },
    {
      "cell_type": "code",
      "source": [
        "# df_mois_revenus\n"
      ],
      "metadata": {
        "id": "FYNQLlMkVFn0"
      },
      "execution_count": null,
      "outputs": []
    },
    {
      "cell_type": "markdown",
      "source": [
        "## Sélectionner les lignes d'un DataFrame"
      ],
      "metadata": {
        "id": "oGTz7_WWWBvc"
      }
    },
    {
      "cell_type": "markdown",
      "source": [
        "Sélectionner les 3 premières lignes, même logique de slicing que les listes\n",
        "```\n",
        "print( df[0:3])\n",
        "\n",
        "print('Alternative')\n",
        "df[:3]\n",
        "```\n",
        "\n"
      ],
      "metadata": {
        "id": "3okYW9mds5pZ"
      }
    },
    {
      "cell_type": "code",
      "source": [
        "# code ici\n"
      ],
      "metadata": {
        "id": "JOIpTJJyWiW8"
      },
      "execution_count": null,
      "outputs": []
    },
    {
      "cell_type": "markdown",
      "source": [
        "Sélectionner les 5 dernières lignes"
      ],
      "metadata": {
        "id": "inYfLTyitJfK"
      }
    },
    {
      "cell_type": "code",
      "source": [
        "# Code ici\n"
      ],
      "metadata": {
        "id": "nZzwuJEsW-sH"
      },
      "execution_count": null,
      "outputs": []
    },
    {
      "cell_type": "code",
      "source": [
        "# Sélectionner une ligne spécifique à partir de l'index\n",
        "# df.iloc[2]\n"
      ],
      "metadata": {
        "id": "4-yf0ZhDXfcS"
      },
      "execution_count": null,
      "outputs": []
    },
    {
      "cell_type": "markdown",
      "source": [
        "## Sélectionner des lignes et des colonnes dans un DataFrame"
      ],
      "metadata": {
        "id": "9GXtV7XnY2Lw"
      }
    },
    {
      "cell_type": "markdown",
      "source": [
        "Sélectionner les lignes d'index 1, 2 de la colonne Dépenses\n",
        "\n",
        "`df[1:3]['Depenses']`"
      ],
      "metadata": {
        "id": "uMsY7nQNtUXf"
      }
    },
    {
      "cell_type": "code",
      "source": [
        "# Code ici\n"
      ],
      "metadata": {
        "id": "lLG4wnnhY6nO"
      },
      "execution_count": null,
      "outputs": []
    },
    {
      "cell_type": "code",
      "source": [
        "# Sélectionner des cellules avec la fonction 'at[]'\n",
        "# df.at[5, 'Revenus']\n"
      ],
      "metadata": {
        "id": "lBa7OV_wZWop"
      },
      "execution_count": null,
      "outputs": []
    },
    {
      "cell_type": "markdown",
      "source": [
        "## Filtrer les données à l'aide de booléens (`True`, `False`)"
      ],
      "metadata": {
        "id": "_T6ghUXkZyaN"
      }
    },
    {
      "cell_type": "code",
      "source": [
        "# Les dépenses supérieures à 3000 euros\n",
        "# df.Depenses > 3000\n"
      ],
      "metadata": {
        "id": "vlOzhkEFafKP"
      },
      "execution_count": null,
      "outputs": []
    },
    {
      "cell_type": "code",
      "source": [
        "# DataFramce ayant des dépenses supérieures à 3000 euros\n",
        "# df[ df.Depenses>3000]\n"
      ],
      "metadata": {
        "id": "8SOzv1hgauKA"
      },
      "execution_count": null,
      "outputs": []
    },
    {
      "cell_type": "markdown",
      "source": [
        "## Combiner les conditions ET (&), OU (|)\n",
        "Filter oùles Revenus et Dpenses supérieurs à 3000 euros\n",
        "`rev_et_dep_sup_3000 = (df[\"Revenus\"]>3000) & (df.Depenses>3000)`\n",
        "\n",
        "`rev_et_dep_sup_3000`\n",
        "\n"
      ],
      "metadata": {
        "id": "B2YBmEystqPJ"
      }
    },
    {
      "cell_type": "code",
      "source": [
        "# Code ici\n"
      ],
      "metadata": {
        "id": "nnqO9qfXf_mx"
      },
      "execution_count": null,
      "outputs": []
    },
    {
      "cell_type": "code",
      "source": [
        "# df[rev_et_dep_sup_3000]\n"
      ],
      "metadata": {
        "id": "4W8V2xl0hgCt"
      },
      "execution_count": null,
      "outputs": []
    },
    {
      "cell_type": "markdown",
      "source": [
        "Filter où les Revenus OU Dpenses supérieurs à limite euros\n",
        "`limite = 4000`\n",
        "\n",
        "`rev_ou_dep_sup_limite = (df[\"Revenus\"]>limite) | (df.Depenses>limite)`\n",
        "\n",
        "`rev_ou_dep_sup_limite`\n"
      ],
      "metadata": {
        "id": "ikUsm4wjt4LW"
      }
    },
    {
      "cell_type": "code",
      "source": [
        "# code ici\n"
      ],
      "metadata": {
        "id": "isk-Y9ybh09f"
      },
      "execution_count": null,
      "outputs": []
    },
    {
      "cell_type": "code",
      "source": [
        "# df[rev_ou_dep_sup_limite]\n"
      ],
      "metadata": {
        "id": "LPl7uP59bJDw"
      },
      "execution_count": null,
      "outputs": []
    },
    {
      "cell_type": "markdown",
      "source": [
        "## Renommer les colonnes"
      ],
      "metadata": {
        "id": "tUl4W1ysiymZ"
      }
    },
    {
      "cell_type": "code",
      "source": [
        "# Afficher les colonnes\n",
        "# df.columns\n"
      ],
      "metadata": {
        "id": "TwM7g4cei1Ar"
      },
      "execution_count": null,
      "outputs": []
    },
    {
      "cell_type": "code",
      "source": [
        "# Renommer les colonnes\n",
        "\n",
        "# df_avec_cols_renommee = df.rename(columns={'Revenus':'Revenus_annuels', 'Depenses':'Depenses_annuelles' })\n",
        "# df_avec_cols_renommee.head()\n"
      ],
      "metadata": {
        "id": "YDpLXQpri4y_"
      },
      "execution_count": null,
      "outputs": []
    },
    {
      "cell_type": "code",
      "source": [
        "# Certaines fonctions ne change pas le DataFrame initial (en entrée)\n",
        "# df.head()\n"
      ],
      "metadata": {
        "id": "ky7raugBkpaK"
      },
      "execution_count": null,
      "outputs": []
    },
    {
      "cell_type": "code",
      "source": [
        "#df.rename(columns={'Revenus':'Revenus_annuels',\n",
        "#                   'Depenses':'Depenses_annuelles'\n",
        "#                   },\n",
        "#          inplace=True\n",
        "#          )\n",
        "#df.head()\n"
      ],
      "metadata": {
        "id": "tAhT8EuZk7UR"
      },
      "execution_count": null,
      "outputs": []
    },
    {
      "cell_type": "markdown",
      "source": [
        "## Ajouter des colonnes"
      ],
      "metadata": {
        "id": "7q43GzENlMq4"
      }
    },
    {
      "cell_type": "code",
      "source": [
        "# Faire une copie\n",
        "\n",
        "#df_copie = df.copy() # pour conserver l'original, bonne pratique\n",
        "#print(id(df), '', id(df_copie))\n"
      ],
      "metadata": {
        "id": "MI15myUqlPbD"
      },
      "execution_count": null,
      "outputs": []
    },
    {
      "cell_type": "code",
      "source": [
        "# df_copie.head()\n"
      ],
      "metadata": {
        "id": "5v8mnwlBlo-f"
      },
      "execution_count": null,
      "outputs": []
    },
    {
      "cell_type": "code",
      "source": [
        "# Rajouter une colonne 'Bonus_annuels' correspondant à 3% des revenus\n",
        "\n",
        "#df_copie[\"Bonus\"] = df_copie.Revenus_annuels * 0.03\n",
        "\n",
        "#df_copie.head()\n"
      ],
      "metadata": {
        "id": "SvXmLpusmTu6"
      },
      "execution_count": null,
      "outputs": []
    },
    {
      "cell_type": "code",
      "source": [
        "# Rajouter la colonne 'Cash_flow_annuel' =  Revenus_annuels-Depenses_annuels\n",
        "#df_copie[\"Cash_flow_annuel\"] = df_copie.Revenus_annuels -df_copie.Depenses_annuelles\n",
        "\n",
        "#df_copie.head()\n"
      ],
      "metadata": {
        "id": "eBj-PxTQoJ7L"
      },
      "execution_count": null,
      "outputs": []
    },
    {
      "cell_type": "markdown",
      "source": [
        "## Supprimer colonne\n",
        "Il y a différentes manières de supprimer une colonne:\n",
        "1.  `del` supprimera simplement la\n",
        "série du DataFrame\n",
        "2.  `pop()` supprimera la série et retournera la série comme résultat (aussi in-place)\n",
        "3.  `drop(labels, axis=1)` retournera une nouvelle DataFrame avec la ou les colonnes supprimées (l'objet DataFrame d'origine n'est pas modifié)."
      ],
      "metadata": {
        "id": "t5tzrW3DnjoL"
      }
    },
    {
      "cell_type": "code",
      "source": [
        "# Supprimer la colonne 'Bonus'\n",
        "\n",
        "#del df_copie['Bonus']\n",
        "#df_copie.head()\n"
      ],
      "metadata": {
        "id": "rWK1y-yum1Vo"
      },
      "execution_count": null,
      "outputs": []
    },
    {
      "cell_type": "markdown",
      "source": [
        "## Créer un csv à partir du DataFrame\n",
        "Transformer le DataFrame en csv\n",
        "\n",
        "`df_copie.to_csv('donnee_2022_avec_cashflow.csv')`"
      ],
      "metadata": {
        "id": "izr3bkA7rOxb"
      }
    },
    {
      "cell_type": "code",
      "source": [
        "# Code ici\n"
      ],
      "metadata": {
        "id": "36wq_7JRrdgP"
      },
      "execution_count": null,
      "outputs": []
    },
    {
      "cell_type": "markdown",
      "source": [
        "## Créer des graphiques"
      ],
      "metadata": {
        "id": "UT_aD1ROVkP8"
      }
    },
    {
      "cell_type": "code",
      "source": [
        "# df.plot(kind='line', x='Mois', y='Revenus_annuels')\n"
      ],
      "metadata": {
        "id": "pvC1zRdwVMHj"
      },
      "execution_count": null,
      "outputs": []
    },
    {
      "cell_type": "code",
      "source": [
        "# df_copie.plot(kind='bar', x='Mois', y=['Revenus_annuels', 'Depenses_annuelles'])\n"
      ],
      "metadata": {
        "id": "dMW53dxEpfHZ"
      },
      "execution_count": null,
      "outputs": []
    },
    {
      "cell_type": "code",
      "source": [
        "# df.plot(kind='line', x='Mois', y='Revenus_annuels', title='Revenus par mois', ylabel='Euros', rot=30)\n"
      ],
      "metadata": {
        "id": "ecGLm6pkVtiz"
      },
      "execution_count": null,
      "outputs": []
    },
    {
      "cell_type": "markdown",
      "source": [
        "## Réindexation\n"
      ],
      "metadata": {
        "id": "2S2Knh-pqul8"
      }
    },
    {
      "cell_type": "code",
      "source": [
        "# df_copie.plot(kind='line', y='Revenus_annuels')\n"
      ],
      "metadata": {
        "id": "19tEF4I_qz4Y"
      },
      "execution_count": null,
      "outputs": []
    },
    {
      "cell_type": "code",
      "source": [
        "# Réindexation\n",
        "#df_copie.set_index('Mois', inplace=True)\n",
        "#df_copie.head()\n"
      ],
      "metadata": {
        "id": "W2YNRBuSu5xE"
      },
      "execution_count": null,
      "outputs": []
    },
    {
      "cell_type": "code",
      "source": [
        "# df_copie.plot(kind='line', y='Revenus_annuels')\n"
      ],
      "metadata": {
        "id": "ciXIs3K0q7Qk"
      },
      "execution_count": null,
      "outputs": []
    },
    {
      "cell_type": "code",
      "source": [
        "# Reset l'index\n",
        "#df_copie.reset_index()\n",
        "#df_copie.head()\n"
      ],
      "metadata": {
        "id": "7NihgTIOqyCy"
      },
      "execution_count": null,
      "outputs": []
    },
    {
      "cell_type": "markdown",
      "source": [
        "## Statistiques sur DataFrame"
      ],
      "metadata": {
        "id": "agzaxK8Mv6R1"
      }
    },
    {
      "cell_type": "code",
      "source": [
        "# Somme\n",
        "#df_copie['Revenus_annuels'].sum()\n",
        "#df_copie.head()\n"
      ],
      "metadata": {
        "id": "YB0x5WnYv9F7"
      },
      "execution_count": null,
      "outputs": []
    },
    {
      "cell_type": "code",
      "source": [
        "#Ecart type\n",
        "#df_copie['Revenus_annuels'].std()\n",
        "#df_copie.std()\n"
      ],
      "metadata": {
        "id": "edHjPGXHwHoZ"
      },
      "execution_count": null,
      "outputs": []
    },
    {
      "cell_type": "code",
      "source": [
        "#Median\n",
        "#df_copie['Revenus_annuels'].median()\n",
        "#df_copie.std()\n"
      ],
      "metadata": {
        "id": "SsKmE--twxyM"
      },
      "execution_count": null,
      "outputs": []
    },
    {
      "cell_type": "code",
      "source": [
        "#Min, Max\n",
        "#minimum = df_copie['Revenus_annuels'].min()\n",
        "#maximum = df_copie['Revenus_annuels'].max()\n",
        "#print(minimum, ' ', maximum)\n"
      ],
      "metadata": {
        "id": "KsCpoRJxw4Oz"
      },
      "execution_count": null,
      "outputs": []
    },
    {
      "cell_type": "code",
      "source": [
        "# Index du min et Max\n",
        "#df_copie.set_index('Mois', inplace=True)\n",
        "#df_copie.head()\n"
      ],
      "metadata": {
        "id": "L15NM9yxxHEH"
      },
      "execution_count": null,
      "outputs": []
    },
    {
      "cell_type": "code",
      "source": [
        "# Mois des dépenses maximum\n",
        "#df_copie['Depenses_annuelles'].idxmax()\n"
      ],
      "metadata": {
        "id": "SYYGXapHxTzq"
      },
      "execution_count": null,
      "outputs": []
    },
    {
      "cell_type": "code",
      "source": [
        "# Mois des revenus minimum\n",
        "#df_copie['Revenus_annuels'].idxmin()\n"
      ],
      "metadata": {
        "id": "lkszdkJ6xzIa"
      },
      "execution_count": null,
      "outputs": []
    },
    {
      "cell_type": "code",
      "source": [
        "#print(df['Revenus_annuels'].count())\n",
        "#print(df['Revenus_annuels'].unique())\n",
        "#print(df['Revenus_annuels'].value_counts())\n"
      ],
      "metadata": {
        "id": "fgksL7gUx5Q_"
      },
      "execution_count": null,
      "outputs": []
    },
    {
      "cell_type": "markdown",
      "source": [
        "## Avoir des infos et statistiques globales sur le DataFrame"
      ],
      "metadata": {
        "id": "ZNPjoU_hx9Sl"
      }
    },
    {
      "cell_type": "code",
      "source": [
        "# Avoir des infos\n",
        "#df_copie.infos()\n"
      ],
      "metadata": {
        "id": "zpRohxxkyA2r"
      },
      "execution_count": null,
      "outputs": []
    },
    {
      "cell_type": "code",
      "source": [
        "# Avoir description\n",
        "#df_copie.describe()\n"
      ],
      "metadata": {
        "id": "Jetin6L4yDpI"
      },
      "execution_count": null,
      "outputs": []
    }
  ]
}