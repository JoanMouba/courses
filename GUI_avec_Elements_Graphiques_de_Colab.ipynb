{
  "nbformat": 4,
  "nbformat_minor": 0,
  "metadata": {
    "colab": {
      "provenance": [],
      "authorship_tag": "ABX9TyM6PlYbLl2j7PKmdrTAI4rO"
    },
    "kernelspec": {
      "name": "python3",
      "display_name": "Python 3"
    },
    "language_info": {
      "name": "python"
    }
  },
  "cells": [
    {
      "cell_type": "markdown",
      "source": [
        "# Créer une Interface utilisateur avec Google colab pour notre app financière\n",
        "Créer une interface utilisateur simple avec des buttons, slider, checkbox\n",
        "Index des modules [Python Module Index](https://docs.python.org/3/py-modindex.html)\n",
        "\n",
        "##### Instructeur: Joan Mouba, Dr.-Ing. en Informatique\n",
        "L'utilisation de ce fichier est sous la license GPL.\n",
        "Vous pouvez utiliser, modifier et redistribuer librement.\n",
        "\n",
        "Nous serons reconnaissant si vous mentionnez l'auteur et/ou la référence source du Notebook:\n",
        "[https://bit.ly/3GWB6fv](https://colab.research.google.com/drive/1ffStu6WSlAAILfxBEYpx0gKG_VgnjIF8?usp=sharing)\n",
        "\n",
        "LinkedIn: [![LinkedIn](https://img.shields.io/badge/LinkedIn-0077B5?style=for-the-badge&style=social&logo=linkedin&logoColor=white)](https://www.linkedin.com/in/joanmouba/) - https://www.linkedin.com/in/joanmouba/\n",
        "\n",
        "Web: [https://epignosiscenter.com](https://epignosiscenter.com)\n",
        "\n",
        "Courriel: joan.mouba@epignosiscenter.com\n",
        "\n",
        "Canal Youtube: [![YouTube](https://img.shields.io/youtube/channel/subscribers/UCjqWeYtZ82DBan-vhFzkTog)](https://www.youtube.com/channel/UCjqWeYtZ82DBan-vhFzkTog)\n",
        "\n",
        "Répertoire GitHub:[![GitHub](https://img.shields.io/badge/GitHub-100000?style=for-the-badge&style=social&logo=github&logoColor=white)](https://github.com/JoanMouba)  \n",
        "\n",
        "Merci de me laisser un avis sur Google: [Je laisse mon avis sur la formation](https://g.page/r/CRFbaxcVvqo9EAI/review)\n",
        "\n",
        "Dernière mise à jour: 12.11.2023 par [Joan Mouba](https://g.page/r/CRFbaxcVvqo9EAI/review)"
      ],
      "metadata": {
        "id": "EyGf5O7Nfrdg"
      }
    },
    {
      "cell_type": "markdown",
      "source": [
        "### Programme\n",
        "\n",
        "\n",
        "1.   Qu'est-ce qu'une interface utilisateur (UI)\n",
        "2.   Qu'est-ce que Colab?\n",
        "3.   Créer une interface utilisateur dans Colab\n"
      ],
      "metadata": {
        "id": "HAZQNkXzFdwi"
      }
    },
    {
      "cell_type": "markdown",
      "source": [
        "### 1. Qu'est ce qu'une interface utilisateur ?\n",
        "Une interface qui facilite l'accèsaux fonctionnalités complexes d'une application à un utilisateur non-expert.\n",
        "Elle met généralement à disposition des buttons et d'autres éléments visuels configurables facilement"
      ],
      "metadata": {
        "id": "-C82EpDrEumv"
      }
    },
    {
      "cell_type": "markdown",
      "source": [
        "### 2. Qu'est ce que Google Colab\n",
        "C'est une plateforme ou un environnement en ligne, mis à disposition par Google, sans installation requise, et qui permet de créer des Notebooks ou fichiers exécutables."
      ],
      "metadata": {
        "id": "AqOtO76bFWWe"
      }
    },
    {
      "cell_type": "markdown",
      "source": [
        "### 3. Créer une interface utilisateur dans Colab\n",
        "Nous allons créer une interface á l'aide des formulaires Google Colab.\n",
        "\n",
        "Les formulaires constituent un moyen simple de paramétrer le code. À partir d'une cellule de code, sélectionnez **Insérer → Ajouter un champ de formulaire**.  Lorsque vous modifiez la valeur d'un formulaire, la valeur correspondante dans le code est modifiée.\n"
      ],
      "metadata": {
        "id": "9EbAfuh9Fnzm"
      }
    },
    {
      "cell_type": "markdown",
      "source": [
        "#### Insérer un Titre"
      ],
      "metadata": {
        "id": "5Quxu66UGD7v"
      }
    },
    {
      "cell_type": "code",
      "source": [
        "#@title TitreDeMonApp\n"
      ],
      "metadata": {
        "id": "eJRLvAkUGLiy"
      },
      "execution_count": 11,
      "outputs": []
    },
    {
      "cell_type": "markdown",
      "source": [
        "#### Insérer des éléments graphiques\n"
      ],
      "metadata": {
        "id": "mhlG3cVLGVxp"
      }
    },
    {
      "cell_type": "code",
      "source": [
        "texte = 'votre texte'  #@param {type:\"string\"}\n",
        "slider = 300 #@param {type:\"slider\", min:0, max:1000, step:100}\n",
        "menu_deroulant = 'option_1' #@param ['option_1', 'option_2', 'option_3']\n",
        "menu_deroulant_et_texte = 'option_4' #@param ['option_1', 'option_2', 'option_3']{allow-input: true}\n",
        "date = '1979-06-01' #@param {type:\"date\"}\n",
        "Booleen = False #@param {type:\"boolean\"}\n",
        "\n",
        "entree_brute = None #@param {type:\"raw\"}\n",
        "\n",
        "# Nombres\n",
        "decimal = 10.0 # @param {type:\"number\"}\n",
        "decimal_slider = 0 # @param {type:\"slider\", min:-1, max:1, step:0.1}\n",
        "\n",
        "entier = 10 # @param {type:\"integer\"}\n",
        "entier_slider = 1 # @param {type:\"slider\", min:0, max:100, step:1}\n",
        "\n",
        "\n"
      ],
      "metadata": {
        "id": "avqCi91QHLX0"
      },
      "execution_count": 8,
      "outputs": []
    },
    {
      "cell_type": "code",
      "source": [
        "print(texte)\n",
        "print(slider)\n",
        "print(menu_deroulant)\n",
        "print(menu_deroulant_et_texte)\n",
        "print(date)\n",
        "print(Booleen)\n",
        "print(entree_brute)\n",
        "print(decimal)\n",
        "print(decimal_slider)\n",
        "print(entier)\n",
        "print(entier_slider)\n"
      ],
      "metadata": {
        "id": "0mBLD9hnOus-",
        "colab": {
          "base_uri": "https://localhost:8080/"
        },
        "outputId": "b3c6f375-45dd-41e4-cf42-bbb7c97340d1"
      },
      "execution_count": 10,
      "outputs": [
        {
          "output_type": "stream",
          "name": "stdout",
          "text": [
            "votre texte\n",
            "300\n",
            "option_1\n",
            "option_4\n",
            "1979-06-01\n",
            "False\n",
            "None\n",
            "10.0\n",
            "0\n",
            "10\n",
            "1\n"
          ]
        }
      ]
    },
    {
      "cell_type": "code",
      "source": [
        "# @title ## Markdown\n",
        "# @markdown You can also include Markdown in forms.\n",
        "\n",
        "# @markdown ---\n",
        "# @markdown ### Enter a file path:\n",
        "chemin_fichier = \"\" # @param {type:\"string\"}\n",
        "# @markdown ---\n",
        "\n"
      ],
      "metadata": {
        "id": "xb-ya0-kor-2"
      },
      "execution_count": 6,
      "outputs": []
    },
    {
      "cell_type": "code",
      "source": [
        "# Après avoir exécuté cette cellule manuellement, elle s'exécutera automatiquement si vous changez la valeur sélectionnée. { run : \"auto\" }\n",
        "\n",
        "option2 = \"B\" # @param [\"A\", \"B\", \"C\"]\n",
        "print('Vous avez sélectionné', option2)\n"
      ],
      "metadata": {
        "colab": {
          "base_uri": "https://localhost:8080/"
        },
        "id": "rlg-ap8GrweI",
        "outputId": "461c6bf5-4214-4e1d-d37f-8ff5e00b9bdb"
      },
      "execution_count": 19,
      "outputs": [
        {
          "output_type": "stream",
          "name": "stdout",
          "text": [
            "Vous avez sélectionné B\n"
          ]
        }
      ]
    },
    {
      "cell_type": "markdown",
      "source": [
        "# Masquer le code pour afficher seulement l'interface\n",
        "\n",
        "Vous pouvez changer la vue du formulaire en sélectionnant **Vue → Afficher/masquer le code** ou en utilisant la barre d'outils située au-dessus de la cellule de code sélectionnée. Vous pouvez voir à la fois le code et le formulaire, uniquement le formulaire ou uniquement le code."
      ],
      "metadata": {
        "id": "oxKrfDvtpEz7"
      }
    },
    {
      "cell_type": "markdown",
      "source": [],
      "metadata": {
        "id": "sR_R4aZtorSZ"
      }
    }
  ]
}